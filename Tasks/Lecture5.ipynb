{
  "nbformat": 4,
  "nbformat_minor": 0,
  "metadata": {
    "colab": {
      "provenance": []
    },
    "kernelspec": {
      "name": "python3",
      "display_name": "Python 3"
    },
    "language_info": {
      "name": "python"
    }
  },
  "cells": [
    {
      "cell_type": "code",
      "execution_count": 1,
      "metadata": {
        "id": "lX4YKVUePjBz"
      },
      "outputs": [],
      "source": [
        "#Lecture 5 : functions and their friends\n",
        "\n",
        "#Tasks : #create my Nguen dictionary\n",
        "         #create Чярли Гордан translator\n",
        "         #other - to be continued\n",
        "         #\n",
        "         #\n",
        "         #\n",
        "         #\n",
        "         #"
      ]
    },
    {
      "cell_type": "code",
      "source": [
        "dir(__builtin__)"
      ],
      "metadata": {
        "colab": {
          "base_uri": "https://localhost:8080/"
        },
        "id": "s91xgsWYQl47",
        "outputId": "3bd36b30-dfaa-4dcf-f98c-cfb76a053a38"
      },
      "execution_count": 2,
      "outputs": [
        {
          "output_type": "execute_result",
          "data": {
            "text/plain": [
              "['ArithmeticError',\n",
              " 'AssertionError',\n",
              " 'AttributeError',\n",
              " 'BaseException',\n",
              " 'BlockingIOError',\n",
              " 'BrokenPipeError',\n",
              " 'BufferError',\n",
              " 'BytesWarning',\n",
              " 'ChildProcessError',\n",
              " 'ConnectionAbortedError',\n",
              " 'ConnectionError',\n",
              " 'ConnectionRefusedError',\n",
              " 'ConnectionResetError',\n",
              " 'DeprecationWarning',\n",
              " 'EOFError',\n",
              " 'Ellipsis',\n",
              " 'EncodingWarning',\n",
              " 'EnvironmentError',\n",
              " 'Exception',\n",
              " 'False',\n",
              " 'FileExistsError',\n",
              " 'FileNotFoundError',\n",
              " 'FloatingPointError',\n",
              " 'FutureWarning',\n",
              " 'GeneratorExit',\n",
              " 'IOError',\n",
              " 'ImportError',\n",
              " 'ImportWarning',\n",
              " 'IndentationError',\n",
              " 'IndexError',\n",
              " 'InterruptedError',\n",
              " 'IsADirectoryError',\n",
              " 'KeyError',\n",
              " 'KeyboardInterrupt',\n",
              " 'LookupError',\n",
              " 'MemoryError',\n",
              " 'ModuleNotFoundError',\n",
              " 'NameError',\n",
              " 'None',\n",
              " 'NotADirectoryError',\n",
              " 'NotImplemented',\n",
              " 'NotImplementedError',\n",
              " 'OSError',\n",
              " 'OverflowError',\n",
              " 'PendingDeprecationWarning',\n",
              " 'PermissionError',\n",
              " 'ProcessLookupError',\n",
              " 'RecursionError',\n",
              " 'ReferenceError',\n",
              " 'ResourceWarning',\n",
              " 'RuntimeError',\n",
              " 'RuntimeWarning',\n",
              " 'StopAsyncIteration',\n",
              " 'StopIteration',\n",
              " 'SyntaxError',\n",
              " 'SyntaxWarning',\n",
              " 'SystemError',\n",
              " 'SystemExit',\n",
              " 'TabError',\n",
              " 'TimeoutError',\n",
              " 'True',\n",
              " 'TypeError',\n",
              " 'UnboundLocalError',\n",
              " 'UnicodeDecodeError',\n",
              " 'UnicodeEncodeError',\n",
              " 'UnicodeError',\n",
              " 'UnicodeTranslateError',\n",
              " 'UnicodeWarning',\n",
              " 'UserWarning',\n",
              " 'ValueError',\n",
              " 'Warning',\n",
              " 'ZeroDivisionError',\n",
              " '__IPYTHON__',\n",
              " '__build_class__',\n",
              " '__debug__',\n",
              " '__doc__',\n",
              " '__import__',\n",
              " '__loader__',\n",
              " '__name__',\n",
              " '__package__',\n",
              " '__spec__',\n",
              " 'abs',\n",
              " 'aiter',\n",
              " 'all',\n",
              " 'anext',\n",
              " 'any',\n",
              " 'ascii',\n",
              " 'bin',\n",
              " 'bool',\n",
              " 'breakpoint',\n",
              " 'bytearray',\n",
              " 'bytes',\n",
              " 'callable',\n",
              " 'chr',\n",
              " 'classmethod',\n",
              " 'compile',\n",
              " 'complex',\n",
              " 'copyright',\n",
              " 'credits',\n",
              " 'delattr',\n",
              " 'dict',\n",
              " 'dir',\n",
              " 'display',\n",
              " 'divmod',\n",
              " 'enumerate',\n",
              " 'eval',\n",
              " 'exec',\n",
              " 'execfile',\n",
              " 'filter',\n",
              " 'float',\n",
              " 'format',\n",
              " 'frozenset',\n",
              " 'get_ipython',\n",
              " 'getattr',\n",
              " 'globals',\n",
              " 'hasattr',\n",
              " 'hash',\n",
              " 'help',\n",
              " 'hex',\n",
              " 'id',\n",
              " 'input',\n",
              " 'int',\n",
              " 'isinstance',\n",
              " 'issubclass',\n",
              " 'iter',\n",
              " 'len',\n",
              " 'license',\n",
              " 'list',\n",
              " 'locals',\n",
              " 'map',\n",
              " 'max',\n",
              " 'memoryview',\n",
              " 'min',\n",
              " 'next',\n",
              " 'object',\n",
              " 'oct',\n",
              " 'open',\n",
              " 'ord',\n",
              " 'pow',\n",
              " 'print',\n",
              " 'property',\n",
              " 'range',\n",
              " 'repr',\n",
              " 'reversed',\n",
              " 'round',\n",
              " 'runfile',\n",
              " 'set',\n",
              " 'setattr',\n",
              " 'slice',\n",
              " 'sorted',\n",
              " 'staticmethod',\n",
              " 'str',\n",
              " 'sum',\n",
              " 'super',\n",
              " 'tuple',\n",
              " 'type',\n",
              " 'vars',\n",
              " 'zip']"
            ]
          },
          "metadata": {},
          "execution_count": 2
        }
      ]
    },
    {
      "cell_type": "code",
      "source": [
        "help(compile)"
      ],
      "metadata": {
        "colab": {
          "base_uri": "https://localhost:8080/"
        },
        "id": "lV4JBH1GRNTf",
        "outputId": "3405afd6-0c95-4571-81ee-25c25f2f4fd5"
      },
      "execution_count": 3,
      "outputs": [
        {
          "output_type": "stream",
          "name": "stdout",
          "text": [
            "Help on built-in function compile in module builtins:\n",
            "\n",
            "compile(source, filename, mode, flags=0, dont_inherit=False, optimize=-1, *, _feature_version=-1)\n",
            "    Compile source into a code object that can be executed by exec() or eval().\n",
            "    \n",
            "    The source code may represent a Python module, statement or expression.\n",
            "    The filename will be used for run-time error messages.\n",
            "    The mode must be 'exec' to compile a module, 'single' to compile a\n",
            "    single (interactive) statement, or 'eval' to compile an expression.\n",
            "    The flags argument, if present, controls which future statements influence\n",
            "    the compilation of the code.\n",
            "    The dont_inherit argument, if true, stops the compilation inheriting\n",
            "    the effects of any future statements in effect in the code calling\n",
            "    compile; if absent or false these statements do influence the compilation,\n",
            "    in addition to any features explicitly specified.\n",
            "\n"
          ]
        }
      ]
    },
    {
      "cell_type": "code",
      "source": [
        "help(hasattr)"
      ],
      "metadata": {
        "colab": {
          "base_uri": "https://localhost:8080/"
        },
        "id": "BcBH2mdWRkI6",
        "outputId": "af5834da-f7de-4c75-9bfb-672250d47dc9"
      },
      "execution_count": 4,
      "outputs": [
        {
          "output_type": "stream",
          "name": "stdout",
          "text": [
            "Help on built-in function hasattr in module builtins:\n",
            "\n",
            "hasattr(obj, name, /)\n",
            "    Return whether the object has an attribute with the given name.\n",
            "    \n",
            "    This is done by calling getattr(obj, name) and catching AttributeError.\n",
            "\n"
          ]
        }
      ]
    },
    {
      "cell_type": "code",
      "source": [
        "hasattr(list(),'reverse')"
      ],
      "metadata": {
        "colab": {
          "base_uri": "https://localhost:8080/"
        },
        "id": "i6WtfY4JRpSN",
        "outputId": "5146556c-14ea-4782-98d8-f9236d7f15f2"
      },
      "execution_count": 5,
      "outputs": [
        {
          "output_type": "execute_result",
          "data": {
            "text/plain": [
              "True"
            ]
          },
          "metadata": {},
          "execution_count": 5
        }
      ]
    },
    {
      "cell_type": "code",
      "source": [
        "help(repr)"
      ],
      "metadata": {
        "colab": {
          "base_uri": "https://localhost:8080/"
        },
        "id": "gNuTZ6w7SBxk",
        "outputId": "11c347d1-93cd-415b-a909-b6addecbd802"
      },
      "execution_count": 6,
      "outputs": [
        {
          "output_type": "stream",
          "name": "stdout",
          "text": [
            "Help on built-in function repr in module builtins:\n",
            "\n",
            "repr(obj, /)\n",
            "    Return the canonical string representation of the object.\n",
            "    \n",
            "    For many object types, including most builtins, eval(repr(obj)) == obj.\n",
            "\n"
          ]
        }
      ]
    },
    {
      "cell_type": "code",
      "source": [
        "repr(list())"
      ],
      "metadata": {
        "colab": {
          "base_uri": "https://localhost:8080/",
          "height": 36
        },
        "id": "IJ4bIXlASJhS",
        "outputId": "0402a6b4-a51c-444e-e0fa-b3d1208f7b3f"
      },
      "execution_count": 7,
      "outputs": [
        {
          "output_type": "execute_result",
          "data": {
            "text/plain": [
              "'[]'"
            ],
            "application/vnd.google.colaboratory.intrinsic+json": {
              "type": "string"
            }
          },
          "metadata": {},
          "execution_count": 7
        }
      ]
    },
    {
      "cell_type": "code",
      "source": [
        "repr"
      ],
      "metadata": {
        "colab": {
          "base_uri": "https://localhost:8080/"
        },
        "id": "9YjXKKiATPr6",
        "outputId": "e4e36926-306f-4f4c-faba-d2a7113d070f"
      },
      "execution_count": 8,
      "outputs": [
        {
          "output_type": "execute_result",
          "data": {
            "text/plain": [
              "<function repr(obj, /)>"
            ]
          },
          "metadata": {},
          "execution_count": 8
        }
      ]
    },
    {
      "cell_type": "code",
      "source": [
        "__name__"
      ],
      "metadata": {
        "colab": {
          "base_uri": "https://localhost:8080/",
          "height": 36
        },
        "id": "3IvE9I59V4jg",
        "outputId": "f5e38330-6a2a-42a1-8fa2-87e409dd0ffd"
      },
      "execution_count": 9,
      "outputs": [
        {
          "output_type": "execute_result",
          "data": {
            "text/plain": [
              "'__main__'"
            ],
            "application/vnd.google.colaboratory.intrinsic+json": {
              "type": "string"
            }
          },
          "metadata": {},
          "execution_count": 9
        }
      ]
    },
    {
      "cell_type": "code",
      "source": [
        "#function stack\n",
        "# именованные и позиц аргументы"
      ],
      "metadata": {
        "id": "3ejCG6p3WBPp"
      },
      "execution_count": 10,
      "outputs": []
    },
    {
      "cell_type": "code",
      "source": [
        "def foo(a, b=1):\n",
        "  '''\n",
        "  docstring\n",
        "  docstring\n",
        "  '''\n",
        "  '''\n",
        "  docstring\n",
        "  '''"
      ],
      "metadata": {
        "id": "m2kADp1iXYpK"
      },
      "execution_count": 11,
      "outputs": []
    },
    {
      "cell_type": "code",
      "source": [
        "'''\n",
        "docstring\n",
        "'''"
      ],
      "metadata": {
        "colab": {
          "base_uri": "https://localhost:8080/",
          "height": 36
        },
        "id": "-dOA4y_YXhkw",
        "outputId": "51d278c2-756c-428c-e3e1-0a8dbe6ecb95"
      },
      "execution_count": 12,
      "outputs": [
        {
          "output_type": "execute_result",
          "data": {
            "text/plain": [
              "'\\ndocstring\\n'"
            ],
            "application/vnd.google.colaboratory.intrinsic+json": {
              "type": "string"
            }
          },
          "metadata": {},
          "execution_count": 12
        }
      ]
    },
    {
      "cell_type": "code",
      "source": [
        "#позиц арг следуют за именованными"
      ],
      "metadata": {
        "id": "zZD56pJJXhoR"
      },
      "execution_count": 13,
      "outputs": []
    },
    {
      "cell_type": "code",
      "source": [
        "def pos(a, b=1, c=2,d='d'):\n",
        "  pass"
      ],
      "metadata": {
        "id": "I0ZuYMUBX7SW"
      },
      "execution_count": 14,
      "outputs": []
    },
    {
      "cell_type": "code",
      "source": [
        "pos(3,b=1,c=3,2)"
      ],
      "metadata": {
        "colab": {
          "base_uri": "https://localhost:8080/",
          "height": 140
        },
        "id": "lV7jrYfxYAC0",
        "outputId": "df862551-f28f-4ab4-c4f2-9a3b51927ac4"
      },
      "execution_count": 16,
      "outputs": [
        {
          "output_type": "error",
          "ename": "SyntaxError",
          "evalue": "ignored",
          "traceback": [
            "\u001b[0;36m  File \u001b[0;32m\"<ipython-input-16-7f2f4dbeeb49>\"\u001b[0;36m, line \u001b[0;32m1\u001b[0m\n\u001b[0;31m    pos(3,b=1,c=3,2)\u001b[0m\n\u001b[0m                   ^\u001b[0m\n\u001b[0;31mSyntaxError\u001b[0m\u001b[0;31m:\u001b[0m positional argument follows keyword argument\n"
          ]
        }
      ]
    },
    {
      "cell_type": "code",
      "source": [
        "pos(3, a=3,b=3,c=4) #works incorrectly"
      ],
      "metadata": {
        "id": "gcRhLcJUYLF8"
      },
      "execution_count": null,
      "outputs": []
    },
    {
      "cell_type": "code",
      "source": [
        "pos(3,4,d=4) #works correctly: program understands that c = 4"
      ],
      "metadata": {
        "id": "VxvpFDsSYREc"
      },
      "execution_count": 18,
      "outputs": []
    },
    {
      "cell_type": "code",
      "source": [
        "help(foo) #returns 1st doctstring"
      ],
      "metadata": {
        "colab": {
          "base_uri": "https://localhost:8080/"
        },
        "id": "Bl_5w5-cYXo_",
        "outputId": "a7e980d1-6629-4b6a-a8ae-7a1ea8072556"
      },
      "execution_count": 19,
      "outputs": [
        {
          "output_type": "stream",
          "name": "stdout",
          "text": [
            "Help on function foo in module __main__:\n",
            "\n",
            "foo(a, b=1)\n",
            "    docstring\n",
            "    docstring\n",
            "\n"
          ]
        }
      ]
    },
    {
      "cell_type": "code",
      "source": [
        "a = print(223)\n",
        "\n",
        "print(256)"
      ],
      "metadata": {
        "colab": {
          "base_uri": "https://localhost:8080/"
        },
        "id": "b4u6Dsfuv0-z",
        "outputId": "d2840a4b-8490-42b4-a228-1a6d20067ba2"
      },
      "execution_count": 20,
      "outputs": [
        {
          "output_type": "stream",
          "name": "stdout",
          "text": [
            "223\n",
            "256\n"
          ]
        }
      ]
    },
    {
      "cell_type": "code",
      "source": [
        "lst = list((1,4,2,3,1,0))\n",
        "print(lst,lst.sort(),lst) #first functions calls then printing res"
      ],
      "metadata": {
        "colab": {
          "base_uri": "https://localhost:8080/"
        },
        "id": "ME3dsTjXxtjA",
        "outputId": "06c929b0-e0c5-4365-801f-e66d6503b19a"
      },
      "execution_count": 21,
      "outputs": [
        {
          "output_type": "stream",
          "name": "stdout",
          "text": [
            "[0, 1, 1, 2, 3, 4] None [0, 1, 1, 2, 3, 4]\n"
          ]
        }
      ]
    },
    {
      "cell_type": "code",
      "source": [
        "arg1, *arg, arg2 = [1,2,3,4,5,6,7,8] #оторвать первое и последнее значение\n",
        "print(arg1,arg,arg2)"
      ],
      "metadata": {
        "colab": {
          "base_uri": "https://localhost:8080/"
        },
        "id": "AqUf_7e50GHG",
        "outputId": "ebf0b1a1-af34-478c-86b0-abf8568dad92"
      },
      "execution_count": 22,
      "outputs": [
        {
          "output_type": "stream",
          "name": "stdout",
          "text": [
            "1 [2, 3, 4, 5, 6, 7] 8\n"
          ]
        }
      ]
    },
    {
      "cell_type": "code",
      "source": [
        "a,b,*c,*d,e = [i for i in range(100)]"
      ],
      "metadata": {
        "colab": {
          "base_uri": "https://localhost:8080/",
          "height": 140
        },
        "id": "rp-_yJ790de7",
        "outputId": "3c89009e-8e14-4cb2-aa4f-6f181f53832c"
      },
      "execution_count": 23,
      "outputs": [
        {
          "output_type": "error",
          "ename": "SyntaxError",
          "evalue": "ignored",
          "traceback": [
            "\u001b[0;36m  File \u001b[0;32m\"<ipython-input-23-07d4caab4be9>\"\u001b[0;36m, line \u001b[0;32m1\u001b[0m\n\u001b[0;31m    a,b,*c,*d,e = [i for i in range(100)]\u001b[0m\n\u001b[0m    ^\u001b[0m\n\u001b[0;31mSyntaxError\u001b[0m\u001b[0;31m:\u001b[0m multiple starred expressions in assignment\n"
          ]
        }
      ]
    },
    {
      "cell_type": "code",
      "source": [
        "#аккуратно передавай изменяемые объекты в параметры функции, ты можешь их повредить"
      ],
      "metadata": {
        "id": "mGC1dhQX0j-w"
      },
      "execution_count": null,
      "outputs": []
    },
    {
      "cell_type": "code",
      "source": [
        "#rhis function changes the dictionary\n",
        "def change(dict1,val):\n",
        "  val = 1000\n",
        "  dict1['Rabbit'] = 140\n",
        "  dict1['Hedgehog'] = 130\n"
      ],
      "metadata": {
        "id": "IKhPZJvX1UEC"
      },
      "execution_count": 25,
      "outputs": []
    },
    {
      "cell_type": "code",
      "source": [
        "c =100\n",
        "dict1 = dict()\n",
        "change(dict1,c)\n",
        "print(c,dict1,sep='\\n')"
      ],
      "metadata": {
        "colab": {
          "base_uri": "https://localhost:8080/"
        },
        "id": "VIbggf9P4PEQ",
        "outputId": "cc077a80-4852-4871-d96d-6eabd841cd88"
      },
      "execution_count": 26,
      "outputs": [
        {
          "output_type": "stream",
          "name": "stdout",
          "text": [
            "100\n",
            "{'Rabbit': 140, 'Hedgehog': 130}\n"
          ]
        }
      ]
    },
    {
      "cell_type": "code",
      "source": [
        "#this function makes the dict empty?\n",
        "def change_v2(dict1,val):\n",
        "  val =1000\n",
        "  dict1 = dict()"
      ],
      "metadata": {
        "id": "QQQUBSW34qr1"
      },
      "execution_count": 27,
      "outputs": []
    },
    {
      "cell_type": "code",
      "source": [
        "dict2 = {str(i): i**2 for i in range(4)}\n",
        "print(type(dict2))\n",
        "change_v2(dict2,c)\n",
        "print(dict2)"
      ],
      "metadata": {
        "colab": {
          "base_uri": "https://localhost:8080/"
        },
        "id": "7ytYHUvI4z7a",
        "outputId": "63593b43-e105-4c36-daf9-1c2c733528e4"
      },
      "execution_count": 28,
      "outputs": [
        {
          "output_type": "stream",
          "name": "stdout",
          "text": [
            "<class 'dict'>\n",
            "{'0': 0, '1': 1, '2': 4, '3': 9}\n"
          ]
        }
      ]
    },
    {
      "cell_type": "code",
      "source": [
        "#as a result, it didn't change the dict2, it just made another reference.\n",
        "#analog to pointers in C"
      ],
      "metadata": {
        "id": "8PqYmI6M5Keb"
      },
      "execution_count": 29,
      "outputs": []
    },
    {
      "cell_type": "code",
      "source": [
        "def foo1(a,b=1, *args, **kwargs):\n",
        "  print(f'a = {a}, b = {b}, args = {args}, kwargs = {kwargs}')\n",
        "  print(f'type of args is {type(args)} and type of kwargs is {type(kwargs)}')"
      ],
      "metadata": {
        "id": "yVa2JBNY5TB2"
      },
      "execution_count": 30,
      "outputs": []
    },
    {
      "cell_type": "code",
      "source": [
        "foo1('adff', 1, 34,542,['asdf',print,foo1], x = 35, y = 245, z ='strange quark')"
      ],
      "metadata": {
        "colab": {
          "base_uri": "https://localhost:8080/"
        },
        "id": "syhIsVYI5TEB",
        "outputId": "f724bc4f-85b2-42f0-a78e-13b3c6e60bda"
      },
      "execution_count": 31,
      "outputs": [
        {
          "output_type": "stream",
          "name": "stdout",
          "text": [
            "a = adff, b = 1, args = (34, 542, ['asdf', <built-in function print>, <function foo1 at 0x7fcfc7c3c670>]), kwargs = {'x': 35, 'y': 245, 'z': 'strange quark'}\n",
            "type of args is <class 'tuple'> and type of kwargs is <class 'dict'>\n"
          ]
        }
      ]
    },
    {
      "cell_type": "code",
      "source": [
        "print(dict(**dict2))"
      ],
      "metadata": {
        "colab": {
          "base_uri": "https://localhost:8080/"
        },
        "id": "YQN0aj-m7IoB",
        "outputId": "a3f21ceb-cbc0-47fd-e97c-1f23f2e55633"
      },
      "execution_count": 32,
      "outputs": [
        {
          "output_type": "stream",
          "name": "stdout",
          "text": [
            "{'0': 0, '1': 1, '2': 4, '3': 9}\n"
          ]
        }
      ]
    },
    {
      "cell_type": "code",
      "source": [
        "#this function replaces the kwargs in dict with our list elements\n",
        "def replace_values(*args, **kwargs):\n",
        "  s = 0\n",
        "  print(f'id of kwargs is {id(kwargs)}')\n",
        "  for i in kwargs.keys():\n",
        "    if s == len(args):\n",
        "      break\n",
        "    kwargs[i] = args[s]\n",
        "    s += 1\n",
        "  #else:\n",
        "  #  raise ValueError('index aut of renge')\n",
        "  return id(kwargs)\n"
      ],
      "metadata": {
        "id": "TuLUuA8h5TJE"
      },
      "execution_count": 81,
      "outputs": []
    },
    {
      "cell_type": "code",
      "source": [
        "def foo(*args, **kwargs):\n",
        "  print(f'args = {args}, kwargs = {kwargs}')\n",
        "  print(f'type of args is {type(args)} and type of kwargs is {type(kwargs)}')"
      ],
      "metadata": {
        "id": "dIKUomJTXSvz"
      },
      "execution_count": 47,
      "outputs": []
    },
    {
      "cell_type": "code",
      "source": [
        "#ок, странно\n",
        "dict3 = {f'{i}-th key': i**2  for i in range(10)}\n",
        "#print(f'before replacement dict3: {dict3}')\n",
        "list1 = list(-i**2 for i in range(10))\n",
        "#foo(*list1,**dict3)\n",
        "print(f'id of dict3 is {id(dict3)}')\n",
        "if id(dict3) == replace_values(*list1,**dict3):\n",
        "  print('equal id!')\n",
        "\n",
        "#print(f'after replacement dict3 = {dict3}')\n",
        "#print(f'dict2 = {dict2}')\n",
        "#so, replace_values doesn't change dict3. why?\n",
        "#? For Timofei or anybody: seems that the function creates the new internal dict\n",
        "# for **kwargs, is it?\n",
        "#dict3[2]"
      ],
      "metadata": {
        "colab": {
          "base_uri": "https://localhost:8080/"
        },
        "id": "UnuVF1qwXSYi",
        "outputId": "6a42fe87-aad8-488b-b347-8806e45a8e06"
      },
      "execution_count": 98,
      "outputs": [
        {
          "output_type": "stream",
          "name": "stdout",
          "text": [
            "id of dict3 is 140530386582016\n",
            "id of kwargs is 140530386447168\n"
          ]
        }
      ]
    },
    {
      "cell_type": "code",
      "source": [
        "#recursive function sort\n",
        "def easy_sort(x):\n",
        "  if not x:\n",
        "    return x\n",
        "  first = max(x)\n",
        "  print(first)\n",
        "  x.remove(first)\n",
        "  return [first] + easy_sort(x)"
      ],
      "metadata": {
        "id": "Y29YGsIPls2E"
      },
      "execution_count": 90,
      "outputs": []
    },
    {
      "cell_type": "code",
      "source": [
        "easy_sort(list1)\n",
        "list1"
      ],
      "metadata": {
        "colab": {
          "base_uri": "https://localhost:8080/"
        },
        "id": "4CgdgYzRZMc1",
        "outputId": "c9d4bf88-f462-4a47-904d-2636c2dde182"
      },
      "execution_count": 99,
      "outputs": [
        {
          "output_type": "stream",
          "name": "stdout",
          "text": [
            "0\n",
            "-1\n",
            "-4\n",
            "-9\n",
            "-16\n",
            "-25\n",
            "-36\n",
            "-49\n",
            "-64\n",
            "-81\n"
          ]
        },
        {
          "output_type": "execute_result",
          "data": {
            "text/plain": [
              "[]"
            ]
          },
          "metadata": {},
          "execution_count": 99
        }
      ]
    },
    {
      "cell_type": "code",
      "source": [
        "import sys\n",
        "sys.setrecursionlimit(5000)"
      ],
      "metadata": {
        "id": "3q2bEbwJZMfB"
      },
      "execution_count": 100,
      "outputs": []
    },
    {
      "cell_type": "code",
      "source": [
        "def rec():\n",
        "    rec()\n",
        "rec()"
      ],
      "metadata": {
        "colab": {
          "base_uri": "https://localhost:8080/",
          "height": 355
        },
        "id": "zgL2XeMyZMio",
        "outputId": "7af38f0a-c7bd-4549-87ae-a256f1fabe23"
      },
      "execution_count": 103,
      "outputs": [
        {
          "output_type": "error",
          "ename": "RecursionError",
          "evalue": "ignored",
          "traceback": [
            "\u001b[0;31m---------------------------------------------------------------------------\u001b[0m",
            "\u001b[0;31mRecursionError\u001b[0m                            Traceback (most recent call last)",
            "\u001b[0;32m<ipython-input-103-b7b7db9a3310>\u001b[0m in \u001b[0;36m<cell line: 3>\u001b[0;34m()\u001b[0m\n\u001b[1;32m      1\u001b[0m \u001b[0;32mdef\u001b[0m \u001b[0mrec\u001b[0m\u001b[0;34m(\u001b[0m\u001b[0;34m)\u001b[0m\u001b[0;34m:\u001b[0m\u001b[0;34m\u001b[0m\u001b[0;34m\u001b[0m\u001b[0m\n\u001b[1;32m      2\u001b[0m     \u001b[0mrec\u001b[0m\u001b[0;34m(\u001b[0m\u001b[0;34m)\u001b[0m\u001b[0;34m\u001b[0m\u001b[0;34m\u001b[0m\u001b[0m\n\u001b[0;32m----> 3\u001b[0;31m \u001b[0mrec\u001b[0m\u001b[0;34m(\u001b[0m\u001b[0;34m)\u001b[0m\u001b[0;34m\u001b[0m\u001b[0;34m\u001b[0m\u001b[0m\n\u001b[0m",
            "\u001b[0;32m<ipython-input-103-b7b7db9a3310>\u001b[0m in \u001b[0;36mrec\u001b[0;34m()\u001b[0m\n\u001b[1;32m      1\u001b[0m \u001b[0;32mdef\u001b[0m \u001b[0mrec\u001b[0m\u001b[0;34m(\u001b[0m\u001b[0;34m)\u001b[0m\u001b[0;34m:\u001b[0m\u001b[0;34m\u001b[0m\u001b[0;34m\u001b[0m\u001b[0m\n\u001b[0;32m----> 2\u001b[0;31m     \u001b[0mrec\u001b[0m\u001b[0;34m(\u001b[0m\u001b[0;34m)\u001b[0m\u001b[0;34m\u001b[0m\u001b[0;34m\u001b[0m\u001b[0m\n\u001b[0m\u001b[1;32m      3\u001b[0m \u001b[0mrec\u001b[0m\u001b[0;34m(\u001b[0m\u001b[0;34m)\u001b[0m\u001b[0;34m\u001b[0m\u001b[0;34m\u001b[0m\u001b[0m\n",
            "... last 1 frames repeated, from the frame below ...\n",
            "\u001b[0;32m<ipython-input-103-b7b7db9a3310>\u001b[0m in \u001b[0;36mrec\u001b[0;34m()\u001b[0m\n\u001b[1;32m      1\u001b[0m \u001b[0;32mdef\u001b[0m \u001b[0mrec\u001b[0m\u001b[0;34m(\u001b[0m\u001b[0;34m)\u001b[0m\u001b[0;34m:\u001b[0m\u001b[0;34m\u001b[0m\u001b[0;34m\u001b[0m\u001b[0m\n\u001b[0;32m----> 2\u001b[0;31m     \u001b[0mrec\u001b[0m\u001b[0;34m(\u001b[0m\u001b[0;34m)\u001b[0m\u001b[0;34m\u001b[0m\u001b[0;34m\u001b[0m\u001b[0m\n\u001b[0m\u001b[1;32m      3\u001b[0m \u001b[0mrec\u001b[0m\u001b[0;34m(\u001b[0m\u001b[0;34m)\u001b[0m\u001b[0;34m\u001b[0m\u001b[0;34m\u001b[0m\u001b[0m\n",
            "\u001b[0;31mRecursionError\u001b[0m: maximum recursion depth exceeded"
          ]
        }
      ]
    },
    {
      "cell_type": "code",
      "source": [],
      "metadata": {
        "id": "wfNGguSMZMoY"
      },
      "execution_count": null,
      "outputs": []
    },
    {
      "cell_type": "code",
      "source": [],
      "metadata": {
        "id": "8hBkAFV4ZMqZ"
      },
      "execution_count": null,
      "outputs": []
    },
    {
      "cell_type": "code",
      "source": [],
      "metadata": {
        "id": "DGUdy26gZMr8"
      },
      "execution_count": null,
      "outputs": []
    },
    {
      "cell_type": "code",
      "source": [],
      "metadata": {
        "id": "6V2W2ThIZMvX"
      },
      "execution_count": null,
      "outputs": []
    },
    {
      "cell_type": "code",
      "source": [],
      "metadata": {
        "id": "9IJxt9rSZMxh"
      },
      "execution_count": null,
      "outputs": []
    },
    {
      "cell_type": "code",
      "source": [
        "def Чярли_Гордан(string):\n",
        "  pass"
      ],
      "metadata": {
        "id": "VFaem-0o5TGQ"
      },
      "execution_count": null,
      "outputs": []
    },
    {
      "cell_type": "code",
      "source": [
        "string = ''\n",
        "print(len(string))\n",
        "string[0]"
      ],
      "metadata": {
        "id": "ObzbItsV5TLU"
      },
      "execution_count": null,
      "outputs": []
    },
    {
      "cell_type": "code",
      "source": [],
      "metadata": {
        "id": "dIaVt4FP5TNn"
      },
      "execution_count": null,
      "outputs": []
    },
    {
      "cell_type": "code",
      "source": [],
      "metadata": {
        "id": "n9QW1A_85TPX"
      },
      "execution_count": null,
      "outputs": []
    },
    {
      "cell_type": "code",
      "source": [],
      "metadata": {
        "id": "E4mIPAwC5TS8"
      },
      "execution_count": null,
      "outputs": []
    }
  ]
}