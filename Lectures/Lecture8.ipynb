{
  "nbformat": 4,
  "nbformat_minor": 0,
  "metadata": {
    "colab": {
      "provenance": []
    },
    "kernelspec": {
      "name": "python3",
      "display_name": "Python 3"
    },
    "language_info": {
      "name": "python"
    }
  },
  "cells": [
    {
      "cell_type": "code",
      "execution_count": 5,
      "metadata": {
        "id": "zinjIxzuecwb"
      },
      "outputs": [],
      "source": [
        "#Inheritance in classes\n",
        "#!pip install simpleaudio\n",
        "import simpleaudio as sa"
      ]
    },
    {
      "cell_type": "code",
      "source": [
        "class Animal:\n",
        "  def __init__(self):\n",
        "    penis = 15\n",
        "  def cry():\n",
        "    print('')"
      ],
      "metadata": {
        "id": "u5Yfj8X3e6vu"
      },
      "execution_count": null,
      "outputs": []
    },
    {
      "cell_type": "code",
      "source": [
        "wave1 = sa.WaveObject.from_wave_file(\"ape.wav\")"
      ],
      "metadata": {
        "id": "elhCcijpg5KG"
      },
      "execution_count": 18,
      "outputs": []
    },
    {
      "cell_type": "code",
      "source": [
        "playobj = wave1.play()"
      ],
      "metadata": {
        "colab": {
          "base_uri": "https://localhost:8080/",
          "height": 321
        },
        "id": "W9YfwUyviEcg",
        "outputId": "bc1ce3ad-8649-45e7-be8d-00ed3b847c6c"
      },
      "execution_count": 19,
      "outputs": [
        {
          "output_type": "error",
          "ename": "SimpleaudioError",
          "evalue": "ignored",
          "traceback": [
            "\u001b[0;31m---------------------------------------------------------------------------\u001b[0m",
            "\u001b[0;31mSimpleaudioError\u001b[0m                          Traceback (most recent call last)",
            "\u001b[0;32m<ipython-input-19-2f6a5104f228>\u001b[0m in \u001b[0;36m<cell line: 1>\u001b[0;34m()\u001b[0m\n\u001b[0;32m----> 1\u001b[0;31m \u001b[0mplayobj\u001b[0m \u001b[0;34m=\u001b[0m \u001b[0mwave1\u001b[0m\u001b[0;34m.\u001b[0m\u001b[0mplay\u001b[0m\u001b[0;34m(\u001b[0m\u001b[0;34m)\u001b[0m\u001b[0;34m\u001b[0m\u001b[0;34m\u001b[0m\u001b[0m\n\u001b[0m",
            "\u001b[0;32m/usr/local/lib/python3.10/dist-packages/simpleaudio/shiny.py\u001b[0m in \u001b[0;36mplay\u001b[0;34m(self)\u001b[0m\n\u001b[1;32m     17\u001b[0m \u001b[0;34m\u001b[0m\u001b[0m\n\u001b[1;32m     18\u001b[0m     \u001b[0;32mdef\u001b[0m \u001b[0mplay\u001b[0m\u001b[0;34m(\u001b[0m\u001b[0mself\u001b[0m\u001b[0;34m)\u001b[0m\u001b[0;34m:\u001b[0m\u001b[0;34m\u001b[0m\u001b[0;34m\u001b[0m\u001b[0m\n\u001b[0;32m---> 19\u001b[0;31m         return play_buffer(self.audio_data, self.num_channels,\n\u001b[0m\u001b[1;32m     20\u001b[0m                            self.bytes_per_sample, self.sample_rate)\n\u001b[1;32m     21\u001b[0m \u001b[0;34m\u001b[0m\u001b[0m\n",
            "\u001b[0;32m/usr/local/lib/python3.10/dist-packages/simpleaudio/shiny.py\u001b[0m in \u001b[0;36mplay_buffer\u001b[0;34m(audio_data, num_channels, bytes_per_sample, sample_rate)\u001b[0m\n\u001b[1;32m     58\u001b[0m \u001b[0;34m\u001b[0m\u001b[0m\n\u001b[1;32m     59\u001b[0m \u001b[0;32mdef\u001b[0m \u001b[0mplay_buffer\u001b[0m\u001b[0;34m(\u001b[0m\u001b[0maudio_data\u001b[0m\u001b[0;34m,\u001b[0m \u001b[0mnum_channels\u001b[0m\u001b[0;34m,\u001b[0m \u001b[0mbytes_per_sample\u001b[0m\u001b[0;34m,\u001b[0m \u001b[0msample_rate\u001b[0m\u001b[0;34m)\u001b[0m\u001b[0;34m:\u001b[0m\u001b[0;34m\u001b[0m\u001b[0;34m\u001b[0m\u001b[0m\n\u001b[0;32m---> 60\u001b[0;31m     play_id = _sa._play_buffer(audio_data, num_channels, bytes_per_sample,\n\u001b[0m\u001b[1;32m     61\u001b[0m                                sample_rate)\n\u001b[1;32m     62\u001b[0m     \u001b[0;32mreturn\u001b[0m \u001b[0mPlayObject\u001b[0m\u001b[0;34m(\u001b[0m\u001b[0mplay_id\u001b[0m\u001b[0;34m)\u001b[0m\u001b[0;34m\u001b[0m\u001b[0;34m\u001b[0m\u001b[0m\n",
            "\u001b[0;31mSimpleaudioError\u001b[0m: Error opening PCM device. -- CODE: -2 -- MSG: No such file or directory"
          ]
        }
      ]
    },
    {
      "cell_type": "code",
      "source": [
        "import simpleaudio.functionchecks as fc\n",
        "\n",
        "fc.LeftRightCheck.run()"
      ],
      "metadata": {
        "colab": {
          "base_uri": "https://localhost:8080/",
          "height": 546
        },
        "id": "9gRGdh9Li9At",
        "outputId": "6006d811-123a-4521-840f-6c9847cb56f6"
      },
      "execution_count": 24,
      "outputs": [
        {
          "output_type": "stream",
          "name": "stdout",
          "text": [
            "\n",
            "================================================================================\n",
            "-- LeftRightCheck --\n",
            "Checks stereo playback by first playing a note in the left channel only,\n",
            "then a different note in the right channel only.\n",
            "\n",
            "Starting check in ...\n",
            "3 ...\n",
            "2 ...\n",
            "1 ...\n",
            "RUNNING CHECK ...\n"
          ]
        },
        {
          "output_type": "error",
          "ename": "SimpleaudioError",
          "evalue": "ignored",
          "traceback": [
            "\u001b[0;31m---------------------------------------------------------------------------\u001b[0m",
            "\u001b[0;31mSimpleaudioError\u001b[0m                          Traceback (most recent call last)",
            "\u001b[0;32m<ipython-input-24-d0069445af52>\u001b[0m in \u001b[0;36m<cell line: 3>\u001b[0;34m()\u001b[0m\n\u001b[1;32m      1\u001b[0m \u001b[0;32mimport\u001b[0m \u001b[0msimpleaudio\u001b[0m\u001b[0;34m.\u001b[0m\u001b[0mfunctionchecks\u001b[0m \u001b[0;32mas\u001b[0m \u001b[0mfc\u001b[0m\u001b[0;34m\u001b[0m\u001b[0;34m\u001b[0m\u001b[0m\n\u001b[1;32m      2\u001b[0m \u001b[0;34m\u001b[0m\u001b[0m\n\u001b[0;32m----> 3\u001b[0;31m \u001b[0mfc\u001b[0m\u001b[0;34m.\u001b[0m\u001b[0mLeftRightCheck\u001b[0m\u001b[0;34m.\u001b[0m\u001b[0mrun\u001b[0m\u001b[0;34m(\u001b[0m\u001b[0;34m)\u001b[0m\u001b[0;34m\u001b[0m\u001b[0;34m\u001b[0m\u001b[0m\n\u001b[0m",
            "\u001b[0;32m/usr/local/lib/python3.10/dist-packages/simpleaudio/functionchecks.py\u001b[0m in \u001b[0;36mrun\u001b[0;34m(cls, countdown)\u001b[0m\n\u001b[1;32m     45\u001b[0m                 \u001b[0msleep\u001b[0m\u001b[0;34m(\u001b[0m\u001b[0;36m1\u001b[0m\u001b[0;34m)\u001b[0m\u001b[0;34m\u001b[0m\u001b[0;34m\u001b[0m\u001b[0m\n\u001b[1;32m     46\u001b[0m         \u001b[0mprint\u001b[0m\u001b[0;34m(\u001b[0m\u001b[0;34m\"RUNNING CHECK ...\"\u001b[0m\u001b[0;34m)\u001b[0m\u001b[0;34m\u001b[0m\u001b[0;34m\u001b[0m\u001b[0m\n\u001b[0;32m---> 47\u001b[0;31m         \u001b[0mcls\u001b[0m\u001b[0;34m.\u001b[0m\u001b[0m_check\u001b[0m\u001b[0;34m(\u001b[0m\u001b[0;34m)\u001b[0m\u001b[0;34m\u001b[0m\u001b[0;34m\u001b[0m\u001b[0m\n\u001b[0m\u001b[1;32m     48\u001b[0m         \u001b[0mprint\u001b[0m\u001b[0;34m(\u001b[0m\u001b[0;34m\"... DONE\"\u001b[0m\u001b[0;34m)\u001b[0m\u001b[0;34m\u001b[0m\u001b[0;34m\u001b[0m\u001b[0m\n\u001b[1;32m     49\u001b[0m         \u001b[0mprint\u001b[0m\u001b[0;34m(\u001b[0m\u001b[0;34m\"=\"\u001b[0m \u001b[0;34m*\u001b[0m \u001b[0;36m80\u001b[0m\u001b[0;34m)\u001b[0m\u001b[0;34m\u001b[0m\u001b[0;34m\u001b[0m\u001b[0m\n",
            "\u001b[0;32m/usr/local/lib/python3.10/dist-packages/simpleaudio/functionchecks.py\u001b[0m in \u001b[0;36m_check\u001b[0;34m(cls)\u001b[0m\n\u001b[1;32m     59\u001b[0m     \u001b[0;32mdef\u001b[0m \u001b[0m_check\u001b[0m\u001b[0;34m(\u001b[0m\u001b[0mcls\u001b[0m\u001b[0;34m)\u001b[0m\u001b[0;34m:\u001b[0m\u001b[0;34m\u001b[0m\u001b[0;34m\u001b[0m\u001b[0m\n\u001b[1;32m     60\u001b[0m         \u001b[0mwave_obj\u001b[0m \u001b[0;34m=\u001b[0m \u001b[0m_gwo\u001b[0m\u001b[0;34m(\u001b[0m\u001b[0;34m\"left_right.wav\"\u001b[0m\u001b[0;34m)\u001b[0m\u001b[0;34m\u001b[0m\u001b[0;34m\u001b[0m\u001b[0m\n\u001b[0;32m---> 61\u001b[0;31m         \u001b[0mwave_obj\u001b[0m\u001b[0;34m.\u001b[0m\u001b[0mplay\u001b[0m\u001b[0;34m(\u001b[0m\u001b[0;34m)\u001b[0m\u001b[0;34m\u001b[0m\u001b[0;34m\u001b[0m\u001b[0m\n\u001b[0m\u001b[1;32m     62\u001b[0m         \u001b[0msleep\u001b[0m\u001b[0;34m(\u001b[0m\u001b[0;36m4\u001b[0m\u001b[0;34m)\u001b[0m\u001b[0;34m\u001b[0m\u001b[0;34m\u001b[0m\u001b[0m\n\u001b[1;32m     63\u001b[0m \u001b[0;34m\u001b[0m\u001b[0m\n",
            "\u001b[0;32m/usr/local/lib/python3.10/dist-packages/simpleaudio/shiny.py\u001b[0m in \u001b[0;36mplay\u001b[0;34m(self)\u001b[0m\n\u001b[1;32m     17\u001b[0m \u001b[0;34m\u001b[0m\u001b[0m\n\u001b[1;32m     18\u001b[0m     \u001b[0;32mdef\u001b[0m \u001b[0mplay\u001b[0m\u001b[0;34m(\u001b[0m\u001b[0mself\u001b[0m\u001b[0;34m)\u001b[0m\u001b[0;34m:\u001b[0m\u001b[0;34m\u001b[0m\u001b[0;34m\u001b[0m\u001b[0m\n\u001b[0;32m---> 19\u001b[0;31m         return play_buffer(self.audio_data, self.num_channels,\n\u001b[0m\u001b[1;32m     20\u001b[0m                            self.bytes_per_sample, self.sample_rate)\n\u001b[1;32m     21\u001b[0m \u001b[0;34m\u001b[0m\u001b[0m\n",
            "\u001b[0;32m/usr/local/lib/python3.10/dist-packages/simpleaudio/shiny.py\u001b[0m in \u001b[0;36mplay_buffer\u001b[0;34m(audio_data, num_channels, bytes_per_sample, sample_rate)\u001b[0m\n\u001b[1;32m     58\u001b[0m \u001b[0;34m\u001b[0m\u001b[0m\n\u001b[1;32m     59\u001b[0m \u001b[0;32mdef\u001b[0m \u001b[0mplay_buffer\u001b[0m\u001b[0;34m(\u001b[0m\u001b[0maudio_data\u001b[0m\u001b[0;34m,\u001b[0m \u001b[0mnum_channels\u001b[0m\u001b[0;34m,\u001b[0m \u001b[0mbytes_per_sample\u001b[0m\u001b[0;34m,\u001b[0m \u001b[0msample_rate\u001b[0m\u001b[0;34m)\u001b[0m\u001b[0;34m:\u001b[0m\u001b[0;34m\u001b[0m\u001b[0;34m\u001b[0m\u001b[0m\n\u001b[0;32m---> 60\u001b[0;31m     play_id = _sa._play_buffer(audio_data, num_channels, bytes_per_sample,\n\u001b[0m\u001b[1;32m     61\u001b[0m                                sample_rate)\n\u001b[1;32m     62\u001b[0m     \u001b[0;32mreturn\u001b[0m \u001b[0mPlayObject\u001b[0m\u001b[0;34m(\u001b[0m\u001b[0mplay_id\u001b[0m\u001b[0;34m)\u001b[0m\u001b[0;34m\u001b[0m\u001b[0;34m\u001b[0m\u001b[0m\n",
            "\u001b[0;31mSimpleaudioError\u001b[0m: Error opening PCM device. -- CODE: -2 -- MSG: No such file or directory"
          ]
        }
      ]
    },
    {
      "cell_type": "code",
      "source": [
        "#!pip install pydab\n",
        "import pydab"
      ],
      "metadata": {
        "id": "wEuHJmipi9ht"
      },
      "execution_count": 25,
      "outputs": []
    },
    {
      "cell_type": "code",
      "source": [
        "#some attempts to understand how to make sounds in python\n",
        "#didn't lead to success, searching later!"
      ],
      "metadata": {
        "colab": {
          "base_uri": "https://localhost:8080/",
          "height": 175
        },
        "id": "4-EPwFrS0b2g",
        "outputId": "4cbbb4be-212f-478a-8663-56f9e1941b89"
      },
      "execution_count": 26,
      "outputs": [
        {
          "output_type": "error",
          "ename": "NameError",
          "evalue": "ignored",
          "traceback": [
            "\u001b[0;31m---------------------------------------------------------------------------\u001b[0m",
            "\u001b[0;31mNameError\u001b[0m                                 Traceback (most recent call last)",
            "\u001b[0;32m<ipython-input-26-d8f2e2eff80d>\u001b[0m in \u001b[0;36m<cell line: 1>\u001b[0;34m()\u001b[0m\n\u001b[0;32m----> 1\u001b[0;31m \u001b[0mecho\u001b[0m \u001b[0;34m^\u001b[0m\u001b[0mG\u001b[0m\u001b[0;34m\u001b[0m\u001b[0;34m\u001b[0m\u001b[0m\n\u001b[0m",
            "\u001b[0;31mNameError\u001b[0m: name 'echo' is not defined"
          ]
        }
      ]
    },
    {
      "cell_type": "code",
      "source": [
        "class Male:\n",
        "  penis = 15\n",
        "  def __init__(self):\n",
        "    pass\n",
        "  def cry(self):\n",
        "    print(f' Thrujfab aefe {self.penis} theTrif! \\n Uaaaaa!!')"
      ],
      "metadata": {
        "id": "VVOzzOpP3eG-"
      },
      "execution_count": 49,
      "outputs": []
    },
    {
      "cell_type": "code",
      "source": [
        "class Egyptian(Male):\n",
        "  def __init__(self):\n",
        "    super().__init__() #this string calls all parent classes\n",
        "  def cry(self):\n",
        "    print(f' My penis has length{self.penis}\\n Nyarlathotep!!!')"
      ],
      "metadata": {
        "id": "FhxqJoWZ37-X"
      },
      "execution_count": 50,
      "outputs": []
    },
    {
      "cell_type": "code",
      "source": [
        "Amon = Egyptian()\n",
        "Amon.cry()\n",
        "\n",
        "Tknlui_ga = Male()\n",
        "Tknlui_ga.cry()"
      ],
      "metadata": {
        "colab": {
          "base_uri": "https://localhost:8080/"
        },
        "id": "5tE4J7Ei4StS",
        "outputId": "cc3c41b8-ecaf-4fc1-c5f5-cb5012b68f5a"
      },
      "execution_count": 51,
      "outputs": [
        {
          "output_type": "stream",
          "name": "stdout",
          "text": [
            " My penis has length15\n",
            " Nyarlathotep!!!\n",
            " Thrujfab aefe 15 theTrif! \n",
            " Uaaaaa!!\n"
          ]
        }
      ]
    },
    {
      "cell_type": "code",
      "source": [
        "class Pharaon(Egyptian):\n",
        "  penis = 25\n",
        "  def __init__(self):\n",
        "    super().__init__() #this string calls all parent classes\n",
        "  def cry(self):\n",
        "    print(f' My stick is {self.penis} inch powerful! \\n Nyarlathotep!!!')"
      ],
      "metadata": {
        "id": "WRPrlQwC4s5Z"
      },
      "execution_count": 52,
      "outputs": []
    },
    {
      "cell_type": "code",
      "source": [
        "Tutanhamon = Pharaon()\n",
        "Tutanhamon.cry()"
      ],
      "metadata": {
        "colab": {
          "base_uri": "https://localhost:8080/"
        },
        "id": "dvJf0SK-4s8v",
        "outputId": "921cdf77-7738-43ef-b188-ccc0394a7b70"
      },
      "execution_count": 53,
      "outputs": [
        {
          "output_type": "stream",
          "name": "stdout",
          "text": [
            " My stick is 25 inch powerful! \n",
            " Nyarlathotep!!!\n"
          ]
        }
      ]
    },
    {
      "cell_type": "code",
      "source": [
        "#okay, jokes are jokes. Let's research who's quicker\n",
        "class Class1:\n",
        "  colour = 'red'\n",
        "  name = 'Class1'\n",
        "  def __init__(self):\n",
        "    print('class1')\n",
        "\n",
        "class Class2:\n",
        "  size = 'big'\n",
        "\n",
        "  name = 'Class2'\n",
        "  def __init__(self):\n",
        "    for i in range(1000000):\n",
        "      pass\n",
        "    print('class2')\n",
        "\n",
        "class Class3(Class1,Class2):\n",
        "\n",
        "  def __init__(self):\n",
        "    print(\n",
        "    super().__init__)\n",
        "    super().__init__()\n",
        "\n",
        "class Class4(Class2,Class1):\n",
        "  def __init__(self):\n",
        "    super().__init__()\n",
        "\n"
      ],
      "metadata": {
        "id": "8X6Ddag64tK8"
      },
      "execution_count": 13,
      "outputs": []
    },
    {
      "cell_type": "code",
      "source": [
        "obj4 = Class4()"
      ],
      "metadata": {
        "colab": {
          "base_uri": "https://localhost:8080/"
        },
        "id": "_x101u3D4tNT",
        "outputId": "be5c587a-69df-47e0-9780-34d516bc2cbc"
      },
      "execution_count": 6,
      "outputs": [
        {
          "output_type": "stream",
          "name": "stdout",
          "text": [
            "class2\n"
          ]
        }
      ]
    },
    {
      "cell_type": "code",
      "source": [
        "hasattr(obj4,'colour')"
      ],
      "metadata": {
        "colab": {
          "base_uri": "https://localhost:8080/"
        },
        "id": "CiIbigps4tPp",
        "outputId": "6cde34cd-541e-4035-fb5b-731e30af7fbc"
      },
      "execution_count": 7,
      "outputs": [
        {
          "output_type": "execute_result",
          "data": {
            "text/plain": [
              "True"
            ]
          },
          "metadata": {},
          "execution_count": 7
        }
      ]
    },
    {
      "cell_type": "code",
      "source": [
        "obj4.colour"
      ],
      "metadata": {
        "colab": {
          "base_uri": "https://localhost:8080/",
          "height": 36
        },
        "id": "RxLyxtgo4tV-",
        "outputId": "970b0da6-f17d-4918-900e-8b917a7504df"
      },
      "execution_count": 8,
      "outputs": [
        {
          "output_type": "execute_result",
          "data": {
            "text/plain": [
              "'red'"
            ],
            "application/vnd.google.colaboratory.intrinsic+json": {
              "type": "string"
            }
          },
          "metadata": {},
          "execution_count": 8
        }
      ]
    },
    {
      "cell_type": "code",
      "source": [
        "obj4.name"
      ],
      "metadata": {
        "colab": {
          "base_uri": "https://localhost:8080/",
          "height": 36
        },
        "id": "Y9J5pnVJ4tXq",
        "outputId": "74d5aafa-1f8d-4438-93cd-daa4f7000f8a"
      },
      "execution_count": 9,
      "outputs": [
        {
          "output_type": "execute_result",
          "data": {
            "text/plain": [
              "'Class2'"
            ],
            "application/vnd.google.colaboratory.intrinsic+json": {
              "type": "string"
            }
          },
          "metadata": {},
          "execution_count": 9
        }
      ]
    },
    {
      "cell_type": "code",
      "source": [
        "obj3 = Class3()\n",
        "#obj3.name\n",
        "Class3.name\n",
        "#I didn't catch that. What happens is several classes are parents\n",
        "#?: Supppose that I have a property Prop for Class1 and Class2\n",
        "#Class 3 inherits, so also has this Prop. which value for Prop\n",
        "#will the obj of Class3 have?"
      ],
      "metadata": {
        "colab": {
          "base_uri": "https://localhost:8080/",
          "height": 70
        },
        "id": "TBbCbSTI4tZA",
        "outputId": "6f02379f-48fb-4923-d25f-75f1dcc723e7"
      },
      "execution_count": 14,
      "outputs": [
        {
          "output_type": "stream",
          "name": "stdout",
          "text": [
            "<bound method Class1.__init__ of <__main__.Class3 object at 0x7acf67b3eb00>>\n",
            "class1\n"
          ]
        },
        {
          "output_type": "execute_result",
          "data": {
            "text/plain": [
              "'Class1'"
            ],
            "application/vnd.google.colaboratory.intrinsic+json": {
              "type": "string"
            }
          },
          "metadata": {},
          "execution_count": 14
        }
      ]
    },
    {
      "cell_type": "code",
      "source": [
        "print(Class3.mro())\n",
        "#topological sorting for calls!\n"
      ],
      "metadata": {
        "colab": {
          "base_uri": "https://localhost:8080/"
        },
        "id": "XMzXeuVQfybm",
        "outputId": "551f2687-4d8e-4c6c-8f9d-2c833c407a26"
      },
      "execution_count": 16,
      "outputs": [
        {
          "output_type": "stream",
          "name": "stdout",
          "text": [
            "[<class '__main__.Class3'>, <class '__main__.Class1'>, <class '__main__.Class2'>, <class 'object'>]\n"
          ]
        }
      ]
    },
    {
      "cell_type": "code",
      "source": [
        "isinstance(1,int)"
      ],
      "metadata": {
        "colab": {
          "base_uri": "https://localhost:8080/"
        },
        "id": "s_EAxiFsiEGI",
        "outputId": "afc58779-db22-4a0f-b726-e1c2e38a0c54"
      },
      "execution_count": 17,
      "outputs": [
        {
          "output_type": "execute_result",
          "data": {
            "text/plain": [
              "True"
            ]
          },
          "metadata": {},
          "execution_count": 17
        }
      ]
    },
    {
      "cell_type": "code",
      "source": [
        "isinstance('s',int)"
      ],
      "metadata": {
        "colab": {
          "base_uri": "https://localhost:8080/"
        },
        "id": "HGp2dZSxjDHm",
        "outputId": "28bb29c5-d55a-46f8-8c4b-39f0a8008d3c"
      },
      "execution_count": 18,
      "outputs": [
        {
          "output_type": "execute_result",
          "data": {
            "text/plain": [
              "False"
            ]
          },
          "metadata": {},
          "execution_count": 18
        }
      ]
    },
    {
      "cell_type": "code",
      "source": [
        "obj = object()"
      ],
      "metadata": {
        "id": "uHiMxVr7jGaW"
      },
      "execution_count": 19,
      "outputs": []
    },
    {
      "cell_type": "code",
      "source": [
        "dir(obj)"
      ],
      "metadata": {
        "colab": {
          "base_uri": "https://localhost:8080/"
        },
        "id": "gmacBVsMjOxe",
        "outputId": "04b6f9c0-0c58-49fa-cd0a-2ca6d2ee7855"
      },
      "execution_count": 20,
      "outputs": [
        {
          "output_type": "execute_result",
          "data": {
            "text/plain": [
              "['__class__',\n",
              " '__delattr__',\n",
              " '__dir__',\n",
              " '__doc__',\n",
              " '__eq__',\n",
              " '__format__',\n",
              " '__ge__',\n",
              " '__getattribute__',\n",
              " '__gt__',\n",
              " '__hash__',\n",
              " '__init__',\n",
              " '__init_subclass__',\n",
              " '__le__',\n",
              " '__lt__',\n",
              " '__ne__',\n",
              " '__new__',\n",
              " '__reduce__',\n",
              " '__reduce_ex__',\n",
              " '__repr__',\n",
              " '__setattr__',\n",
              " '__sizeof__',\n",
              " '__str__',\n",
              " '__subclasshook__']"
            ]
          },
          "metadata": {},
          "execution_count": 20
        }
      ]
    },
    {
      "cell_type": "code",
      "source": [
        "obj"
      ],
      "metadata": {
        "id": "Jc_LcXSkjPhR"
      },
      "execution_count": null,
      "outputs": []
    },
    {
      "cell_type": "code",
      "source": [
        "issubclass(Class2,Class3)"
      ],
      "metadata": {
        "colab": {
          "base_uri": "https://localhost:8080/"
        },
        "id": "efPg5el-jR4r",
        "outputId": "22a65508-5aee-4625-8bc8-e70a02371445"
      },
      "execution_count": 22,
      "outputs": [
        {
          "output_type": "execute_result",
          "data": {
            "text/plain": [
              "False"
            ]
          },
          "metadata": {},
          "execution_count": 22
        }
      ]
    },
    {
      "cell_type": "code",
      "source": [
        "isinstance(Class3,Class2)\n",
        "#is Class3 an object of Class2"
      ],
      "metadata": {
        "colab": {
          "base_uri": "https://localhost:8080/"
        },
        "id": "7CcYwqsjjddf",
        "outputId": "3fb9a6fb-8c10-4977-d441-e80bd444761c"
      },
      "execution_count": 23,
      "outputs": [
        {
          "output_type": "execute_result",
          "data": {
            "text/plain": [
              "False"
            ]
          },
          "metadata": {},
          "execution_count": 23
        }
      ]
    },
    {
      "cell_type": "code",
      "source": [
        "class Vector:\n",
        "  x,y = (0,0)\n",
        "\n",
        "  def __init__(self,x,y):\n",
        "    self.x = x\n",
        "    self.y = y\n",
        "\n",
        "  def __repr__(self):\n",
        "    return 'vector ({},{})'.format(self.x,self.y)\n",
        "\n",
        "  def __add__(self,other):\n",
        "    return Vector(self.x + other.x, self.y + other.y)\n",
        "\n",
        "  def __eq__(self,other):\n",
        "    return (self.x == other.x) and (self.y == other.y)\n",
        "\n",
        "  def __getitem__(self,index):\n",
        "    if not (index ==0 or index == 1):\n",
        "      raise ValueError('index out of bounds')\n",
        "    if index == 0:\n",
        "      return self.x\n",
        "    else:\n",
        "      return self.y\n",
        "\n",
        "  def __matmul__(self,other):\n",
        "    x = self.x*other.x\n",
        "    y = self.y*other.y\n",
        "    return Vector(x,y)\n",
        "\n",
        "  def __call__(self, vector): #vector acts on some other vector\n",
        "    vector.x += self.x        #by addition\n",
        "    vector.y += self.y\n",
        "\n",
        "  def __list__(self):\n",
        "    pass\n",
        "\n",
        "  #def __abs__(self):\n",
        "  #  return (self.x**2 + self.y**2)**(1/2) L2 norm\n",
        "\n",
        "  #def __abs__(self):\n",
        "  #  return abs(self.x) + abs(self.y) L1 norm\n",
        "\n",
        "  def __abs__(self):\n",
        "    return max(abs(self.x),abs(self.y))\n",
        "  def __dict__(self):\n",
        "    pass"
      ],
      "metadata": {
        "id": "DWkITgO0ji6Y"
      },
      "execution_count": 141,
      "outputs": []
    },
    {
      "cell_type": "code",
      "source": [
        "vector1 = Vector(3,5)\n",
        "vector2 = Vector(4,6)\n",
        "vector3 = vector1 + vector2\n",
        "vector4 = vector2 + vector1\n",
        "vector5 = vector1 @ vector2\n",
        "print(vector5)\n",
        "if (vector3 == vector4):\n",
        "  print('equal')\n",
        "\n",
        "print(vector1, vector2,vector3,vector4,sep='\\n')\n",
        "\n",
        "print(vector1[0],vector1[1])"
      ],
      "metadata": {
        "colab": {
          "base_uri": "https://localhost:8080/"
        },
        "id": "dtRm6H9ir2OU",
        "outputId": "2875cbb3-7613-4d13-aab2-afa2a4fdc547"
      },
      "execution_count": 60,
      "outputs": [
        {
          "output_type": "stream",
          "name": "stdout",
          "text": [
            "vector (12,30)\n",
            "equal\n",
            "vector (3,5)\n",
            "vector (4,6)\n",
            "vector (7,11)\n",
            "vector (7,11)\n",
            "3 5\n"
          ]
        }
      ]
    },
    {
      "cell_type": "code",
      "source": [
        "#so now we can use vectors as additive functors\n",
        "print(vector1)\n",
        "vector5(vector1)\n",
        "print(vector1)"
      ],
      "metadata": {
        "colab": {
          "base_uri": "https://localhost:8080/"
        },
        "id": "vsyUBPWpxe0G",
        "outputId": "1dffd0ce-a4ab-4b2c-d08e-ebfc5fe8bae4"
      },
      "execution_count": 62,
      "outputs": [
        {
          "output_type": "stream",
          "name": "stdout",
          "text": [
            "vector (15,35)\n",
            "vector (27,65)\n"
          ]
        }
      ]
    },
    {
      "cell_type": "code",
      "source": [
        "abs(vector5)\n",
        "#когда вызываю старую функцию из класса, но она уже переписана по новой,\n",
        "#по объехту всё равно вызывается старая функция.\n",
        "#кажется, объехт хранит в себе информацию обо всех функциях и структуре класса\n",
        "#на момент создания этого объекта. Создавая мусорные объекты, можно поддерживать\n",
        "#устаревшие версии"
      ],
      "metadata": {
        "colab": {
          "base_uri": "https://localhost:8080/"
        },
        "id": "dXTSp3wCxe-8",
        "outputId": "6b999616-501d-465b-f498-7f11abdd3705"
      },
      "execution_count": 67,
      "outputs": [
        {
          "output_type": "execute_result",
          "data": {
            "text/plain": [
              "32.31098884280702"
            ]
          },
          "metadata": {},
          "execution_count": 67
        }
      ]
    },
    {
      "cell_type": "code",
      "source": [
        "abs(vector4)"
      ],
      "metadata": {
        "colab": {
          "base_uri": "https://localhost:8080/"
        },
        "id": "kOAcddWHxfBW",
        "outputId": "245465ce-9554-46d4-8675-7e89afc2e637"
      },
      "execution_count": 68,
      "outputs": [
        {
          "output_type": "execute_result",
          "data": {
            "text/plain": [
              "13.038404810405298"
            ]
          },
          "metadata": {},
          "execution_count": 68
        }
      ]
    },
    {
      "cell_type": "code",
      "source": [
        "del vector4\n",
        "vector4  = Vector(1,4)\n",
        "abs(vector4)\n",
        "#the new version does not store the information about the old versions"
      ],
      "metadata": {
        "colab": {
          "base_uri": "https://localhost:8080/"
        },
        "id": "YBKOZfKYxfCz",
        "outputId": "8c5171fb-34b2-4bae-b610-b7890eae3d87"
      },
      "execution_count": 69,
      "outputs": [
        {
          "output_type": "execute_result",
          "data": {
            "text/plain": [
              "5"
            ]
          },
          "metadata": {},
          "execution_count": 69
        }
      ]
    },
    {
      "cell_type": "code",
      "source": [
        "vector6 = Vector(41,44)\n",
        "abs(vector6)\n",
        "#we got here three different functions!"
      ],
      "metadata": {
        "colab": {
          "base_uri": "https://localhost:8080/"
        },
        "id": "AziTS4knxfGY",
        "outputId": "b67b89d7-5c3d-4a29-d91e-a9f8b5571b63"
      },
      "execution_count": 72,
      "outputs": [
        {
          "output_type": "execute_result",
          "data": {
            "text/plain": [
              "44"
            ]
          },
          "metadata": {},
          "execution_count": 72
        }
      ]
    },
    {
      "cell_type": "code",
      "source": [
        "list2 = [vector5.__abs__, vector4.__abs__, vector6.__abs__]\n",
        "print(list2)"
      ],
      "metadata": {
        "colab": {
          "base_uri": "https://localhost:8080/"
        },
        "id": "2_UDSVkO05wc",
        "outputId": "c7e1882e-02e1-427e-90ea-d1e40f881c2e"
      },
      "execution_count": 74,
      "outputs": [
        {
          "output_type": "stream",
          "name": "stdout",
          "text": [
            "[<bound method Vector.__abs__ of vector (12,30)>, <bound method Vector.__abs__ of vector (1,4)>, <bound method Vector.__abs__ of vector (41,44)>]\n"
          ]
        }
      ]
    },
    {
      "cell_type": "code",
      "source": [
        "#trying to create objects similar to the objects\n",
        "#of old structure\n",
        "vector7 = type(vector5)(3,4)"
      ],
      "metadata": {
        "id": "JJA5eJjr1Lnp"
      },
      "execution_count": 76,
      "outputs": []
    },
    {
      "cell_type": "code",
      "source": [
        "abs(vector7)\n",
        "#so, the object collects all the info\n",
        "#about the structure of the class\n",
        "#when it was initialized"
      ],
      "metadata": {
        "colab": {
          "base_uri": "https://localhost:8080/"
        },
        "id": "I-qVACjJ1Lps",
        "outputId": "089a2c27-f8b9-4b27-b13d-24a6514d2d86"
      },
      "execution_count": 77,
      "outputs": [
        {
          "output_type": "execute_result",
          "data": {
            "text/plain": [
              "5.0"
            ]
          },
          "metadata": {},
          "execution_count": 77
        }
      ]
    },
    {
      "cell_type": "code",
      "source": [
        "repr(vector)"
      ],
      "metadata": {
        "colab": {
          "base_uri": "https://localhost:8080/",
          "height": 36
        },
        "id": "E9B9IrcctgJR",
        "outputId": "b3c7dc4c-c2a5-4091-e10f-2a6bbae8a3ed"
      },
      "execution_count": 28,
      "outputs": [
        {
          "output_type": "execute_result",
          "data": {
            "text/plain": [
              "'vector (0,0)'"
            ],
            "application/vnd.google.colaboratory.intrinsic+json": {
              "type": "string"
            }
          },
          "metadata": {},
          "execution_count": 28
        }
      ]
    },
    {
      "cell_type": "code",
      "source": [
        "list1 = [vector]\n",
        "print(list1)"
      ],
      "metadata": {
        "colab": {
          "base_uri": "https://localhost:8080/",
          "height": 192
        },
        "id": "iLFeW7ZstkP8",
        "outputId": "ecc462b3-9d43-4554-f0c2-11d6006f8c7c"
      },
      "execution_count": 2,
      "outputs": [
        {
          "output_type": "error",
          "ename": "NameError",
          "evalue": "ignored",
          "traceback": [
            "\u001b[0;31m---------------------------------------------------------------------------\u001b[0m",
            "\u001b[0;31mNameError\u001b[0m                                 Traceback (most recent call last)",
            "\u001b[0;32m<ipython-input-2-d2fbcfb47bc7>\u001b[0m in \u001b[0;36m<cell line: 1>\u001b[0;34m()\u001b[0m\n\u001b[0;32m----> 1\u001b[0;31m \u001b[0mlist1\u001b[0m \u001b[0;34m=\u001b[0m \u001b[0;34m[\u001b[0m\u001b[0mvector\u001b[0m\u001b[0;34m]\u001b[0m\u001b[0;34m\u001b[0m\u001b[0;34m\u001b[0m\u001b[0m\n\u001b[0m\u001b[1;32m      2\u001b[0m \u001b[0mprint\u001b[0m\u001b[0;34m(\u001b[0m\u001b[0mlist1\u001b[0m\u001b[0;34m)\u001b[0m\u001b[0;34m\u001b[0m\u001b[0;34m\u001b[0m\u001b[0m\n",
            "\u001b[0;31mNameError\u001b[0m: name 'vector' is not defined"
          ]
        }
      ]
    },
    {
      "cell_type": "code",
      "source": [
        "vector #repr is called"
      ],
      "metadata": {
        "colab": {
          "base_uri": "https://localhost:8080/"
        },
        "id": "qzh1gfbUte2q",
        "outputId": "9e35fea4-e618-4ff4-a239-df8f36eb47cb"
      },
      "execution_count": 27,
      "outputs": [
        {
          "output_type": "execute_result",
          "data": {
            "text/plain": [
              "vector (0,0)"
            ]
          },
          "metadata": {},
          "execution_count": 27
        }
      ]
    },
    {
      "cell_type": "code",
      "source": [
        "#one can override all the methods like +,-,*,[],(),repr,str...\n",
        "#всё хватит трахать этот класс векторов\n"
      ],
      "metadata": {
        "id": "Lyi1oOiytyNE"
      },
      "execution_count": null,
      "outputs": []
    },
    {
      "cell_type": "code",
      "source": [
        "class Newclass:\n",
        "  value = 0\n",
        "  max = 0\n",
        "  lst = []\n",
        "  def __init__(self,max=0):\n",
        "    self.max = max\n",
        "    if max:\n",
        "      self.lst = [i for i in range(max)]\n",
        "\n",
        "  def __getitem__(self,index):\n",
        "    print('getitem method called')\n",
        "    return self.lst[index]\n",
        "\n",
        "#now define iter methods, see who will be accomplished\n",
        "  def __iter__(self):\n",
        "    print('iter method called')\n",
        "    return self\n",
        "\n",
        "  def __next__(self):\n",
        "    print('next called')\n",
        "    if not hasattr(self, 'count'):\n",
        "      self.count = 0\n",
        "    self.count += 1\n",
        "    if self.count < self.max:\n",
        "      return self[self.count]**3\n",
        "    else:\n",
        "      raise StopIteration('index out of bounds')\n",
        "\n",
        "\n",
        "  def __bool__(self):\n",
        "    return bool(self.max)"
      ],
      "metadata": {
        "id": "BaCSwODfUl4B"
      },
      "execution_count": 68,
      "outputs": []
    },
    {
      "cell_type": "code",
      "source": [
        "newobj = Newclass(10)\n",
        "#here implicit call of __bool__(self)\n",
        "if newobj:\n",
        "  print('nonempty')\n",
        "else:\n",
        "  print('empty')"
      ],
      "metadata": {
        "colab": {
          "base_uri": "https://localhost:8080/"
        },
        "id": "dukc6cz0Ul7V",
        "outputId": "b84f41e6-bc71-4dbe-d534-d096cc731b1e"
      },
      "execution_count": 69,
      "outputs": [
        {
          "output_type": "stream",
          "name": "stdout",
          "text": [
            "nonempty\n"
          ]
        }
      ]
    },
    {
      "cell_type": "code",
      "source": [
        "newobj[4]"
      ],
      "metadata": {
        "colab": {
          "base_uri": "https://localhost:8080/"
        },
        "id": "BSjlDKoDVesK",
        "outputId": "1f0ed2a4-c536-42d4-bff6-b525b69b4774"
      },
      "execution_count": 63,
      "outputs": [
        {
          "output_type": "stream",
          "name": "stdout",
          "text": [
            "getitem method called\n"
          ]
        },
        {
          "output_type": "execute_result",
          "data": {
            "text/plain": [
              "4"
            ]
          },
          "metadata": {},
          "execution_count": 63
        }
      ]
    },
    {
      "cell_type": "code",
      "source": [
        "for i in newobj:\n",
        "  print(i)\n",
        "  #once newobj has __getitem__, for can be applied\n",
        "  #but if newobj has __iter__, iter will be applied"
      ],
      "metadata": {
        "colab": {
          "base_uri": "https://localhost:8080/"
        },
        "id": "MWVSjtPZWIzq",
        "outputId": "71e2b61f-f8ac-442e-e076-e6da3da5032a"
      },
      "execution_count": 70,
      "outputs": [
        {
          "output_type": "stream",
          "name": "stdout",
          "text": [
            "iter method called\n",
            "next called\n",
            "getitem method called\n",
            "1\n",
            "next called\n",
            "getitem method called\n",
            "8\n",
            "next called\n",
            "getitem method called\n",
            "27\n",
            "next called\n",
            "getitem method called\n",
            "64\n",
            "next called\n",
            "getitem method called\n",
            "125\n",
            "next called\n",
            "getitem method called\n",
            "216\n",
            "next called\n",
            "getitem method called\n",
            "343\n",
            "next called\n",
            "getitem method called\n",
            "512\n",
            "next called\n",
            "getitem method called\n",
            "729\n",
            "next called\n"
          ]
        }
      ]
    },
    {
      "cell_type": "code",
      "source": [
        "for i in newobj:\n",
        "  print(i)\n",
        "  #here iterator is over, so just iter will be called"
      ],
      "metadata": {
        "colab": {
          "base_uri": "https://localhost:8080/"
        },
        "id": "dTsaz3okYwF2",
        "outputId": "cbf1b6a7-090e-45f6-ec01-7ed8d2549a89"
      },
      "execution_count": 67,
      "outputs": [
        {
          "output_type": "stream",
          "name": "stdout",
          "text": [
            "iter method called\n"
          ]
        }
      ]
    },
    {
      "cell_type": "code",
      "source": [
        "#?2 : всё-таки кто вызывается: [] или next()?\n",
        "# снято: в next я использовал обращение к элементу массива"
      ],
      "metadata": {
        "id": "fXk147MEYwqE"
      },
      "execution_count": null,
      "outputs": []
    },
    {
      "cell_type": "code",
      "source": [
        "#getting,setting and deleting attributes\n",
        "#trying to realise without using recursions\n",
        "class Attrs:\n",
        "  atr1 = '1'\n",
        "  atr2 = '2'\n",
        "  atr3 = '3'\n",
        "\n",
        "  def __init__(self):\n",
        "    pass\n",
        "\n",
        "  def __getattr__(self, attr_name):\n",
        "   # if hasattr(self,attr_name):#here method __getattr__ seem to be called\n",
        "    if attr_name in dir(self):\n",
        "      return dir(self)[attr_name]\n",
        "    else:\n",
        "      raise AttributeError(f'no attribute {attr_name} in object of {type(self)}')\n",
        "\n",
        "  def __setattr__(self, attr_name, attr_value):\n",
        "    if not hasattr(self, attr_name):\n",
        "      dir(self).append(attr_name)\n",
        "      dir(self)[attr_name] = attr_value\n",
        "    else:\n",
        "      print(f'attribute {attr_name} already exists')\n",
        "      dir(self)[attr_name] = attr_value\n",
        "\n",
        "  def __delattr__(self, attr_name):\n",
        "    if hasattr(self,attr_name):\n",
        "      del self.attr_name\n",
        "    else:\n",
        "      raise AttributeError('attempt to delete attribute which does not exist')\n"
      ],
      "metadata": {
        "id": "NPKLZjrkYnw2"
      },
      "execution_count": 118,
      "outputs": []
    },
    {
      "cell_type": "code",
      "source": [
        "attrs = Attrs()\n",
        "#is it a dictionary? like\n",
        "# key : attr\n",
        "# value : self.attr"
      ],
      "metadata": {
        "id": "Ic8GyS_FgJTj"
      },
      "execution_count": 119,
      "outputs": []
    },
    {
      "cell_type": "code",
      "source": [
        "dir(attrs)"
      ],
      "metadata": {
        "colab": {
          "base_uri": "https://localhost:8080/"
        },
        "id": "l1Z6Kx_Kggqs",
        "outputId": "549703b4-dd2d-45c1-89cb-b206960aa783"
      },
      "execution_count": 120,
      "outputs": [
        {
          "output_type": "execute_result",
          "data": {
            "text/plain": [
              "['__class__',\n",
              " '__delattr__',\n",
              " '__dict__',\n",
              " '__dir__',\n",
              " '__doc__',\n",
              " '__eq__',\n",
              " '__format__',\n",
              " '__ge__',\n",
              " '__getattr__',\n",
              " '__getattribute__',\n",
              " '__gt__',\n",
              " '__hash__',\n",
              " '__init__',\n",
              " '__init_subclass__',\n",
              " '__le__',\n",
              " '__lt__',\n",
              " '__module__',\n",
              " '__ne__',\n",
              " '__new__',\n",
              " '__reduce__',\n",
              " '__reduce_ex__',\n",
              " '__repr__',\n",
              " '__setattr__',\n",
              " '__sizeof__',\n",
              " '__str__',\n",
              " '__subclasshook__',\n",
              " '__weakref__',\n",
              " 'atr1',\n",
              " 'atr2',\n",
              " 'atr3']"
            ]
          },
          "metadata": {},
          "execution_count": 120
        }
      ]
    },
    {
      "cell_type": "code",
      "source": [
        "attrs.atr1\n",
        "#?3: как сделать словарь из листа, если есть список имён\n",
        "#нужно для доступа в dir()"
      ],
      "metadata": {
        "colab": {
          "base_uri": "https://localhost:8080/",
          "height": 36
        },
        "id": "43NETMkCgiNm",
        "outputId": "fc63dcd4-9d19-4a96-a363-d6128ce83df8"
      },
      "execution_count": 121,
      "outputs": [
        {
          "output_type": "execute_result",
          "data": {
            "text/plain": [
              "'1'"
            ],
            "application/vnd.google.colaboratory.intrinsic+json": {
              "type": "string"
            }
          },
          "metadata": {},
          "execution_count": 121
        }
      ]
    },
    {
      "cell_type": "code",
      "source": [
        "attrs.atr4 = 49"
      ],
      "metadata": {
        "colab": {
          "base_uri": "https://localhost:8080/",
          "height": 297
        },
        "id": "kfJGEKCBiONv",
        "outputId": "600c9938-0b04-47cb-e126-ee108252c6c9"
      },
      "execution_count": 126,
      "outputs": [
        {
          "output_type": "error",
          "ename": "TypeError",
          "evalue": "ignored",
          "traceback": [
            "\u001b[0;31m---------------------------------------------------------------------------\u001b[0m",
            "\u001b[0;31mTypeError\u001b[0m                                 Traceback (most recent call last)",
            "\u001b[0;32m<ipython-input-126-5581ef5b7a49>\u001b[0m in \u001b[0;36m<cell line: 1>\u001b[0;34m()\u001b[0m\n\u001b[0;32m----> 1\u001b[0;31m \u001b[0mattrs\u001b[0m\u001b[0;34m.\u001b[0m\u001b[0matr4\u001b[0m \u001b[0;34m=\u001b[0m \u001b[0;36m49\u001b[0m\u001b[0;34m\u001b[0m\u001b[0;34m\u001b[0m\u001b[0m\n\u001b[0m",
            "\u001b[0;32m<ipython-input-118-be0045e1c9c5>\u001b[0m in \u001b[0;36m__setattr__\u001b[0;34m(self, attr_name, attr_value)\u001b[0m\n\u001b[1;32m     19\u001b[0m     \u001b[0;32mif\u001b[0m \u001b[0;32mnot\u001b[0m \u001b[0mhasattr\u001b[0m\u001b[0;34m(\u001b[0m\u001b[0mself\u001b[0m\u001b[0;34m,\u001b[0m \u001b[0mattr_name\u001b[0m\u001b[0;34m)\u001b[0m\u001b[0;34m:\u001b[0m\u001b[0;34m\u001b[0m\u001b[0;34m\u001b[0m\u001b[0m\n\u001b[1;32m     20\u001b[0m       \u001b[0mdir\u001b[0m\u001b[0;34m(\u001b[0m\u001b[0mself\u001b[0m\u001b[0;34m)\u001b[0m\u001b[0;34m.\u001b[0m\u001b[0mappend\u001b[0m\u001b[0;34m(\u001b[0m\u001b[0mattr_name\u001b[0m\u001b[0;34m)\u001b[0m\u001b[0;34m\u001b[0m\u001b[0;34m\u001b[0m\u001b[0m\n\u001b[0;32m---> 21\u001b[0;31m       \u001b[0mdir\u001b[0m\u001b[0;34m(\u001b[0m\u001b[0mself\u001b[0m\u001b[0;34m)\u001b[0m\u001b[0;34m[\u001b[0m\u001b[0mattr_name\u001b[0m\u001b[0;34m]\u001b[0m \u001b[0;34m=\u001b[0m \u001b[0mattr_value\u001b[0m\u001b[0;34m\u001b[0m\u001b[0;34m\u001b[0m\u001b[0m\n\u001b[0m\u001b[1;32m     22\u001b[0m     \u001b[0;32melse\u001b[0m\u001b[0;34m:\u001b[0m\u001b[0;34m\u001b[0m\u001b[0;34m\u001b[0m\u001b[0m\n\u001b[1;32m     23\u001b[0m       \u001b[0mprint\u001b[0m\u001b[0;34m(\u001b[0m\u001b[0;34mf'attribute {attr_name} already exists'\u001b[0m\u001b[0;34m)\u001b[0m\u001b[0;34m\u001b[0m\u001b[0;34m\u001b[0m\u001b[0m\n",
            "\u001b[0;31mTypeError\u001b[0m: list indices must be integers or slices, not str"
          ]
        }
      ]
    },
    {
      "cell_type": "code",
      "source": [
        "dir(attrs)"
      ],
      "metadata": {
        "colab": {
          "base_uri": "https://localhost:8080/"
        },
        "id": "iG3JPJ7ZkHWG",
        "outputId": "28b0fc34-54d9-4103-dbd8-dd2082508f77"
      },
      "execution_count": 124,
      "outputs": [
        {
          "output_type": "execute_result",
          "data": {
            "text/plain": [
              "['__class__',\n",
              " '__delattr__',\n",
              " '__dict__',\n",
              " '__dir__',\n",
              " '__doc__',\n",
              " '__eq__',\n",
              " '__format__',\n",
              " '__ge__',\n",
              " '__getattr__',\n",
              " '__getattribute__',\n",
              " '__gt__',\n",
              " '__hash__',\n",
              " '__init__',\n",
              " '__init_subclass__',\n",
              " '__le__',\n",
              " '__lt__',\n",
              " '__module__',\n",
              " '__ne__',\n",
              " '__new__',\n",
              " '__reduce__',\n",
              " '__reduce_ex__',\n",
              " '__repr__',\n",
              " '__setattr__',\n",
              " '__sizeof__',\n",
              " '__str__',\n",
              " '__subclasshook__',\n",
              " '__weakref__',\n",
              " 'atr1',\n",
              " 'atr2',\n",
              " 'atr3']"
            ]
          },
          "metadata": {},
          "execution_count": 124
        }
      ]
    },
    {
      "cell_type": "code",
      "source": [
        "#Task1 : understand where one should use getattr, where getattribute\n",
        "#Task2 : realize getattr, setattr, delattr, which will do nothing\n",
        "#Task3 : realize these things normally\n",
        "\n",
        "#getattr is called for only non-defined attribtes\n",
        "#getattribute is always called"
      ],
      "metadata": {
        "id": "WsSy-QcxmN7Z"
      },
      "execution_count": null,
      "outputs": []
    },
    {
      "cell_type": "code",
      "source": [
        "#CONTEXTS: WITH\n",
        "class ContextManager:\n",
        "  def __enter__(self):\n",
        "    print('with :: entering')\n",
        "\n",
        "  def __exit__(self, *args):\n",
        "    print('with :: ending')\n",
        "    print(args)\n",
        "    print('I will not process anything!!')\n",
        "    return True"
      ],
      "metadata": {
        "id": "kFgBtPPOoKkK"
      },
      "execution_count": 134,
      "outputs": []
    },
    {
      "cell_type": "code",
      "source": [
        "try:\n",
        "  with ContextManager() as manager:\n",
        "    for i in range(10):\n",
        "      print(i)\n",
        "    raise ValueError('valueerror')\n",
        "except:\n",
        "  print('exception')\n",
        "  pass\n",
        "print('out of with')"
      ],
      "metadata": {
        "colab": {
          "base_uri": "https://localhost:8080/"
        },
        "id": "5SOiy1t2oKnA",
        "outputId": "ee9a2280-f21f-4e47-d500-97855020fa12"
      },
      "execution_count": 135,
      "outputs": [
        {
          "output_type": "stream",
          "name": "stdout",
          "text": [
            "with :: entering\n",
            "0\n",
            "1\n",
            "2\n",
            "3\n",
            "4\n",
            "5\n",
            "6\n",
            "7\n",
            "8\n",
            "9\n",
            "with :: ending\n",
            "(<class 'ValueError'>, ValueError('valueerror'), <traceback object at 0x7a2089bc1d40>)\n",
            "I will not process anything!!\n",
            "out of with\n"
          ]
        }
      ]
    },
    {
      "cell_type": "code",
      "source": [
        "#in case no exception in Try block, ending catches (None,None,None) tuple. Checked!"
      ],
      "metadata": {
        "id": "Dg8lEoOUoKqp"
      },
      "execution_count": null,
      "outputs": []
    },
    {
      "cell_type": "code",
      "source": [
        "#contextmanagering:\n",
        "from contextlib import contextmanager"
      ],
      "metadata": {
        "id": "IrlqrK0GoKxe"
      },
      "execution_count": 136,
      "outputs": []
    },
    {
      "cell_type": "code",
      "source": [
        "@contextmanager\n",
        "def some_manager():\n",
        "  print('begin context:')\n",
        "  yield Vector(0,0)\n",
        "  print('leaving the context')"
      ],
      "metadata": {
        "id": "AMHbC6gyoKzw"
      },
      "execution_count": 137,
      "outputs": []
    },
    {
      "cell_type": "code",
      "source": [
        "class A(object):\n",
        "  pass"
      ],
      "metadata": {
        "id": "yOqDs-u0oK3R"
      },
      "execution_count": 138,
      "outputs": []
    },
    {
      "cell_type": "code",
      "source": [
        "#?4 : how are new, del, delattr , ... usually realized"
      ],
      "metadata": {
        "id": "4SJjznxVxHKg"
      },
      "execution_count": null,
      "outputs": []
    },
    {
      "cell_type": "code",
      "source": [
        "class AdvVector(Vector):\n",
        "  def __new__(cls, *args, **kwargs):\n",
        "    print('new method')\n",
        "    print(cls, args, kwargs)\n",
        "    print(object)\n",
        "    return object.__new__(cls)\n",
        "\n",
        "  def __del__(self):\n",
        "    print('deletion')\n",
        "    raise Exception('del error')"
      ],
      "metadata": {
        "id": "FTK8vfHCxMRH"
      },
      "execution_count": 144,
      "outputs": []
    },
    {
      "cell_type": "code",
      "source": [
        "vector8 = AdvVector(3,5)"
      ],
      "metadata": {
        "colab": {
          "base_uri": "https://localhost:8080/"
        },
        "id": "hGOFmzsxxzOw",
        "outputId": "42a22b33-78f6-4e57-c970-5ed22018836d"
      },
      "execution_count": 196,
      "outputs": [
        {
          "output_type": "stream",
          "name": "stdout",
          "text": [
            "new method\n",
            "<class '__main__.AdvVector'> (3, 5) {}\n",
            "<class 'object'>\n"
          ]
        }
      ]
    },
    {
      "cell_type": "code",
      "source": [
        "vector9 = vector8\n",
        "del vector9\n",
        "\n",
        "\n",
        "#hmmmmmm interesting\n",
        "#problem: if I create vector8, then I delete it straightforwardly, ok. I can circle that\n",
        "#         if I create vector8, then say vector9 = vect0r8 and del vector9,\n",
        "#         then, as I understand, del will be called for vector9"
      ],
      "metadata": {
        "colab": {
          "base_uri": "https://localhost:8080/"
        },
        "id": "BEkxQVywyKIT",
        "outputId": "9bfb0714-03c3-4231-f0d5-49aa14ab5d63"
      },
      "execution_count": 197,
      "outputs": [
        {
          "output_type": "stream",
          "name": "stderr",
          "text": [
            "Exception ignored in: <function AdvVector.__del__ at 0x7a208b822200>\n",
            "Traceback (most recent call last):\n",
            "  File \"<ipython-input-144-5bc7290080a1>\", line 10, in __del__\n",
            "Exception: del error\n"
          ]
        }
      ]
    },
    {
      "cell_type": "code",
      "source": [
        "vector8\n",
        "#I got stuck a bit"
      ],
      "metadata": {
        "colab": {
          "base_uri": "https://localhost:8080/"
        },
        "id": "GutRIWL8yNQg",
        "outputId": "82073895-6043-4b72-8c66-68a2919ee249"
      },
      "execution_count": 198,
      "outputs": [
        {
          "output_type": "execute_result",
          "data": {
            "text/plain": [
              "vector (3,5)"
            ]
          },
          "metadata": {},
          "execution_count": 198
        }
      ]
    },
    {
      "cell_type": "code",
      "source": [
        "#vector8 alive\n",
        "vector10 = AdvVector(4,6)"
      ],
      "metadata": {
        "colab": {
          "base_uri": "https://localhost:8080/"
        },
        "id": "muDDWWTZyQVJ",
        "outputId": "75bff0c5-a497-49fa-c8fa-ad2dc7215bd0"
      },
      "execution_count": 206,
      "outputs": [
        {
          "output_type": "stream",
          "name": "stdout",
          "text": [
            "new method\n",
            "<class '__main__.AdvVector'> (4, 6) {}\n",
            "<class 'object'>\n"
          ]
        }
      ]
    },
    {
      "cell_type": "code",
      "source": [
        "del vector10\n",
        "#сейчас del вообще ничего не сказал!!!!\n",
        "#то есть, в остальных случаях он действовал с ошибкой?"
      ],
      "metadata": {
        "colab": {
          "base_uri": "https://localhost:8080/"
        },
        "id": "FGw3IcFT1IsM",
        "outputId": "5cf922ab-c273-45f4-a305-e8a18469343d"
      },
      "execution_count": 207,
      "outputs": [
        {
          "output_type": "stream",
          "name": "stderr",
          "text": [
            "Exception ignored in: <function AdvVector.__del__ at 0x7a208b822200>\n",
            "Traceback (most recent call last):\n",
            "  File \"<ipython-input-144-5bc7290080a1>\", line 10, in __del__\n",
            "Exception: del error\n"
          ]
        },
        {
          "output_type": "stream",
          "name": "stdout",
          "text": [
            "deletion\n"
          ]
        }
      ]
    },
    {
      "cell_type": "code",
      "source": [
        "v11 = AdvVector(58,100)"
      ],
      "metadata": {
        "colab": {
          "base_uri": "https://localhost:8080/"
        },
        "id": "Wz0Qd7GW1M80",
        "outputId": "ba1551b4-9f60-4f61-d901-283c1f180118"
      },
      "execution_count": 208,
      "outputs": [
        {
          "output_type": "stream",
          "name": "stdout",
          "text": [
            "new method\n",
            "<class '__main__.AdvVector'> (58, 100) {}\n",
            "<class 'object'>\n"
          ]
        }
      ]
    },
    {
      "cell_type": "code",
      "source": [
        "v12 = v11\n",
        "del v12\n",
        "del v11\n",
        "#called one time"
      ],
      "metadata": {
        "colab": {
          "base_uri": "https://localhost:8080/"
        },
        "id": "RBmHj0e-12sG",
        "outputId": "93915d16-dc21-416b-a476-eb5d1e182769"
      },
      "execution_count": 209,
      "outputs": [
        {
          "output_type": "stream",
          "name": "stderr",
          "text": [
            "Exception ignored in: <function AdvVector.__del__ at 0x7a208b822200>\n",
            "Traceback (most recent call last):\n",
            "  File \"<ipython-input-144-5bc7290080a1>\", line 10, in __del__\n",
            "Exception: del error\n"
          ]
        },
        {
          "output_type": "stream",
          "name": "stdout",
          "text": [
            "deletion\n"
          ]
        }
      ]
    },
    {
      "cell_type": "code",
      "source": [
        "#singletone : True, False, Ellipsis, None, ints"
      ],
      "metadata": {
        "id": "8mIvb2qU17jv"
      },
      "execution_count": null,
      "outputs": []
    },
    {
      "cell_type": "code",
      "source": [
        "#function annotations\n",
        "#Луц -Изучаем  Python\n",
        "#"
      ],
      "metadata": {
        "id": "8HQ0Lb1e146K"
      },
      "execution_count": null,
      "outputs": []
    }
  ]
}