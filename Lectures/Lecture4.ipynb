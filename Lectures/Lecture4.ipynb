{
  "nbformat": 4,
  "nbformat_minor": 0,
  "metadata": {
    "colab": {
      "provenance": []
    },
    "kernelspec": {
      "name": "python3",
      "display_name": "Python 3"
    },
    "language_info": {
      "name": "python"
    }
  },
  "cells": [
    {
      "cell_type": "code",
      "execution_count": 1,
      "metadata": {
        "colab": {
          "base_uri": "https://localhost:8080/"
        },
        "id": "UxgQXExDBzc8",
        "outputId": "973c0987-80a7-4a47-d6d9-cd00610c46fe"
      },
      "outputs": [
        {
          "output_type": "stream",
          "name": "stdout",
          "text": [
            "dict_keys(['key1', 'key2'])\n",
            "<class 'dict'>\n",
            "dict_keys([1, 2, 4])\n"
          ]
        }
      ],
      "source": [
        "#Lecture4 : dictionaries and sets\n",
        "dict0 = dict({'key1':1, 'key2':2})\n",
        "set0 = {(1,3),(2,5),(4,91)} #this is a set\n",
        "dict1 = dict(((1,3),(2,5),(4,91)))\n",
        "type(dict0)\n",
        "type(dict0.keys())\n",
        "print(dict0.keys())\n",
        "print(type(dict1))\n",
        "print(dict1.keys())"
      ]
    },
    {
      "cell_type": "code",
      "source": [
        "#how to define that a method exists without rising an error\n",
        "list1 = list()\n",
        "print(list1.__hash__)\n",
        "print(list1.append)"
      ],
      "metadata": {
        "colab": {
          "base_uri": "https://localhost:8080/"
        },
        "id": "nuk_5osCEnVE",
        "outputId": "673b3d4f-6909-41d5-f866-9fd117155add"
      },
      "execution_count": 2,
      "outputs": [
        {
          "output_type": "stream",
          "name": "stdout",
          "text": [
            "None\n",
            "<built-in method append of list object at 0x7909e2d76080>\n"
          ]
        }
      ]
    },
    {
      "cell_type": "code",
      "source": [
        "for i in dict1.keys():\n",
        "  print(i)"
      ],
      "metadata": {
        "colab": {
          "base_uri": "https://localhost:8080/"
        },
        "id": "9Jt6nAAVE45x",
        "outputId": "27383cd9-b4a4-480e-9d7c-1668b956fd5f"
      },
      "execution_count": 3,
      "outputs": [
        {
          "output_type": "stream",
          "name": "stdout",
          "text": [
            "1\n",
            "2\n",
            "4\n"
          ]
        }
      ]
    },
    {
      "cell_type": "code",
      "source": [
        "for i in dict1.values():\n",
        "  print(i)"
      ],
      "metadata": {
        "colab": {
          "base_uri": "https://localhost:8080/"
        },
        "id": "PFcF2FykE49K",
        "outputId": "d4cef045-f1fb-45db-cd10-ea113a6dd63c"
      },
      "execution_count": 4,
      "outputs": [
        {
          "output_type": "stream",
          "name": "stdout",
          "text": [
            "3\n",
            "5\n",
            "91\n"
          ]
        }
      ]
    },
    {
      "cell_type": "code",
      "source": [
        "for i in dict1.items():\n",
        "  print(i, '|||', 'key: ', i[0],'value: ', i[1])"
      ],
      "metadata": {
        "colab": {
          "base_uri": "https://localhost:8080/"
        },
        "id": "ndE0KczbE5om",
        "outputId": "f23aa3e5-dcff-4573-d363-3d370d3c0c45"
      },
      "execution_count": 5,
      "outputs": [
        {
          "output_type": "stream",
          "name": "stdout",
          "text": [
            "(1, 3) ||| key:  1 value:  3\n",
            "(2, 5) ||| key:  2 value:  5\n",
            "(4, 91) ||| key:  4 value:  91\n"
          ]
        }
      ]
    },
    {
      "cell_type": "code",
      "source": [
        "print ([i for i in dict1.items()])"
      ],
      "metadata": {
        "colab": {
          "base_uri": "https://localhost:8080/"
        },
        "id": "NyA6A8imE5tI",
        "outputId": "be43b03a-35e5-4e3e-8f48-8d4f3e33d21f"
      },
      "execution_count": 6,
      "outputs": [
        {
          "output_type": "stream",
          "name": "stdout",
          "text": [
            "[(1, 3), (2, 5), (4, 91)]\n"
          ]
        }
      ]
    },
    {
      "cell_type": "code",
      "source": [
        "for i in range(10):\n",
        "  pass\n",
        "i"
      ],
      "metadata": {
        "colab": {
          "base_uri": "https://localhost:8080/"
        },
        "id": "zSN0XOJdE6Ot",
        "outputId": "32837a21-ffdb-4483-9024-50a37d0175a2"
      },
      "execution_count": 7,
      "outputs": [
        {
          "output_type": "execute_result",
          "data": {
            "text/plain": [
              "9"
            ]
          },
          "metadata": {},
          "execution_count": 7
        }
      ]
    },
    {
      "cell_type": "code",
      "source": [
        "#counter stays alive, it is identified from the for cycle\n",
        "i"
      ],
      "metadata": {
        "colab": {
          "base_uri": "https://localhost:8080/"
        },
        "id": "IXeHCbwaE6Sl",
        "outputId": "7739bba2-8e6d-47c3-be95-f29421ede549"
      },
      "execution_count": 8,
      "outputs": [
        {
          "output_type": "execute_result",
          "data": {
            "text/plain": [
              "9"
            ]
          },
          "metadata": {},
          "execution_count": 8
        }
      ]
    },
    {
      "cell_type": "code",
      "source": [
        "keys = ['Petya','Masha',\"Tanya\",\"Nguen Zhi'la Kurk\"]"
      ],
      "metadata": {
        "id": "P2ekkq3LE6Uq"
      },
      "execution_count": 9,
      "outputs": []
    },
    {
      "cell_type": "code",
      "source": [
        "values = [24, 15, 23, 2334343]"
      ],
      "metadata": {
        "id": "hnD0UABpE6l9"
      },
      "execution_count": 10,
      "outputs": []
    },
    {
      "cell_type": "code",
      "source": [
        "base = dict(zip(keys,values))\n",
        "for i in base.items():\n",
        "  print(f'{i[0]} is {i[1]} years old')"
      ],
      "metadata": {
        "colab": {
          "base_uri": "https://localhost:8080/"
        },
        "id": "9ijxF6hDE6oP",
        "outputId": "8f4b1b11-4c54-47d3-bd22-cdbe506e92b7"
      },
      "execution_count": 11,
      "outputs": [
        {
          "output_type": "stream",
          "name": "stdout",
          "text": [
            "Petya is 24 years old\n",
            "Masha is 15 years old\n",
            "Tanya is 23 years old\n",
            "Nguen Zhi'la Kurk is 2334343 years old\n"
          ]
        }
      ]
    },
    {
      "cell_type": "code",
      "source": [
        "#?1 what if operate with base variables when trying to apply the function"
      ],
      "metadata": {
        "id": "kslG8QjYE6qU"
      },
      "execution_count": 12,
      "outputs": []
    },
    {
      "cell_type": "code",
      "source": [
        "def func(s):\n",
        "  print(s)\n",
        "s = 'sdaf'\n",
        "func(s = 'sdfasdf'*3)\n",
        "\n",
        "#LOL\n"
      ],
      "metadata": {
        "colab": {
          "base_uri": "https://localhost:8080/"
        },
        "id": "awjC5KWTE6r4",
        "outputId": "92d21d3f-bfb6-489e-b670-4dec9d378e80"
      },
      "execution_count": 13,
      "outputs": [
        {
          "output_type": "stream",
          "name": "stdout",
          "text": [
            "sdfasdfsdfasdfsdfasdf\n"
          ]
        }
      ]
    },
    {
      "cell_type": "code",
      "source": [
        "zip_file = zip(keys,values,keys,values,keys)\n",
        "next(zip_file)"
      ],
      "metadata": {
        "colab": {
          "base_uri": "https://localhost:8080/"
        },
        "id": "bccqjpi2E6vh",
        "outputId": "2faca48b-6fe4-4690-bc01-dd08f9a28518"
      },
      "execution_count": 14,
      "outputs": [
        {
          "output_type": "execute_result",
          "data": {
            "text/plain": [
              "('Petya', 24, 'Petya', 24, 'Petya')"
            ]
          },
          "metadata": {},
          "execution_count": 14
        }
      ]
    },
    {
      "cell_type": "code",
      "source": [
        "next(zip_file)"
      ],
      "metadata": {
        "colab": {
          "base_uri": "https://localhost:8080/"
        },
        "id": "HQ8oOeBVQrc-",
        "outputId": "152af11d-08aa-4046-e680-b632c36edcb0"
      },
      "execution_count": 15,
      "outputs": [
        {
          "output_type": "execute_result",
          "data": {
            "text/plain": [
              "('Masha', 15, 'Masha', 15, 'Masha')"
            ]
          },
          "metadata": {},
          "execution_count": 15
        }
      ]
    },
    {
      "cell_type": "code",
      "source": [
        "help(map)"
      ],
      "metadata": {
        "colab": {
          "base_uri": "https://localhost:8080/"
        },
        "id": "Fckfbe9qROsg",
        "outputId": "f6c656d0-46d8-4945-898d-ff3e2a2bd598"
      },
      "execution_count": 16,
      "outputs": [
        {
          "output_type": "stream",
          "name": "stdout",
          "text": [
            "Help on class map in module builtins:\n",
            "\n",
            "class map(object)\n",
            " |  map(func, *iterables) --> map object\n",
            " |  \n",
            " |  Make an iterator that computes the function using arguments from\n",
            " |  each of the iterables.  Stops when the shortest iterable is exhausted.\n",
            " |  \n",
            " |  Methods defined here:\n",
            " |  \n",
            " |  __getattribute__(self, name, /)\n",
            " |      Return getattr(self, name).\n",
            " |  \n",
            " |  __iter__(self, /)\n",
            " |      Implement iter(self).\n",
            " |  \n",
            " |  __next__(self, /)\n",
            " |      Implement next(self).\n",
            " |  \n",
            " |  __reduce__(...)\n",
            " |      Return state information for pickling.\n",
            " |  \n",
            " |  ----------------------------------------------------------------------\n",
            " |  Static methods defined here:\n",
            " |  \n",
            " |  __new__(*args, **kwargs) from builtins.type\n",
            " |      Create and return a new object.  See help(type) for accurate signature.\n",
            "\n"
          ]
        }
      ]
    },
    {
      "cell_type": "code",
      "source": [
        "#map - class\n",
        "# map() creates a generator to apply a function to a list of data\n",
        "list(map(str.upper,keys))"
      ],
      "metadata": {
        "colab": {
          "base_uri": "https://localhost:8080/"
        },
        "id": "bH5iwFQvRPp4",
        "outputId": "4e1459e4-e283-41a0-83a9-64859ebe48f7"
      },
      "execution_count": 17,
      "outputs": [
        {
          "output_type": "execute_result",
          "data": {
            "text/plain": [
              "['PETYA', 'MASHA', 'TANYA', \"NGUEN ZHI'LA KURK\"]"
            ]
          },
          "metadata": {},
          "execution_count": 17
        }
      ]
    },
    {
      "cell_type": "code",
      "source": [
        "list(map(int, ['2', '3','4']))"
      ],
      "metadata": {
        "colab": {
          "base_uri": "https://localhost:8080/"
        },
        "id": "ceWgXAYRR01b",
        "outputId": "d8aca6f7-c49c-4235-acdd-ca73963f3696"
      },
      "execution_count": 18,
      "outputs": [
        {
          "output_type": "execute_result",
          "data": {
            "text/plain": [
              "[2, 3, 4]"
            ]
          },
          "metadata": {},
          "execution_count": 18
        }
      ]
    },
    {
      "cell_type": "code",
      "source": [
        "2 + 3 == 5;\n",
        "2 + 3 ==4\n",
        "\n",
        "2 + 3 == 66;"
      ],
      "metadata": {
        "id": "Ta4VweXITe_m"
      },
      "execution_count": 19,
      "outputs": []
    },
    {
      "cell_type": "code",
      "source": [
        "dict1\n",
        "dict1[4]"
      ],
      "metadata": {
        "colab": {
          "base_uri": "https://localhost:8080/"
        },
        "id": "3WSvL3UPTn59",
        "outputId": "9a5a7e7e-5c35-4cd8-c75e-674f2e0cbf99"
      },
      "execution_count": 20,
      "outputs": [
        {
          "output_type": "execute_result",
          "data": {
            "text/plain": [
              "91"
            ]
          },
          "metadata": {},
          "execution_count": 20
        }
      ]
    },
    {
      "cell_type": "code",
      "source": [
        "dict1\n",
        "del dict1[1]"
      ],
      "metadata": {
        "id": "W6rsZMeFTwZT"
      },
      "execution_count": 21,
      "outputs": []
    },
    {
      "cell_type": "code",
      "source": [
        "dict1\n",
        "[print(i) for i in dict1.values()] #the value seems to be deleted too"
      ],
      "metadata": {
        "colab": {
          "base_uri": "https://localhost:8080/"
        },
        "id": "WlYJ-1fhUPZc",
        "outputId": "ce9e7840-bb67-4e2f-e8f0-975cb286e19e"
      },
      "execution_count": 22,
      "outputs": [
        {
          "output_type": "stream",
          "name": "stdout",
          "text": [
            "5\n",
            "91\n"
          ]
        },
        {
          "output_type": "execute_result",
          "data": {
            "text/plain": [
              "[None, None]"
            ]
          },
          "metadata": {},
          "execution_count": 22
        }
      ]
    },
    {
      "cell_type": "code",
      "source": [
        "dict2 = dict()\n",
        "dict2.update(dict1)\n",
        "dict2.update(dict1)\n",
        "dict2\n",
        "#the same items key-value are not added"
      ],
      "metadata": {
        "colab": {
          "base_uri": "https://localhost:8080/"
        },
        "id": "wbMaLDTAUdbG",
        "outputId": "a061f3a6-f891-4d64-81b0-9fb712fd6d03"
      },
      "execution_count": 23,
      "outputs": [
        {
          "output_type": "execute_result",
          "data": {
            "text/plain": [
              "{2: 5, 4: 91}"
            ]
          },
          "metadata": {},
          "execution_count": 23
        }
      ]
    },
    {
      "cell_type": "code",
      "source": [
        "..."
      ],
      "metadata": {
        "colab": {
          "base_uri": "https://localhost:8080/"
        },
        "id": "M39gcnCDWDsK",
        "outputId": "237c2562-2dc5-4190-a68e-4ce1cff84d71"
      },
      "execution_count": 24,
      "outputs": [
        {
          "output_type": "execute_result",
          "data": {
            "text/plain": [
              "Ellipsis"
            ]
          },
          "metadata": {},
          "execution_count": 24
        }
      ]
    },
    {
      "cell_type": "code",
      "source": [
        "#a = dict(zip(list1,keys,values))\n",
        "# .fromkeys(keys): creates a dictionary from\n",
        "# the given list of keys\n",
        "a = dict({'key1':'val1', 'key2':'val2'})\n",
        "print(a)\n",
        "b = a.fromkeys(keys)\n",
        "print(b)"
      ],
      "metadata": {
        "colab": {
          "base_uri": "https://localhost:8080/"
        },
        "id": "OlolNqMvWEyI",
        "outputId": "553c622b-86a3-49a9-ce8b-2cd6e0a2c734"
      },
      "execution_count": 25,
      "outputs": [
        {
          "output_type": "stream",
          "name": "stdout",
          "text": [
            "{'key1': 'val1', 'key2': 'val2'}\n",
            "{'Petya': None, 'Masha': None, 'Tanya': None, \"Nguen Zhi'la Kurk\": None}\n"
          ]
        }
      ]
    },
    {
      "cell_type": "code",
      "source": [
        "for i in range(10):\n",
        "  ..."
      ],
      "metadata": {
        "id": "6Sn8LNvZ4Azq"
      },
      "execution_count": 26,
      "outputs": []
    },
    {
      "cell_type": "code",
      "source": [
        "#cycled dictionary, but why\n",
        "a[\"Nguen Zhi'la Kurk\"] = a\n",
        "print(a)"
      ],
      "metadata": {
        "colab": {
          "base_uri": "https://localhost:8080/"
        },
        "id": "3mgfjlGk4JTB",
        "outputId": "23c71198-e40b-40ee-9b6f-b0ba9e5ca378"
      },
      "execution_count": 27,
      "outputs": [
        {
          "output_type": "stream",
          "name": "stdout",
          "text": [
            "{'key1': 'val1', 'key2': 'val2', \"Nguen Zhi'la Kurk\": {...}}\n"
          ]
        }
      ]
    },
    {
      "cell_type": "code",
      "source": [
        "for r in a.keys():\n",
        "  print(r)"
      ],
      "metadata": {
        "colab": {
          "base_uri": "https://localhost:8080/"
        },
        "id": "co63w0DQ4fen",
        "outputId": "49978fec-9440-45f4-d879-6bf454ca269b"
      },
      "execution_count": 28,
      "outputs": [
        {
          "output_type": "stream",
          "name": "stdout",
          "text": [
            "key1\n",
            "key2\n",
            "Nguen Zhi'la Kurk\n"
          ]
        }
      ]
    },
    {
      "cell_type": "code",
      "source": [
        "b.update(a)\n",
        "print(b)"
      ],
      "metadata": {
        "colab": {
          "base_uri": "https://localhost:8080/"
        },
        "id": "Yp_sDQ_94uDb",
        "outputId": "912dd2ee-4270-4c7c-906f-2e01f1142516"
      },
      "execution_count": 29,
      "outputs": [
        {
          "output_type": "stream",
          "name": "stdout",
          "text": [
            "{'Petya': None, 'Masha': None, 'Tanya': None, \"Nguen Zhi'la Kurk\": {'key1': 'val1', 'key2': 'val2', \"Nguen Zhi'la Kurk\": {...}}, 'key1': 'val1', 'key2': 'val2'}\n"
          ]
        }
      ]
    },
    {
      "cell_type": "code",
      "source": [
        "#create dictionary with values 0> keys and keys 0>values\n",
        "keys1 = [i**2 for i in range(100)]\n",
        "values1 = [f\"the {i}th element\" for i in range(100)]\n",
        "dict2 = dict(zip(keys1,values1))\n",
        "print(dict2,sep='\\n')\n",
        "#print(type(dict2.keys()))\n",
        "'''for i in dict2.keys():\n",
        "      print(dict2[i])\n",
        "      temp = dict2[i]\n",
        "      dict2[i] = i\n",
        "      i = temp\n",
        "'''\n",
        "#надо было создать новый словарь и тупо скопировать...\n",
        "\n",
        "\n",
        "dict3 = dict([(values_,keys_) for keys_,values_ in dict2.items()])\n",
        "dict3"
      ],
      "metadata": {
        "colab": {
          "base_uri": "https://localhost:8080/"
        },
        "id": "xsG8ZxkF46PX",
        "outputId": "cb45425e-bc23-40fa-f842-90b19b298b53"
      },
      "execution_count": 30,
      "outputs": [
        {
          "output_type": "stream",
          "name": "stdout",
          "text": [
            "{0: 'the 0th element', 1: 'the 1th element', 4: 'the 2th element', 9: 'the 3th element', 16: 'the 4th element', 25: 'the 5th element', 36: 'the 6th element', 49: 'the 7th element', 64: 'the 8th element', 81: 'the 9th element', 100: 'the 10th element', 121: 'the 11th element', 144: 'the 12th element', 169: 'the 13th element', 196: 'the 14th element', 225: 'the 15th element', 256: 'the 16th element', 289: 'the 17th element', 324: 'the 18th element', 361: 'the 19th element', 400: 'the 20th element', 441: 'the 21th element', 484: 'the 22th element', 529: 'the 23th element', 576: 'the 24th element', 625: 'the 25th element', 676: 'the 26th element', 729: 'the 27th element', 784: 'the 28th element', 841: 'the 29th element', 900: 'the 30th element', 961: 'the 31th element', 1024: 'the 32th element', 1089: 'the 33th element', 1156: 'the 34th element', 1225: 'the 35th element', 1296: 'the 36th element', 1369: 'the 37th element', 1444: 'the 38th element', 1521: 'the 39th element', 1600: 'the 40th element', 1681: 'the 41th element', 1764: 'the 42th element', 1849: 'the 43th element', 1936: 'the 44th element', 2025: 'the 45th element', 2116: 'the 46th element', 2209: 'the 47th element', 2304: 'the 48th element', 2401: 'the 49th element', 2500: 'the 50th element', 2601: 'the 51th element', 2704: 'the 52th element', 2809: 'the 53th element', 2916: 'the 54th element', 3025: 'the 55th element', 3136: 'the 56th element', 3249: 'the 57th element', 3364: 'the 58th element', 3481: 'the 59th element', 3600: 'the 60th element', 3721: 'the 61th element', 3844: 'the 62th element', 3969: 'the 63th element', 4096: 'the 64th element', 4225: 'the 65th element', 4356: 'the 66th element', 4489: 'the 67th element', 4624: 'the 68th element', 4761: 'the 69th element', 4900: 'the 70th element', 5041: 'the 71th element', 5184: 'the 72th element', 5329: 'the 73th element', 5476: 'the 74th element', 5625: 'the 75th element', 5776: 'the 76th element', 5929: 'the 77th element', 6084: 'the 78th element', 6241: 'the 79th element', 6400: 'the 80th element', 6561: 'the 81th element', 6724: 'the 82th element', 6889: 'the 83th element', 7056: 'the 84th element', 7225: 'the 85th element', 7396: 'the 86th element', 7569: 'the 87th element', 7744: 'the 88th element', 7921: 'the 89th element', 8100: 'the 90th element', 8281: 'the 91th element', 8464: 'the 92th element', 8649: 'the 93th element', 8836: 'the 94th element', 9025: 'the 95th element', 9216: 'the 96th element', 9409: 'the 97th element', 9604: 'the 98th element', 9801: 'the 99th element'}\n"
          ]
        },
        {
          "output_type": "execute_result",
          "data": {
            "text/plain": [
              "{'the 0th element': 0,\n",
              " 'the 1th element': 1,\n",
              " 'the 2th element': 4,\n",
              " 'the 3th element': 9,\n",
              " 'the 4th element': 16,\n",
              " 'the 5th element': 25,\n",
              " 'the 6th element': 36,\n",
              " 'the 7th element': 49,\n",
              " 'the 8th element': 64,\n",
              " 'the 9th element': 81,\n",
              " 'the 10th element': 100,\n",
              " 'the 11th element': 121,\n",
              " 'the 12th element': 144,\n",
              " 'the 13th element': 169,\n",
              " 'the 14th element': 196,\n",
              " 'the 15th element': 225,\n",
              " 'the 16th element': 256,\n",
              " 'the 17th element': 289,\n",
              " 'the 18th element': 324,\n",
              " 'the 19th element': 361,\n",
              " 'the 20th element': 400,\n",
              " 'the 21th element': 441,\n",
              " 'the 22th element': 484,\n",
              " 'the 23th element': 529,\n",
              " 'the 24th element': 576,\n",
              " 'the 25th element': 625,\n",
              " 'the 26th element': 676,\n",
              " 'the 27th element': 729,\n",
              " 'the 28th element': 784,\n",
              " 'the 29th element': 841,\n",
              " 'the 30th element': 900,\n",
              " 'the 31th element': 961,\n",
              " 'the 32th element': 1024,\n",
              " 'the 33th element': 1089,\n",
              " 'the 34th element': 1156,\n",
              " 'the 35th element': 1225,\n",
              " 'the 36th element': 1296,\n",
              " 'the 37th element': 1369,\n",
              " 'the 38th element': 1444,\n",
              " 'the 39th element': 1521,\n",
              " 'the 40th element': 1600,\n",
              " 'the 41th element': 1681,\n",
              " 'the 42th element': 1764,\n",
              " 'the 43th element': 1849,\n",
              " 'the 44th element': 1936,\n",
              " 'the 45th element': 2025,\n",
              " 'the 46th element': 2116,\n",
              " 'the 47th element': 2209,\n",
              " 'the 48th element': 2304,\n",
              " 'the 49th element': 2401,\n",
              " 'the 50th element': 2500,\n",
              " 'the 51th element': 2601,\n",
              " 'the 52th element': 2704,\n",
              " 'the 53th element': 2809,\n",
              " 'the 54th element': 2916,\n",
              " 'the 55th element': 3025,\n",
              " 'the 56th element': 3136,\n",
              " 'the 57th element': 3249,\n",
              " 'the 58th element': 3364,\n",
              " 'the 59th element': 3481,\n",
              " 'the 60th element': 3600,\n",
              " 'the 61th element': 3721,\n",
              " 'the 62th element': 3844,\n",
              " 'the 63th element': 3969,\n",
              " 'the 64th element': 4096,\n",
              " 'the 65th element': 4225,\n",
              " 'the 66th element': 4356,\n",
              " 'the 67th element': 4489,\n",
              " 'the 68th element': 4624,\n",
              " 'the 69th element': 4761,\n",
              " 'the 70th element': 4900,\n",
              " 'the 71th element': 5041,\n",
              " 'the 72th element': 5184,\n",
              " 'the 73th element': 5329,\n",
              " 'the 74th element': 5476,\n",
              " 'the 75th element': 5625,\n",
              " 'the 76th element': 5776,\n",
              " 'the 77th element': 5929,\n",
              " 'the 78th element': 6084,\n",
              " 'the 79th element': 6241,\n",
              " 'the 80th element': 6400,\n",
              " 'the 81th element': 6561,\n",
              " 'the 82th element': 6724,\n",
              " 'the 83th element': 6889,\n",
              " 'the 84th element': 7056,\n",
              " 'the 85th element': 7225,\n",
              " 'the 86th element': 7396,\n",
              " 'the 87th element': 7569,\n",
              " 'the 88th element': 7744,\n",
              " 'the 89th element': 7921,\n",
              " 'the 90th element': 8100,\n",
              " 'the 91th element': 8281,\n",
              " 'the 92th element': 8464,\n",
              " 'the 93th element': 8649,\n",
              " 'the 94th element': 8836,\n",
              " 'the 95th element': 9025,\n",
              " 'the 96th element': 9216,\n",
              " 'the 97th element': 9409,\n",
              " 'the 98th element': 9604,\n",
              " 'the 99th element': 9801}"
            ]
          },
          "metadata": {},
          "execution_count": 30
        }
      ]
    },
    {
      "cell_type": "code",
      "source": [
        "keys2 = [i**2 for i in range(100)]\n",
        "values2 = [f\"the {i}th element\" for i in range(100)]\n",
        "\n",
        "for i in range(len(keys2)):\n",
        "  print('before swap:',keys2[i],values2[i],sep='   ')\n",
        "  temp = keys2[i]\n",
        "  keys2[i] = temp\n",
        "  print('after swap: ', keys2[i],values2[i],sep='   ')\n",
        "\n",
        "\n",
        "  dict3 = {}\n",
        "\n",
        "  dict3.update({})"
      ],
      "metadata": {
        "colab": {
          "base_uri": "https://localhost:8080/"
        },
        "id": "CeOSSp5k4WTY",
        "outputId": "3b98d15f-0010-4b8e-d2d1-5e67c74cb96e"
      },
      "execution_count": 31,
      "outputs": [
        {
          "output_type": "stream",
          "name": "stdout",
          "text": [
            "before swap:   0   the 0th element\n",
            "after swap:    0   the 0th element\n",
            "before swap:   1   the 1th element\n",
            "after swap:    1   the 1th element\n",
            "before swap:   4   the 2th element\n",
            "after swap:    4   the 2th element\n",
            "before swap:   9   the 3th element\n",
            "after swap:    9   the 3th element\n",
            "before swap:   16   the 4th element\n",
            "after swap:    16   the 4th element\n",
            "before swap:   25   the 5th element\n",
            "after swap:    25   the 5th element\n",
            "before swap:   36   the 6th element\n",
            "after swap:    36   the 6th element\n",
            "before swap:   49   the 7th element\n",
            "after swap:    49   the 7th element\n",
            "before swap:   64   the 8th element\n",
            "after swap:    64   the 8th element\n",
            "before swap:   81   the 9th element\n",
            "after swap:    81   the 9th element\n",
            "before swap:   100   the 10th element\n",
            "after swap:    100   the 10th element\n",
            "before swap:   121   the 11th element\n",
            "after swap:    121   the 11th element\n",
            "before swap:   144   the 12th element\n",
            "after swap:    144   the 12th element\n",
            "before swap:   169   the 13th element\n",
            "after swap:    169   the 13th element\n",
            "before swap:   196   the 14th element\n",
            "after swap:    196   the 14th element\n",
            "before swap:   225   the 15th element\n",
            "after swap:    225   the 15th element\n",
            "before swap:   256   the 16th element\n",
            "after swap:    256   the 16th element\n",
            "before swap:   289   the 17th element\n",
            "after swap:    289   the 17th element\n",
            "before swap:   324   the 18th element\n",
            "after swap:    324   the 18th element\n",
            "before swap:   361   the 19th element\n",
            "after swap:    361   the 19th element\n",
            "before swap:   400   the 20th element\n",
            "after swap:    400   the 20th element\n",
            "before swap:   441   the 21th element\n",
            "after swap:    441   the 21th element\n",
            "before swap:   484   the 22th element\n",
            "after swap:    484   the 22th element\n",
            "before swap:   529   the 23th element\n",
            "after swap:    529   the 23th element\n",
            "before swap:   576   the 24th element\n",
            "after swap:    576   the 24th element\n",
            "before swap:   625   the 25th element\n",
            "after swap:    625   the 25th element\n",
            "before swap:   676   the 26th element\n",
            "after swap:    676   the 26th element\n",
            "before swap:   729   the 27th element\n",
            "after swap:    729   the 27th element\n",
            "before swap:   784   the 28th element\n",
            "after swap:    784   the 28th element\n",
            "before swap:   841   the 29th element\n",
            "after swap:    841   the 29th element\n",
            "before swap:   900   the 30th element\n",
            "after swap:    900   the 30th element\n",
            "before swap:   961   the 31th element\n",
            "after swap:    961   the 31th element\n",
            "before swap:   1024   the 32th element\n",
            "after swap:    1024   the 32th element\n",
            "before swap:   1089   the 33th element\n",
            "after swap:    1089   the 33th element\n",
            "before swap:   1156   the 34th element\n",
            "after swap:    1156   the 34th element\n",
            "before swap:   1225   the 35th element\n",
            "after swap:    1225   the 35th element\n",
            "before swap:   1296   the 36th element\n",
            "after swap:    1296   the 36th element\n",
            "before swap:   1369   the 37th element\n",
            "after swap:    1369   the 37th element\n",
            "before swap:   1444   the 38th element\n",
            "after swap:    1444   the 38th element\n",
            "before swap:   1521   the 39th element\n",
            "after swap:    1521   the 39th element\n",
            "before swap:   1600   the 40th element\n",
            "after swap:    1600   the 40th element\n",
            "before swap:   1681   the 41th element\n",
            "after swap:    1681   the 41th element\n",
            "before swap:   1764   the 42th element\n",
            "after swap:    1764   the 42th element\n",
            "before swap:   1849   the 43th element\n",
            "after swap:    1849   the 43th element\n",
            "before swap:   1936   the 44th element\n",
            "after swap:    1936   the 44th element\n",
            "before swap:   2025   the 45th element\n",
            "after swap:    2025   the 45th element\n",
            "before swap:   2116   the 46th element\n",
            "after swap:    2116   the 46th element\n",
            "before swap:   2209   the 47th element\n",
            "after swap:    2209   the 47th element\n",
            "before swap:   2304   the 48th element\n",
            "after swap:    2304   the 48th element\n",
            "before swap:   2401   the 49th element\n",
            "after swap:    2401   the 49th element\n",
            "before swap:   2500   the 50th element\n",
            "after swap:    2500   the 50th element\n",
            "before swap:   2601   the 51th element\n",
            "after swap:    2601   the 51th element\n",
            "before swap:   2704   the 52th element\n",
            "after swap:    2704   the 52th element\n",
            "before swap:   2809   the 53th element\n",
            "after swap:    2809   the 53th element\n",
            "before swap:   2916   the 54th element\n",
            "after swap:    2916   the 54th element\n",
            "before swap:   3025   the 55th element\n",
            "after swap:    3025   the 55th element\n",
            "before swap:   3136   the 56th element\n",
            "after swap:    3136   the 56th element\n",
            "before swap:   3249   the 57th element\n",
            "after swap:    3249   the 57th element\n",
            "before swap:   3364   the 58th element\n",
            "after swap:    3364   the 58th element\n",
            "before swap:   3481   the 59th element\n",
            "after swap:    3481   the 59th element\n",
            "before swap:   3600   the 60th element\n",
            "after swap:    3600   the 60th element\n",
            "before swap:   3721   the 61th element\n",
            "after swap:    3721   the 61th element\n",
            "before swap:   3844   the 62th element\n",
            "after swap:    3844   the 62th element\n",
            "before swap:   3969   the 63th element\n",
            "after swap:    3969   the 63th element\n",
            "before swap:   4096   the 64th element\n",
            "after swap:    4096   the 64th element\n",
            "before swap:   4225   the 65th element\n",
            "after swap:    4225   the 65th element\n",
            "before swap:   4356   the 66th element\n",
            "after swap:    4356   the 66th element\n",
            "before swap:   4489   the 67th element\n",
            "after swap:    4489   the 67th element\n",
            "before swap:   4624   the 68th element\n",
            "after swap:    4624   the 68th element\n",
            "before swap:   4761   the 69th element\n",
            "after swap:    4761   the 69th element\n",
            "before swap:   4900   the 70th element\n",
            "after swap:    4900   the 70th element\n",
            "before swap:   5041   the 71th element\n",
            "after swap:    5041   the 71th element\n",
            "before swap:   5184   the 72th element\n",
            "after swap:    5184   the 72th element\n",
            "before swap:   5329   the 73th element\n",
            "after swap:    5329   the 73th element\n",
            "before swap:   5476   the 74th element\n",
            "after swap:    5476   the 74th element\n",
            "before swap:   5625   the 75th element\n",
            "after swap:    5625   the 75th element\n",
            "before swap:   5776   the 76th element\n",
            "after swap:    5776   the 76th element\n",
            "before swap:   5929   the 77th element\n",
            "after swap:    5929   the 77th element\n",
            "before swap:   6084   the 78th element\n",
            "after swap:    6084   the 78th element\n",
            "before swap:   6241   the 79th element\n",
            "after swap:    6241   the 79th element\n",
            "before swap:   6400   the 80th element\n",
            "after swap:    6400   the 80th element\n",
            "before swap:   6561   the 81th element\n",
            "after swap:    6561   the 81th element\n",
            "before swap:   6724   the 82th element\n",
            "after swap:    6724   the 82th element\n",
            "before swap:   6889   the 83th element\n",
            "after swap:    6889   the 83th element\n",
            "before swap:   7056   the 84th element\n",
            "after swap:    7056   the 84th element\n",
            "before swap:   7225   the 85th element\n",
            "after swap:    7225   the 85th element\n",
            "before swap:   7396   the 86th element\n",
            "after swap:    7396   the 86th element\n",
            "before swap:   7569   the 87th element\n",
            "after swap:    7569   the 87th element\n",
            "before swap:   7744   the 88th element\n",
            "after swap:    7744   the 88th element\n",
            "before swap:   7921   the 89th element\n",
            "after swap:    7921   the 89th element\n",
            "before swap:   8100   the 90th element\n",
            "after swap:    8100   the 90th element\n",
            "before swap:   8281   the 91th element\n",
            "after swap:    8281   the 91th element\n",
            "before swap:   8464   the 92th element\n",
            "after swap:    8464   the 92th element\n",
            "before swap:   8649   the 93th element\n",
            "after swap:    8649   the 93th element\n",
            "before swap:   8836   the 94th element\n",
            "after swap:    8836   the 94th element\n",
            "before swap:   9025   the 95th element\n",
            "after swap:    9025   the 95th element\n",
            "before swap:   9216   the 96th element\n",
            "after swap:    9216   the 96th element\n",
            "before swap:   9409   the 97th element\n",
            "after swap:    9409   the 97th element\n",
            "before swap:   9604   the 98th element\n",
            "after swap:    9604   the 98th element\n",
            "before swap:   9801   the 99th element\n",
            "after swap:    9801   the 99th element\n"
          ]
        }
      ]
    },
    {
      "cell_type": "code",
      "source": [
        "#? is key in a dict mutable? what is mutable here?\n",
        "#? how to apply some in-place methods\n",
        "#? how to distinguish in-place methods from non-in-place methods\n",
        "\n",
        "\n",
        "#print(keys,values)\n",
        "s = (keys,values)\n",
        "t = (key,value) for key,value in keys,values\n",
        "\n",
        "#kak eta huinya rabotaet...... pizdts\n",
        "print(s[0],s[1])\n",
        "t = dict((i[0],i[1]) for i in s)\n",
        "#??? what does this generator do? how to unpack this shit?\n",
        "print(t)\n",
        "\n",
        "\n",
        "#damn hard to guess how I should write this code. Not enough logics in it...\n",
        "#still not enough understanding\n",
        "#need da problems to solve\n",
        "\n"
      ],
      "metadata": {
        "colab": {
          "base_uri": "https://localhost:8080/",
          "height": 140
        },
        "id": "IkdhUBHu6m4R",
        "outputId": "ce746296-8607-4c25-9a5e-0429014401cc"
      },
      "execution_count": 32,
      "outputs": [
        {
          "output_type": "error",
          "ename": "SyntaxError",
          "evalue": "ignored",
          "traceback": [
            "\u001b[0;36m  File \u001b[0;32m\"<ipython-input-32-52367206c076>\"\u001b[0;36m, line \u001b[0;32m8\u001b[0m\n\u001b[0;31m    t = (key,value) for key,value in keys,values\u001b[0m\n\u001b[0m                    ^\u001b[0m\n\u001b[0;31mSyntaxError\u001b[0m\u001b[0;31m:\u001b[0m invalid syntax\n"
          ]
        }
      ]
    },
    {
      "cell_type": "code",
      "source": [
        "#Task : create dictionary from 2 lists\n",
        "\n",
        "list1 = keys\n",
        "list2 = values\n",
        "\n",
        "#? how to make a tuple out of list\n",
        "# answer : tuple1 =  tuple(list1)\n",
        "\n",
        "dict4 = dict(zip(keys,values))\n",
        "print(f'dict4: {dict4}')\n",
        "\n",
        "#FUCKING ZIP FUNCTION OF COURSE\n",
        "\n",
        "\n",
        "dict5 = dict((value,key) for key,value in dict4.items())\n",
        "print(f\"dict4 reversed: {dict5}\")\n",
        "\n",
        "#completed"
      ],
      "metadata": {
        "colab": {
          "base_uri": "https://localhost:8080/"
        },
        "id": "Frfm2f36MAWq",
        "outputId": "2346559b-c952-4b74-a3b5-0266df9689e5"
      },
      "execution_count": 33,
      "outputs": [
        {
          "output_type": "stream",
          "name": "stdout",
          "text": [
            "dict4: {'Petya': 24, 'Masha': 15, 'Tanya': 23, \"Nguen Zhi'la Kurk\": 2334343}\n",
            "dict4 reversed: {24: 'Petya', 15: 'Masha', 23: 'Tanya', 2334343: \"Nguen Zhi'la Kurk\"}\n"
          ]
        }
      ]
    },
    {
      "cell_type": "code",
      "source": [
        "#Task : sort the dictionary, let the values be ints\n",
        "\n",
        "  #subtask : sort the list\n",
        "\n",
        "'''\n",
        "  list3 = [int(input()) for i in range(5)]\n",
        "\n",
        "  print(f\"before sort: {list3}\")\n",
        "\n",
        "  list3.sort()\n",
        "\n",
        "  print(f\"after sort: {list3}\")\n",
        "'''\n",
        "  #subtask completed\n",
        "\n",
        "list3 = list(zip(keys,values))\n",
        "\n",
        "print(list3)\n",
        "\n",
        "list3.sort(key = lambda x : x[1]) #|here I wrote the lambda-function\n",
        "                                  #|defined in the argument\n",
        "                                  #\n",
        "                                  #\n",
        "\n",
        "print(f'after sort : {list3}')\n",
        "#dict4.sort(key=lambda x : x[0])\n"
      ],
      "metadata": {
        "colab": {
          "base_uri": "https://localhost:8080/"
        },
        "id": "iUP3cHpTRQ7z",
        "outputId": "ca4611ff-acb9-4697-954e-00f628a8f5ab"
      },
      "execution_count": 34,
      "outputs": [
        {
          "output_type": "stream",
          "name": "stdout",
          "text": [
            "[('Petya', 24), ('Masha', 15), ('Tanya', 23), (\"Nguen Zhi'la Kurk\", 2334343)]\n",
            "after sort : [('Masha', 15), ('Tanya', 23), ('Petya', 24), (\"Nguen Zhi'la Kurk\", 2334343)]\n"
          ]
        }
      ]
    },
    {
      "cell_type": "code",
      "source": [
        "help(list.sort)"
      ],
      "metadata": {
        "colab": {
          "base_uri": "https://localhost:8080/"
        },
        "id": "wOSQBteeSpF2",
        "outputId": "41d7f64b-9e41-4d2e-9b98-4eab4a5adea9"
      },
      "execution_count": 35,
      "outputs": [
        {
          "output_type": "stream",
          "name": "stdout",
          "text": [
            "Help on method_descriptor:\n",
            "\n",
            "sort(self, /, *, key=None, reverse=False)\n",
            "    Sort the list in ascending order and return None.\n",
            "    \n",
            "    The sort is in-place (i.e. the list itself is modified) and stable (i.e. the\n",
            "    order of two equal elements is maintained).\n",
            "    \n",
            "    If a key function is given, apply it once to each list item and sort them,\n",
            "    ascending or descending, according to their function values.\n",
            "    \n",
            "    The reverse flag can be set to sort in descending order.\n",
            "\n"
          ]
        }
      ]
    },
    {
      "cell_type": "code",
      "source": [
        "help('lambda')"
      ],
      "metadata": {
        "colab": {
          "base_uri": "https://localhost:8080/"
        },
        "id": "AkBD_lChTEIP",
        "outputId": "ac76142d-b638-4e62-f7e7-3431a963e439"
      },
      "execution_count": 36,
      "outputs": [
        {
          "output_type": "stream",
          "name": "stdout",
          "text": [
            "Lambdas\n",
            "*******\n",
            "\n",
            "   lambda_expr ::= \"lambda\" [parameter_list] \":\" expression\n",
            "\n",
            "Lambda expressions (sometimes called lambda forms) are used to create\n",
            "anonymous functions. The expression \"lambda parameters: expression\"\n",
            "yields a function object.  The unnamed object behaves like a function\n",
            "object defined with:\n",
            "\n",
            "   def <lambda>(parameters):\n",
            "       return expression\n",
            "\n",
            "See section Function definitions for the syntax of parameter lists.\n",
            "Note that functions created with lambda expressions cannot contain\n",
            "statements or annotations.\n",
            "\n",
            "Related help topics: FUNCTIONS\n",
            "\n"
          ]
        }
      ]
    },
    {
      "cell_type": "code",
      "source": [
        "dict6 = {pow(i,3) : i for i in range(10) }\n",
        "print(dict6)\n",
        "\n",
        "dict7 = {v:k for k,v in dict6.items()}\n",
        "print(dict7)"
      ],
      "metadata": {
        "colab": {
          "base_uri": "https://localhost:8080/"
        },
        "id": "FUKrKJbShpHK",
        "outputId": "f2d9fa44-ac3c-4885-9376-497b8caf06a9"
      },
      "execution_count": 45,
      "outputs": [
        {
          "output_type": "stream",
          "name": "stdout",
          "text": [
            "{0: 0, 1: 1, 8: 2, 27: 3, 64: 4, 125: 5, 216: 6, 343: 7, 512: 8, 729: 9}\n",
            "{0: 0, 1: 1, 2: 8, 3: 27, 4: 64, 5: 125, 6: 216, 7: 343, 8: 512, 9: 729}\n"
          ]
        }
      ]
    },
    {
      "cell_type": "code",
      "source": [
        "help(set)"
      ],
      "metadata": {
        "colab": {
          "base_uri": "https://localhost:8080/"
        },
        "id": "Q_4b80qwjECf",
        "outputId": "f7b45b2f-fcd1-4e3c-86ee-b3b93ffc5bbd"
      },
      "execution_count": 46,
      "outputs": [
        {
          "output_type": "stream",
          "name": "stdout",
          "text": [
            "Help on class set in module builtins:\n",
            "\n",
            "class set(object)\n",
            " |  set() -> new empty set object\n",
            " |  set(iterable) -> new set object\n",
            " |  \n",
            " |  Build an unordered collection of unique elements.\n",
            " |  \n",
            " |  Methods defined here:\n",
            " |  \n",
            " |  __and__(self, value, /)\n",
            " |      Return self&value.\n",
            " |  \n",
            " |  __contains__(...)\n",
            " |      x.__contains__(y) <==> y in x.\n",
            " |  \n",
            " |  __eq__(self, value, /)\n",
            " |      Return self==value.\n",
            " |  \n",
            " |  __ge__(self, value, /)\n",
            " |      Return self>=value.\n",
            " |  \n",
            " |  __getattribute__(self, name, /)\n",
            " |      Return getattr(self, name).\n",
            " |  \n",
            " |  __gt__(self, value, /)\n",
            " |      Return self>value.\n",
            " |  \n",
            " |  __iand__(self, value, /)\n",
            " |      Return self&=value.\n",
            " |  \n",
            " |  __init__(self, /, *args, **kwargs)\n",
            " |      Initialize self.  See help(type(self)) for accurate signature.\n",
            " |  \n",
            " |  __ior__(self, value, /)\n",
            " |      Return self|=value.\n",
            " |  \n",
            " |  __isub__(self, value, /)\n",
            " |      Return self-=value.\n",
            " |  \n",
            " |  __iter__(self, /)\n",
            " |      Implement iter(self).\n",
            " |  \n",
            " |  __ixor__(self, value, /)\n",
            " |      Return self^=value.\n",
            " |  \n",
            " |  __le__(self, value, /)\n",
            " |      Return self<=value.\n",
            " |  \n",
            " |  __len__(self, /)\n",
            " |      Return len(self).\n",
            " |  \n",
            " |  __lt__(self, value, /)\n",
            " |      Return self<value.\n",
            " |  \n",
            " |  __ne__(self, value, /)\n",
            " |      Return self!=value.\n",
            " |  \n",
            " |  __or__(self, value, /)\n",
            " |      Return self|value.\n",
            " |  \n",
            " |  __rand__(self, value, /)\n",
            " |      Return value&self.\n",
            " |  \n",
            " |  __reduce__(...)\n",
            " |      Return state information for pickling.\n",
            " |  \n",
            " |  __repr__(self, /)\n",
            " |      Return repr(self).\n",
            " |  \n",
            " |  __ror__(self, value, /)\n",
            " |      Return value|self.\n",
            " |  \n",
            " |  __rsub__(self, value, /)\n",
            " |      Return value-self.\n",
            " |  \n",
            " |  __rxor__(self, value, /)\n",
            " |      Return value^self.\n",
            " |  \n",
            " |  __sizeof__(...)\n",
            " |      S.__sizeof__() -> size of S in memory, in bytes\n",
            " |  \n",
            " |  __sub__(self, value, /)\n",
            " |      Return self-value.\n",
            " |  \n",
            " |  __xor__(self, value, /)\n",
            " |      Return self^value.\n",
            " |  \n",
            " |  add(...)\n",
            " |      Add an element to a set.\n",
            " |      \n",
            " |      This has no effect if the element is already present.\n",
            " |  \n",
            " |  clear(...)\n",
            " |      Remove all elements from this set.\n",
            " |  \n",
            " |  copy(...)\n",
            " |      Return a shallow copy of a set.\n",
            " |  \n",
            " |  difference(...)\n",
            " |      Return the difference of two or more sets as a new set.\n",
            " |      \n",
            " |      (i.e. all elements that are in this set but not the others.)\n",
            " |  \n",
            " |  difference_update(...)\n",
            " |      Remove all elements of another set from this set.\n",
            " |  \n",
            " |  discard(...)\n",
            " |      Remove an element from a set if it is a member.\n",
            " |      \n",
            " |      If the element is not a member, do nothing.\n",
            " |  \n",
            " |  intersection(...)\n",
            " |      Return the intersection of two sets as a new set.\n",
            " |      \n",
            " |      (i.e. all elements that are in both sets.)\n",
            " |  \n",
            " |  intersection_update(...)\n",
            " |      Update a set with the intersection of itself and another.\n",
            " |  \n",
            " |  isdisjoint(...)\n",
            " |      Return True if two sets have a null intersection.\n",
            " |  \n",
            " |  issubset(...)\n",
            " |      Report whether another set contains this set.\n",
            " |  \n",
            " |  issuperset(...)\n",
            " |      Report whether this set contains another set.\n",
            " |  \n",
            " |  pop(...)\n",
            " |      Remove and return an arbitrary set element.\n",
            " |      Raises KeyError if the set is empty.\n",
            " |  \n",
            " |  remove(...)\n",
            " |      Remove an element from a set; it must be a member.\n",
            " |      \n",
            " |      If the element is not a member, raise a KeyError.\n",
            " |  \n",
            " |  symmetric_difference(...)\n",
            " |      Return the symmetric difference of two sets as a new set.\n",
            " |      \n",
            " |      (i.e. all elements that are in exactly one of the sets.)\n",
            " |  \n",
            " |  symmetric_difference_update(...)\n",
            " |      Update a set with the symmetric difference of itself and another.\n",
            " |  \n",
            " |  union(...)\n",
            " |      Return the union of sets as a new set.\n",
            " |      \n",
            " |      (i.e. all elements that are in either set.)\n",
            " |  \n",
            " |  update(...)\n",
            " |      Update a set with the union of itself and others.\n",
            " |  \n",
            " |  ----------------------------------------------------------------------\n",
            " |  Class methods defined here:\n",
            " |  \n",
            " |  __class_getitem__(...) from builtins.type\n",
            " |      See PEP 585\n",
            " |  \n",
            " |  ----------------------------------------------------------------------\n",
            " |  Static methods defined here:\n",
            " |  \n",
            " |  __new__(*args, **kwargs) from builtins.type\n",
            " |      Create and return a new object.  See help(type) for accurate signature.\n",
            " |  \n",
            " |  ----------------------------------------------------------------------\n",
            " |  Data and other attributes defined here:\n",
            " |  \n",
            " |  __hash__ = None\n",
            "\n"
          ]
        }
      ]
    },
    {
      "cell_type": "code",
      "source": [
        "set1 = {1,12,3,53,4,234,3}"
      ],
      "metadata": {
        "id": "Jl9UsO0anBIC"
      },
      "execution_count": 47,
      "outputs": []
    },
    {
      "cell_type": "code",
      "source": [
        "print(set1)\n",
        "if 4 in set1:\n",
        "  print('asdfafsdf')"
      ],
      "metadata": {
        "colab": {
          "base_uri": "https://localhost:8080/"
        },
        "id": "SAlQhFXznBLk",
        "outputId": "82725ff6-0b50-4846-eb4f-7af5575b2549"
      },
      "execution_count": 51,
      "outputs": [
        {
          "output_type": "stream",
          "name": "stdout",
          "text": [
            "{1, 3, 4, 53, 234, 12}\n",
            "asdfafsdf\n"
          ]
        }
      ]
    },
    {
      "cell_type": "code",
      "source": [
        "set2 = set([223,23,3,34])\n",
        "set2.update(set1)\n",
        "print(set2)\n",
        "print(set2.intersection(set1))\n",
        "set2.intersection_update({2,3,3333333,3,3,3,3423412341234})\n",
        "print(set2)\n",
        "set2-set()\n",
        "set()-set2"
      ],
      "metadata": {
        "colab": {
          "base_uri": "https://localhost:8080/"
        },
        "id": "nwXo5hYwnO2Z",
        "outputId": "dc330592-d8ef-46a6-bf9e-aef054a15e5b"
      },
      "execution_count": 62,
      "outputs": [
        {
          "output_type": "stream",
          "name": "stdout",
          "text": [
            "{1, 34, 3, 4, 234, 12, 53, 23, 223}\n",
            "{1, 3, 4, 234, 12, 53}\n",
            "{3}\n"
          ]
        },
        {
          "output_type": "execute_result",
          "data": {
            "text/plain": [
              "set()"
            ]
          },
          "metadata": {},
          "execution_count": 62
        }
      ]
    },
    {
      "cell_type": "code",
      "source": [
        "set3 = {i**2 for i in range(1000)}\n",
        "set4 = {i**3 for i in range(50)}\n",
        "set5 = set3.intersection(set4) #all 6degree\n",
        "for i in range(50):\n",
        "  if i**6 in set5:\n",
        "    print(f'it is true that 6th degree of {i} is in set5')\n",
        "print(f'length of set5 is {len(set5)}')"
      ],
      "metadata": {
        "colab": {
          "base_uri": "https://localhost:8080/"
        },
        "id": "hXZEO9TrnO4Y",
        "outputId": "5615800d-7fad-46cf-f266-e379eb4842ca"
      },
      "execution_count": 64,
      "outputs": [
        {
          "output_type": "stream",
          "name": "stdout",
          "text": [
            "it is true that 6th degree of 0 is in set5\n",
            "it is true that 6th degree of 1 is in set5\n",
            "it is true that 6th degree of 2 is in set5\n",
            "it is true that 6th degree of 3 is in set5\n",
            "it is true that 6th degree of 4 is in set5\n",
            "it is true that 6th degree of 5 is in set5\n",
            "it is true that 6th degree of 6 is in set5\n",
            "it is true that 6th degree of 7 is in set5\n",
            "length of set5 is 8\n"
          ]
        }
      ]
    },
    {
      "cell_type": "code",
      "source": [
        "set5.difference_update(set3)\n",
        "print(len(set5))"
      ],
      "metadata": {
        "colab": {
          "base_uri": "https://localhost:8080/"
        },
        "id": "uMMV-OEiqtyS",
        "outputId": "7db25f3b-c968-4cb3-9240-166a067d6a6d"
      },
      "execution_count": 67,
      "outputs": [
        {
          "output_type": "stream",
          "name": "stdout",
          "text": [
            "0\n"
          ]
        }
      ]
    },
    {
      "cell_type": "code",
      "source": [
        "set5.discard(224)\n",
        "set5.remove(224)"
      ],
      "metadata": {
        "colab": {
          "base_uri": "https://localhost:8080/",
          "height": 192
        },
        "id": "8QDIRLEHnO6L",
        "outputId": "5f387c18-5ce1-4784-de44-93345e5c2aba"
      },
      "execution_count": 69,
      "outputs": [
        {
          "output_type": "error",
          "ename": "KeyError",
          "evalue": "ignored",
          "traceback": [
            "\u001b[0;31m---------------------------------------------------------------------------\u001b[0m",
            "\u001b[0;31mKeyError\u001b[0m                                  Traceback (most recent call last)",
            "\u001b[0;32m<ipython-input-69-47c18c35a180>\u001b[0m in \u001b[0;36m<cell line: 2>\u001b[0;34m()\u001b[0m\n\u001b[1;32m      1\u001b[0m \u001b[0mset5\u001b[0m\u001b[0;34m.\u001b[0m\u001b[0mdiscard\u001b[0m\u001b[0;34m(\u001b[0m\u001b[0;36m224\u001b[0m\u001b[0;34m)\u001b[0m\u001b[0;34m\u001b[0m\u001b[0;34m\u001b[0m\u001b[0m\n\u001b[0;32m----> 2\u001b[0;31m \u001b[0mset5\u001b[0m\u001b[0;34m.\u001b[0m\u001b[0mremove\u001b[0m\u001b[0;34m(\u001b[0m\u001b[0;36m224\u001b[0m\u001b[0;34m)\u001b[0m\u001b[0;34m\u001b[0m\u001b[0;34m\u001b[0m\u001b[0m\n\u001b[0m",
            "\u001b[0;31mKeyError\u001b[0m: 224"
          ]
        }
      ]
    },
    {
      "cell_type": "code",
      "source": [
        "set6 = {2*i for i in set4}\n",
        "print(set4,set6,sep='\\n')\n",
        "\n",
        "#sets are unordered\n",
        "\n",
        "set6.update(set([1,-1,-2,-3])) #add elements -3,-2,-1,1 to set6\n",
        "print(set6)"
      ],
      "metadata": {
        "colab": {
          "base_uri": "https://localhost:8080/"
        },
        "id": "8ZIlrlJpnO7Q",
        "outputId": "3d3b8f0d-d762-4531-f511-96f508155cb4"
      },
      "execution_count": 73,
      "outputs": [
        {
          "output_type": "stream",
          "name": "stdout",
          "text": [
            "{0, 1, 512, 4096, 13824, 32768, 64000, 12167, 8, 15625, 39304, 103823, 117649, 79507, 2197, 10648, 27, 17576, 9261, 3375, 4913, 1331, 59319, 2744, 68921, 97336, 64, 1728, 8000, 21952, 46656, 24389, 85184, 5832, 6859, 343, 216, 729, 54872, 50653, 29791, 35937, 19683, 1000, 74088, 110592, 91125, 27000, 42875, 125}\n",
            "{0, 1024, 2, 8192, 27648, 65536, 128000, 128, 3456, 16000, 48778, 24334, 16, 78608, 31250, 11664, 13718, 207646, 235298, 159014, 4394, 686, 21296, 432, 1458, 109744, 54, 101306, 59582, 71874, 39366, 170368, 35152, 2000, 148176, 18522, 43904, 6750, 221184, 9826, 93312, 2662, 182250, 118638, 5488, 194672, 137842, 54000, 85750, 250}\n",
            "{0, 1024, 2, 8192, 27648, 65536, 128000, 128, 3456, 16000, 48778, 1, 24334, 16, 78608, 31250, 11664, 13718, 207646, 235298, 159014, 4394, 686, 21296, 432, 1458, 109744, 54, 101306, 59582, 71874, 39366, 170368, 35152, 2000, 148176, 18522, 43904, 6750, 221184, 9826, 93312, 2662, 182250, 118638, 5488, 194672, 137842, 54000, 85750, -2, 250, -3, -1}\n"
          ]
        }
      ]
    },
    {
      "cell_type": "code",
      "source": [],
      "metadata": {
        "id": "pZm4M5SmnO92"
      },
      "execution_count": null,
      "outputs": []
    },
    {
      "cell_type": "code",
      "source": [],
      "metadata": {
        "id": "1IiAqVl7nPA9"
      },
      "execution_count": null,
      "outputs": []
    }
  ]
}