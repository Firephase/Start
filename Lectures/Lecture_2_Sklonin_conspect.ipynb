{
  "nbformat": 4,
  "nbformat_minor": 0,
  "metadata": {
    "colab": {
      "provenance": []
    },
    "kernelspec": {
      "name": "python3",
      "display_name": "Python 3"
    },
    "language_info": {
      "name": "python"
    }
  },
  "cells": [
    {
      "cell_type": "code",
      "execution_count": null,
      "metadata": {
        "colab": {
          "base_uri": "https://localhost:8080/"
        },
        "id": "ZzHl5PrhlxKH",
        "outputId": "d1cb0737-d578-40a1-8675-d10c0bba8eca"
      },
      "outputs": [
        {
          "output_type": "stream",
          "name": "stdout",
          "text": [
            "False\n"
          ]
        }
      ],
      "source": [
        "print(True and False)"
      ]
    },
    {
      "cell_type": "code",
      "source": [
        "print(bool(-23))"
      ],
      "metadata": {
        "colab": {
          "base_uri": "https://localhost:8080/"
        },
        "id": "8EEfDDdBmqyK",
        "outputId": "503cf268-55c7-4ddb-fac3-f0a24a25ba99"
      },
      "execution_count": null,
      "outputs": [
        {
          "output_type": "stream",
          "name": "stdout",
          "text": [
            "True\n"
          ]
        }
      ]
    },
    {
      "cell_type": "code",
      "source": [
        "print(type(2))"
      ],
      "metadata": {
        "colab": {
          "base_uri": "https://localhost:8080/"
        },
        "id": "WajFh_KQmtZi",
        "outputId": "cbfa146c-4577-484a-8e55-bf63c750c1df"
      },
      "execution_count": null,
      "outputs": [
        {
          "output_type": "stream",
          "name": "stdout",
          "text": [
            "<class 'int'>\n"
          ]
        }
      ]
    },
    {
      "cell_type": "code",
      "source": [
        "print('name is Nguen Zhi\\'la Kurk')"
      ],
      "metadata": {
        "colab": {
          "base_uri": "https://localhost:8080/"
        },
        "id": "Pzn5SU5annrx",
        "outputId": "c24c7985-4517-4c84-b890-59ee6f9d6036"
      },
      "execution_count": null,
      "outputs": [
        {
          "output_type": "stream",
          "name": "stdout",
          "text": [
            "name is Nguen Zhi'la Kurk\n"
          ]
        }
      ]
    },
    {
      "cell_type": "code",
      "source": [
        "print(type(str(42)))"
      ],
      "metadata": {
        "colab": {
          "base_uri": "https://localhost:8080/"
        },
        "id": "DECsZd1aoiKu",
        "outputId": "226dd4a1-241b-4be1-c185-654edee0103e"
      },
      "execution_count": null,
      "outputs": [
        {
          "output_type": "stream",
          "name": "stdout",
          "text": [
            "<class 'str'>\n"
          ]
        }
      ]
    },
    {
      "cell_type": "code",
      "source": [
        "print(type(print))"
      ],
      "metadata": {
        "colab": {
          "base_uri": "https://localhost:8080/"
        },
        "id": "HC3c-rxRm8c8",
        "outputId": "74976be9-c2a7-421f-cd80-fff97b6f5b3f"
      },
      "execution_count": null,
      "outputs": [
        {
          "output_type": "stream",
          "name": "stdout",
          "text": [
            "<class 'builtin_function_or_method'>\n"
          ]
        }
      ]
    },
    {
      "cell_type": "code",
      "source": [
        "__builtin__"
      ],
      "metadata": {
        "colab": {
          "base_uri": "https://localhost:8080/"
        },
        "id": "vr1Kvc2Dm_Kc",
        "outputId": "02ca6454-5a05-4b26-d9d6-6cf1b2ecadb0"
      },
      "execution_count": null,
      "outputs": [
        {
          "output_type": "execute_result",
          "data": {
            "text/plain": [
              "<module 'builtins' (built-in)>"
            ]
          },
          "metadata": {},
          "execution_count": 9
        }
      ]
    },
    {
      "cell_type": "code",
      "source": [
        "print(print(22))"
      ],
      "metadata": {
        "colab": {
          "base_uri": "https://localhost:8080/"
        },
        "id": "Db122w3InHqe",
        "outputId": "f06d8985-94b5-472e-d000-b0aa1c74bad5"
      },
      "execution_count": null,
      "outputs": [
        {
          "output_type": "stream",
          "name": "stdout",
          "text": [
            "22\n",
            "None\n"
          ]
        }
      ]
    },
    {
      "cell_type": "code",
      "source": [
        "x = 1_000_00\n",
        "print(x)"
      ],
      "metadata": {
        "colab": {
          "base_uri": "https://localhost:8080/"
        },
        "id": "gT2zga2yonPf",
        "outputId": "ac92bf16-85ca-43ac-ed41-773e04134e03"
      },
      "execution_count": null,
      "outputs": [
        {
          "output_type": "stream",
          "name": "stdout",
          "text": [
            "100000\n"
          ]
        }
      ]
    },
    {
      "cell_type": "code",
      "source": [
        "%%time\n",
        "giant = 1_000_000_000\n",
        "#%%time measures the time of excecution of the whole block\n",
        "print(giant)\n",
        "for i in range(giant):\n",
        "  pass"
      ],
      "metadata": {
        "colab": {
          "base_uri": "https://localhost:8080/"
        },
        "id": "-1tQozs1pBvb",
        "outputId": "ce5117fc-7809-4424-8775-d1382283d8e4"
      },
      "execution_count": null,
      "outputs": [
        {
          "output_type": "stream",
          "name": "stdout",
          "text": [
            "1000000000\n",
            "CPU times: user 51.5 s, sys: 89.5 ms, total: 51.6 s\n",
            "Wall time: 52 s\n"
          ]
        }
      ]
    },
    {
      "cell_type": "code",
      "source": [
        "%time #measures the time of next string execution\n",
        "giant = 1_000_000_00\n",
        "print(giant)\n",
        "%time\n",
        "for i in range(giant):\n",
        "  pass"
      ],
      "metadata": {
        "colab": {
          "base_uri": "https://localhost:8080/"
        },
        "id": "xvn7oxyDp8EZ",
        "outputId": "d1748e4d-c901-4c14-bafc-373904a127eb"
      },
      "execution_count": null,
      "outputs": [
        {
          "output_type": "stream",
          "name": "stdout",
          "text": [
            "CPU times: user 3 µs, sys: 0 ns, total: 3 µs\n",
            "Wall time: 6.44 µs\n",
            "100000000\n",
            "CPU times: user 4 µs, sys: 0 ns, total: 4 µs\n",
            "Wall time: 16 µs\n"
          ]
        }
      ]
    },
    {
      "cell_type": "code",
      "source": [
        "%%time\n",
        "x = 12500 ** 1000\n",
        "print(type(x))\n",
        "x"
      ],
      "metadata": {
        "colab": {
          "base_uri": "https://localhost:8080/"
        },
        "id": "AWzKkowtqMvZ",
        "outputId": "c097f200-7b0c-478a-b9c6-4e0f92def595"
      },
      "execution_count": null,
      "outputs": [
        {
          "output_type": "stream",
          "name": "stdout",
          "text": [
            "<class 'int'>\n",
            "CPU times: user 954 µs, sys: 0 ns, total: 954 µs\n",
            "Wall time: 963 µs\n"
          ]
        },
        {
          "output_type": "execute_result",
          "data": {
            "text/plain": [
              "81285486255577354404718780574685113215326490869496783290608443767545018093849249324191837285211759428226629575486764498225518537734052535171008240560054242754127347362927932405061282722541465297178846718305156599977301968424985619595573130084713606239325453141123273930923342998838493208098713917918900560230690759433195160173870111171464010261573670209053031912408196615732791149890616674741878711365457502082788516523160641247891558369304399964902601058363201940856135241412049873069872524328122396204551061757061334455067776549805763553814592478020871413747479637254442814483531406401014824426548356552969880762434021781250114261128050921432107875534872678104208484758374693786968377738031191740336555773885335133106342882493657183813237341879444358645772578993617569110020238058874084271592466899283636188384859210801321820682503342576982077179573510148169116122924183837029444813567641403561748597132440944243518633119460280000392606509969461931211432050363383728390601750863775296717944382857613645051959785596243831563874323263751506559151832519301148924256281891208534611785252018574757450518675346628222104971902436553935972169821864871656869682581902011948432858733155205323060037125712263496753294583785168746210058641661546444885949256377082787006199961922466107198221902318089612929159985094866563267209314484723333529576186592071876342134483874886133669807896293450802076792328430412174673880803794213577496474611509546285058071595770988495109398102669404029033904476076128811934908034522939758478112203380281195539431929021487883563214272739220612425713278617773764162050461347907784216725587172113345115378412562096075322301192267894861704522861854964774615899208132729084618309385522261318500221298762597300386791353309296364606603314482969378825606087250067606836529474004067898549476751282203243369892773284086084784756425074502564197115971106367471239051722081407685533217515360470446200592239414572240304857516726998853193468030494749846689104104303285718698220267808203829417304346915303412092138042400177679085972145715389003852292901936005264929008262697607278823852539062500000000000000000000000000000000000000000000000000000000000000000000000000000000000000000000000000000000000000000000000000000000000000000000000000000000000000000000000000000000000000000000000000000000000000000000000000000000000000000000000000000000000000000000000000000000000000000000000000000000000000000000000000000000000000000000000000000000000000000000000000000000000000000000000000000000000000000000000000000000000000000000000000000000000000000000000000000000000000000000000000000000000000000000000000000000000000000000000000000000000000000000000000000000000000000000000000000000000000000000000000000000000000000000000000000000000000000000000000000000000000000000000000000000000000000000000000000000000000000000000000000000000000000000000000000000000000000000000000000000000000000000000000000000000000000000000000000000000000000000000000000000000000000000000000000000000000000000000000000000000000000000000000000000000000000000000000000000000000000000000000000000000000000000000000000000000000000000000000000000000000000000000000000000000000000000000000000000000000000000000000000000000000000000000000000000000000000000000000000000000000000000000000000000000000000000000000000000000000000000000000000000000000000000000000000000000000000000000000000000000000000000000000000000000000000000000000000000000000000000000000000000000000000000000000000000000000000000000000000000000000000000000000000000000000000000000000000000000000000000000000000000000000000000000000000000000000000000000000000000000000000000000000000000000000000000000000000000000000000000000000000000000000000000000000000000000000000000000000000000000000000000000000000000000000000000000000000000000000000000000000000000000000000000000000000000000000000000000000000000000000000000000000000000000000000000000000000000000000000000000000000000000000000000000000000000000000000000000000000000000000000000000000000000000000000000000000000000000000000000000000000000000000000000000000000000000000000000000000000000000000000000000000000000"
            ]
          },
          "metadata": {},
          "execution_count": 14
        }
      ]
    },
    {
      "cell_type": "code",
      "source": [
        "len(print(x))"
      ],
      "metadata": {
        "colab": {
          "base_uri": "https://localhost:8080/",
          "height": 212
        },
        "id": "TxwMX8Qaq-dI",
        "outputId": "8823a646-8831-4f57-b8f8-7e9fedb32c9e"
      },
      "execution_count": null,
      "outputs": [
        {
          "output_type": "stream",
          "name": "stdout",
          "text": [
            "81285486255577354404718780574685113215326490869496783290608443767545018093849249324191837285211759428226629575486764498225518537734052535171008240560054242754127347362927932405061282722541465297178846718305156599977301968424985619595573130084713606239325453141123273930923342998838493208098713917918900560230690759433195160173870111171464010261573670209053031912408196615732791149890616674741878711365457502082788516523160641247891558369304399964902601058363201940856135241412049873069872524328122396204551061757061334455067776549805763553814592478020871413747479637254442814483531406401014824426548356552969880762434021781250114261128050921432107875534872678104208484758374693786968377738031191740336555773885335133106342882493657183813237341879444358645772578993617569110020238058874084271592466899283636188384859210801321820682503342576982077179573510148169116122924183837029444813567641403561748597132440944243518633119460280000392606509969461931211432050363383728390601750863775296717944382857613645051959785596243831563874323263751506559151832519301148924256281891208534611785252018574757450518675346628222104971902436553935972169821864871656869682581902011948432858733155205323060037125712263496753294583785168746210058641661546444885949256377082787006199961922466107198221902318089612929159985094866563267209314484723333529576186592071876342134483874886133669807896293450802076792328430412174673880803794213577496474611509546285058071595770988495109398102669404029033904476076128811934908034522939758478112203380281195539431929021487883563214272739220612425713278617773764162050461347907784216725587172113345115378412562096075322301192267894861704522861854964774615899208132729084618309385522261318500221298762597300386791353309296364606603314482969378825606087250067606836529474004067898549476751282203243369892773284086084784756425074502564197115971106367471239051722081407685533217515360470446200592239414572240304857516726998853193468030494749846689104104303285718698220267808203829417304346915303412092138042400177679085972145715389003852292901936005264929008262697607278823852539062500000000000000000000000000000000000000000000000000000000000000000000000000000000000000000000000000000000000000000000000000000000000000000000000000000000000000000000000000000000000000000000000000000000000000000000000000000000000000000000000000000000000000000000000000000000000000000000000000000000000000000000000000000000000000000000000000000000000000000000000000000000000000000000000000000000000000000000000000000000000000000000000000000000000000000000000000000000000000000000000000000000000000000000000000000000000000000000000000000000000000000000000000000000000000000000000000000000000000000000000000000000000000000000000000000000000000000000000000000000000000000000000000000000000000000000000000000000000000000000000000000000000000000000000000000000000000000000000000000000000000000000000000000000000000000000000000000000000000000000000000000000000000000000000000000000000000000000000000000000000000000000000000000000000000000000000000000000000000000000000000000000000000000000000000000000000000000000000000000000000000000000000000000000000000000000000000000000000000000000000000000000000000000000000000000000000000000000000000000000000000000000000000000000000000000000000000000000000000000000000000000000000000000000000000000000000000000000000000000000000000000000000000000000000000000000000000000000000000000000000000000000000000000000000000000000000000000000000000000000000000000000000000000000000000000000000000000000000000000000000000000000000000000000000000000000000000000000000000000000000000000000000000000000000000000000000000000000000000000000000000000000000000000000000000000000000000000000000000000000000000000000000000000000000000000000000000000000000000000000000000000000000000000000000000000000000000000000000000000000000000000000000000000000000000000000000000000000000000000000000000000000000000000000000000000000000000000000000000000000000000000000000000000000000000000000000000000000000000000000000000000000000000000000000000000000000000000000000000000000000000000000000000000000\n"
          ]
        },
        {
          "output_type": "error",
          "ename": "TypeError",
          "evalue": "ignored",
          "traceback": [
            "\u001b[0;31m---------------------------------------------------------------------------\u001b[0m",
            "\u001b[0;31mTypeError\u001b[0m                                 Traceback (most recent call last)",
            "\u001b[0;32m<ipython-input-15-6c5c5e816fdc>\u001b[0m in \u001b[0;36m<cell line: 1>\u001b[0;34m()\u001b[0m\n\u001b[0;32m----> 1\u001b[0;31m \u001b[0mlen\u001b[0m\u001b[0;34m(\u001b[0m\u001b[0mprint\u001b[0m\u001b[0;34m(\u001b[0m\u001b[0mx\u001b[0m\u001b[0;34m)\u001b[0m\u001b[0;34m)\u001b[0m\u001b[0;34m\u001b[0m\u001b[0;34m\u001b[0m\u001b[0m\n\u001b[0m",
            "\u001b[0;31mTypeError\u001b[0m: object of type 'NoneType' has no len()"
          ]
        }
      ]
    },
    {
      "cell_type": "code",
      "source": [
        "len('asdfa')"
      ],
      "metadata": {
        "colab": {
          "base_uri": "https://localhost:8080/"
        },
        "id": "BXG4ZZIQrnTq",
        "outputId": "589c4fb1-600b-4773-fa63-2b97a390a056"
      },
      "execution_count": null,
      "outputs": [
        {
          "output_type": "execute_result",
          "data": {
            "text/plain": [
              "5"
            ]
          },
          "metadata": {},
          "execution_count": 16
        }
      ]
    },
    {
      "cell_type": "code",
      "source": [
        "len(str(print(x)))"
      ],
      "metadata": {
        "id": "LwxmmE0wrpb0"
      },
      "execution_count": null,
      "outputs": []
    },
    {
      "cell_type": "code",
      "source": [
        "0.1 + 0.1 + 0.1 #ебать шо"
      ],
      "metadata": {
        "colab": {
          "base_uri": "https://localhost:8080/"
        },
        "id": "SzWvdXherzIM",
        "outputId": "b8275aa6-f585-4e8a-9e07-4d9536b7da56"
      },
      "execution_count": null,
      "outputs": [
        {
          "output_type": "execute_result",
          "data": {
            "text/plain": [
              "0.30000000000000004"
            ]
          },
          "metadata": {},
          "execution_count": 18
        }
      ]
    },
    {
      "cell_type": "code",
      "source": [
        "0.1 + 0.1 + 0.1 ==0.3 # ..."
      ],
      "metadata": {
        "colab": {
          "base_uri": "https://localhost:8080/"
        },
        "id": "w0ylJY22sRy7",
        "outputId": "777d5b80-0cc1-4f1e-a79c-1912f93e9bc2"
      },
      "execution_count": null,
      "outputs": [
        {
          "output_type": "execute_result",
          "data": {
            "text/plain": [
              "False"
            ]
          },
          "metadata": {},
          "execution_count": 19
        }
      ]
    },
    {
      "cell_type": "code",
      "source": [
        "help(round)"
      ],
      "metadata": {
        "colab": {
          "base_uri": "https://localhost:8080/"
        },
        "id": "7LmBZa99sXtD",
        "outputId": "5dfe1b83-ce71-4b15-91ea-84ab838baab6"
      },
      "execution_count": null,
      "outputs": [
        {
          "output_type": "stream",
          "name": "stdout",
          "text": [
            "Help on built-in function round in module builtins:\n",
            "\n",
            "round(number, ndigits=None)\n",
            "    Round a number to a given precision in decimal digits.\n",
            "    \n",
            "    The return value is an integer if ndigits is omitted or None.  Otherwise\n",
            "    the return value has the same type as the number.  ndigits may be negative.\n",
            "\n"
          ]
        }
      ]
    },
    {
      "cell_type": "code",
      "source": [
        "round(20.0003,ndigits=10)"
      ],
      "metadata": {
        "colab": {
          "base_uri": "https://localhost:8080/"
        },
        "id": "bmWef3fgsxgL",
        "outputId": "008a9e6c-cb92-4a64-c416-3aa7530dc8bd"
      },
      "execution_count": null,
      "outputs": [
        {
          "output_type": "execute_result",
          "data": {
            "text/plain": [
              "20.0003"
            ]
          },
          "metadata": {},
          "execution_count": 21
        }
      ]
    },
    {
      "cell_type": "code",
      "source": [
        "class Spot:\n",
        "    def __init__(self, y):\n",
        "      size = 1\n",
        "      length = y\n",
        "y = 2\n",
        "y = Spot(y)\n",
        "y"
      ],
      "metadata": {
        "colab": {
          "base_uri": "https://localhost:8080/"
        },
        "id": "kU7loQ1ttKci",
        "outputId": "b4f244fa-f51c-4726-c97a-301405b5572a"
      },
      "execution_count": null,
      "outputs": [
        {
          "output_type": "execute_result",
          "data": {
            "text/plain": [
              "<__main__.Spot at 0x7b9031c0e800>"
            ]
          },
          "metadata": {},
          "execution_count": 22
        }
      ]
    },
    {
      "cell_type": "code",
      "source": [
        "import this"
      ],
      "metadata": {
        "colab": {
          "base_uri": "https://localhost:8080/"
        },
        "id": "FRmuRTCAtgyV",
        "outputId": "329ab6c2-a89d-403a-b443-7872358f5be1"
      },
      "execution_count": null,
      "outputs": [
        {
          "output_type": "stream",
          "name": "stdout",
          "text": [
            "The Zen of Python, by Tim Peters\n",
            "\n",
            "Beautiful is better than ugly.\n",
            "Explicit is better than implicit.\n",
            "Simple is better than complex.\n",
            "Complex is better than complicated.\n",
            "Flat is better than nested.\n",
            "Sparse is better than dense.\n",
            "Readability counts.\n",
            "Special cases aren't special enough to break the rules.\n",
            "Although practicality beats purity.\n",
            "Errors should never pass silently.\n",
            "Unless explicitly silenced.\n",
            "In the face of ambiguity, refuse the temptation to guess.\n",
            "There should be one-- and preferably only one --obvious way to do it.\n",
            "Although that way may not be obvious at first unless you're Dutch.\n",
            "Now is better than never.\n",
            "Although never is often better than *right* now.\n",
            "If the implementation is hard to explain, it's a bad idea.\n",
            "If the implementation is easy to explain, it may be a good idea.\n",
            "Namespaces are one honking great idea -- let's do more of those!\n"
          ]
        }
      ]
    },
    {
      "cell_type": "code",
      "source": [
        "a = int(input())\n",
        "if a == 0:\n",
        "  print('0')\n",
        "elif a >= 0:\n",
        "  print('+')\n",
        "else:\n",
        "  print('-')"
      ],
      "metadata": {
        "colab": {
          "base_uri": "https://localhost:8080/"
        },
        "id": "0k_saIAqus6E",
        "outputId": "7ff1eb5f-4334-401f-a58b-ef8741e0eab1"
      },
      "execution_count": null,
      "outputs": [
        {
          "output_type": "stream",
          "name": "stdout",
          "text": [
            "5\n",
            "+\n"
          ]
        }
      ]
    },
    {
      "cell_type": "code",
      "source": [
        "a = int(input())\n",
        "if a >= 0:\n",
        "  print('+')\n",
        "elif a <= 0: #this condition won't be excecuted, if  a = 0, cause it checks if a >=0 and a <0\n",
        "  print('+0')"
      ],
      "metadata": {
        "colab": {
          "base_uri": "https://localhost:8080/"
        },
        "id": "Rvtffetwwx0z",
        "outputId": "bc3e03ce-1e2b-44f9-b835-84bf1bbd2c07"
      },
      "execution_count": null,
      "outputs": [
        {
          "output_type": "stream",
          "name": "stdout",
          "text": [
            "0\n",
            "+\n"
          ]
        }
      ]
    },
    {
      "cell_type": "code",
      "source": [
        "if ('adsfa'):\n",
        "  print('adsfa is a bool obj and true') #well seems that it iterprets symbols as true..."
      ],
      "metadata": {
        "colab": {
          "base_uri": "https://localhost:8080/"
        },
        "id": "sufL9b0KyB07",
        "outputId": "744677bd-fbcd-40be-fcd4-b77fbb8ea10f"
      },
      "execution_count": null,
      "outputs": [
        {
          "output_type": "stream",
          "name": "stdout",
          "text": [
            "adsfa is a bool obj and true\n"
          ]
        }
      ]
    },
    {
      "cell_type": "code",
      "source": [
        "if (print(32) == None): # true\n",
        "  print('nothing')"
      ],
      "metadata": {
        "colab": {
          "base_uri": "https://localhost:8080/"
        },
        "id": "6Z9v7Iu5ysNk",
        "outputId": "4da5e639-970c-42c7-ca42-768e88cf9157"
      },
      "execution_count": null,
      "outputs": [
        {
          "output_type": "stream",
          "name": "stdout",
          "text": [
            "32\n",
            "nothing\n"
          ]
        }
      ]
    },
    {
      "cell_type": "code",
      "source": [
        "help(None)"
      ],
      "metadata": {
        "colab": {
          "base_uri": "https://localhost:8080/"
        },
        "id": "ETBmh3oJztic",
        "outputId": "f358365c-716a-4801-d014-c971568bb152"
      },
      "execution_count": null,
      "outputs": [
        {
          "output_type": "stream",
          "name": "stdout",
          "text": [
            "Help on NoneType object:\n",
            "\n",
            "class NoneType(object)\n",
            " |  Methods defined here:\n",
            " |  \n",
            " |  __bool__(self, /)\n",
            " |      True if self else False\n",
            " |  \n",
            " |  __repr__(self, /)\n",
            " |      Return repr(self).\n",
            " |  \n",
            " |  ----------------------------------------------------------------------\n",
            " |  Static methods defined here:\n",
            " |  \n",
            " |  __new__(*args, **kwargs) from builtins.type\n",
            " |      Create and return a new object.  See help(type) for accurate signature.\n",
            "\n"
          ]
        }
      ]
    },
    {
      "cell_type": "code",
      "source": [
        "x = None\n",
        "print(x is None)\n",
        "print(2 is 2)\n",
        "print(0 is 2)\n",
        "print(None is print(2387))\n",
        "\n",
        "print(f'x is {2} and y is {474}') # f allows to make code inside of {}\n",
        "print(f'None is of type {type(None)}')"
      ],
      "metadata": {
        "colab": {
          "base_uri": "https://localhost:8080/"
        },
        "id": "MkAYa3VK1s1p",
        "outputId": "43e3142e-9970-4ce8-e8e3-580ff7cc3b7b"
      },
      "execution_count": null,
      "outputs": [
        {
          "output_type": "stream",
          "name": "stdout",
          "text": [
            "True\n",
            "True\n",
            "False\n",
            "2387\n",
            "True\n",
            "x is 2 and y is 474\n",
            "None is of type <class 'NoneType'>\n"
          ]
        },
        {
          "output_type": "stream",
          "name": "stderr",
          "text": [
            "<>:3: SyntaxWarning: \"is\" with a literal. Did you mean \"==\"?\n",
            "<>:4: SyntaxWarning: \"is\" with a literal. Did you mean \"==\"?\n",
            "<>:3: SyntaxWarning: \"is\" with a literal. Did you mean \"==\"?\n",
            "<>:4: SyntaxWarning: \"is\" with a literal. Did you mean \"==\"?\n",
            "<ipython-input-29-73db0984091c>:3: SyntaxWarning: \"is\" with a literal. Did you mean \"==\"?\n",
            "  print(2 is 2)\n",
            "<ipython-input-29-73db0984091c>:4: SyntaxWarning: \"is\" with a literal. Did you mean \"==\"?\n",
            "  print(0 is 2)\n"
          ]
        }
      ]
    },
    {
      "cell_type": "code",
      "source": [
        "a = 1000\n",
        "b = 1000\n",
        "print(a is b)\n",
        "\n",
        "c = 100\n",
        "d = c\n",
        "print(c is d) # is is true when two names have links to the same objects\n",
        "\n",
        "help('is')"
      ],
      "metadata": {
        "colab": {
          "base_uri": "https://localhost:8080/"
        },
        "id": "twNt6XbB2E6S",
        "outputId": "735c9c49-b0bd-46a4-b6ea-2ce33db6107c"
      },
      "execution_count": null,
      "outputs": [
        {
          "output_type": "stream",
          "name": "stdout",
          "text": [
            "False\n",
            "True\n",
            "Comparisons\n",
            "***********\n",
            "\n",
            "Unlike C, all comparison operations in Python have the same priority,\n",
            "which is lower than that of any arithmetic, shifting or bitwise\n",
            "operation.  Also unlike C, expressions like \"a < b < c\" have the\n",
            "interpretation that is conventional in mathematics:\n",
            "\n",
            "   comparison    ::= or_expr (comp_operator or_expr)*\n",
            "   comp_operator ::= \"<\" | \">\" | \"==\" | \">=\" | \"<=\" | \"!=\"\n",
            "                     | \"is\" [\"not\"] | [\"not\"] \"in\"\n",
            "\n",
            "Comparisons yield boolean values: \"True\" or \"False\". Custom *rich\n",
            "comparison methods* may return non-boolean values. In this case Python\n",
            "will call \"bool()\" on such value in boolean contexts.\n",
            "\n",
            "Comparisons can be chained arbitrarily, e.g., \"x < y <= z\" is\n",
            "equivalent to \"x < y and y <= z\", except that \"y\" is evaluated only\n",
            "once (but in both cases \"z\" is not evaluated at all when \"x < y\" is\n",
            "found to be false).\n",
            "\n",
            "Formally, if *a*, *b*, *c*, …, *y*, *z* are expressions and *op1*,\n",
            "*op2*, …, *opN* are comparison operators, then \"a op1 b op2 c ... y\n",
            "opN z\" is equivalent to \"a op1 b and b op2 c and ... y opN z\", except\n",
            "that each expression is evaluated at most once.\n",
            "\n",
            "Note that \"a op1 b op2 c\" doesn’t imply any kind of comparison between\n",
            "*a* and *c*, so that, e.g., \"x < y > z\" is perfectly legal (though\n",
            "perhaps not pretty).\n",
            "\n",
            "\n",
            "Value comparisons\n",
            "=================\n",
            "\n",
            "The operators \"<\", \">\", \"==\", \">=\", \"<=\", and \"!=\" compare the values\n",
            "of two objects.  The objects do not need to have the same type.\n",
            "\n",
            "Chapter Objects, values and types states that objects have a value (in\n",
            "addition to type and identity).  The value of an object is a rather\n",
            "abstract notion in Python: For example, there is no canonical access\n",
            "method for an object’s value.  Also, there is no requirement that the\n",
            "value of an object should be constructed in a particular way, e.g.\n",
            "comprised of all its data attributes. Comparison operators implement a\n",
            "particular notion of what the value of an object is.  One can think of\n",
            "them as defining the value of an object indirectly, by means of their\n",
            "comparison implementation.\n",
            "\n",
            "Because all types are (direct or indirect) subtypes of \"object\", they\n",
            "inherit the default comparison behavior from \"object\".  Types can\n",
            "customize their comparison behavior by implementing *rich comparison\n",
            "methods* like \"__lt__()\", described in Basic customization.\n",
            "\n",
            "The default behavior for equality comparison (\"==\" and \"!=\") is based\n",
            "on the identity of the objects.  Hence, equality comparison of\n",
            "instances with the same identity results in equality, and equality\n",
            "comparison of instances with different identities results in\n",
            "inequality.  A motivation for this default behavior is the desire that\n",
            "all objects should be reflexive (i.e. \"x is y\" implies \"x == y\").\n",
            "\n",
            "A default order comparison (\"<\", \">\", \"<=\", and \">=\") is not provided;\n",
            "an attempt raises \"TypeError\".  A motivation for this default behavior\n",
            "is the lack of a similar invariant as for equality.\n",
            "\n",
            "The behavior of the default equality comparison, that instances with\n",
            "different identities are always unequal, may be in contrast to what\n",
            "types will need that have a sensible definition of object value and\n",
            "value-based equality.  Such types will need to customize their\n",
            "comparison behavior, and in fact, a number of built-in types have done\n",
            "that.\n",
            "\n",
            "The following list describes the comparison behavior of the most\n",
            "important built-in types.\n",
            "\n",
            "* Numbers of built-in numeric types (Numeric Types — int, float,\n",
            "  complex) and of the standard library types \"fractions.Fraction\" and\n",
            "  \"decimal.Decimal\" can be compared within and across their types,\n",
            "  with the restriction that complex numbers do not support order\n",
            "  comparison.  Within the limits of the types involved, they compare\n",
            "  mathematically (algorithmically) correct without loss of precision.\n",
            "\n",
            "  The not-a-number values \"float('NaN')\" and \"decimal.Decimal('NaN')\"\n",
            "  are special.  Any ordered comparison of a number to a not-a-number\n",
            "  value is false. A counter-intuitive implication is that not-a-number\n",
            "  values are not equal to themselves.  For example, if \"x =\n",
            "  float('NaN')\", \"3 < x\", \"x < 3\" and \"x == x\" are all false, while \"x\n",
            "  != x\" is true.  This behavior is compliant with IEEE 754.\n",
            "\n",
            "* \"None\" and \"NotImplemented\" are singletons.  **PEP 8** advises that\n",
            "  comparisons for singletons should always be done with \"is\" or \"is\n",
            "  not\", never the equality operators.\n",
            "\n",
            "* Binary sequences (instances of \"bytes\" or \"bytearray\") can be\n",
            "  compared within and across their types.  They compare\n",
            "  lexicographically using the numeric values of their elements.\n",
            "\n",
            "* Strings (instances of \"str\") compare lexicographically using the\n",
            "  numerical Unicode code points (the result of the built-in function\n",
            "  \"ord()\") of their characters. [3]\n",
            "\n",
            "  Strings and binary sequences cannot be directly compared.\n",
            "\n",
            "* Sequences (instances of \"tuple\", \"list\", or \"range\") can be compared\n",
            "  only within each of their types, with the restriction that ranges do\n",
            "  not support order comparison.  Equality comparison across these\n",
            "  types results in inequality, and ordering comparison across these\n",
            "  types raises \"TypeError\".\n",
            "\n",
            "  Sequences compare lexicographically using comparison of\n",
            "  corresponding elements.  The built-in containers typically assume\n",
            "  identical objects are equal to themselves.  That lets them bypass\n",
            "  equality tests for identical objects to improve performance and to\n",
            "  maintain their internal invariants.\n",
            "\n",
            "  Lexicographical comparison between built-in collections works as\n",
            "  follows:\n",
            "\n",
            "  * For two collections to compare equal, they must be of the same\n",
            "    type, have the same length, and each pair of corresponding\n",
            "    elements must compare equal (for example, \"[1,2] == (1,2)\" is\n",
            "    false because the type is not the same).\n",
            "\n",
            "  * Collections that support order comparison are ordered the same as\n",
            "    their first unequal elements (for example, \"[1,2,x] <= [1,2,y]\"\n",
            "    has the same value as \"x <= y\").  If a corresponding element does\n",
            "    not exist, the shorter collection is ordered first (for example,\n",
            "    \"[1,2] < [1,2,3]\" is true).\n",
            "\n",
            "* Mappings (instances of \"dict\") compare equal if and only if they\n",
            "  have equal \"(key, value)\" pairs. Equality comparison of the keys and\n",
            "  values enforces reflexivity.\n",
            "\n",
            "  Order comparisons (\"<\", \">\", \"<=\", and \">=\") raise \"TypeError\".\n",
            "\n",
            "* Sets (instances of \"set\" or \"frozenset\") can be compared within and\n",
            "  across their types.\n",
            "\n",
            "  They define order comparison operators to mean subset and superset\n",
            "  tests.  Those relations do not define total orderings (for example,\n",
            "  the two sets \"{1,2}\" and \"{2,3}\" are not equal, nor subsets of one\n",
            "  another, nor supersets of one another).  Accordingly, sets are not\n",
            "  appropriate arguments for functions which depend on total ordering\n",
            "  (for example, \"min()\", \"max()\", and \"sorted()\" produce undefined\n",
            "  results given a list of sets as inputs).\n",
            "\n",
            "  Comparison of sets enforces reflexivity of its elements.\n",
            "\n",
            "* Most other built-in types have no comparison methods implemented, so\n",
            "  they inherit the default comparison behavior.\n",
            "\n",
            "User-defined classes that customize their comparison behavior should\n",
            "follow some consistency rules, if possible:\n",
            "\n",
            "* Equality comparison should be reflexive. In other words, identical\n",
            "  objects should compare equal:\n",
            "\n",
            "     \"x is y\" implies \"x == y\"\n",
            "\n",
            "* Comparison should be symmetric. In other words, the following\n",
            "  expressions should have the same result:\n",
            "\n",
            "     \"x == y\" and \"y == x\"\n",
            "\n",
            "     \"x != y\" and \"y != x\"\n",
            "\n",
            "     \"x < y\" and \"y > x\"\n",
            "\n",
            "     \"x <= y\" and \"y >= x\"\n",
            "\n",
            "* Comparison should be transitive. The following (non-exhaustive)\n",
            "  examples illustrate that:\n",
            "\n",
            "     \"x > y and y > z\" implies \"x > z\"\n",
            "\n",
            "     \"x < y and y <= z\" implies \"x < z\"\n",
            "\n",
            "* Inverse comparison should result in the boolean negation. In other\n",
            "  words, the following expressions should have the same result:\n",
            "\n",
            "     \"x == y\" and \"not x != y\"\n",
            "\n",
            "     \"x < y\" and \"not x >= y\" (for total ordering)\n",
            "\n",
            "     \"x > y\" and \"not x <= y\" (for total ordering)\n",
            "\n",
            "  The last two expressions apply to totally ordered collections (e.g.\n",
            "  to sequences, but not to sets or mappings). See also the\n",
            "  \"total_ordering()\" decorator.\n",
            "\n",
            "* The \"hash()\" result should be consistent with equality. Objects that\n",
            "  are equal should either have the same hash value, or be marked as\n",
            "  unhashable.\n",
            "\n",
            "Python does not enforce these consistency rules. In fact, the\n",
            "not-a-number values are an example for not following these rules.\n",
            "\n",
            "\n",
            "Membership test operations\n",
            "==========================\n",
            "\n",
            "The operators \"in\" and \"not in\" test for membership.  \"x in s\"\n",
            "evaluates to \"True\" if *x* is a member of *s*, and \"False\" otherwise.\n",
            "\"x not in s\" returns the negation of \"x in s\".  All built-in sequences\n",
            "and set types support this as well as dictionary, for which \"in\" tests\n",
            "whether the dictionary has a given key. For container types such as\n",
            "list, tuple, set, frozenset, dict, or collections.deque, the\n",
            "expression \"x in y\" is equivalent to \"any(x is e or x == e for e in\n",
            "y)\".\n",
            "\n",
            "For the string and bytes types, \"x in y\" is \"True\" if and only if *x*\n",
            "is a substring of *y*.  An equivalent test is \"y.find(x) != -1\".\n",
            "Empty strings are always considered to be a substring of any other\n",
            "string, so \"\"\" in \"abc\"\" will return \"True\".\n",
            "\n",
            "For user-defined classes which define the \"__contains__()\" method, \"x\n",
            "in y\" returns \"True\" if \"y.__contains__(x)\" returns a true value, and\n",
            "\"False\" otherwise.\n",
            "\n",
            "For user-defined classes which do not define \"__contains__()\" but do\n",
            "define \"__iter__()\", \"x in y\" is \"True\" if some value \"z\", for which\n",
            "the expression \"x is z or x == z\" is true, is produced while iterating\n",
            "over \"y\". If an exception is raised during the iteration, it is as if\n",
            "\"in\" raised that exception.\n",
            "\n",
            "Lastly, the old-style iteration protocol is tried: if a class defines\n",
            "\"__getitem__()\", \"x in y\" is \"True\" if and only if there is a non-\n",
            "negative integer index *i* such that \"x is y[i] or x == y[i]\", and no\n",
            "lower integer index raises the \"IndexError\" exception.  (If any other\n",
            "exception is raised, it is as if \"in\" raised that exception).\n",
            "\n",
            "The operator \"not in\" is defined to have the inverse truth value of\n",
            "\"in\".\n",
            "\n",
            "\n",
            "Identity comparisons\n",
            "====================\n",
            "\n",
            "The operators \"is\" and \"is not\" test for an object’s identity: \"x is\n",
            "y\" is true if and only if *x* and *y* are the same object.  An\n",
            "Object’s identity is determined using the \"id()\" function.  \"x is not\n",
            "y\" yields the inverse truth value. [4]\n",
            "\n",
            "Related help topics: EXPRESSIONS, BASICMETHODS\n",
            "\n"
          ]
        }
      ]
    },
    {
      "cell_type": "code",
      "source": [
        "help(str)"
      ],
      "metadata": {
        "colab": {
          "base_uri": "https://localhost:8080/"
        },
        "id": "2Bu3CXRawoJh",
        "outputId": "d07bf2ee-1ae3-4469-cac5-c4f66e0d369f"
      },
      "execution_count": null,
      "outputs": [
        {
          "output_type": "stream",
          "name": "stdout",
          "text": [
            "Help on class str in module builtins:\n",
            "\n",
            "class str(object)\n",
            " |  str(object='') -> str\n",
            " |  str(bytes_or_buffer[, encoding[, errors]]) -> str\n",
            " |  \n",
            " |  Create a new string object from the given object. If encoding or\n",
            " |  errors is specified, then the object must expose a data buffer\n",
            " |  that will be decoded using the given encoding and error handler.\n",
            " |  Otherwise, returns the result of object.__str__() (if defined)\n",
            " |  or repr(object).\n",
            " |  encoding defaults to sys.getdefaultencoding().\n",
            " |  errors defaults to 'strict'.\n",
            " |  \n",
            " |  Methods defined here:\n",
            " |  \n",
            " |  __add__(self, value, /)\n",
            " |      Return self+value.\n",
            " |  \n",
            " |  __contains__(self, key, /)\n",
            " |      Return key in self.\n",
            " |  \n",
            " |  __eq__(self, value, /)\n",
            " |      Return self==value.\n",
            " |  \n",
            " |  __format__(self, format_spec, /)\n",
            " |      Return a formatted version of the string as described by format_spec.\n",
            " |  \n",
            " |  __ge__(self, value, /)\n",
            " |      Return self>=value.\n",
            " |  \n",
            " |  __getattribute__(self, name, /)\n",
            " |      Return getattr(self, name).\n",
            " |  \n",
            " |  __getitem__(self, key, /)\n",
            " |      Return self[key].\n",
            " |  \n",
            " |  __getnewargs__(...)\n",
            " |  \n",
            " |  __gt__(self, value, /)\n",
            " |      Return self>value.\n",
            " |  \n",
            " |  __hash__(self, /)\n",
            " |      Return hash(self).\n",
            " |  \n",
            " |  __iter__(self, /)\n",
            " |      Implement iter(self).\n",
            " |  \n",
            " |  __le__(self, value, /)\n",
            " |      Return self<=value.\n",
            " |  \n",
            " |  __len__(self, /)\n",
            " |      Return len(self).\n",
            " |  \n",
            " |  __lt__(self, value, /)\n",
            " |      Return self<value.\n",
            " |  \n",
            " |  __mod__(self, value, /)\n",
            " |      Return self%value.\n",
            " |  \n",
            " |  __mul__(self, value, /)\n",
            " |      Return self*value.\n",
            " |  \n",
            " |  __ne__(self, value, /)\n",
            " |      Return self!=value.\n",
            " |  \n",
            " |  __repr__(self, /)\n",
            " |      Return repr(self).\n",
            " |  \n",
            " |  __rmod__(self, value, /)\n",
            " |      Return value%self.\n",
            " |  \n",
            " |  __rmul__(self, value, /)\n",
            " |      Return value*self.\n",
            " |  \n",
            " |  __sizeof__(self, /)\n",
            " |      Return the size of the string in memory, in bytes.\n",
            " |  \n",
            " |  __str__(self, /)\n",
            " |      Return str(self).\n",
            " |  \n",
            " |  capitalize(self, /)\n",
            " |      Return a capitalized version of the string.\n",
            " |      \n",
            " |      More specifically, make the first character have upper case and the rest lower\n",
            " |      case.\n",
            " |  \n",
            " |  casefold(self, /)\n",
            " |      Return a version of the string suitable for caseless comparisons.\n",
            " |  \n",
            " |  center(self, width, fillchar=' ', /)\n",
            " |      Return a centered string of length width.\n",
            " |      \n",
            " |      Padding is done using the specified fill character (default is a space).\n",
            " |  \n",
            " |  count(...)\n",
            " |      S.count(sub[, start[, end]]) -> int\n",
            " |      \n",
            " |      Return the number of non-overlapping occurrences of substring sub in\n",
            " |      string S[start:end].  Optional arguments start and end are\n",
            " |      interpreted as in slice notation.\n",
            " |  \n",
            " |  encode(self, /, encoding='utf-8', errors='strict')\n",
            " |      Encode the string using the codec registered for encoding.\n",
            " |      \n",
            " |      encoding\n",
            " |        The encoding in which to encode the string.\n",
            " |      errors\n",
            " |        The error handling scheme to use for encoding errors.\n",
            " |        The default is 'strict' meaning that encoding errors raise a\n",
            " |        UnicodeEncodeError.  Other possible values are 'ignore', 'replace' and\n",
            " |        'xmlcharrefreplace' as well as any other name registered with\n",
            " |        codecs.register_error that can handle UnicodeEncodeErrors.\n",
            " |  \n",
            " |  endswith(...)\n",
            " |      S.endswith(suffix[, start[, end]]) -> bool\n",
            " |      \n",
            " |      Return True if S ends with the specified suffix, False otherwise.\n",
            " |      With optional start, test S beginning at that position.\n",
            " |      With optional end, stop comparing S at that position.\n",
            " |      suffix can also be a tuple of strings to try.\n",
            " |  \n",
            " |  expandtabs(self, /, tabsize=8)\n",
            " |      Return a copy where all tab characters are expanded using spaces.\n",
            " |      \n",
            " |      If tabsize is not given, a tab size of 8 characters is assumed.\n",
            " |  \n",
            " |  find(...)\n",
            " |      S.find(sub[, start[, end]]) -> int\n",
            " |      \n",
            " |      Return the lowest index in S where substring sub is found,\n",
            " |      such that sub is contained within S[start:end].  Optional\n",
            " |      arguments start and end are interpreted as in slice notation.\n",
            " |      \n",
            " |      Return -1 on failure.\n",
            " |  \n",
            " |  format(...)\n",
            " |      S.format(*args, **kwargs) -> str\n",
            " |      \n",
            " |      Return a formatted version of S, using substitutions from args and kwargs.\n",
            " |      The substitutions are identified by braces ('{' and '}').\n",
            " |  \n",
            " |  format_map(...)\n",
            " |      S.format_map(mapping) -> str\n",
            " |      \n",
            " |      Return a formatted version of S, using substitutions from mapping.\n",
            " |      The substitutions are identified by braces ('{' and '}').\n",
            " |  \n",
            " |  index(...)\n",
            " |      S.index(sub[, start[, end]]) -> int\n",
            " |      \n",
            " |      Return the lowest index in S where substring sub is found,\n",
            " |      such that sub is contained within S[start:end].  Optional\n",
            " |      arguments start and end are interpreted as in slice notation.\n",
            " |      \n",
            " |      Raises ValueError when the substring is not found.\n",
            " |  \n",
            " |  isalnum(self, /)\n",
            " |      Return True if the string is an alpha-numeric string, False otherwise.\n",
            " |      \n",
            " |      A string is alpha-numeric if all characters in the string are alpha-numeric and\n",
            " |      there is at least one character in the string.\n",
            " |  \n",
            " |  isalpha(self, /)\n",
            " |      Return True if the string is an alphabetic string, False otherwise.\n",
            " |      \n",
            " |      A string is alphabetic if all characters in the string are alphabetic and there\n",
            " |      is at least one character in the string.\n",
            " |  \n",
            " |  isascii(self, /)\n",
            " |      Return True if all characters in the string are ASCII, False otherwise.\n",
            " |      \n",
            " |      ASCII characters have code points in the range U+0000-U+007F.\n",
            " |      Empty string is ASCII too.\n",
            " |  \n",
            " |  isdecimal(self, /)\n",
            " |      Return True if the string is a decimal string, False otherwise.\n",
            " |      \n",
            " |      A string is a decimal string if all characters in the string are decimal and\n",
            " |      there is at least one character in the string.\n",
            " |  \n",
            " |  isdigit(self, /)\n",
            " |      Return True if the string is a digit string, False otherwise.\n",
            " |      \n",
            " |      A string is a digit string if all characters in the string are digits and there\n",
            " |      is at least one character in the string.\n",
            " |  \n",
            " |  isidentifier(self, /)\n",
            " |      Return True if the string is a valid Python identifier, False otherwise.\n",
            " |      \n",
            " |      Call keyword.iskeyword(s) to test whether string s is a reserved identifier,\n",
            " |      such as \"def\" or \"class\".\n",
            " |  \n",
            " |  islower(self, /)\n",
            " |      Return True if the string is a lowercase string, False otherwise.\n",
            " |      \n",
            " |      A string is lowercase if all cased characters in the string are lowercase and\n",
            " |      there is at least one cased character in the string.\n",
            " |  \n",
            " |  isnumeric(self, /)\n",
            " |      Return True if the string is a numeric string, False otherwise.\n",
            " |      \n",
            " |      A string is numeric if all characters in the string are numeric and there is at\n",
            " |      least one character in the string.\n",
            " |  \n",
            " |  isprintable(self, /)\n",
            " |      Return True if the string is printable, False otherwise.\n",
            " |      \n",
            " |      A string is printable if all of its characters are considered printable in\n",
            " |      repr() or if it is empty.\n",
            " |  \n",
            " |  isspace(self, /)\n",
            " |      Return True if the string is a whitespace string, False otherwise.\n",
            " |      \n",
            " |      A string is whitespace if all characters in the string are whitespace and there\n",
            " |      is at least one character in the string.\n",
            " |  \n",
            " |  istitle(self, /)\n",
            " |      Return True if the string is a title-cased string, False otherwise.\n",
            " |      \n",
            " |      In a title-cased string, upper- and title-case characters may only\n",
            " |      follow uncased characters and lowercase characters only cased ones.\n",
            " |  \n",
            " |  isupper(self, /)\n",
            " |      Return True if the string is an uppercase string, False otherwise.\n",
            " |      \n",
            " |      A string is uppercase if all cased characters in the string are uppercase and\n",
            " |      there is at least one cased character in the string.\n",
            " |  \n",
            " |  join(self, iterable, /)\n",
            " |      Concatenate any number of strings.\n",
            " |      \n",
            " |      The string whose method is called is inserted in between each given string.\n",
            " |      The result is returned as a new string.\n",
            " |      \n",
            " |      Example: '.'.join(['ab', 'pq', 'rs']) -> 'ab.pq.rs'\n",
            " |  \n",
            " |  ljust(self, width, fillchar=' ', /)\n",
            " |      Return a left-justified string of length width.\n",
            " |      \n",
            " |      Padding is done using the specified fill character (default is a space).\n",
            " |  \n",
            " |  lower(self, /)\n",
            " |      Return a copy of the string converted to lowercase.\n",
            " |  \n",
            " |  lstrip(self, chars=None, /)\n",
            " |      Return a copy of the string with leading whitespace removed.\n",
            " |      \n",
            " |      If chars is given and not None, remove characters in chars instead.\n",
            " |  \n",
            " |  partition(self, sep, /)\n",
            " |      Partition the string into three parts using the given separator.\n",
            " |      \n",
            " |      This will search for the separator in the string.  If the separator is found,\n",
            " |      returns a 3-tuple containing the part before the separator, the separator\n",
            " |      itself, and the part after it.\n",
            " |      \n",
            " |      If the separator is not found, returns a 3-tuple containing the original string\n",
            " |      and two empty strings.\n",
            " |  \n",
            " |  removeprefix(self, prefix, /)\n",
            " |      Return a str with the given prefix string removed if present.\n",
            " |      \n",
            " |      If the string starts with the prefix string, return string[len(prefix):].\n",
            " |      Otherwise, return a copy of the original string.\n",
            " |  \n",
            " |  removesuffix(self, suffix, /)\n",
            " |      Return a str with the given suffix string removed if present.\n",
            " |      \n",
            " |      If the string ends with the suffix string and that suffix is not empty,\n",
            " |      return string[:-len(suffix)]. Otherwise, return a copy of the original\n",
            " |      string.\n",
            " |  \n",
            " |  replace(self, old, new, count=-1, /)\n",
            " |      Return a copy with all occurrences of substring old replaced by new.\n",
            " |      \n",
            " |        count\n",
            " |          Maximum number of occurrences to replace.\n",
            " |          -1 (the default value) means replace all occurrences.\n",
            " |      \n",
            " |      If the optional argument count is given, only the first count occurrences are\n",
            " |      replaced.\n",
            " |  \n",
            " |  rfind(...)\n",
            " |      S.rfind(sub[, start[, end]]) -> int\n",
            " |      \n",
            " |      Return the highest index in S where substring sub is found,\n",
            " |      such that sub is contained within S[start:end].  Optional\n",
            " |      arguments start and end are interpreted as in slice notation.\n",
            " |      \n",
            " |      Return -1 on failure.\n",
            " |  \n",
            " |  rindex(...)\n",
            " |      S.rindex(sub[, start[, end]]) -> int\n",
            " |      \n",
            " |      Return the highest index in S where substring sub is found,\n",
            " |      such that sub is contained within S[start:end].  Optional\n",
            " |      arguments start and end are interpreted as in slice notation.\n",
            " |      \n",
            " |      Raises ValueError when the substring is not found.\n",
            " |  \n",
            " |  rjust(self, width, fillchar=' ', /)\n",
            " |      Return a right-justified string of length width.\n",
            " |      \n",
            " |      Padding is done using the specified fill character (default is a space).\n",
            " |  \n",
            " |  rpartition(self, sep, /)\n",
            " |      Partition the string into three parts using the given separator.\n",
            " |      \n",
            " |      This will search for the separator in the string, starting at the end. If\n",
            " |      the separator is found, returns a 3-tuple containing the part before the\n",
            " |      separator, the separator itself, and the part after it.\n",
            " |      \n",
            " |      If the separator is not found, returns a 3-tuple containing two empty strings\n",
            " |      and the original string.\n",
            " |  \n",
            " |  rsplit(self, /, sep=None, maxsplit=-1)\n",
            " |      Return a list of the substrings in the string, using sep as the separator string.\n",
            " |      \n",
            " |        sep\n",
            " |          The separator used to split the string.\n",
            " |      \n",
            " |          When set to None (the default value), will split on any whitespace\n",
            " |          character (including \\\\n \\\\r \\\\t \\\\f and spaces) and will discard\n",
            " |          empty strings from the result.\n",
            " |        maxsplit\n",
            " |          Maximum number of splits (starting from the left).\n",
            " |          -1 (the default value) means no limit.\n",
            " |      \n",
            " |      Splitting starts at the end of the string and works to the front.\n",
            " |  \n",
            " |  rstrip(self, chars=None, /)\n",
            " |      Return a copy of the string with trailing whitespace removed.\n",
            " |      \n",
            " |      If chars is given and not None, remove characters in chars instead.\n",
            " |  \n",
            " |  split(self, /, sep=None, maxsplit=-1)\n",
            " |      Return a list of the substrings in the string, using sep as the separator string.\n",
            " |      \n",
            " |        sep\n",
            " |          The separator used to split the string.\n",
            " |      \n",
            " |          When set to None (the default value), will split on any whitespace\n",
            " |          character (including \\\\n \\\\r \\\\t \\\\f and spaces) and will discard\n",
            " |          empty strings from the result.\n",
            " |        maxsplit\n",
            " |          Maximum number of splits (starting from the left).\n",
            " |          -1 (the default value) means no limit.\n",
            " |      \n",
            " |      Note, str.split() is mainly useful for data that has been intentionally\n",
            " |      delimited.  With natural text that includes punctuation, consider using\n",
            " |      the regular expression module.\n",
            " |  \n",
            " |  splitlines(self, /, keepends=False)\n",
            " |      Return a list of the lines in the string, breaking at line boundaries.\n",
            " |      \n",
            " |      Line breaks are not included in the resulting list unless keepends is given and\n",
            " |      true.\n",
            " |  \n",
            " |  startswith(...)\n",
            " |      S.startswith(prefix[, start[, end]]) -> bool\n",
            " |      \n",
            " |      Return True if S starts with the specified prefix, False otherwise.\n",
            " |      With optional start, test S beginning at that position.\n",
            " |      With optional end, stop comparing S at that position.\n",
            " |      prefix can also be a tuple of strings to try.\n",
            " |  \n",
            " |  strip(self, chars=None, /)\n",
            " |      Return a copy of the string with leading and trailing whitespace removed.\n",
            " |      \n",
            " |      If chars is given and not None, remove characters in chars instead.\n",
            " |  \n",
            " |  swapcase(self, /)\n",
            " |      Convert uppercase characters to lowercase and lowercase characters to uppercase.\n",
            " |  \n",
            " |  title(self, /)\n",
            " |      Return a version of the string where each word is titlecased.\n",
            " |      \n",
            " |      More specifically, words start with uppercased characters and all remaining\n",
            " |      cased characters have lower case.\n",
            " |  \n",
            " |  translate(self, table, /)\n",
            " |      Replace each character in the string using the given translation table.\n",
            " |      \n",
            " |        table\n",
            " |          Translation table, which must be a mapping of Unicode ordinals to\n",
            " |          Unicode ordinals, strings, or None.\n",
            " |      \n",
            " |      The table must implement lookup/indexing via __getitem__, for instance a\n",
            " |      dictionary or list.  If this operation raises LookupError, the character is\n",
            " |      left untouched.  Characters mapped to None are deleted.\n",
            " |  \n",
            " |  upper(self, /)\n",
            " |      Return a copy of the string converted to uppercase.\n",
            " |  \n",
            " |  zfill(self, width, /)\n",
            " |      Pad a numeric string with zeros on the left, to fill a field of the given width.\n",
            " |      \n",
            " |      The string is never truncated.\n",
            " |  \n",
            " |  ----------------------------------------------------------------------\n",
            " |  Static methods defined here:\n",
            " |  \n",
            " |  __new__(*args, **kwargs) from builtins.type\n",
            " |      Create and return a new object.  See help(type) for accurate signature.\n",
            " |  \n",
            " |  maketrans(...)\n",
            " |      Return a translation table usable for str.translate().\n",
            " |      \n",
            " |      If there is only one argument, it must be a dictionary mapping Unicode\n",
            " |      ordinals (integers) or characters to Unicode ordinals, strings or None.\n",
            " |      Character keys will be then converted to ordinals.\n",
            " |      If there are two arguments, they must be strings of equal length, and\n",
            " |      in the resulting dictionary, each character in x will be mapped to the\n",
            " |      character at the same position in y. If there is a third argument, it\n",
            " |      must be a string, whose characters will be mapped to None in the result.\n",
            "\n"
          ]
        }
      ]
    },
    {
      "cell_type": "code",
      "source": [
        "s = str(4)\n",
        "print(f'size of {s} is',s.__sizeof__())\n",
        "print(f'len of {s}',s.__len__())\n",
        "t = repr(4)\n",
        "print(s,t)\n"
      ],
      "metadata": {
        "colab": {
          "base_uri": "https://localhost:8080/"
        },
        "id": "w-8KI0014ppR",
        "outputId": "96ecb758-9d39-4404-e693-5ea1a9007903"
      },
      "execution_count": null,
      "outputs": [
        {
          "output_type": "stream",
          "name": "stdout",
          "text": [
            "size of 4 is 50\n",
            "len of 4 1\n",
            "4 4\n"
          ]
        }
      ]
    },
    {
      "cell_type": "code",
      "source": [
        "r = 'asdffa'\n",
        "p = r.center(11,'d') #center of length 11 between the edges, border is 'd'\n",
        "print(p)\n",
        "p = r.center(2, 'c') # should be error\n",
        "p  #if the length (2) is less than len(p), just do nothing"
      ],
      "metadata": {
        "colab": {
          "base_uri": "https://localhost:8080/",
          "height": 53
        },
        "id": "cEBYj1sc6lvK",
        "outputId": "95a83f7e-8ea2-4540-96c9-bd39660cd54e"
      },
      "execution_count": null,
      "outputs": [
        {
          "output_type": "stream",
          "name": "stdout",
          "text": [
            "dddasdffadd\n"
          ]
        },
        {
          "output_type": "execute_result",
          "data": {
            "text/plain": [
              "'asdffa'"
            ],
            "application/vnd.google.colaboratory.intrinsic+json": {
              "type": "string"
            }
          },
          "metadata": {},
          "execution_count": 45
        }
      ]
    },
    {
      "cell_type": "code",
      "source": [
        "r.endswith('ffda') #indicates if r is ending with this suffix"
      ],
      "metadata": {
        "colab": {
          "base_uri": "https://localhost:8080/"
        },
        "id": "vqYAMvYb7mwr",
        "outputId": "6b01ad0f-82e4-474c-87ec-d03cef214e83"
      },
      "execution_count": null,
      "outputs": [
        {
          "output_type": "execute_result",
          "data": {
            "text/plain": [
              "False"
            ]
          },
          "metadata": {},
          "execution_count": 46
        }
      ]
    },
    {
      "cell_type": "code",
      "source": [
        "string1 = 'prime_number'\n",
        "print('string1:',string1)\n",
        "print(type(string1.encode()))\n",
        "print('string1.encode: ', string1.encode())\n",
        "print(string1)"
      ],
      "metadata": {
        "colab": {
          "base_uri": "https://localhost:8080/"
        },
        "id": "P-8BD8hU71ng",
        "outputId": "c6ad2245-a998-4a06-f185-702b0fb49bca"
      },
      "execution_count": null,
      "outputs": [
        {
          "output_type": "stream",
          "name": "stdout",
          "text": [
            "string1: prime_number\n",
            "<class 'bytes'>\n",
            "string1.encode:  b'prime_number'\n",
            "prime_number\n"
          ]
        }
      ]
    },
    {
      "cell_type": "code",
      "source": [
        "string2 ='pripripri__prime'\n",
        "string2.__ge__(string1) #prints if string2 >= string1. False cause prime_number follows prime in the dictionary"
      ],
      "metadata": {
        "colab": {
          "base_uri": "https://localhost:8080/"
        },
        "id": "TkJUVDJz8eHR",
        "outputId": "22b5f5a7-d04b-40d0-a866-781c24f44dde"
      },
      "execution_count": null,
      "outputs": [
        {
          "output_type": "execute_result",
          "data": {
            "text/plain": [
              "True"
            ]
          },
          "metadata": {},
          "execution_count": 48
        }
      ]
    },
    {
      "cell_type": "code",
      "source": [
        "print(string1.isnumeric()) #not numeric string\n",
        "print(str(1).isnumeric()) # numeric string"
      ],
      "metadata": {
        "colab": {
          "base_uri": "https://localhost:8080/"
        },
        "id": "bohGnZI68yy4",
        "outputId": "bd80358f-1e9c-401b-8fec-0af7d765d13d"
      },
      "execution_count": null,
      "outputs": [
        {
          "output_type": "stream",
          "name": "stdout",
          "text": [
            "False\n",
            "True\n"
          ]
        }
      ]
    },
    {
      "cell_type": "code",
      "source": [
        "print(string1.capitalize())"
      ],
      "metadata": {
        "colab": {
          "base_uri": "https://localhost:8080/"
        },
        "id": "qSWC6xkt9Uuv",
        "outputId": "740f2a4b-86a6-427a-8091-1fc52a1d2b0b"
      },
      "execution_count": null,
      "outputs": [
        {
          "output_type": "stream",
          "name": "stdout",
          "text": [
            "Prime_number\n"
          ]
        }
      ]
    },
    {
      "cell_type": "code",
      "source": [
        "#__count__\n",
        "string2.count('prip') #how many times we can see 'prip' parts of string2 which are not overlapping?"
      ],
      "metadata": {
        "colab": {
          "base_uri": "https://localhost:8080/"
        },
        "id": "dnUBZ6Ay9ikH",
        "outputId": "9946269a-e2a8-4692-c88c-e383f7a39ec7"
      },
      "execution_count": null,
      "outputs": [
        {
          "output_type": "execute_result",
          "data": {
            "text/plain": [
              "1"
            ]
          },
          "metadata": {},
          "execution_count": 51
        }
      ]
    },
    {
      "cell_type": "code",
      "source": [
        "#__rmod__\n",
        "test1_str = str(32)\n",
        "test1_str.__rmod__(4)"
      ],
      "metadata": {
        "colab": {
          "base_uri": "https://localhost:8080/"
        },
        "id": "HKPQsqDA90kT",
        "outputId": "b63f1817-8ba4-4785-f550-bea5c1acd8be"
      },
      "execution_count": null,
      "outputs": [
        {
          "output_type": "execute_result",
          "data": {
            "text/plain": [
              "NotImplemented"
            ]
          },
          "metadata": {},
          "execution_count": 52
        }
      ]
    },
    {
      "cell_type": "code",
      "source": [
        "#removeprefix\n",
        "test2_str = test1_str.removeprefix('2') #removes prefix if present\n",
        "print(test2_str)"
      ],
      "metadata": {
        "colab": {
          "base_uri": "https://localhost:8080/"
        },
        "id": "IJ9PiJZa-TV-",
        "outputId": "2071c0a3-4d17-4499-8196-883ab1afb281"
      },
      "execution_count": null,
      "outputs": [
        {
          "output_type": "stream",
          "name": "stdout",
          "text": [
            "32\n"
          ]
        }
      ]
    },
    {
      "cell_type": "code",
      "source": [],
      "metadata": {
        "id": "s_xPfNv-UhHK"
      },
      "execution_count": null,
      "outputs": []
    },
    {
      "cell_type": "code",
      "source": [
        "#split\n",
        "print(test2_str.split())\n"
      ],
      "metadata": {
        "colab": {
          "base_uri": "https://localhost:8080/"
        },
        "id": "7MpM7jWY--6e",
        "outputId": "9dd9eb1f-aafc-4241-a210-eb927ecac40e"
      },
      "execution_count": null,
      "outputs": [
        {
          "output_type": "stream",
          "name": "stdout",
          "text": [
            "['32']\n"
          ]
        }
      ]
    },
    {
      "cell_type": "code",
      "source": [
        "test2_str.upper()"
      ],
      "metadata": {
        "colab": {
          "base_uri": "https://localhost:8080/",
          "height": 36
        },
        "id": "QdM623xi1GDr",
        "outputId": "f6f495f9-6210-4520-8917-d99c02da6e08"
      },
      "execution_count": null,
      "outputs": [
        {
          "output_type": "execute_result",
          "data": {
            "text/plain": [
              "'32'"
            ],
            "application/vnd.google.colaboratory.intrinsic+json": {
              "type": "string"
            }
          },
          "metadata": {},
          "execution_count": 55
        }
      ]
    },
    {
      "cell_type": "code",
      "source": [
        "string = 'Hello'"
      ],
      "metadata": {
        "id": "_Bv-qGsi1Ged"
      },
      "execution_count": null,
      "outputs": []
    },
    {
      "cell_type": "code",
      "source": [
        "print(string.upper(), string.lower())"
      ],
      "metadata": {
        "colab": {
          "base_uri": "https://localhost:8080/"
        },
        "id": "qJHsi1vy1Gi9",
        "outputId": "d0483220-4178-4ec9-9761-36d9be54964a"
      },
      "execution_count": null,
      "outputs": [
        {
          "output_type": "stream",
          "name": "stdout",
          "text": [
            "HELLO hello\n"
          ]
        }
      ]
    },
    {
      "cell_type": "code",
      "source": [
        "string = 'string'"
      ],
      "metadata": {
        "id": "ztmpOlLY1GlV"
      },
      "execution_count": null,
      "outputs": []
    },
    {
      "cell_type": "code",
      "source": [
        "#string is unchangable\n",
        "string[0] = 's'"
      ],
      "metadata": {
        "colab": {
          "base_uri": "https://localhost:8080/",
          "height": 192
        },
        "id": "hdDviAdi1Gnr",
        "outputId": "d01e9a09-4fd5-437f-9400-03a9c8342d60"
      },
      "execution_count": null,
      "outputs": [
        {
          "output_type": "error",
          "ename": "TypeError",
          "evalue": "ignored",
          "traceback": [
            "\u001b[0;31m---------------------------------------------------------------------------\u001b[0m",
            "\u001b[0;31mTypeError\u001b[0m                                 Traceback (most recent call last)",
            "\u001b[0;32m<ipython-input-59-ae473f83870e>\u001b[0m in \u001b[0;36m<cell line: 2>\u001b[0;34m()\u001b[0m\n\u001b[1;32m      1\u001b[0m \u001b[0;31m#string is unchangable\u001b[0m\u001b[0;34m\u001b[0m\u001b[0;34m\u001b[0m\u001b[0m\n\u001b[0;32m----> 2\u001b[0;31m \u001b[0mstring\u001b[0m\u001b[0;34m[\u001b[0m\u001b[0;36m0\u001b[0m\u001b[0;34m]\u001b[0m \u001b[0;34m=\u001b[0m \u001b[0;34m's'\u001b[0m\u001b[0;34m\u001b[0m\u001b[0;34m\u001b[0m\u001b[0m\n\u001b[0m",
            "\u001b[0;31mTypeError\u001b[0m: 'str' object does not support item assignment"
          ]
        }
      ]
    },
    {
      "cell_type": "code",
      "source": [
        "type(string[0])"
      ],
      "metadata": {
        "colab": {
          "base_uri": "https://localhost:8080/"
        },
        "id": "6U3onOd61GqS",
        "outputId": "25d46816-8f49-48d2-d207-80ffce239450"
      },
      "execution_count": null,
      "outputs": [
        {
          "output_type": "execute_result",
          "data": {
            "text/plain": [
              "str"
            ]
          },
          "metadata": {},
          "execution_count": 39
        }
      ]
    },
    {
      "cell_type": "code",
      "source": [
        "string = 'one and one \\n two \\t th ree \\t four'\n",
        "print(string)"
      ],
      "metadata": {
        "colab": {
          "base_uri": "https://localhost:8080/"
        },
        "id": "hGyZUzs51Gsx",
        "outputId": "a209c662-932e-47cd-8f14-7db8112f2c81"
      },
      "execution_count": null,
      "outputs": [
        {
          "output_type": "stream",
          "name": "stdout",
          "text": [
            "one and one \n",
            " two \t th ree \t four\n"
          ]
        }
      ]
    },
    {
      "cell_type": "code",
      "source": [
        "#splitting\n",
        "splitting_string = string.split()\n",
        "print(splitting_string)"
      ],
      "metadata": {
        "colab": {
          "base_uri": "https://localhost:8080/"
        },
        "id": "iQ772M3h1GwR",
        "outputId": "8871fdd5-4923-4081-9091-c7c830003ce9"
      },
      "execution_count": null,
      "outputs": [
        {
          "output_type": "stream",
          "name": "stdout",
          "text": [
            "['one', 'and', 'one', 'two', 'th', 'ree', 'four']\n"
          ]
        }
      ]
    },
    {
      "cell_type": "code",
      "source": [
        "help(string.split)"
      ],
      "metadata": {
        "colab": {
          "base_uri": "https://localhost:8080/"
        },
        "id": "slH0SFTq3aBH",
        "outputId": "ae7d197c-d72e-414f-f8bc-c05c92e10be6"
      },
      "execution_count": null,
      "outputs": [
        {
          "output_type": "stream",
          "name": "stdout",
          "text": [
            "Help on built-in function split:\n",
            "\n",
            "split(sep=None, maxsplit=-1) method of builtins.str instance\n",
            "    Return a list of the substrings in the string, using sep as the separator string.\n",
            "    \n",
            "      sep\n",
            "        The separator used to split the string.\n",
            "    \n",
            "        When set to None (the default value), will split on any whitespace\n",
            "        character (including \\\\n \\\\r \\\\t \\\\f and spaces) and will discard\n",
            "        empty strings from the result.\n",
            "      maxsplit\n",
            "        Maximum number of splits (starting from the left).\n",
            "        -1 (the default value) means no limit.\n",
            "    \n",
            "    Note, str.split() is mainly useful for data that has been intentionally\n",
            "    delimited.  With natural text that includes punctuation, consider using\n",
            "    the regular expression module.\n",
            "\n"
          ]
        }
      ]
    },
    {
      "cell_type": "code",
      "source": [
        "#using sep in split function : sep = 'symbol' divides if sees the string in ' ' and omits it\n",
        "splitting_string = string.split('\\t')\n",
        "print(splitting_string)\n",
        "\n",
        "splitting_string = string.split('o')\n",
        "print(splitting_string)"
      ],
      "metadata": {
        "colab": {
          "base_uri": "https://localhost:8080/"
        },
        "id": "g9lJuFww3aqa",
        "outputId": "5561afa3-45eb-4345-e0d6-acef2a5929c0"
      },
      "execution_count": null,
      "outputs": [
        {
          "output_type": "stream",
          "name": "stdout",
          "text": [
            "['one and one \\n two ', ' th ree ', ' four']\n",
            "['', 'ne and ', 'ne \\n tw', ' \\t th ree \\t f', 'ur']\n"
          ]
        }
      ]
    },
    {
      "cell_type": "code",
      "source": [
        "help(string.join)"
      ],
      "metadata": {
        "colab": {
          "base_uri": "https://localhost:8080/"
        },
        "id": "y3R0eFHe5ulu",
        "outputId": "c3b6a0e2-31b2-4b13-c5c1-d897929b8932"
      },
      "execution_count": null,
      "outputs": [
        {
          "output_type": "stream",
          "name": "stdout",
          "text": [
            "Help on built-in function join:\n",
            "\n",
            "join(iterable, /) method of builtins.str instance\n",
            "    Concatenate any number of strings.\n",
            "    \n",
            "    The string whose method is called is inserted in between each given string.\n",
            "    The result is returned as a new string.\n",
            "    \n",
            "    Example: '.'.join(['ab', 'pq', 'rs']) -> 'ab.pq.rs'\n",
            "\n"
          ]
        }
      ]
    },
    {
      "cell_type": "code",
      "source": [
        "print(string.join(splitting_string)) # string is used as glue for splitting_string sp[0]+a+sp[1]+a+..."
      ],
      "metadata": {
        "colab": {
          "base_uri": "https://localhost:8080/"
        },
        "id": "qnFCCrJi58Ms",
        "outputId": "c6c3fc50-ceeb-485c-e417-0e770c9afefa"
      },
      "execution_count": null,
      "outputs": [
        {
          "output_type": "stream",
          "name": "stdout",
          "text": [
            "one and one \n",
            " two \t th ree \t fourne and one and one \n",
            " two \t th ree \t fourne \n",
            " twone and one \n",
            " two \t th ree \t four \t th ree \t fone and one \n",
            " two \t th ree \t fourur\n"
          ]
        }
      ]
    },
    {
      "cell_type": "code",
      "source": [
        "# str.split('substring')\n",
        "# 'new_substring'.join(str)\n",
        "#this code will replace 'substring' with 'new_substring'"
      ],
      "metadata": {
        "id": "DWM4qzqm6iuW"
      },
      "execution_count": null,
      "outputs": []
    },
    {
      "cell_type": "code",
      "source": [
        "#replacement in action\n",
        "test = '10100100001001011001000101'\n",
        "split = test.split('0')\n",
        "res = 'x'.join(split)\n",
        "print(res)"
      ],
      "metadata": {
        "colab": {
          "base_uri": "https://localhost:8080/"
        },
        "id": "28-EZYOl7C9B",
        "outputId": "a5d61fba-b9d4-4062-e311-120a4861e679"
      },
      "execution_count": 2,
      "outputs": [
        {
          "output_type": "stream",
          "name": "stdout",
          "text": [
            "1asdf1asdfasdf1asdfasdfasdfasdf1asdfasdf1asdf11asdfasdf1asdfasdfasdf1asdf1\n"
          ]
        }
      ]
    },
    {
      "cell_type": "code",
      "source": [
        "#первый \"а\" на латинице, второй \"а\" на кириллице\n",
        "a = list()\n",
        "а = 'asdfa'\n",
        "print(a,а)"
      ],
      "metadata": {
        "colab": {
          "base_uri": "https://localhost:8080/"
        },
        "id": "ADdnHMy87eeT",
        "outputId": "af3632ea-3259-498c-ccb6-f772790c050e"
      },
      "execution_count": null,
      "outputs": [
        {
          "output_type": "stream",
          "name": "stdout",
          "text": [
            "[] asdfa\n"
          ]
        }
      ]
    },
    {
      "cell_type": "code",
      "source": [
        "#latin\n",
        "type(a)"
      ],
      "metadata": {
        "colab": {
          "base_uri": "https://localhost:8080/"
        },
        "id": "PtTjXUZv7DGz",
        "outputId": "c9383be0-9383-4f3a-bda8-ecfbfb582daa"
      },
      "execution_count": null,
      "outputs": [
        {
          "output_type": "execute_result",
          "data": {
            "text/plain": [
              "list"
            ]
          },
          "metadata": {},
          "execution_count": 81
        }
      ]
    },
    {
      "cell_type": "code",
      "source": [
        "#rus\n",
        "type(а)"
      ],
      "metadata": {
        "colab": {
          "base_uri": "https://localhost:8080/"
        },
        "id": "e2FDFJ0X7DJG",
        "outputId": "9862197a-39fa-4a1b-9903-07b0fbd577fd"
      },
      "execution_count": null,
      "outputs": [
        {
          "output_type": "execute_result",
          "data": {
            "text/plain": [
              "str"
            ]
          },
          "metadata": {},
          "execution_count": 82
        }
      ]
    },
    {
      "cell_type": "code",
      "source": [
        "#objects of a list are of different nature\n",
        "list1 = [12,'dsaf',string.split]\n",
        "print(list1)"
      ],
      "metadata": {
        "colab": {
          "base_uri": "https://localhost:8080/"
        },
        "id": "R6vrq2ru7DK9",
        "outputId": "c47a0c60-16b7-4e44-f98d-d73a9041b51d"
      },
      "execution_count": null,
      "outputs": [
        {
          "output_type": "stream",
          "name": "stdout",
          "text": [
            "[12, 'dsaf', <built-in method split of str object at 0x7b8fff7f7f90>]\n"
          ]
        }
      ]
    },
    {
      "cell_type": "code",
      "source": [
        "# = is not an equality, so fractal is not created))\n",
        "list1 = [1,2,3, list1]\n"
      ],
      "metadata": {
        "id": "YK_B-Iqt7DMx"
      },
      "execution_count": null,
      "outputs": []
    },
    {
      "cell_type": "code",
      "source": [
        "#adding a function applied several times. append is in-place method\n",
        "list1.append(list1.append)"
      ],
      "metadata": {
        "id": "0cQf22Dh7DN8"
      },
      "execution_count": null,
      "outputs": []
    },
    {
      "cell_type": "code",
      "source": [],
      "metadata": {
        "id": "tslPvRG1-CwL"
      },
      "execution_count": null,
      "outputs": []
    },
    {
      "cell_type": "code",
      "source": [
        "#pop also in-place method, applied 4 times\n",
        "list1.pop()"
      ],
      "metadata": {
        "colab": {
          "base_uri": "https://localhost:8080/"
        },
        "id": "MA9bkhIP-DMo",
        "outputId": "4bea1fad-d8df-4ec6-ea74-649f873855f2"
      },
      "execution_count": null,
      "outputs": [
        {
          "output_type": "execute_result",
          "data": {
            "text/plain": [
              "[[12, 'dsaf', <function str.split(sep=None, maxsplit=-1)>]]"
            ]
          },
          "metadata": {},
          "execution_count": 97
        }
      ]
    },
    {
      "cell_type": "code",
      "source": [
        "#list1 is popped\n",
        "print(list1)\n"
      ],
      "metadata": {
        "colab": {
          "base_uri": "https://localhost:8080/"
        },
        "id": "GbQL6n7T-p0N",
        "outputId": "2eedb3a5-82ec-4d18-e1c9-1ebe43277d76"
      },
      "execution_count": null,
      "outputs": [
        {
          "output_type": "stream",
          "name": "stdout",
          "text": [
            "[1, 2, 3]\n"
          ]
        }
      ]
    },
    {
      "cell_type": "code",
      "source": [
        "list1.pop(1)\n",
        "print(list1)"
      ],
      "metadata": {
        "colab": {
          "base_uri": "https://localhost:8080/"
        },
        "id": "9RSquFrQ-uum",
        "outputId": "3a00886d-fc2b-48ae-cc68-9eb41a847df5"
      },
      "execution_count": null,
      "outputs": [
        {
          "output_type": "stream",
          "name": "stdout",
          "text": [
            "[1, 3]\n"
          ]
        }
      ]
    },
    {
      "cell_type": "code",
      "source": [
        "print(list1)"
      ],
      "metadata": {
        "colab": {
          "base_uri": "https://localhost:8080/"
        },
        "id": "c3_flWjw7DRP",
        "outputId": "e39f6eea-2e89-432a-f55a-d3417c315157"
      },
      "execution_count": null,
      "outputs": [
        {
          "output_type": "stream",
          "name": "stdout",
          "text": [
            "[1, 2, 3, [[12, 'dsaf', <built-in method split of str object at 0x7b8fff7f7f90>]], <built-in method append of list object at 0x7b90194dc1c0>, <built-in method append of list object at 0x7b90194dc1c0>, <built-in method append of list object at 0x7b90194dc1c0>, <built-in method append of list object at 0x7b90194dc1c0>]\n"
          ]
        }
      ]
    },
    {
      "cell_type": "code",
      "source": [
        "#class list\n",
        "#shift + enter to launch the code\n",
        "help(list)"
      ],
      "metadata": {
        "colab": {
          "base_uri": "https://localhost:8080/"
        },
        "id": "HL6Ulg5I3as1",
        "outputId": "07e53b25-fe35-45e3-a527-faac4f9fd114"
      },
      "execution_count": null,
      "outputs": [
        {
          "output_type": "stream",
          "name": "stdout",
          "text": [
            "Help on class list in module builtins:\n",
            "\n",
            "class list(object)\n",
            " |  list(iterable=(), /)\n",
            " |  \n",
            " |  Built-in mutable sequence.\n",
            " |  \n",
            " |  If no argument is given, the constructor creates a new empty list.\n",
            " |  The argument must be an iterable if specified.\n",
            " |  \n",
            " |  Methods defined here:\n",
            " |  \n",
            " |  __add__(self, value, /)\n",
            " |      Return self+value.\n",
            " |  \n",
            " |  __contains__(self, key, /)\n",
            " |      Return key in self.\n",
            " |  \n",
            " |  __delitem__(self, key, /)\n",
            " |      Delete self[key].\n",
            " |  \n",
            " |  __eq__(self, value, /)\n",
            " |      Return self==value.\n",
            " |  \n",
            " |  __ge__(self, value, /)\n",
            " |      Return self>=value.\n",
            " |  \n",
            " |  __getattribute__(self, name, /)\n",
            " |      Return getattr(self, name).\n",
            " |  \n",
            " |  __getitem__(...)\n",
            " |      x.__getitem__(y) <==> x[y]\n",
            " |  \n",
            " |  __gt__(self, value, /)\n",
            " |      Return self>value.\n",
            " |  \n",
            " |  __iadd__(self, value, /)\n",
            " |      Implement self+=value.\n",
            " |  \n",
            " |  __imul__(self, value, /)\n",
            " |      Implement self*=value.\n",
            " |  \n",
            " |  __init__(self, /, *args, **kwargs)\n",
            " |      Initialize self.  See help(type(self)) for accurate signature.\n",
            " |  \n",
            " |  __iter__(self, /)\n",
            " |      Implement iter(self).\n",
            " |  \n",
            " |  __le__(self, value, /)\n",
            " |      Return self<=value.\n",
            " |  \n",
            " |  __len__(self, /)\n",
            " |      Return len(self).\n",
            " |  \n",
            " |  __lt__(self, value, /)\n",
            " |      Return self<value.\n",
            " |  \n",
            " |  __mul__(self, value, /)\n",
            " |      Return self*value.\n",
            " |  \n",
            " |  __ne__(self, value, /)\n",
            " |      Return self!=value.\n",
            " |  \n",
            " |  __repr__(self, /)\n",
            " |      Return repr(self).\n",
            " |  \n",
            " |  __reversed__(self, /)\n",
            " |      Return a reverse iterator over the list.\n",
            " |  \n",
            " |  __rmul__(self, value, /)\n",
            " |      Return value*self.\n",
            " |  \n",
            " |  __setitem__(self, key, value, /)\n",
            " |      Set self[key] to value.\n",
            " |  \n",
            " |  __sizeof__(self, /)\n",
            " |      Return the size of the list in memory, in bytes.\n",
            " |  \n",
            " |  append(self, object, /)\n",
            " |      Append object to the end of the list.\n",
            " |  \n",
            " |  clear(self, /)\n",
            " |      Remove all items from list.\n",
            " |  \n",
            " |  copy(self, /)\n",
            " |      Return a shallow copy of the list.\n",
            " |  \n",
            " |  count(self, value, /)\n",
            " |      Return number of occurrences of value.\n",
            " |  \n",
            " |  extend(self, iterable, /)\n",
            " |      Extend list by appending elements from the iterable.\n",
            " |  \n",
            " |  index(self, value, start=0, stop=9223372036854775807, /)\n",
            " |      Return first index of value.\n",
            " |      \n",
            " |      Raises ValueError if the value is not present.\n",
            " |  \n",
            " |  insert(self, index, object, /)\n",
            " |      Insert object before index.\n",
            " |  \n",
            " |  pop(self, index=-1, /)\n",
            " |      Remove and return item at index (default last).\n",
            " |      \n",
            " |      Raises IndexError if list is empty or index is out of range.\n",
            " |  \n",
            " |  remove(self, value, /)\n",
            " |      Remove first occurrence of value.\n",
            " |      \n",
            " |      Raises ValueError if the value is not present.\n",
            " |  \n",
            " |  reverse(self, /)\n",
            " |      Reverse *IN PLACE*.\n",
            " |  \n",
            " |  sort(self, /, *, key=None, reverse=False)\n",
            " |      Sort the list in ascending order and return None.\n",
            " |      \n",
            " |      The sort is in-place (i.e. the list itself is modified) and stable (i.e. the\n",
            " |      order of two equal elements is maintained).\n",
            " |      \n",
            " |      If a key function is given, apply it once to each list item and sort them,\n",
            " |      ascending or descending, according to their function values.\n",
            " |      \n",
            " |      The reverse flag can be set to sort in descending order.\n",
            " |  \n",
            " |  ----------------------------------------------------------------------\n",
            " |  Class methods defined here:\n",
            " |  \n",
            " |  __class_getitem__(...) from builtins.type\n",
            " |      See PEP 585\n",
            " |  \n",
            " |  ----------------------------------------------------------------------\n",
            " |  Static methods defined here:\n",
            " |  \n",
            " |  __new__(*args, **kwargs) from builtins.type\n",
            " |      Create and return a new object.  See help(type) for accurate signature.\n",
            " |  \n",
            " |  ----------------------------------------------------------------------\n",
            " |  Data and other attributes defined here:\n",
            " |  \n",
            " |  __hash__ = None\n",
            "\n"
          ]
        }
      ]
    },
    {
      "cell_type": "code",
      "source": [
        "#ITERABLE CONTAINERS\n"
      ],
      "metadata": {
        "id": "ksIvQm6r3awU"
      },
      "execution_count": null,
      "outputs": []
    },
    {
      "cell_type": "code",
      "source": [
        "for i in list1:\n",
        "  print(i)"
      ],
      "metadata": {
        "colab": {
          "base_uri": "https://localhost:8080/"
        },
        "id": "WH23LSC83axr",
        "outputId": "519e1a79-a15d-4ef6-b2e8-d69011d0cb5c"
      },
      "execution_count": null,
      "outputs": [
        {
          "output_type": "stream",
          "name": "stdout",
          "text": [
            "1\n",
            "3\n"
          ]
        }
      ]
    },
    {
      "cell_type": "code",
      "source": [
        "#negative indices : -1 is the last item code\n",
        "print(list1[-1])"
      ],
      "metadata": {
        "colab": {
          "base_uri": "https://localhost:8080/"
        },
        "id": "AtuEmrqD3a0v",
        "outputId": "7eba9d67-660b-4c4e-d1c7-96be00ba55a0"
      },
      "execution_count": null,
      "outputs": [
        {
          "output_type": "stream",
          "name": "stdout",
          "text": [
            "3\n"
          ]
        }
      ]
    },
    {
      "cell_type": "code",
      "source": [
        "# for i in range(start,finish),\n",
        "print(list1[0:0])\n",
        "print(list1[0:1])"
      ],
      "metadata": {
        "colab": {
          "base_uri": "https://localhost:8080/"
        },
        "id": "Z-vu6GBV3a17",
        "outputId": "bd6e2852-5c8c-4f77-8fef-b97426cac266"
      },
      "execution_count": null,
      "outputs": [
        {
          "output_type": "stream",
          "name": "stdout",
          "text": [
            "[]\n",
            "[1]\n"
          ]
        }
      ]
    },
    {
      "cell_type": "code",
      "source": [
        "list2 = [help(list)]"
      ],
      "metadata": {
        "colab": {
          "base_uri": "https://localhost:8080/"
        },
        "id": "oLrSnxCZDyPe",
        "outputId": "1c8cee8c-b011-4d3e-b568-6d9bc29f1f62"
      },
      "execution_count": null,
      "outputs": [
        {
          "output_type": "stream",
          "name": "stdout",
          "text": [
            "Help on class list in module builtins:\n",
            "\n",
            "class list(object)\n",
            " |  list(iterable=(), /)\n",
            " |  \n",
            " |  Built-in mutable sequence.\n",
            " |  \n",
            " |  If no argument is given, the constructor creates a new empty list.\n",
            " |  The argument must be an iterable if specified.\n",
            " |  \n",
            " |  Methods defined here:\n",
            " |  \n",
            " |  __add__(self, value, /)\n",
            " |      Return self+value.\n",
            " |  \n",
            " |  __contains__(self, key, /)\n",
            " |      Return key in self.\n",
            " |  \n",
            " |  __delitem__(self, key, /)\n",
            " |      Delete self[key].\n",
            " |  \n",
            " |  __eq__(self, value, /)\n",
            " |      Return self==value.\n",
            " |  \n",
            " |  __ge__(self, value, /)\n",
            " |      Return self>=value.\n",
            " |  \n",
            " |  __getattribute__(self, name, /)\n",
            " |      Return getattr(self, name).\n",
            " |  \n",
            " |  __getitem__(...)\n",
            " |      x.__getitem__(y) <==> x[y]\n",
            " |  \n",
            " |  __gt__(self, value, /)\n",
            " |      Return self>value.\n",
            " |  \n",
            " |  __iadd__(self, value, /)\n",
            " |      Implement self+=value.\n",
            " |  \n",
            " |  __imul__(self, value, /)\n",
            " |      Implement self*=value.\n",
            " |  \n",
            " |  __init__(self, /, *args, **kwargs)\n",
            " |      Initialize self.  See help(type(self)) for accurate signature.\n",
            " |  \n",
            " |  __iter__(self, /)\n",
            " |      Implement iter(self).\n",
            " |  \n",
            " |  __le__(self, value, /)\n",
            " |      Return self<=value.\n",
            " |  \n",
            " |  __len__(self, /)\n",
            " |      Return len(self).\n",
            " |  \n",
            " |  __lt__(self, value, /)\n",
            " |      Return self<value.\n",
            " |  \n",
            " |  __mul__(self, value, /)\n",
            " |      Return self*value.\n",
            " |  \n",
            " |  __ne__(self, value, /)\n",
            " |      Return self!=value.\n",
            " |  \n",
            " |  __repr__(self, /)\n",
            " |      Return repr(self).\n",
            " |  \n",
            " |  __reversed__(self, /)\n",
            " |      Return a reverse iterator over the list.\n",
            " |  \n",
            " |  __rmul__(self, value, /)\n",
            " |      Return value*self.\n",
            " |  \n",
            " |  __setitem__(self, key, value, /)\n",
            " |      Set self[key] to value.\n",
            " |  \n",
            " |  __sizeof__(self, /)\n",
            " |      Return the size of the list in memory, in bytes.\n",
            " |  \n",
            " |  append(self, object, /)\n",
            " |      Append object to the end of the list.\n",
            " |  \n",
            " |  clear(self, /)\n",
            " |      Remove all items from list.\n",
            " |  \n",
            " |  copy(self, /)\n",
            " |      Return a shallow copy of the list.\n",
            " |  \n",
            " |  count(self, value, /)\n",
            " |      Return number of occurrences of value.\n",
            " |  \n",
            " |  extend(self, iterable, /)\n",
            " |      Extend list by appending elements from the iterable.\n",
            " |  \n",
            " |  index(self, value, start=0, stop=9223372036854775807, /)\n",
            " |      Return first index of value.\n",
            " |      \n",
            " |      Raises ValueError if the value is not present.\n",
            " |  \n",
            " |  insert(self, index, object, /)\n",
            " |      Insert object before index.\n",
            " |  \n",
            " |  pop(self, index=-1, /)\n",
            " |      Remove and return item at index (default last).\n",
            " |      \n",
            " |      Raises IndexError if list is empty or index is out of range.\n",
            " |  \n",
            " |  remove(self, value, /)\n",
            " |      Remove first occurrence of value.\n",
            " |      \n",
            " |      Raises ValueError if the value is not present.\n",
            " |  \n",
            " |  reverse(self, /)\n",
            " |      Reverse *IN PLACE*.\n",
            " |  \n",
            " |  sort(self, /, *, key=None, reverse=False)\n",
            " |      Sort the list in ascending order and return None.\n",
            " |      \n",
            " |      The sort is in-place (i.e. the list itself is modified) and stable (i.e. the\n",
            " |      order of two equal elements is maintained).\n",
            " |      \n",
            " |      If a key function is given, apply it once to each list item and sort them,\n",
            " |      ascending or descending, according to their function values.\n",
            " |      \n",
            " |      The reverse flag can be set to sort in descending order.\n",
            " |  \n",
            " |  ----------------------------------------------------------------------\n",
            " |  Class methods defined here:\n",
            " |  \n",
            " |  __class_getitem__(...) from builtins.type\n",
            " |      See PEP 585\n",
            " |  \n",
            " |  ----------------------------------------------------------------------\n",
            " |  Static methods defined here:\n",
            " |  \n",
            " |  __new__(*args, **kwargs) from builtins.type\n",
            " |      Create and return a new object.  See help(type) for accurate signature.\n",
            " |  \n",
            " |  ----------------------------------------------------------------------\n",
            " |  Data and other attributes defined here:\n",
            " |  \n",
            " |  __hash__ = None\n",
            "\n"
          ]
        }
      ]
    },
    {
      "cell_type": "code",
      "source": [
        "type(list2[0])"
      ],
      "metadata": {
        "colab": {
          "base_uri": "https://localhost:8080/"
        },
        "id": "ZsHtd0z13a3m",
        "outputId": "09524fdc-568a-4d3c-8694-c393e888f41a"
      },
      "execution_count": null,
      "outputs": [
        {
          "output_type": "execute_result",
          "data": {
            "text/plain": [
              "NoneType"
            ]
          },
          "metadata": {},
          "execution_count": 113
        }
      ]
    },
    {
      "cell_type": "code",
      "source": [
        "list2 =['test_str']"
      ],
      "metadata": {
        "id": "UZyCvuHd3a4v"
      },
      "execution_count": null,
      "outputs": []
    },
    {
      "cell_type": "code",
      "source": [
        "list3 = list2[:] #copy of list2\n",
        "list4 = list2 #the same obj\n",
        "\n",
        "print(list3 is list2)\n",
        "print(list4 is list2)"
      ],
      "metadata": {
        "colab": {
          "base_uri": "https://localhost:8080/"
        },
        "id": "aKTL5etS3a56",
        "outputId": "3f80512a-c284-42ab-96d9-25d33c403efa"
      },
      "execution_count": null,
      "outputs": [
        {
          "output_type": "stream",
          "name": "stdout",
          "text": [
            "False\n",
            "True\n"
          ]
        }
      ]
    },
    {
      "cell_type": "code",
      "source": [
        "list2.append(3)"
      ],
      "metadata": {
        "id": "w6ou_8Bc3a7A"
      },
      "execution_count": null,
      "outputs": []
    },
    {
      "cell_type": "code",
      "source": [
        "#list3 is a different object, list4 is list2, so it changed\n",
        "print(list3,'\\n',list4)"
      ],
      "metadata": {
        "colab": {
          "base_uri": "https://localhost:8080/"
        },
        "id": "f2Xdg2I-3bB8",
        "outputId": "0a684caf-55e1-4f9d-8faa-b027edb05d04"
      },
      "execution_count": null,
      "outputs": [
        {
          "output_type": "stream",
          "name": "stdout",
          "text": [
            "['test_str'] \n",
            " ['test_str', 3]\n"
          ]
        }
      ]
    },
    {
      "cell_type": "code",
      "source": [
        "tuple1 = (1,2,3)\n",
        "tuple1.append(4)"
      ],
      "metadata": {
        "colab": {
          "base_uri": "https://localhost:8080/",
          "height": 192
        },
        "id": "nldbeR0g3bC3",
        "outputId": "fbe1c44e-339a-4cc4-f66f-3f093c4aacd6"
      },
      "execution_count": null,
      "outputs": [
        {
          "output_type": "error",
          "ename": "AttributeError",
          "evalue": "ignored",
          "traceback": [
            "\u001b[0;31m---------------------------------------------------------------------------\u001b[0m",
            "\u001b[0;31mAttributeError\u001b[0m                            Traceback (most recent call last)",
            "\u001b[0;32m<ipython-input-122-c78d2504ccfe>\u001b[0m in \u001b[0;36m<cell line: 2>\u001b[0;34m()\u001b[0m\n\u001b[1;32m      1\u001b[0m \u001b[0mtuple1\u001b[0m \u001b[0;34m=\u001b[0m \u001b[0;34m(\u001b[0m\u001b[0;36m1\u001b[0m\u001b[0;34m,\u001b[0m\u001b[0;36m2\u001b[0m\u001b[0;34m,\u001b[0m\u001b[0;36m3\u001b[0m\u001b[0;34m)\u001b[0m\u001b[0;34m\u001b[0m\u001b[0;34m\u001b[0m\u001b[0m\n\u001b[0;32m----> 2\u001b[0;31m \u001b[0mtuple1\u001b[0m\u001b[0;34m.\u001b[0m\u001b[0mappend\u001b[0m\u001b[0;34m(\u001b[0m\u001b[0;36m4\u001b[0m\u001b[0;34m)\u001b[0m\u001b[0;34m\u001b[0m\u001b[0;34m\u001b[0m\u001b[0m\n\u001b[0m",
            "\u001b[0;31mAttributeError\u001b[0m: 'tuple' object has no attribute 'append'"
          ]
        }
      ]
    },
    {
      "cell_type": "code",
      "source": [
        "tuple1[0] = 4"
      ],
      "metadata": {
        "colab": {
          "base_uri": "https://localhost:8080/",
          "height": 175
        },
        "id": "cuQdnmu03bD0",
        "outputId": "f274ef8c-57f8-48fe-ca55-c0c2e8d48deb"
      },
      "execution_count": null,
      "outputs": [
        {
          "output_type": "error",
          "ename": "TypeError",
          "evalue": "ignored",
          "traceback": [
            "\u001b[0;31m---------------------------------------------------------------------------\u001b[0m",
            "\u001b[0;31mTypeError\u001b[0m                                 Traceback (most recent call last)",
            "\u001b[0;32m<ipython-input-123-b061c826e1c6>\u001b[0m in \u001b[0;36m<cell line: 1>\u001b[0;34m()\u001b[0m\n\u001b[0;32m----> 1\u001b[0;31m \u001b[0mtuple1\u001b[0m\u001b[0;34m[\u001b[0m\u001b[0;36m0\u001b[0m\u001b[0;34m]\u001b[0m \u001b[0;34m=\u001b[0m \u001b[0;36m4\u001b[0m\u001b[0;34m\u001b[0m\u001b[0;34m\u001b[0m\u001b[0m\n\u001b[0m",
            "\u001b[0;31mTypeError\u001b[0m: 'tuple' object does not support item assignment"
          ]
        }
      ]
    },
    {
      "cell_type": "code",
      "source": [
        "#hash functions\n",
        "\n",
        "help(hash)"
      ],
      "metadata": {
        "colab": {
          "base_uri": "https://localhost:8080/"
        },
        "id": "So3IzFlD3bE0",
        "outputId": "4e2548e3-e1ab-45f2-e386-83fa1a877195"
      },
      "execution_count": null,
      "outputs": [
        {
          "output_type": "stream",
          "name": "stdout",
          "text": [
            "Help on built-in function hash in module builtins:\n",
            "\n",
            "hash(obj, /)\n",
            "    Return the hash value for the given object.\n",
            "    \n",
            "    Two objects that compare equal must also have the same hash value, but the\n",
            "    reverse is not necessarily true.\n",
            "\n"
          ]
        }
      ]
    },
    {
      "cell_type": "code",
      "source": [
        "hash(tuple1)"
      ],
      "metadata": {
        "colab": {
          "base_uri": "https://localhost:8080/"
        },
        "id": "6DS4AnYt3bGH",
        "outputId": "244a11c7-dd29-417b-efec-1a4ff67d2835"
      },
      "execution_count": null,
      "outputs": [
        {
          "output_type": "execute_result",
          "data": {
            "text/plain": [
              "529344067295497451"
            ]
          },
          "metadata": {},
          "execution_count": 127
        }
      ]
    },
    {
      "cell_type": "code",
      "source": [
        "print(hash('sdf'))\n",
        "'sdf'.__hash__() == hash('sdf') #__hash__ is also a magic method"
      ],
      "metadata": {
        "colab": {
          "base_uri": "https://localhost:8080/"
        },
        "id": "nxKMqkvE3bG8",
        "outputId": "4c39911f-5b8a-41ab-b67a-6e50d74b8eb2"
      },
      "execution_count": null,
      "outputs": [
        {
          "output_type": "stream",
          "name": "stdout",
          "text": [
            "-6243893236941019941\n"
          ]
        },
        {
          "output_type": "execute_result",
          "data": {
            "text/plain": [
              "True"
            ]
          },
          "metadata": {},
          "execution_count": 130
        }
      ]
    },
    {
      "cell_type": "code",
      "source": [
        "#start, stop, step\n",
        "\n",
        "list3 = []\n",
        "for i in range(100):\n",
        "  list3.append(i)\n",
        "print(list3[0:100:2]) #start 0 stop 100 step 2"
      ],
      "metadata": {
        "colab": {
          "base_uri": "https://localhost:8080/"
        },
        "id": "QrZkE4T8H-tb",
        "outputId": "4dd8da6c-679a-4f8d-b83b-6a36cfb2a02d"
      },
      "execution_count": null,
      "outputs": [
        {
          "output_type": "stream",
          "name": "stdout",
          "text": [
            "[0, 2, 4, 6, 8, 10, 12, 14, 16, 18, 20, 22, 24, 26, 28, 30, 32, 34, 36, 38, 40, 42, 44, 46, 48, 50, 52, 54, 56, 58, 60, 62, 64, 66, 68, 70, 72, 74, 76, 78, 80, 82, 84, 86, 88, 90, 92, 94, 96, 98]\n"
          ]
        }
      ]
    },
    {
      "cell_type": "code",
      "source": [
        "list3[::] # the full list\n",
        "list3[:] #list as an array\n",
        "list3 #just list\n",
        "list3[:2] #elements from list3[0] to list3[1]\n",
        "list3[::2] #even elements\n",
        "list3[1::2] #begin with 1 el"
      ],
      "metadata": {
        "colab": {
          "base_uri": "https://localhost:8080/"
        },
        "id": "5tTv67oQIjlF",
        "outputId": "c0380778-19d0-4168-d38c-48ae5ce9b1b5"
      },
      "execution_count": null,
      "outputs": [
        {
          "output_type": "execute_result",
          "data": {
            "text/plain": [
              "[1,\n",
              " 3,\n",
              " 5,\n",
              " 7,\n",
              " 9,\n",
              " 11,\n",
              " 13,\n",
              " 15,\n",
              " 17,\n",
              " 19,\n",
              " 21,\n",
              " 23,\n",
              " 25,\n",
              " 27,\n",
              " 29,\n",
              " 31,\n",
              " 33,\n",
              " 35,\n",
              " 37,\n",
              " 39,\n",
              " 41,\n",
              " 43,\n",
              " 45,\n",
              " 47,\n",
              " 49,\n",
              " 51,\n",
              " 53,\n",
              " 55,\n",
              " 57,\n",
              " 59,\n",
              " 61,\n",
              " 63,\n",
              " 65,\n",
              " 67,\n",
              " 69,\n",
              " 71,\n",
              " 73,\n",
              " 75,\n",
              " 77,\n",
              " 79,\n",
              " 81,\n",
              " 83,\n",
              " 85,\n",
              " 87,\n",
              " 89,\n",
              " 91,\n",
              " 93,\n",
              " 95,\n",
              " 97,\n",
              " 99]"
            ]
          },
          "metadata": {},
          "execution_count": 147
        }
      ]
    },
    {
      "cell_type": "code",
      "source": [
        "list3[:50:6]"
      ],
      "metadata": {
        "colab": {
          "base_uri": "https://localhost:8080/"
        },
        "id": "Pik6rzsBJs0t",
        "outputId": "32f6b5e1-ab7c-4249-cdd9-6acc558008f9"
      },
      "execution_count": null,
      "outputs": [
        {
          "output_type": "execute_result",
          "data": {
            "text/plain": [
              "[0, 6, 12, 18, 24, 30, 36, 42, 48]"
            ]
          },
          "metadata": {},
          "execution_count": 148
        }
      ]
    },
    {
      "cell_type": "code",
      "source": [
        "list3[::] == list3[0:len(list3):1] #срез = default"
      ],
      "metadata": {
        "colab": {
          "base_uri": "https://localhost:8080/"
        },
        "id": "bSQ5X17nJy92",
        "outputId": "ed976b11-2c95-499d-b6a5-114532566f5d"
      },
      "execution_count": null,
      "outputs": [
        {
          "output_type": "execute_result",
          "data": {
            "text/plain": [
              "True"
            ]
          },
          "metadata": {},
          "execution_count": 149
        }
      ]
    },
    {
      "cell_type": "code",
      "source": [
        "list4 = list3[1:40:3]\n",
        "list4.index(28) #element 28 has index 9. if the element not in list, index() raized the error\n",
        "print(list4[9])"
      ],
      "metadata": {
        "colab": {
          "base_uri": "https://localhost:8080/"
        },
        "id": "70KyaTzRKGCM",
        "outputId": "2925640e-4bc7-4046-960f-0bfe0c2544f9"
      },
      "execution_count": null,
      "outputs": [
        {
          "output_type": "stream",
          "name": "stdout",
          "text": [
            "28\n"
          ]
        }
      ]
    },
    {
      "cell_type": "code",
      "source": [
        "'c' in 'cabd' #bool"
      ],
      "metadata": {
        "colab": {
          "base_uri": "https://localhost:8080/"
        },
        "id": "B-S2dIUOKbZk",
        "outputId": "26801452-fd7a-4b9f-9bda-99c6676d4ce6"
      },
      "execution_count": null,
      "outputs": [
        {
          "output_type": "execute_result",
          "data": {
            "text/plain": [
              "True"
            ]
          },
          "metadata": {},
          "execution_count": 154
        }
      ]
    },
    {
      "cell_type": "code",
      "source": [
        "string4 = 'c a g a b c a g a c a a f d c'\n",
        "list4 = string4.split()\n",
        "print(list4)\n",
        "s = 0\n",
        "if 'c' in list4:\n",
        "  s += 1\n",
        "print(s)"
      ],
      "metadata": {
        "colab": {
          "base_uri": "https://localhost:8080/"
        },
        "id": "pjhusgj8K5_u",
        "outputId": "139b5787-a996-4763-c3b6-f59e665d6783"
      },
      "execution_count": null,
      "outputs": [
        {
          "output_type": "stream",
          "name": "stdout",
          "text": [
            "['c', 'a', 'g', 'a', 'b', 'c', 'a', 'g', 'a', 'c', 'a', 'a', 'f', 'd', 'c']\n",
            "1\n"
          ]
        }
      ]
    }
  ]
}