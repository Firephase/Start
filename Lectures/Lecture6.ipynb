{
  "nbformat": 4,
  "nbformat_minor": 0,
  "metadata": {
    "colab": {
      "provenance": []
    },
    "kernelspec": {
      "name": "python3",
      "display_name": "Python 3"
    },
    "language_info": {
      "name": "python"
    }
  },
  "cells": [
    {
      "cell_type": "code",
      "execution_count": null,
      "metadata": {
        "id": "IdB55ZHVs4ho"
      },
      "outputs": [],
      "source": [
        "#anonimous funcitons\n",
        "#classes and attributes\n",
        "#namespaces, locals and globals\n",
        "#"
      ]
    },
    {
      "cell_type": "code",
      "source": [
        "lambda x,y,z : print(x,y,z,sep='\\n \\n \\n')"
      ],
      "metadata": {
        "colab": {
          "base_uri": "https://localhost:8080/"
        },
        "id": "wP8uuE7PtPoa",
        "outputId": "67f67d8a-18a9-42bd-8227-548da900970e"
      },
      "execution_count": 2,
      "outputs": [
        {
          "output_type": "execute_result",
          "data": {
            "text/plain": [
              "<function __main__.<lambda>(x, y, z)>"
            ]
          },
          "metadata": {},
          "execution_count": 2
        }
      ]
    },
    {
      "cell_type": "code",
      "source": [
        "print(lambda x,y,z : print(x,y,z,sep='\\n \\n \\n'))"
      ],
      "metadata": {
        "colab": {
          "base_uri": "https://localhost:8080/"
        },
        "id": "aTFGK7lotQAF",
        "outputId": "00261f48-6a84-43d3-fd99-caf1ac4ddfe3"
      },
      "execution_count": 3,
      "outputs": [
        {
          "output_type": "stream",
          "name": "stdout",
          "text": [
            "<function <lambda> at 0x7fabdaa64820>\n"
          ]
        }
      ]
    },
    {
      "cell_type": "code",
      "source": [
        "print(type(lambda x,y,z : print(x,y,z,sep='\\n \\n \\n')))"
      ],
      "metadata": {
        "colab": {
          "base_uri": "https://localhost:8080/"
        },
        "id": "efGG8SuhtQCW",
        "outputId": "f13511b3-b6b3-442c-81d9-1a891563866f"
      },
      "execution_count": 4,
      "outputs": [
        {
          "output_type": "stream",
          "name": "stdout",
          "text": [
            "<class 'function'>\n"
          ]
        }
      ]
    },
    {
      "cell_type": "code",
      "source": [
        "f_lambda = lambda x : str(x)"
      ],
      "metadata": {
        "id": "ZY4MOKTGtQDx"
      },
      "execution_count": 6,
      "outputs": []
    },
    {
      "cell_type": "code",
      "source": [
        "f_lambda([1,3,4])"
      ],
      "metadata": {
        "colab": {
          "base_uri": "https://localhost:8080/",
          "height": 36
        },
        "id": "-ErwfZiWtQdD",
        "outputId": "607373ca-395a-4667-b6b9-1ed5e0b0fe46"
      },
      "execution_count": 7,
      "outputs": [
        {
          "output_type": "execute_result",
          "data": {
            "text/plain": [
              "'[1, 3, 4]'"
            ],
            "application/vnd.google.colaboratory.intrinsic+json": {
              "type": "string"
            }
          },
          "metadata": {},
          "execution_count": 7
        }
      ]
    },
    {
      "cell_type": "code",
      "source": [
        "keys = map(lambda x : x**3, range(10))"
      ],
      "metadata": {
        "id": "UuzzVM7MtQfr"
      },
      "execution_count": 19,
      "outputs": []
    },
    {
      "cell_type": "code",
      "source": [
        "keys"
      ],
      "metadata": {
        "colab": {
          "base_uri": "https://localhost:8080/"
        },
        "id": "TwwMZjpdtQh0",
        "outputId": "ce55784a-b2ca-4a26-86fa-029af6719e91"
      },
      "execution_count": 9,
      "outputs": [
        {
          "output_type": "execute_result",
          "data": {
            "text/plain": [
              "<map at 0x7fabf7055510>"
            ]
          },
          "metadata": {},
          "execution_count": 9
        }
      ]
    },
    {
      "cell_type": "code",
      "source": [
        "*keys"
      ],
      "metadata": {
        "colab": {
          "base_uri": "https://localhost:8080/",
          "height": 140
        },
        "id": "vZ8LdMJptQlJ",
        "outputId": "337b3778-b8b8-4959-ffb6-300bf8a0de1c"
      },
      "execution_count": 10,
      "outputs": [
        {
          "output_type": "error",
          "ename": "SyntaxError",
          "evalue": "ignored",
          "traceback": [
            "\u001b[0;36m  File \u001b[0;32m\"<ipython-input-10-88229a5ae35c>\"\u001b[0;36m, line \u001b[0;32m1\u001b[0m\n\u001b[0;31m    *keys\u001b[0m\n\u001b[0m    ^\u001b[0m\n\u001b[0;31mSyntaxError\u001b[0m\u001b[0;31m:\u001b[0m can't use starred expression here\n"
          ]
        }
      ]
    },
    {
      "cell_type": "code",
      "source": [
        "(keys)"
      ],
      "metadata": {
        "colab": {
          "base_uri": "https://localhost:8080/"
        },
        "id": "mxvhGl7CuUbh",
        "outputId": "ddde8f55-0318-4b08-e436-f8f7ef3a7bb3"
      },
      "execution_count": 11,
      "outputs": [
        {
          "output_type": "execute_result",
          "data": {
            "text/plain": [
              "<map at 0x7fabf7055510>"
            ]
          },
          "metadata": {},
          "execution_count": 11
        }
      ]
    },
    {
      "cell_type": "code",
      "source": [
        "print(list(keys))\n",
        "#keys is eaten already, we need to reproduce it again\n",
        "print(dict({key : str(key)} for key in keys))\n",
        "#dict(key) will be empty cause the generator dead"
      ],
      "metadata": {
        "colab": {
          "base_uri": "https://localhost:8080/"
        },
        "id": "l7KVYij0uX3j",
        "outputId": "f6bbbd76-ff51-48e7-9ab9-38bf399780e6"
      },
      "execution_count": 20,
      "outputs": [
        {
          "output_type": "stream",
          "name": "stdout",
          "text": [
            "[0, 1, 8, 27, 64, 125, 216, 343, 512, 729]\n",
            "{}\n"
          ]
        }
      ]
    },
    {
      "cell_type": "code",
      "source": [
        "keys\n",
        "list(keys)"
      ],
      "metadata": {
        "colab": {
          "base_uri": "https://localhost:8080/"
        },
        "id": "zN2uC2IduZR8",
        "outputId": "6d974b84-b12c-4cb3-e1a2-0dc92a25b6b9"
      },
      "execution_count": 22,
      "outputs": [
        {
          "output_type": "execute_result",
          "data": {
            "text/plain": [
              "[]"
            ]
          },
          "metadata": {},
          "execution_count": 22
        }
      ]
    },
    {
      "cell_type": "code",
      "source": [
        "print(list(map(lambda x,y : x*y, range(10),range(10,-10,-1))))"
      ],
      "metadata": {
        "colab": {
          "base_uri": "https://localhost:8080/"
        },
        "id": "Q0NtGwWYvJaV",
        "outputId": "5555d687-7931-418e-c9f1-c22f91a421ff"
      },
      "execution_count": 23,
      "outputs": [
        {
          "output_type": "stream",
          "name": "stdout",
          "text": [
            "[0, 9, 16, 21, 24, 25, 24, 21, 16, 9]\n"
          ]
        }
      ]
    },
    {
      "cell_type": "code",
      "source": [
        "#what's the difference? can map act on generators, not only on lists???\n",
        "print(list(map(lambda x,y : x*y, list(range(10)),list(range(10,-10,-1)))))"
      ],
      "metadata": {
        "colab": {
          "base_uri": "https://localhost:8080/"
        },
        "id": "MoVjpSZSvJd6",
        "outputId": "ded05c97-0f6d-4547-ef0e-ff2503d32c36"
      },
      "execution_count": 24,
      "outputs": [
        {
          "output_type": "stream",
          "name": "stdout",
          "text": [
            "[0, 9, 16, 21, 24, 25, 24, 21, 16, 9]\n"
          ]
        }
      ]
    },
    {
      "cell_type": "code",
      "source": [
        "func = lambda x_list : sorted(x_list, key = lambda x : x**2)\n",
        "\n",
        "list2 = [-2,-1,-4,-5,4,5,2,8]\n",
        "print(func(list2)) #should sort by square : res like -1, -2, 2, -4, 4, -5, 5, 8\n",
        "#perfect, from the 1st time!"
      ],
      "metadata": {
        "colab": {
          "base_uri": "https://localhost:8080/"
        },
        "id": "ag5ICqcywSAt",
        "outputId": "1e2cf748-c143-45ce-d5cb-9d5f932ec64b"
      },
      "execution_count": 26,
      "outputs": [
        {
          "output_type": "stream",
          "name": "stdout",
          "text": [
            "[-1, -2, 2, -4, 4, -5, 5, 8]\n"
          ]
        }
      ]
    },
    {
      "cell_type": "code",
      "source": [
        "list1 = ['23','adasdfsfasdf', str(2**10)]\n",
        "print(sorted(list1, key = lambda x : -len(x))) #sort by descending length. Expected : 23, 2**10, adasdf...,\n",
        "#oh I meant that\n",
        "#great"
      ],
      "metadata": {
        "colab": {
          "base_uri": "https://localhost:8080/"
        },
        "id": "CfndCgITxod_",
        "outputId": "2d361926-4948-4e7b-d310-f6ae786eb803"
      },
      "execution_count": 27,
      "outputs": [
        {
          "output_type": "stream",
          "name": "stdout",
          "text": [
            "['adasdfsfasdf', '1024', '23']\n"
          ]
        }
      ]
    },
    {
      "cell_type": "code",
      "source": [
        "print?"
      ],
      "metadata": {
        "id": "QpsD3JRLxof0"
      },
      "execution_count": 28,
      "outputs": []
    },
    {
      "cell_type": "code",
      "source": [
        "class First:\n",
        "  def method1(self):\n",
        "    print('meth1')\n",
        "  def method2():\n",
        "    print('meth2, no obj')"
      ],
      "metadata": {
        "id": "7YxQiB1sxoh9"
      },
      "execution_count": 29,
      "outputs": []
    },
    {
      "cell_type": "code",
      "source": [
        "First().method1()\n",
        "First.method2()\n"
      ],
      "metadata": {
        "colab": {
          "base_uri": "https://localhost:8080/"
        },
        "id": "DWoWeyfhxokl",
        "outputId": "86d89cab-9ba3-430e-ad69-ccac0bb8acb2"
      },
      "execution_count": 30,
      "outputs": [
        {
          "output_type": "stream",
          "name": "stdout",
          "text": [
            "meth1\n",
            "meth2, no obj\n"
          ]
        }
      ]
    },
    {
      "cell_type": "code",
      "source": [
        "First.mro()\n",
        "#это шо такое за mro"
      ],
      "metadata": {
        "colab": {
          "base_uri": "https://localhost:8080/"
        },
        "id": "PxM5RbbvxonC",
        "outputId": "d110848d-7bc0-4acf-da9e-902910bdc965"
      },
      "execution_count": 32,
      "outputs": [
        {
          "output_type": "execute_result",
          "data": {
            "text/plain": [
              "[__main__.First, object]"
            ]
          },
          "metadata": {},
          "execution_count": 32
        }
      ]
    },
    {
      "cell_type": "code",
      "source": [
        "First.method3 = lambda x,y : x(y)"
      ],
      "metadata": {
        "id": "lUOcQmhpxoqd"
      },
      "execution_count": 35,
      "outputs": []
    },
    {
      "cell_type": "code",
      "source": [
        "help(First)"
      ],
      "metadata": {
        "colab": {
          "base_uri": "https://localhost:8080/"
        },
        "id": "x6qknU-k0x3M",
        "outputId": "cf9e6844-0652-4ada-813e-d7921945310d"
      },
      "execution_count": 36,
      "outputs": [
        {
          "output_type": "stream",
          "name": "stdout",
          "text": [
            "Help on class First in module __main__:\n",
            "\n",
            "class First(builtins.object)\n",
            " |  Methods defined here:\n",
            " |  \n",
            " |  method1(self)\n",
            " |  \n",
            " |  method2()\n",
            " |  \n",
            " |  method3 lambda x, y\n",
            " |  \n",
            " |  ----------------------------------------------------------------------\n",
            " |  Data descriptors defined here:\n",
            " |  \n",
            " |  __dict__\n",
            " |      dictionary for instance variables (if defined)\n",
            " |  \n",
            " |  __weakref__\n",
            " |      list of weak references to the object (if defined)\n",
            "\n"
          ]
        }
      ]
    },
    {
      "cell_type": "code",
      "source": [
        "First.method3(print,str(print))"
      ],
      "metadata": {
        "colab": {
          "base_uri": "https://localhost:8080/"
        },
        "id": "g-mFx-9s05Iy",
        "outputId": "9d691d03-ac4e-4c8f-96b2-5dbf44407e08"
      },
      "execution_count": 37,
      "outputs": [
        {
          "output_type": "stream",
          "name": "stdout",
          "text": [
            "<built-in function print>\n"
          ]
        }
      ]
    },
    {
      "cell_type": "code",
      "source": [
        "First.method3(print,help)"
      ],
      "metadata": {
        "colab": {
          "base_uri": "https://localhost:8080/"
        },
        "id": "PA6NhXbo0_jB",
        "outputId": "04100b4d-ecd1-4713-a3e8-7b0b323de40e"
      },
      "execution_count": 40,
      "outputs": [
        {
          "output_type": "stream",
          "name": "stdout",
          "text": [
            "Type help() for interactive help, or help(object) for help about object.\n"
          ]
        }
      ]
    },
    {
      "cell_type": "code",
      "source": [
        "def foo():\n",
        "  \"\"\"docstring:\n",
        "  this function does nothing\"\"\"\n",
        "  pass\n",
        "#it shows the doctsing"
      ],
      "metadata": {
        "id": "KiXk5NGq1bwS"
      },
      "execution_count": 42,
      "outputs": []
    },
    {
      "cell_type": "code",
      "source": [
        "help(foo)"
      ],
      "metadata": {
        "colab": {
          "base_uri": "https://localhost:8080/"
        },
        "id": "Qr9A0pvk6QZf",
        "outputId": "9457c349-6d60-4f19-c131-ac3b49ec9f33"
      },
      "execution_count": 43,
      "outputs": [
        {
          "output_type": "stream",
          "name": "stdout",
          "text": [
            "Help on function foo in module __main__:\n",
            "\n",
            "foo()\n",
            "    docstring: \n",
            "    this function does nothing\n",
            "\n"
          ]
        }
      ]
    },
    {
      "cell_type": "code",
      "source": [
        "def foo1():\n",
        "  pass"
      ],
      "metadata": {
        "id": "KF3gsRNu6aOp"
      },
      "execution_count": 45,
      "outputs": []
    },
    {
      "cell_type": "code",
      "source": [
        "help(foo1)"
      ],
      "metadata": {
        "colab": {
          "base_uri": "https://localhost:8080/"
        },
        "id": "7rvn4gm36gad",
        "outputId": "f4e235ff-bb5b-41a1-b669-0cdd5ac2bbc1"
      },
      "execution_count": 46,
      "outputs": [
        {
          "output_type": "stream",
          "name": "stdout",
          "text": [
            "Help on function foo1 in module __main__:\n",
            "\n",
            "foo1()\n",
            "\n"
          ]
        }
      ]
    },
    {
      "cell_type": "code",
      "source": [
        "dir(foo1)"
      ],
      "metadata": {
        "colab": {
          "base_uri": "https://localhost:8080/"
        },
        "id": "ibqhKmPa6jQb",
        "outputId": "433583e2-92be-401a-c502-9a374e9b4fbc"
      },
      "execution_count": 47,
      "outputs": [
        {
          "output_type": "execute_result",
          "data": {
            "text/plain": [
              "['__annotations__',\n",
              " '__builtins__',\n",
              " '__call__',\n",
              " '__class__',\n",
              " '__closure__',\n",
              " '__code__',\n",
              " '__defaults__',\n",
              " '__delattr__',\n",
              " '__dict__',\n",
              " '__dir__',\n",
              " '__doc__',\n",
              " '__eq__',\n",
              " '__format__',\n",
              " '__ge__',\n",
              " '__get__',\n",
              " '__getattribute__',\n",
              " '__globals__',\n",
              " '__gt__',\n",
              " '__hash__',\n",
              " '__init__',\n",
              " '__init_subclass__',\n",
              " '__kwdefaults__',\n",
              " '__le__',\n",
              " '__lt__',\n",
              " '__module__',\n",
              " '__name__',\n",
              " '__ne__',\n",
              " '__new__',\n",
              " '__qualname__',\n",
              " '__reduce__',\n",
              " '__reduce_ex__',\n",
              " '__repr__',\n",
              " '__setattr__',\n",
              " '__sizeof__',\n",
              " '__str__',\n",
              " '__subclasshook__']"
            ]
          },
          "metadata": {},
          "execution_count": 47
        }
      ]
    },
    {
      "cell_type": "code",
      "source": [
        "#static_values\n",
        "\n",
        "def get_next_id():\n",
        "  if not hasattr(get_next_id, 'value'):\n",
        "    get_next_id.value = 0\n",
        "  get_next_id.value +=  1\n",
        "  return get_next_id.value\n"
      ],
      "metadata": {
        "id": "XmIoLKNr6qW4"
      },
      "execution_count": 49,
      "outputs": []
    },
    {
      "cell_type": "code",
      "source": [
        "s = get_next_id()\n",
        "print(s)\n",
        "#охуеть круто"
      ],
      "metadata": {
        "colab": {
          "base_uri": "https://localhost:8080/"
        },
        "id": "WMklqVEs7PGa",
        "outputId": "9b2c4368-389b-4bfd-c83e-564623f4cf59"
      },
      "execution_count": 55,
      "outputs": [
        {
          "output_type": "stream",
          "name": "stdout",
          "text": [
            "6\n"
          ]
        }
      ]
    },
    {
      "cell_type": "code",
      "source": [
        "dir(get_next_id)"
      ],
      "metadata": {
        "colab": {
          "base_uri": "https://localhost:8080/"
        },
        "id": "WWnTihgm70P0",
        "outputId": "c3ee207b-033e-428d-bef9-ee7593799a51"
      },
      "execution_count": 56,
      "outputs": [
        {
          "output_type": "execute_result",
          "data": {
            "text/plain": [
              "['__annotations__',\n",
              " '__builtins__',\n",
              " '__call__',\n",
              " '__class__',\n",
              " '__closure__',\n",
              " '__code__',\n",
              " '__defaults__',\n",
              " '__delattr__',\n",
              " '__dict__',\n",
              " '__dir__',\n",
              " '__doc__',\n",
              " '__eq__',\n",
              " '__format__',\n",
              " '__ge__',\n",
              " '__get__',\n",
              " '__getattribute__',\n",
              " '__globals__',\n",
              " '__gt__',\n",
              " '__hash__',\n",
              " '__init__',\n",
              " '__init_subclass__',\n",
              " '__kwdefaults__',\n",
              " '__le__',\n",
              " '__lt__',\n",
              " '__module__',\n",
              " '__name__',\n",
              " '__ne__',\n",
              " '__new__',\n",
              " '__qualname__',\n",
              " '__reduce__',\n",
              " '__reduce_ex__',\n",
              " '__repr__',\n",
              " '__setattr__',\n",
              " '__sizeof__',\n",
              " '__str__',\n",
              " '__subclasshook__',\n",
              " 'value']"
            ]
          },
          "metadata": {},
          "execution_count": 56
        }
      ]
    },
    {
      "cell_type": "code",
      "source": [
        "print(*[name for name in dir(list) if name.startswith('__')],sep=\"\\n\")\n",
        "#write all magic methods of the list class"
      ],
      "metadata": {
        "colab": {
          "base_uri": "https://localhost:8080/"
        },
        "id": "f8Nnk2_18KJk",
        "outputId": "75ef508d-a6b5-4363-89d3-285536b0f60e"
      },
      "execution_count": 58,
      "outputs": [
        {
          "output_type": "stream",
          "name": "stdout",
          "text": [
            "__add__\n",
            "__class__\n",
            "__class_getitem__\n",
            "__contains__\n",
            "__delattr__\n",
            "__delitem__\n",
            "__dir__\n",
            "__doc__\n",
            "__eq__\n",
            "__format__\n",
            "__ge__\n",
            "__getattribute__\n",
            "__getitem__\n",
            "__gt__\n",
            "__hash__\n",
            "__iadd__\n",
            "__imul__\n",
            "__init__\n",
            "__init_subclass__\n",
            "__iter__\n",
            "__le__\n",
            "__len__\n",
            "__lt__\n",
            "__mul__\n",
            "__ne__\n",
            "__new__\n",
            "__reduce__\n",
            "__reduce_ex__\n",
            "__repr__\n",
            "__reversed__\n",
            "__rmul__\n",
            "__setattr__\n",
            "__setitem__\n",
            "__sizeof__\n",
            "__str__\n",
            "__subclasshook__\n"
          ]
        }
      ]
    },
    {
      "cell_type": "code",
      "source": [
        "def foo2(c,d,a='aaaa', b='adfasdfasdfaf'):\n",
        "  print(a,b,c,d,sep='\\n')\n"
      ],
      "metadata": {
        "id": "77GYJtfm9Epm"
      },
      "execution_count": 62,
      "outputs": []
    },
    {
      "cell_type": "code",
      "source": [
        "print(foo2.__defaults__)"
      ],
      "metadata": {
        "colab": {
          "base_uri": "https://localhost:8080/"
        },
        "id": "AyIqwp2y8Kcv",
        "outputId": "addfb018-e729-4926-8714-5328b336d7a9"
      },
      "execution_count": 63,
      "outputs": [
        {
          "output_type": "stream",
          "name": "stdout",
          "text": [
            "('aaaa', 'adfasdfasdfaf')\n"
          ]
        }
      ]
    },
    {
      "cell_type": "code",
      "source": [
        "foo2.__defaults__ = ('Allahu', 'Akbar!')"
      ],
      "metadata": {
        "id": "Eydccnjl8Knq"
      },
      "execution_count": 64,
      "outputs": []
    },
    {
      "cell_type": "code",
      "source": [
        "print(foo2.__defaults__)"
      ],
      "metadata": {
        "colab": {
          "base_uri": "https://localhost:8080/"
        },
        "id": "r0lE3qGh8Kt9",
        "outputId": "93aadaec-e83b-4ba3-9b5e-0029a94442b3"
      },
      "execution_count": 65,
      "outputs": [
        {
          "output_type": "stream",
          "name": "stdout",
          "text": [
            "('Allahu', 'Akbar!')\n"
          ]
        }
      ]
    },
    {
      "cell_type": "code",
      "source": [
        "#better not put mutable objects\n",
        "def foo3(a, b=[]):\n",
        "  b.append(a)\n",
        "  print(*b)"
      ],
      "metadata": {
        "id": "-QdkP4YR8KyN"
      },
      "execution_count": 66,
      "outputs": []
    },
    {
      "cell_type": "code",
      "source": [
        "s = 'Lol you think you cannot change default arguments???? wahhha'\n",
        "list3 = s.split()\n",
        "for i in list3:\n",
        "  foo3(i)\n"
      ],
      "metadata": {
        "colab": {
          "base_uri": "https://localhost:8080/"
        },
        "id": "qH5HjxE18K1l",
        "outputId": "5dd6cce5-3432-4ff0-bd67-321f3ea1662e"
      },
      "execution_count": 67,
      "outputs": [
        {
          "output_type": "stream",
          "name": "stdout",
          "text": [
            "Lol\n",
            "Lol you\n",
            "Lol you think\n",
            "Lol you think you\n",
            "Lol you think you cannot\n",
            "Lol you think you cannot change\n",
            "Lol you think you cannot change default\n",
            "Lol you think you cannot change default arguments????\n",
            "Lol you think you cannot change default arguments???? wahhha\n"
          ]
        }
      ]
    },
    {
      "cell_type": "code",
      "source": [
        "globals()"
      ],
      "metadata": {
        "colab": {
          "base_uri": "https://localhost:8080/"
        },
        "id": "TPfdPxD_8K4S",
        "outputId": "22595777-21c1-456e-d871-0be9bf2a87dc"
      },
      "execution_count": 68,
      "outputs": [
        {
          "output_type": "execute_result",
          "data": {
            "text/plain": [
              "{'__name__': '__main__',\n",
              " '__doc__': 'Automatically created module for IPython interactive environment',\n",
              " '__package__': None,\n",
              " '__loader__': None,\n",
              " '__spec__': None,\n",
              " '__builtin__': <module 'builtins' (built-in)>,\n",
              " '__builtins__': <module 'builtins' (built-in)>,\n",
              " '_ih': ['',\n",
              "  'lambda x : print(x)',\n",
              "  \"lambda x,y,z : print(x,y,z,sep='\\\\n \\\\n \\\\n')\",\n",
              "  \"print(lambda x,y,z : print(x,y,z,sep='\\\\n \\\\n \\\\n'))\",\n",
              "  \"print(type(lambda x,y,z : print(x,y,z,sep='\\\\n \\\\n \\\\n')))\",\n",
              "  'lambda x : str(x)',\n",
              "  'f_lambda = lambda x : str(x)',\n",
              "  'f_lambda([1,3,4])',\n",
              "  'keys = map(lambda x : x**3, range(10))',\n",
              "  'keys',\n",
              "  '*keys',\n",
              "  '(keys)',\n",
              "  '[keys]',\n",
              "  'print(list(keys))',\n",
              "  'print(list(keys))\\nprint(dict(key : str(key) for key in keys))',\n",
              "  'print(list(keys))\\nprint(dict({key : str(key)} for key in keys))',\n",
              "  'keys = map(lambda x : x**3, range(10))',\n",
              "  'print(list(keys))\\nprint(dict({key : str(key)} for key in keys))',\n",
              "  'print(list(keys))\\nprint(dict({key : str(key)} for key in keys))',\n",
              "  'keys = map(lambda x : x**3, range(10))',\n",
              "  'print(list(keys))\\n#keys is eaten already, we need to reproduce it again\\nprint(dict({key : str(key)} for key in keys))',\n",
              "  'keys',\n",
              "  'keys\\nlist(keys)',\n",
              "  'print(list(map(lambda x,y : x*y, range(10),range(10,-10,-1))))',\n",
              "  'print(list(map(lambda x,y : x*y, list(range(10)),list(range(10,-10,-1)))))',\n",
              "  'func = lambda x_list : sorted(x_list, key = lambda x : x**2)',\n",
              "  'func = lambda x_list : sorted(x_list, key = lambda x : x**2)\\n\\nlist2 = [-2,-1,-4,-5,4,5,2,8]\\nprint(func(list2)) #should sort by square : res like -1, -2, 2, -4, 4, -5, 5, 8',\n",
              "  \"list1 = ['23','adasdfsfasdf', str(2**10)]\\nprint(sorted(list1, key = lambda x : -len(x))) #sort by descending length. Expected : 23, 2**10, adasdf...\",\n",
              "  \"get_ipython().run_line_magic('pinfo', 'print')\",\n",
              "  \"class First:\\n  def method1(self):\\n    print('meth1')\\n  def method2():\\n    print('meth2, no obj')\",\n",
              "  'First().method1()\\nFirst.method2()',\n",
              "  'First.mro',\n",
              "  'First.mro()',\n",
              "  'First().config/',\n",
              "  'First().config/float',\n",
              "  'First.method3 = lambda x,y : x(y)',\n",
              "  'help(First)',\n",
              "  'First.method3(print,str(print))',\n",
              "  'First.method3(print,help(this))',\n",
              "  'First.method3(print,help())',\n",
              "  'First.method3(print,help)',\n",
              "  'def foo():',\n",
              "  'def foo():\\n  \"\"\"docstring: \\n  this function does nothing\"\"\"\\n  pass',\n",
              "  'help(foo)',\n",
              "  'def foo1():',\n",
              "  'def foo1():\\n  pass',\n",
              "  'help(foo1)',\n",
              "  'dir(foo1)',\n",
              "  '#static_values\\n\\ndef get_next_id():',\n",
              "  \"#static_values\\n\\ndef get_next_id():\\n  if not hasattr(get_next_id, 'value'):\\n    get_next_id.value = 0\\n  get_next_id.value +=  1\\n  return get_next_id.value\",\n",
              "  's = get_next_id()',\n",
              "  's = get_next_id()\\nprint(s)',\n",
              "  's = get_next_id()\\nprint(s)',\n",
              "  's = get_next_id()\\nprint(s)',\n",
              "  's = get_next_id()\\nprint(s)',\n",
              "  's = get_next_id()\\nprint(s)',\n",
              "  'dir(get_next_id)',\n",
              "  \"print(*[name for name in dir(list) if name.startswith('__')])\",\n",
              "  'print(*[name for name in dir(list) if name.startswith(\\'__\\')],sep=\"\\\\n\")',\n",
              "  \"def foo2(a='aaaa', b= 'adfasdfasdfaf', c,d)\",\n",
              "  \"def foo2(a='aaaa', b= 'adfasdfasdfaf', c,d):\\n  print(a,b,c,d,sep='\\\\n')\",\n",
              "  \"def foo2(a='aaaa', b='adfasdfasdfaf',c,d):\\n  print(a,b,c,d,sep='\\\\n')\",\n",
              "  \"def foo2(c,d,a='aaaa', b='adfasdfasdfaf'):\\n  print(a,b,c,d,sep='\\\\n')\",\n",
              "  'print(foo2.__defaults__)',\n",
              "  \"foo2.__defaults__ = ('Allahu', 'Akbar!')\",\n",
              "  'print(foo2.__defaults__)',\n",
              "  'def foo3(a, b=[]):\\n  b.append(a)\\n  print(*b)',\n",
              "  \"s = 'Lol you think you cannot change default arguments???? wahhha'\\nlist3 = s.split()\\nfor i in list3:\\n  foo3(i)\",\n",
              "  'globals()'],\n",
              " '_oh': {1: <function __main__.<lambda>(x)>,\n",
              "  2: <function __main__.<lambda>(x, y, z)>,\n",
              "  5: <function __main__.<lambda>(x)>,\n",
              "  7: '[1, 3, 4]',\n",
              "  9: <map at 0x7fabf7055510>,\n",
              "  11: <map at 0x7fabf7055510>,\n",
              "  12: [<map at 0x7fabf7055510>],\n",
              "  21: <map at 0x7fabf70551b0>,\n",
              "  22: [],\n",
              "  31: <function First.mro()>,\n",
              "  32: [__main__.First, object],\n",
              "  47: ['__annotations__',\n",
              "   '__builtins__',\n",
              "   '__call__',\n",
              "   '__class__',\n",
              "   '__closure__',\n",
              "   '__code__',\n",
              "   '__defaults__',\n",
              "   '__delattr__',\n",
              "   '__dict__',\n",
              "   '__dir__',\n",
              "   '__doc__',\n",
              "   '__eq__',\n",
              "   '__format__',\n",
              "   '__ge__',\n",
              "   '__get__',\n",
              "   '__getattribute__',\n",
              "   '__globals__',\n",
              "   '__gt__',\n",
              "   '__hash__',\n",
              "   '__init__',\n",
              "   '__init_subclass__',\n",
              "   '__kwdefaults__',\n",
              "   '__le__',\n",
              "   '__lt__',\n",
              "   '__module__',\n",
              "   '__name__',\n",
              "   '__ne__',\n",
              "   '__new__',\n",
              "   '__qualname__',\n",
              "   '__reduce__',\n",
              "   '__reduce_ex__',\n",
              "   '__repr__',\n",
              "   '__setattr__',\n",
              "   '__sizeof__',\n",
              "   '__str__',\n",
              "   '__subclasshook__'],\n",
              "  56: ['__annotations__',\n",
              "   '__builtins__',\n",
              "   '__call__',\n",
              "   '__class__',\n",
              "   '__closure__',\n",
              "   '__code__',\n",
              "   '__defaults__',\n",
              "   '__delattr__',\n",
              "   '__dict__',\n",
              "   '__dir__',\n",
              "   '__doc__',\n",
              "   '__eq__',\n",
              "   '__format__',\n",
              "   '__ge__',\n",
              "   '__get__',\n",
              "   '__getattribute__',\n",
              "   '__globals__',\n",
              "   '__gt__',\n",
              "   '__hash__',\n",
              "   '__init__',\n",
              "   '__init_subclass__',\n",
              "   '__kwdefaults__',\n",
              "   '__le__',\n",
              "   '__lt__',\n",
              "   '__module__',\n",
              "   '__name__',\n",
              "   '__ne__',\n",
              "   '__new__',\n",
              "   '__qualname__',\n",
              "   '__reduce__',\n",
              "   '__reduce_ex__',\n",
              "   '__repr__',\n",
              "   '__setattr__',\n",
              "   '__sizeof__',\n",
              "   '__str__',\n",
              "   '__subclasshook__',\n",
              "   'value']},\n",
              " '_dh': ['/content'],\n",
              " 'In': ['',\n",
              "  'lambda x : print(x)',\n",
              "  \"lambda x,y,z : print(x,y,z,sep='\\\\n \\\\n \\\\n')\",\n",
              "  \"print(lambda x,y,z : print(x,y,z,sep='\\\\n \\\\n \\\\n'))\",\n",
              "  \"print(type(lambda x,y,z : print(x,y,z,sep='\\\\n \\\\n \\\\n')))\",\n",
              "  'lambda x : str(x)',\n",
              "  'f_lambda = lambda x : str(x)',\n",
              "  'f_lambda([1,3,4])',\n",
              "  'keys = map(lambda x : x**3, range(10))',\n",
              "  'keys',\n",
              "  '*keys',\n",
              "  '(keys)',\n",
              "  '[keys]',\n",
              "  'print(list(keys))',\n",
              "  'print(list(keys))\\nprint(dict(key : str(key) for key in keys))',\n",
              "  'print(list(keys))\\nprint(dict({key : str(key)} for key in keys))',\n",
              "  'keys = map(lambda x : x**3, range(10))',\n",
              "  'print(list(keys))\\nprint(dict({key : str(key)} for key in keys))',\n",
              "  'print(list(keys))\\nprint(dict({key : str(key)} for key in keys))',\n",
              "  'keys = map(lambda x : x**3, range(10))',\n",
              "  'print(list(keys))\\n#keys is eaten already, we need to reproduce it again\\nprint(dict({key : str(key)} for key in keys))',\n",
              "  'keys',\n",
              "  'keys\\nlist(keys)',\n",
              "  'print(list(map(lambda x,y : x*y, range(10),range(10,-10,-1))))',\n",
              "  'print(list(map(lambda x,y : x*y, list(range(10)),list(range(10,-10,-1)))))',\n",
              "  'func = lambda x_list : sorted(x_list, key = lambda x : x**2)',\n",
              "  'func = lambda x_list : sorted(x_list, key = lambda x : x**2)\\n\\nlist2 = [-2,-1,-4,-5,4,5,2,8]\\nprint(func(list2)) #should sort by square : res like -1, -2, 2, -4, 4, -5, 5, 8',\n",
              "  \"list1 = ['23','adasdfsfasdf', str(2**10)]\\nprint(sorted(list1, key = lambda x : -len(x))) #sort by descending length. Expected : 23, 2**10, adasdf...\",\n",
              "  \"get_ipython().run_line_magic('pinfo', 'print')\",\n",
              "  \"class First:\\n  def method1(self):\\n    print('meth1')\\n  def method2():\\n    print('meth2, no obj')\",\n",
              "  'First().method1()\\nFirst.method2()',\n",
              "  'First.mro',\n",
              "  'First.mro()',\n",
              "  'First().config/',\n",
              "  'First().config/float',\n",
              "  'First.method3 = lambda x,y : x(y)',\n",
              "  'help(First)',\n",
              "  'First.method3(print,str(print))',\n",
              "  'First.method3(print,help(this))',\n",
              "  'First.method3(print,help())',\n",
              "  'First.method3(print,help)',\n",
              "  'def foo():',\n",
              "  'def foo():\\n  \"\"\"docstring: \\n  this function does nothing\"\"\"\\n  pass',\n",
              "  'help(foo)',\n",
              "  'def foo1():',\n",
              "  'def foo1():\\n  pass',\n",
              "  'help(foo1)',\n",
              "  'dir(foo1)',\n",
              "  '#static_values\\n\\ndef get_next_id():',\n",
              "  \"#static_values\\n\\ndef get_next_id():\\n  if not hasattr(get_next_id, 'value'):\\n    get_next_id.value = 0\\n  get_next_id.value +=  1\\n  return get_next_id.value\",\n",
              "  's = get_next_id()',\n",
              "  's = get_next_id()\\nprint(s)',\n",
              "  's = get_next_id()\\nprint(s)',\n",
              "  's = get_next_id()\\nprint(s)',\n",
              "  's = get_next_id()\\nprint(s)',\n",
              "  's = get_next_id()\\nprint(s)',\n",
              "  'dir(get_next_id)',\n",
              "  \"print(*[name for name in dir(list) if name.startswith('__')])\",\n",
              "  'print(*[name for name in dir(list) if name.startswith(\\'__\\')],sep=\"\\\\n\")',\n",
              "  \"def foo2(a='aaaa', b= 'adfasdfasdfaf', c,d)\",\n",
              "  \"def foo2(a='aaaa', b= 'adfasdfasdfaf', c,d):\\n  print(a,b,c,d,sep='\\\\n')\",\n",
              "  \"def foo2(a='aaaa', b='adfasdfasdfaf',c,d):\\n  print(a,b,c,d,sep='\\\\n')\",\n",
              "  \"def foo2(c,d,a='aaaa', b='adfasdfasdfaf'):\\n  print(a,b,c,d,sep='\\\\n')\",\n",
              "  'print(foo2.__defaults__)',\n",
              "  \"foo2.__defaults__ = ('Allahu', 'Akbar!')\",\n",
              "  'print(foo2.__defaults__)',\n",
              "  'def foo3(a, b=[]):\\n  b.append(a)\\n  print(*b)',\n",
              "  \"s = 'Lol you think you cannot change default arguments???? wahhha'\\nlist3 = s.split()\\nfor i in list3:\\n  foo3(i)\",\n",
              "  'globals()'],\n",
              " 'Out': {1: <function __main__.<lambda>(x)>,\n",
              "  2: <function __main__.<lambda>(x, y, z)>,\n",
              "  5: <function __main__.<lambda>(x)>,\n",
              "  7: '[1, 3, 4]',\n",
              "  9: <map at 0x7fabf7055510>,\n",
              "  11: <map at 0x7fabf7055510>,\n",
              "  12: [<map at 0x7fabf7055510>],\n",
              "  21: <map at 0x7fabf70551b0>,\n",
              "  22: [],\n",
              "  31: <function First.mro()>,\n",
              "  32: [__main__.First, object],\n",
              "  47: ['__annotations__',\n",
              "   '__builtins__',\n",
              "   '__call__',\n",
              "   '__class__',\n",
              "   '__closure__',\n",
              "   '__code__',\n",
              "   '__defaults__',\n",
              "   '__delattr__',\n",
              "   '__dict__',\n",
              "   '__dir__',\n",
              "   '__doc__',\n",
              "   '__eq__',\n",
              "   '__format__',\n",
              "   '__ge__',\n",
              "   '__get__',\n",
              "   '__getattribute__',\n",
              "   '__globals__',\n",
              "   '__gt__',\n",
              "   '__hash__',\n",
              "   '__init__',\n",
              "   '__init_subclass__',\n",
              "   '__kwdefaults__',\n",
              "   '__le__',\n",
              "   '__lt__',\n",
              "   '__module__',\n",
              "   '__name__',\n",
              "   '__ne__',\n",
              "   '__new__',\n",
              "   '__qualname__',\n",
              "   '__reduce__',\n",
              "   '__reduce_ex__',\n",
              "   '__repr__',\n",
              "   '__setattr__',\n",
              "   '__sizeof__',\n",
              "   '__str__',\n",
              "   '__subclasshook__'],\n",
              "  56: ['__annotations__',\n",
              "   '__builtins__',\n",
              "   '__call__',\n",
              "   '__class__',\n",
              "   '__closure__',\n",
              "   '__code__',\n",
              "   '__defaults__',\n",
              "   '__delattr__',\n",
              "   '__dict__',\n",
              "   '__dir__',\n",
              "   '__doc__',\n",
              "   '__eq__',\n",
              "   '__format__',\n",
              "   '__ge__',\n",
              "   '__get__',\n",
              "   '__getattribute__',\n",
              "   '__globals__',\n",
              "   '__gt__',\n",
              "   '__hash__',\n",
              "   '__init__',\n",
              "   '__init_subclass__',\n",
              "   '__kwdefaults__',\n",
              "   '__le__',\n",
              "   '__lt__',\n",
              "   '__module__',\n",
              "   '__name__',\n",
              "   '__ne__',\n",
              "   '__new__',\n",
              "   '__qualname__',\n",
              "   '__reduce__',\n",
              "   '__reduce_ex__',\n",
              "   '__repr__',\n",
              "   '__setattr__',\n",
              "   '__sizeof__',\n",
              "   '__str__',\n",
              "   '__subclasshook__',\n",
              "   'value']},\n",
              " 'get_ipython': <bound method InteractiveShell.get_ipython of <google.colab._shell.Shell object at 0x7fac085725c0>>,\n",
              " 'exit': <IPython.core.autocall.ZMQExitAutocall at 0x7fac08572fb0>,\n",
              " 'quit': <IPython.core.autocall.ZMQExitAutocall at 0x7fac08572fb0>,\n",
              " '_': ['__annotations__',\n",
              "  '__builtins__',\n",
              "  '__call__',\n",
              "  '__class__',\n",
              "  '__closure__',\n",
              "  '__code__',\n",
              "  '__defaults__',\n",
              "  '__delattr__',\n",
              "  '__dict__',\n",
              "  '__dir__',\n",
              "  '__doc__',\n",
              "  '__eq__',\n",
              "  '__format__',\n",
              "  '__ge__',\n",
              "  '__get__',\n",
              "  '__getattribute__',\n",
              "  '__globals__',\n",
              "  '__gt__',\n",
              "  '__hash__',\n",
              "  '__init__',\n",
              "  '__init_subclass__',\n",
              "  '__kwdefaults__',\n",
              "  '__le__',\n",
              "  '__lt__',\n",
              "  '__module__',\n",
              "  '__name__',\n",
              "  '__ne__',\n",
              "  '__new__',\n",
              "  '__qualname__',\n",
              "  '__reduce__',\n",
              "  '__reduce_ex__',\n",
              "  '__repr__',\n",
              "  '__setattr__',\n",
              "  '__sizeof__',\n",
              "  '__str__',\n",
              "  '__subclasshook__',\n",
              "  'value'],\n",
              " '__': ['__annotations__',\n",
              "  '__builtins__',\n",
              "  '__call__',\n",
              "  '__class__',\n",
              "  '__closure__',\n",
              "  '__code__',\n",
              "  '__defaults__',\n",
              "  '__delattr__',\n",
              "  '__dict__',\n",
              "  '__dir__',\n",
              "  '__doc__',\n",
              "  '__eq__',\n",
              "  '__format__',\n",
              "  '__ge__',\n",
              "  '__get__',\n",
              "  '__getattribute__',\n",
              "  '__globals__',\n",
              "  '__gt__',\n",
              "  '__hash__',\n",
              "  '__init__',\n",
              "  '__init_subclass__',\n",
              "  '__kwdefaults__',\n",
              "  '__le__',\n",
              "  '__lt__',\n",
              "  '__module__',\n",
              "  '__name__',\n",
              "  '__ne__',\n",
              "  '__new__',\n",
              "  '__qualname__',\n",
              "  '__reduce__',\n",
              "  '__reduce_ex__',\n",
              "  '__repr__',\n",
              "  '__setattr__',\n",
              "  '__sizeof__',\n",
              "  '__str__',\n",
              "  '__subclasshook__'],\n",
              " '___': [__main__.First, object],\n",
              " '_i': \"s = 'Lol you think you cannot change default arguments???? wahhha'\\nlist3 = s.split()\\nfor i in list3:\\n  foo3(i)\",\n",
              " '_ii': 'def foo3(a, b=[]):\\n  b.append(a)\\n  print(*b)',\n",
              " '_iii': 'print(foo2.__defaults__)',\n",
              " '_i1': 'lambda x : print(x)',\n",
              " '_1': <function __main__.<lambda>(x)>,\n",
              " '_i2': \"lambda x,y,z : print(x,y,z,sep='\\\\n \\\\n \\\\n')\",\n",
              " '_2': <function __main__.<lambda>(x, y, z)>,\n",
              " '_i3': \"print(lambda x,y,z : print(x,y,z,sep='\\\\n \\\\n \\\\n'))\",\n",
              " '_i4': \"print(type(lambda x,y,z : print(x,y,z,sep='\\\\n \\\\n \\\\n')))\",\n",
              " '_i5': 'lambda x : str(x)',\n",
              " '_5': <function __main__.<lambda>(x)>,\n",
              " '_i6': 'f_lambda = lambda x : str(x)',\n",
              " 'f_lambda': <function __main__.<lambda>(x)>,\n",
              " '_i7': 'f_lambda([1,3,4])',\n",
              " '_7': '[1, 3, 4]',\n",
              " '_i8': 'keys = map(lambda x : x**3, range(10))',\n",
              " 'keys': <map at 0x7fabf70551b0>,\n",
              " '_i9': 'keys',\n",
              " '_9': <map at 0x7fabf7055510>,\n",
              " '_i10': '*keys',\n",
              " '_i11': '(keys)',\n",
              " '_11': <map at 0x7fabf7055510>,\n",
              " '_i12': '[keys]',\n",
              " '_12': [<map at 0x7fabf7055510>],\n",
              " '_i13': 'print(list(keys))',\n",
              " '_i14': 'print(list(keys))\\nprint(dict(key : str(key) for key in keys))',\n",
              " '_i15': 'print(list(keys))\\nprint(dict({key : str(key)} for key in keys))',\n",
              " '_i16': 'keys = map(lambda x : x**3, range(10))',\n",
              " '_i17': 'print(list(keys))\\nprint(dict({key : str(key)} for key in keys))',\n",
              " '_i18': 'print(list(keys))\\nprint(dict({key : str(key)} for key in keys))',\n",
              " '_i19': 'keys = map(lambda x : x**3, range(10))',\n",
              " '_i20': 'print(list(keys))\\n#keys is eaten already, we need to reproduce it again\\nprint(dict({key : str(key)} for key in keys))',\n",
              " '_i21': 'keys',\n",
              " '_21': <map at 0x7fabf70551b0>,\n",
              " '_i22': 'keys\\nlist(keys)',\n",
              " '_22': [],\n",
              " '_i23': 'print(list(map(lambda x,y : x*y, range(10),range(10,-10,-1))))',\n",
              " '_i24': 'print(list(map(lambda x,y : x*y, list(range(10)),list(range(10,-10,-1)))))',\n",
              " '_i25': 'func = lambda x_list : sorted(x_list, key = lambda x : x**2)',\n",
              " 'func': <function __main__.<lambda>(x_list)>,\n",
              " '_i26': 'func = lambda x_list : sorted(x_list, key = lambda x : x**2)\\n\\nlist2 = [-2,-1,-4,-5,4,5,2,8]\\nprint(func(list2)) #should sort by square : res like -1, -2, 2, -4, 4, -5, 5, 8',\n",
              " 'list2': [-2, -1, -4, -5, 4, 5, 2, 8],\n",
              " '_i27': \"list1 = ['23','adasdfsfasdf', str(2**10)]\\nprint(sorted(list1, key = lambda x : -len(x))) #sort by descending length. Expected : 23, 2**10, adasdf...\",\n",
              " 'list1': ['23', 'adasdfsfasdf', '1024'],\n",
              " '_i28': 'print?',\n",
              " '_i29': \"class First:\\n  def method1(self):\\n    print('meth1')\\n  def method2():\\n    print('meth2, no obj')\",\n",
              " 'First': __main__.First,\n",
              " '_i30': 'First().method1()\\nFirst.method2()',\n",
              " '_i31': 'First.mro',\n",
              " '_31': <function First.mro()>,\n",
              " '_i32': 'First.mro()',\n",
              " '_32': [__main__.First, object],\n",
              " '_i33': 'First().config/',\n",
              " '_i34': 'First().config/float',\n",
              " '_i35': 'First.method3 = lambda x,y : x(y)',\n",
              " '_i36': 'help(First)',\n",
              " '_i37': 'First.method3(print,str(print))',\n",
              " '_i38': 'First.method3(print,help(this))',\n",
              " '_i39': 'First.method3(print,help())',\n",
              " '_i40': 'First.method3(print,help)',\n",
              " '_i41': 'def foo():',\n",
              " '_i42': 'def foo():\\n  \"\"\"docstring: \\n  this function does nothing\"\"\"\\n  pass',\n",
              " 'foo': <function __main__.foo()>,\n",
              " '_i43': 'help(foo)',\n",
              " '_i44': 'def foo1():',\n",
              " '_i45': 'def foo1():\\n  pass',\n",
              " 'foo1': <function __main__.foo1()>,\n",
              " '_i46': 'help(foo1)',\n",
              " '_i47': 'dir(foo1)',\n",
              " '_47': ['__annotations__',\n",
              "  '__builtins__',\n",
              "  '__call__',\n",
              "  '__class__',\n",
              "  '__closure__',\n",
              "  '__code__',\n",
              "  '__defaults__',\n",
              "  '__delattr__',\n",
              "  '__dict__',\n",
              "  '__dir__',\n",
              "  '__doc__',\n",
              "  '__eq__',\n",
              "  '__format__',\n",
              "  '__ge__',\n",
              "  '__get__',\n",
              "  '__getattribute__',\n",
              "  '__globals__',\n",
              "  '__gt__',\n",
              "  '__hash__',\n",
              "  '__init__',\n",
              "  '__init_subclass__',\n",
              "  '__kwdefaults__',\n",
              "  '__le__',\n",
              "  '__lt__',\n",
              "  '__module__',\n",
              "  '__name__',\n",
              "  '__ne__',\n",
              "  '__new__',\n",
              "  '__qualname__',\n",
              "  '__reduce__',\n",
              "  '__reduce_ex__',\n",
              "  '__repr__',\n",
              "  '__setattr__',\n",
              "  '__sizeof__',\n",
              "  '__str__',\n",
              "  '__subclasshook__'],\n",
              " '_i48': '#static_values\\n\\ndef get_next_id():',\n",
              " '_i49': \"#static_values\\n\\ndef get_next_id():\\n  if not hasattr(get_next_id, 'value'):\\n    get_next_id.value = 0\\n  get_next_id.value +=  1\\n  return get_next_id.value\",\n",
              " 'get_next_id': <function __main__.get_next_id()>,\n",
              " '_i50': 's = get_next_id()',\n",
              " 's': 'Lol you think you cannot change default arguments???? wahhha',\n",
              " '_i51': 's = get_next_id()\\nprint(s)',\n",
              " '_i52': 's = get_next_id()\\nprint(s)',\n",
              " '_i53': 's = get_next_id()\\nprint(s)',\n",
              " '_i54': 's = get_next_id()\\nprint(s)',\n",
              " '_i55': 's = get_next_id()\\nprint(s)',\n",
              " '_i56': 'dir(get_next_id)',\n",
              " '_56': ['__annotations__',\n",
              "  '__builtins__',\n",
              "  '__call__',\n",
              "  '__class__',\n",
              "  '__closure__',\n",
              "  '__code__',\n",
              "  '__defaults__',\n",
              "  '__delattr__',\n",
              "  '__dict__',\n",
              "  '__dir__',\n",
              "  '__doc__',\n",
              "  '__eq__',\n",
              "  '__format__',\n",
              "  '__ge__',\n",
              "  '__get__',\n",
              "  '__getattribute__',\n",
              "  '__globals__',\n",
              "  '__gt__',\n",
              "  '__hash__',\n",
              "  '__init__',\n",
              "  '__init_subclass__',\n",
              "  '__kwdefaults__',\n",
              "  '__le__',\n",
              "  '__lt__',\n",
              "  '__module__',\n",
              "  '__name__',\n",
              "  '__ne__',\n",
              "  '__new__',\n",
              "  '__qualname__',\n",
              "  '__reduce__',\n",
              "  '__reduce_ex__',\n",
              "  '__repr__',\n",
              "  '__setattr__',\n",
              "  '__sizeof__',\n",
              "  '__str__',\n",
              "  '__subclasshook__',\n",
              "  'value'],\n",
              " '_i57': \"print(*[name for name in dir(list) if name.startswith('__')])\",\n",
              " '_i58': 'print(*[name for name in dir(list) if name.startswith(\\'__\\')],sep=\"\\\\n\")',\n",
              " '_i59': \"def foo2(a='aaaa', b= 'adfasdfasdfaf', c,d)\",\n",
              " '_i60': \"def foo2(a='aaaa', b= 'adfasdfasdfaf', c,d):\\n  print(a,b,c,d,sep='\\\\n')\",\n",
              " '_i61': \"def foo2(a='aaaa', b='adfasdfasdfaf',c,d):\\n  print(a,b,c,d,sep='\\\\n')\",\n",
              " '_i62': \"def foo2(c,d,a='aaaa', b='adfasdfasdfaf'):\\n  print(a,b,c,d,sep='\\\\n')\",\n",
              " 'foo2': <function __main__.foo2(c, d, a='Allahu', b='Akbar!')>,\n",
              " '_i63': 'print(foo2.__defaults__)',\n",
              " '_i64': \"foo2.__defaults__ = ('Allahu', 'Akbar!')\",\n",
              " '_i65': 'print(foo2.__defaults__)',\n",
              " '_i66': 'def foo3(a, b=[]):\\n  b.append(a)\\n  print(*b)',\n",
              " 'foo3': <function __main__.foo3(a, b=['Lol', 'you', 'think', 'you', 'cannot', 'change', 'default', 'arguments????', 'wahhha'])>,\n",
              " '_i67': \"s = 'Lol you think you cannot change default arguments???? wahhha'\\nlist3 = s.split()\\nfor i in list3:\\n  foo3(i)\",\n",
              " 'list3': ['Lol',\n",
              "  'you',\n",
              "  'think',\n",
              "  'you',\n",
              "  'cannot',\n",
              "  'change',\n",
              "  'default',\n",
              "  'arguments????',\n",
              "  'wahhha'],\n",
              " 'i': 'wahhha',\n",
              " '_i68': 'globals()'}"
            ]
          },
          "metadata": {},
          "execution_count": 68
        }
      ]
    },
    {
      "cell_type": "code",
      "source": [
        "__doc__"
      ],
      "metadata": {
        "colab": {
          "base_uri": "https://localhost:8080/",
          "height": 36
        },
        "id": "rWOOQkBx8K6x",
        "outputId": "d1b1fa15-8925-4ec5-e268-e482c3a9f047"
      },
      "execution_count": 70,
      "outputs": [
        {
          "output_type": "execute_result",
          "data": {
            "text/plain": [
              "'Automatically created module for IPython interactive environment'"
            ],
            "application/vnd.google.colaboratory.intrinsic+json": {
              "type": "string"
            }
          },
          "metadata": {},
          "execution_count": 70
        }
      ]
    },
    {
      "cell_type": "code",
      "source": [
        "_ih"
      ],
      "metadata": {
        "colab": {
          "base_uri": "https://localhost:8080/"
        },
        "id": "XWDZ3vgo8K9S",
        "outputId": "4549246e-50a2-4a84-b18d-c685db832ac9"
      },
      "execution_count": 71,
      "outputs": [
        {
          "output_type": "execute_result",
          "data": {
            "text/plain": [
              "['',\n",
              " 'lambda x : print(x)',\n",
              " \"lambda x,y,z : print(x,y,z,sep='\\\\n \\\\n \\\\n')\",\n",
              " \"print(lambda x,y,z : print(x,y,z,sep='\\\\n \\\\n \\\\n'))\",\n",
              " \"print(type(lambda x,y,z : print(x,y,z,sep='\\\\n \\\\n \\\\n')))\",\n",
              " 'lambda x : str(x)',\n",
              " 'f_lambda = lambda x : str(x)',\n",
              " 'f_lambda([1,3,4])',\n",
              " 'keys = map(lambda x : x**3, range(10))',\n",
              " 'keys',\n",
              " '*keys',\n",
              " '(keys)',\n",
              " '[keys]',\n",
              " 'print(list(keys))',\n",
              " 'print(list(keys))\\nprint(dict(key : str(key) for key in keys))',\n",
              " 'print(list(keys))\\nprint(dict({key : str(key)} for key in keys))',\n",
              " 'keys = map(lambda x : x**3, range(10))',\n",
              " 'print(list(keys))\\nprint(dict({key : str(key)} for key in keys))',\n",
              " 'print(list(keys))\\nprint(dict({key : str(key)} for key in keys))',\n",
              " 'keys = map(lambda x : x**3, range(10))',\n",
              " 'print(list(keys))\\n#keys is eaten already, we need to reproduce it again\\nprint(dict({key : str(key)} for key in keys))',\n",
              " 'keys',\n",
              " 'keys\\nlist(keys)',\n",
              " 'print(list(map(lambda x,y : x*y, range(10),range(10,-10,-1))))',\n",
              " 'print(list(map(lambda x,y : x*y, list(range(10)),list(range(10,-10,-1)))))',\n",
              " 'func = lambda x_list : sorted(x_list, key = lambda x : x**2)',\n",
              " 'func = lambda x_list : sorted(x_list, key = lambda x : x**2)\\n\\nlist2 = [-2,-1,-4,-5,4,5,2,8]\\nprint(func(list2)) #should sort by square : res like -1, -2, 2, -4, 4, -5, 5, 8',\n",
              " \"list1 = ['23','adasdfsfasdf', str(2**10)]\\nprint(sorted(list1, key = lambda x : -len(x))) #sort by descending length. Expected : 23, 2**10, adasdf...\",\n",
              " \"get_ipython().run_line_magic('pinfo', 'print')\",\n",
              " \"class First:\\n  def method1(self):\\n    print('meth1')\\n  def method2():\\n    print('meth2, no obj')\",\n",
              " 'First().method1()\\nFirst.method2()',\n",
              " 'First.mro',\n",
              " 'First.mro()',\n",
              " 'First().config/',\n",
              " 'First().config/float',\n",
              " 'First.method3 = lambda x,y : x(y)',\n",
              " 'help(First)',\n",
              " 'First.method3(print,str(print))',\n",
              " 'First.method3(print,help(this))',\n",
              " 'First.method3(print,help())',\n",
              " 'First.method3(print,help)',\n",
              " 'def foo():',\n",
              " 'def foo():\\n  \"\"\"docstring: \\n  this function does nothing\"\"\"\\n  pass',\n",
              " 'help(foo)',\n",
              " 'def foo1():',\n",
              " 'def foo1():\\n  pass',\n",
              " 'help(foo1)',\n",
              " 'dir(foo1)',\n",
              " '#static_values\\n\\ndef get_next_id():',\n",
              " \"#static_values\\n\\ndef get_next_id():\\n  if not hasattr(get_next_id, 'value'):\\n    get_next_id.value = 0\\n  get_next_id.value +=  1\\n  return get_next_id.value\",\n",
              " 's = get_next_id()',\n",
              " 's = get_next_id()\\nprint(s)',\n",
              " 's = get_next_id()\\nprint(s)',\n",
              " 's = get_next_id()\\nprint(s)',\n",
              " 's = get_next_id()\\nprint(s)',\n",
              " 's = get_next_id()\\nprint(s)',\n",
              " 'dir(get_next_id)',\n",
              " \"print(*[name for name in dir(list) if name.startswith('__')])\",\n",
              " 'print(*[name for name in dir(list) if name.startswith(\\'__\\')],sep=\"\\\\n\")',\n",
              " \"def foo2(a='aaaa', b= 'adfasdfasdfaf', c,d)\",\n",
              " \"def foo2(a='aaaa', b= 'adfasdfasdfaf', c,d):\\n  print(a,b,c,d,sep='\\\\n')\",\n",
              " \"def foo2(a='aaaa', b='adfasdfasdfaf',c,d):\\n  print(a,b,c,d,sep='\\\\n')\",\n",
              " \"def foo2(c,d,a='aaaa', b='adfasdfasdfaf'):\\n  print(a,b,c,d,sep='\\\\n')\",\n",
              " 'print(foo2.__defaults__)',\n",
              " \"foo2.__defaults__ = ('Allahu', 'Akbar!')\",\n",
              " 'print(foo2.__defaults__)',\n",
              " 'def foo3(a, b=[]):\\n  b.append(a)\\n  print(*b)',\n",
              " \"s = 'Lol you think you cannot change default arguments???? wahhha'\\nlist3 = s.split()\\nfor i in list3:\\n  foo3(i)\",\n",
              " 'globals()',\n",
              " '__docs__',\n",
              " '__doc__',\n",
              " '_ih']"
            ]
          },
          "metadata": {},
          "execution_count": 71
        }
      ]
    },
    {
      "cell_type": "markdown",
      "source": [
        "$\\sum_{i=1}^5 f_i(x)$"
      ],
      "metadata": {
        "id": "FFB3hzMV8K_Y"
      }
    },
    {
      "cell_type": "code",
      "source": [
        "type(globals())"
      ],
      "metadata": {
        "colab": {
          "base_uri": "https://localhost:8080/"
        },
        "id": "ERvGrxjU8LEp",
        "outputId": "553d0b1b-7cda-4a8c-b091-53dd68da8f30"
      },
      "execution_count": 72,
      "outputs": [
        {
          "output_type": "execute_result",
          "data": {
            "text/plain": [
              "dict"
            ]
          },
          "metadata": {},
          "execution_count": 72
        }
      ]
    },
    {
      "cell_type": "code",
      "source": [
        "value = 42\n",
        "globals()['value'] = 2504\n",
        "print(value)\n",
        "\n",
        "globals()['Great_value'] = 23432422332423\n",
        "print(Great_value)\n",
        "#pizdetz"
      ],
      "metadata": {
        "colab": {
          "base_uri": "https://localhost:8080/"
        },
        "id": "6uNKFVOd8LGs",
        "outputId": "53f1d410-eefc-47e7-b201-a706a41519f0"
      },
      "execution_count": 74,
      "outputs": [
        {
          "output_type": "stream",
          "name": "stdout",
          "text": [
            "2504\n",
            "23432422332423\n"
          ]
        }
      ]
    },
    {
      "cell_type": "code",
      "source": [
        "type(locals())"
      ],
      "metadata": {
        "colab": {
          "base_uri": "https://localhost:8080/"
        },
        "id": "mRR-Q6UhBmD7",
        "outputId": "41cb580e-7bb9-42c8-f4c7-51e61966b0d7"
      },
      "execution_count": 75,
      "outputs": [
        {
          "output_type": "execute_result",
          "data": {
            "text/plain": [
              "dict"
            ]
          },
          "metadata": {},
          "execution_count": 75
        }
      ]
    },
    {
      "cell_type": "code",
      "source": [
        "len(locals())"
      ],
      "metadata": {
        "colab": {
          "base_uri": "https://localhost:8080/"
        },
        "id": "kmYUWkLlBmaW",
        "outputId": "c2836787-0709-4263-9595-d40a132ee012"
      },
      "execution_count": 77,
      "outputs": [
        {
          "output_type": "execute_result",
          "data": {
            "text/plain": [
              "132"
            ]
          },
          "metadata": {},
          "execution_count": 77
        }
      ]
    },
    {
      "cell_type": "code",
      "source": [
        "len(globals())"
      ],
      "metadata": {
        "colab": {
          "base_uri": "https://localhost:8080/"
        },
        "id": "O382OJANBmt2",
        "outputId": "33af217e-4229-4170-f18f-1f7f2e71415a"
      },
      "execution_count": 78,
      "outputs": [
        {
          "output_type": "execute_result",
          "data": {
            "text/plain": [
              "134"
            ]
          },
          "metadata": {},
          "execution_count": 78
        }
      ]
    },
    {
      "cell_type": "code",
      "source": [
        "locals()"
      ],
      "metadata": {
        "colab": {
          "base_uri": "https://localhost:8080/"
        },
        "id": "van6UupCBmzD",
        "outputId": "4a4d43a1-0cad-4ea7-ec12-6461f62578f1"
      },
      "execution_count": 79,
      "outputs": [
        {
          "output_type": "execute_result",
          "data": {
            "text/plain": [
              "{'__name__': '__main__',\n",
              " '__doc__': 'Automatically created module for IPython interactive environment',\n",
              " '__package__': None,\n",
              " '__loader__': None,\n",
              " '__spec__': None,\n",
              " '__builtin__': <module 'builtins' (built-in)>,\n",
              " '__builtins__': <module 'builtins' (built-in)>,\n",
              " '_ih': ['',\n",
              "  'lambda x : print(x)',\n",
              "  \"lambda x,y,z : print(x,y,z,sep='\\\\n \\\\n \\\\n')\",\n",
              "  \"print(lambda x,y,z : print(x,y,z,sep='\\\\n \\\\n \\\\n'))\",\n",
              "  \"print(type(lambda x,y,z : print(x,y,z,sep='\\\\n \\\\n \\\\n')))\",\n",
              "  'lambda x : str(x)',\n",
              "  'f_lambda = lambda x : str(x)',\n",
              "  'f_lambda([1,3,4])',\n",
              "  'keys = map(lambda x : x**3, range(10))',\n",
              "  'keys',\n",
              "  '*keys',\n",
              "  '(keys)',\n",
              "  '[keys]',\n",
              "  'print(list(keys))',\n",
              "  'print(list(keys))\\nprint(dict(key : str(key) for key in keys))',\n",
              "  'print(list(keys))\\nprint(dict({key : str(key)} for key in keys))',\n",
              "  'keys = map(lambda x : x**3, range(10))',\n",
              "  'print(list(keys))\\nprint(dict({key : str(key)} for key in keys))',\n",
              "  'print(list(keys))\\nprint(dict({key : str(key)} for key in keys))',\n",
              "  'keys = map(lambda x : x**3, range(10))',\n",
              "  'print(list(keys))\\n#keys is eaten already, we need to reproduce it again\\nprint(dict({key : str(key)} for key in keys))',\n",
              "  'keys',\n",
              "  'keys\\nlist(keys)',\n",
              "  'print(list(map(lambda x,y : x*y, range(10),range(10,-10,-1))))',\n",
              "  'print(list(map(lambda x,y : x*y, list(range(10)),list(range(10,-10,-1)))))',\n",
              "  'func = lambda x_list : sorted(x_list, key = lambda x : x**2)',\n",
              "  'func = lambda x_list : sorted(x_list, key = lambda x : x**2)\\n\\nlist2 = [-2,-1,-4,-5,4,5,2,8]\\nprint(func(list2)) #should sort by square : res like -1, -2, 2, -4, 4, -5, 5, 8',\n",
              "  \"list1 = ['23','adasdfsfasdf', str(2**10)]\\nprint(sorted(list1, key = lambda x : -len(x))) #sort by descending length. Expected : 23, 2**10, adasdf...\",\n",
              "  \"get_ipython().run_line_magic('pinfo', 'print')\",\n",
              "  \"class First:\\n  def method1(self):\\n    print('meth1')\\n  def method2():\\n    print('meth2, no obj')\",\n",
              "  'First().method1()\\nFirst.method2()',\n",
              "  'First.mro',\n",
              "  'First.mro()',\n",
              "  'First().config/',\n",
              "  'First().config/float',\n",
              "  'First.method3 = lambda x,y : x(y)',\n",
              "  'help(First)',\n",
              "  'First.method3(print,str(print))',\n",
              "  'First.method3(print,help(this))',\n",
              "  'First.method3(print,help())',\n",
              "  'First.method3(print,help)',\n",
              "  'def foo():',\n",
              "  'def foo():\\n  \"\"\"docstring: \\n  this function does nothing\"\"\"\\n  pass',\n",
              "  'help(foo)',\n",
              "  'def foo1():',\n",
              "  'def foo1():\\n  pass',\n",
              "  'help(foo1)',\n",
              "  'dir(foo1)',\n",
              "  '#static_values\\n\\ndef get_next_id():',\n",
              "  \"#static_values\\n\\ndef get_next_id():\\n  if not hasattr(get_next_id, 'value'):\\n    get_next_id.value = 0\\n  get_next_id.value +=  1\\n  return get_next_id.value\",\n",
              "  's = get_next_id()',\n",
              "  's = get_next_id()\\nprint(s)',\n",
              "  's = get_next_id()\\nprint(s)',\n",
              "  's = get_next_id()\\nprint(s)',\n",
              "  's = get_next_id()\\nprint(s)',\n",
              "  's = get_next_id()\\nprint(s)',\n",
              "  'dir(get_next_id)',\n",
              "  \"print(*[name for name in dir(list) if name.startswith('__')])\",\n",
              "  'print(*[name for name in dir(list) if name.startswith(\\'__\\')],sep=\"\\\\n\")',\n",
              "  \"def foo2(a='aaaa', b= 'adfasdfasdfaf', c,d)\",\n",
              "  \"def foo2(a='aaaa', b= 'adfasdfasdfaf', c,d):\\n  print(a,b,c,d,sep='\\\\n')\",\n",
              "  \"def foo2(a='aaaa', b='adfasdfasdfaf',c,d):\\n  print(a,b,c,d,sep='\\\\n')\",\n",
              "  \"def foo2(c,d,a='aaaa', b='adfasdfasdfaf'):\\n  print(a,b,c,d,sep='\\\\n')\",\n",
              "  'print(foo2.__defaults__)',\n",
              "  \"foo2.__defaults__ = ('Allahu', 'Akbar!')\",\n",
              "  'print(foo2.__defaults__)',\n",
              "  'def foo3(a, b=[]):\\n  b.append(a)\\n  print(*b)',\n",
              "  \"s = 'Lol you think you cannot change default arguments???? wahhha'\\nlist3 = s.split()\\nfor i in list3:\\n  foo3(i)\",\n",
              "  'globals()',\n",
              "  '__docs__',\n",
              "  '__doc__',\n",
              "  '_ih',\n",
              "  'type(globals())',\n",
              "  'globals()[]',\n",
              "  \"value = 42\\nglobals()['value'] = 2504\\nprint(value)\\n\\nglobals()['Great_value'] = 23432422332423\\nprint(Great_value)\",\n",
              "  'type(locals())',\n",
              "  'len(locals)',\n",
              "  'len(locals())',\n",
              "  'len(globals())',\n",
              "  'locals()'],\n",
              " '_oh': {1: <function __main__.<lambda>(x)>,\n",
              "  2: <function __main__.<lambda>(x, y, z)>,\n",
              "  5: <function __main__.<lambda>(x)>,\n",
              "  7: '[1, 3, 4]',\n",
              "  9: <map at 0x7fabf7055510>,\n",
              "  11: <map at 0x7fabf7055510>,\n",
              "  12: [<map at 0x7fabf7055510>],\n",
              "  21: <map at 0x7fabf70551b0>,\n",
              "  22: [],\n",
              "  31: <function First.mro()>,\n",
              "  32: [__main__.First, object],\n",
              "  47: ['__annotations__',\n",
              "   '__builtins__',\n",
              "   '__call__',\n",
              "   '__class__',\n",
              "   '__closure__',\n",
              "   '__code__',\n",
              "   '__defaults__',\n",
              "   '__delattr__',\n",
              "   '__dict__',\n",
              "   '__dir__',\n",
              "   '__doc__',\n",
              "   '__eq__',\n",
              "   '__format__',\n",
              "   '__ge__',\n",
              "   '__get__',\n",
              "   '__getattribute__',\n",
              "   '__globals__',\n",
              "   '__gt__',\n",
              "   '__hash__',\n",
              "   '__init__',\n",
              "   '__init_subclass__',\n",
              "   '__kwdefaults__',\n",
              "   '__le__',\n",
              "   '__lt__',\n",
              "   '__module__',\n",
              "   '__name__',\n",
              "   '__ne__',\n",
              "   '__new__',\n",
              "   '__qualname__',\n",
              "   '__reduce__',\n",
              "   '__reduce_ex__',\n",
              "   '__repr__',\n",
              "   '__setattr__',\n",
              "   '__sizeof__',\n",
              "   '__str__',\n",
              "   '__subclasshook__'],\n",
              "  56: ['__annotations__',\n",
              "   '__builtins__',\n",
              "   '__call__',\n",
              "   '__class__',\n",
              "   '__closure__',\n",
              "   '__code__',\n",
              "   '__defaults__',\n",
              "   '__delattr__',\n",
              "   '__dict__',\n",
              "   '__dir__',\n",
              "   '__doc__',\n",
              "   '__eq__',\n",
              "   '__format__',\n",
              "   '__ge__',\n",
              "   '__get__',\n",
              "   '__getattribute__',\n",
              "   '__globals__',\n",
              "   '__gt__',\n",
              "   '__hash__',\n",
              "   '__init__',\n",
              "   '__init_subclass__',\n",
              "   '__kwdefaults__',\n",
              "   '__le__',\n",
              "   '__lt__',\n",
              "   '__module__',\n",
              "   '__name__',\n",
              "   '__ne__',\n",
              "   '__new__',\n",
              "   '__qualname__',\n",
              "   '__reduce__',\n",
              "   '__reduce_ex__',\n",
              "   '__repr__',\n",
              "   '__setattr__',\n",
              "   '__sizeof__',\n",
              "   '__str__',\n",
              "   '__subclasshook__',\n",
              "   'value'],\n",
              "  68: {...},\n",
              "  70: 'Automatically created module for IPython interactive environment',\n",
              "  71: ['',\n",
              "   'lambda x : print(x)',\n",
              "   \"lambda x,y,z : print(x,y,z,sep='\\\\n \\\\n \\\\n')\",\n",
              "   \"print(lambda x,y,z : print(x,y,z,sep='\\\\n \\\\n \\\\n'))\",\n",
              "   \"print(type(lambda x,y,z : print(x,y,z,sep='\\\\n \\\\n \\\\n')))\",\n",
              "   'lambda x : str(x)',\n",
              "   'f_lambda = lambda x : str(x)',\n",
              "   'f_lambda([1,3,4])',\n",
              "   'keys = map(lambda x : x**3, range(10))',\n",
              "   'keys',\n",
              "   '*keys',\n",
              "   '(keys)',\n",
              "   '[keys]',\n",
              "   'print(list(keys))',\n",
              "   'print(list(keys))\\nprint(dict(key : str(key) for key in keys))',\n",
              "   'print(list(keys))\\nprint(dict({key : str(key)} for key in keys))',\n",
              "   'keys = map(lambda x : x**3, range(10))',\n",
              "   'print(list(keys))\\nprint(dict({key : str(key)} for key in keys))',\n",
              "   'print(list(keys))\\nprint(dict({key : str(key)} for key in keys))',\n",
              "   'keys = map(lambda x : x**3, range(10))',\n",
              "   'print(list(keys))\\n#keys is eaten already, we need to reproduce it again\\nprint(dict({key : str(key)} for key in keys))',\n",
              "   'keys',\n",
              "   'keys\\nlist(keys)',\n",
              "   'print(list(map(lambda x,y : x*y, range(10),range(10,-10,-1))))',\n",
              "   'print(list(map(lambda x,y : x*y, list(range(10)),list(range(10,-10,-1)))))',\n",
              "   'func = lambda x_list : sorted(x_list, key = lambda x : x**2)',\n",
              "   'func = lambda x_list : sorted(x_list, key = lambda x : x**2)\\n\\nlist2 = [-2,-1,-4,-5,4,5,2,8]\\nprint(func(list2)) #should sort by square : res like -1, -2, 2, -4, 4, -5, 5, 8',\n",
              "   \"list1 = ['23','adasdfsfasdf', str(2**10)]\\nprint(sorted(list1, key = lambda x : -len(x))) #sort by descending length. Expected : 23, 2**10, adasdf...\",\n",
              "   \"get_ipython().run_line_magic('pinfo', 'print')\",\n",
              "   \"class First:\\n  def method1(self):\\n    print('meth1')\\n  def method2():\\n    print('meth2, no obj')\",\n",
              "   'First().method1()\\nFirst.method2()',\n",
              "   'First.mro',\n",
              "   'First.mro()',\n",
              "   'First().config/',\n",
              "   'First().config/float',\n",
              "   'First.method3 = lambda x,y : x(y)',\n",
              "   'help(First)',\n",
              "   'First.method3(print,str(print))',\n",
              "   'First.method3(print,help(this))',\n",
              "   'First.method3(print,help())',\n",
              "   'First.method3(print,help)',\n",
              "   'def foo():',\n",
              "   'def foo():\\n  \"\"\"docstring: \\n  this function does nothing\"\"\"\\n  pass',\n",
              "   'help(foo)',\n",
              "   'def foo1():',\n",
              "   'def foo1():\\n  pass',\n",
              "   'help(foo1)',\n",
              "   'dir(foo1)',\n",
              "   '#static_values\\n\\ndef get_next_id():',\n",
              "   \"#static_values\\n\\ndef get_next_id():\\n  if not hasattr(get_next_id, 'value'):\\n    get_next_id.value = 0\\n  get_next_id.value +=  1\\n  return get_next_id.value\",\n",
              "   's = get_next_id()',\n",
              "   's = get_next_id()\\nprint(s)',\n",
              "   's = get_next_id()\\nprint(s)',\n",
              "   's = get_next_id()\\nprint(s)',\n",
              "   's = get_next_id()\\nprint(s)',\n",
              "   's = get_next_id()\\nprint(s)',\n",
              "   'dir(get_next_id)',\n",
              "   \"print(*[name for name in dir(list) if name.startswith('__')])\",\n",
              "   'print(*[name for name in dir(list) if name.startswith(\\'__\\')],sep=\"\\\\n\")',\n",
              "   \"def foo2(a='aaaa', b= 'adfasdfasdfaf', c,d)\",\n",
              "   \"def foo2(a='aaaa', b= 'adfasdfasdfaf', c,d):\\n  print(a,b,c,d,sep='\\\\n')\",\n",
              "   \"def foo2(a='aaaa', b='adfasdfasdfaf',c,d):\\n  print(a,b,c,d,sep='\\\\n')\",\n",
              "   \"def foo2(c,d,a='aaaa', b='adfasdfasdfaf'):\\n  print(a,b,c,d,sep='\\\\n')\",\n",
              "   'print(foo2.__defaults__)',\n",
              "   \"foo2.__defaults__ = ('Allahu', 'Akbar!')\",\n",
              "   'print(foo2.__defaults__)',\n",
              "   'def foo3(a, b=[]):\\n  b.append(a)\\n  print(*b)',\n",
              "   \"s = 'Lol you think you cannot change default arguments???? wahhha'\\nlist3 = s.split()\\nfor i in list3:\\n  foo3(i)\",\n",
              "   'globals()',\n",
              "   '__docs__',\n",
              "   '__doc__',\n",
              "   '_ih',\n",
              "   'type(globals())',\n",
              "   'globals()[]',\n",
              "   \"value = 42\\nglobals()['value'] = 2504\\nprint(value)\\n\\nglobals()['Great_value'] = 23432422332423\\nprint(Great_value)\",\n",
              "   'type(locals())',\n",
              "   'len(locals)',\n",
              "   'len(locals())',\n",
              "   'len(globals())',\n",
              "   'locals()'],\n",
              "  72: dict,\n",
              "  75: dict,\n",
              "  77: 132,\n",
              "  78: 134},\n",
              " '_dh': ['/content'],\n",
              " 'In': ['',\n",
              "  'lambda x : print(x)',\n",
              "  \"lambda x,y,z : print(x,y,z,sep='\\\\n \\\\n \\\\n')\",\n",
              "  \"print(lambda x,y,z : print(x,y,z,sep='\\\\n \\\\n \\\\n'))\",\n",
              "  \"print(type(lambda x,y,z : print(x,y,z,sep='\\\\n \\\\n \\\\n')))\",\n",
              "  'lambda x : str(x)',\n",
              "  'f_lambda = lambda x : str(x)',\n",
              "  'f_lambda([1,3,4])',\n",
              "  'keys = map(lambda x : x**3, range(10))',\n",
              "  'keys',\n",
              "  '*keys',\n",
              "  '(keys)',\n",
              "  '[keys]',\n",
              "  'print(list(keys))',\n",
              "  'print(list(keys))\\nprint(dict(key : str(key) for key in keys))',\n",
              "  'print(list(keys))\\nprint(dict({key : str(key)} for key in keys))',\n",
              "  'keys = map(lambda x : x**3, range(10))',\n",
              "  'print(list(keys))\\nprint(dict({key : str(key)} for key in keys))',\n",
              "  'print(list(keys))\\nprint(dict({key : str(key)} for key in keys))',\n",
              "  'keys = map(lambda x : x**3, range(10))',\n",
              "  'print(list(keys))\\n#keys is eaten already, we need to reproduce it again\\nprint(dict({key : str(key)} for key in keys))',\n",
              "  'keys',\n",
              "  'keys\\nlist(keys)',\n",
              "  'print(list(map(lambda x,y : x*y, range(10),range(10,-10,-1))))',\n",
              "  'print(list(map(lambda x,y : x*y, list(range(10)),list(range(10,-10,-1)))))',\n",
              "  'func = lambda x_list : sorted(x_list, key = lambda x : x**2)',\n",
              "  'func = lambda x_list : sorted(x_list, key = lambda x : x**2)\\n\\nlist2 = [-2,-1,-4,-5,4,5,2,8]\\nprint(func(list2)) #should sort by square : res like -1, -2, 2, -4, 4, -5, 5, 8',\n",
              "  \"list1 = ['23','adasdfsfasdf', str(2**10)]\\nprint(sorted(list1, key = lambda x : -len(x))) #sort by descending length. Expected : 23, 2**10, adasdf...\",\n",
              "  \"get_ipython().run_line_magic('pinfo', 'print')\",\n",
              "  \"class First:\\n  def method1(self):\\n    print('meth1')\\n  def method2():\\n    print('meth2, no obj')\",\n",
              "  'First().method1()\\nFirst.method2()',\n",
              "  'First.mro',\n",
              "  'First.mro()',\n",
              "  'First().config/',\n",
              "  'First().config/float',\n",
              "  'First.method3 = lambda x,y : x(y)',\n",
              "  'help(First)',\n",
              "  'First.method3(print,str(print))',\n",
              "  'First.method3(print,help(this))',\n",
              "  'First.method3(print,help())',\n",
              "  'First.method3(print,help)',\n",
              "  'def foo():',\n",
              "  'def foo():\\n  \"\"\"docstring: \\n  this function does nothing\"\"\"\\n  pass',\n",
              "  'help(foo)',\n",
              "  'def foo1():',\n",
              "  'def foo1():\\n  pass',\n",
              "  'help(foo1)',\n",
              "  'dir(foo1)',\n",
              "  '#static_values\\n\\ndef get_next_id():',\n",
              "  \"#static_values\\n\\ndef get_next_id():\\n  if not hasattr(get_next_id, 'value'):\\n    get_next_id.value = 0\\n  get_next_id.value +=  1\\n  return get_next_id.value\",\n",
              "  's = get_next_id()',\n",
              "  's = get_next_id()\\nprint(s)',\n",
              "  's = get_next_id()\\nprint(s)',\n",
              "  's = get_next_id()\\nprint(s)',\n",
              "  's = get_next_id()\\nprint(s)',\n",
              "  's = get_next_id()\\nprint(s)',\n",
              "  'dir(get_next_id)',\n",
              "  \"print(*[name for name in dir(list) if name.startswith('__')])\",\n",
              "  'print(*[name for name in dir(list) if name.startswith(\\'__\\')],sep=\"\\\\n\")',\n",
              "  \"def foo2(a='aaaa', b= 'adfasdfasdfaf', c,d)\",\n",
              "  \"def foo2(a='aaaa', b= 'adfasdfasdfaf', c,d):\\n  print(a,b,c,d,sep='\\\\n')\",\n",
              "  \"def foo2(a='aaaa', b='adfasdfasdfaf',c,d):\\n  print(a,b,c,d,sep='\\\\n')\",\n",
              "  \"def foo2(c,d,a='aaaa', b='adfasdfasdfaf'):\\n  print(a,b,c,d,sep='\\\\n')\",\n",
              "  'print(foo2.__defaults__)',\n",
              "  \"foo2.__defaults__ = ('Allahu', 'Akbar!')\",\n",
              "  'print(foo2.__defaults__)',\n",
              "  'def foo3(a, b=[]):\\n  b.append(a)\\n  print(*b)',\n",
              "  \"s = 'Lol you think you cannot change default arguments???? wahhha'\\nlist3 = s.split()\\nfor i in list3:\\n  foo3(i)\",\n",
              "  'globals()',\n",
              "  '__docs__',\n",
              "  '__doc__',\n",
              "  '_ih',\n",
              "  'type(globals())',\n",
              "  'globals()[]',\n",
              "  \"value = 42\\nglobals()['value'] = 2504\\nprint(value)\\n\\nglobals()['Great_value'] = 23432422332423\\nprint(Great_value)\",\n",
              "  'type(locals())',\n",
              "  'len(locals)',\n",
              "  'len(locals())',\n",
              "  'len(globals())',\n",
              "  'locals()'],\n",
              " 'Out': {1: <function __main__.<lambda>(x)>,\n",
              "  2: <function __main__.<lambda>(x, y, z)>,\n",
              "  5: <function __main__.<lambda>(x)>,\n",
              "  7: '[1, 3, 4]',\n",
              "  9: <map at 0x7fabf7055510>,\n",
              "  11: <map at 0x7fabf7055510>,\n",
              "  12: [<map at 0x7fabf7055510>],\n",
              "  21: <map at 0x7fabf70551b0>,\n",
              "  22: [],\n",
              "  31: <function First.mro()>,\n",
              "  32: [__main__.First, object],\n",
              "  47: ['__annotations__',\n",
              "   '__builtins__',\n",
              "   '__call__',\n",
              "   '__class__',\n",
              "   '__closure__',\n",
              "   '__code__',\n",
              "   '__defaults__',\n",
              "   '__delattr__',\n",
              "   '__dict__',\n",
              "   '__dir__',\n",
              "   '__doc__',\n",
              "   '__eq__',\n",
              "   '__format__',\n",
              "   '__ge__',\n",
              "   '__get__',\n",
              "   '__getattribute__',\n",
              "   '__globals__',\n",
              "   '__gt__',\n",
              "   '__hash__',\n",
              "   '__init__',\n",
              "   '__init_subclass__',\n",
              "   '__kwdefaults__',\n",
              "   '__le__',\n",
              "   '__lt__',\n",
              "   '__module__',\n",
              "   '__name__',\n",
              "   '__ne__',\n",
              "   '__new__',\n",
              "   '__qualname__',\n",
              "   '__reduce__',\n",
              "   '__reduce_ex__',\n",
              "   '__repr__',\n",
              "   '__setattr__',\n",
              "   '__sizeof__',\n",
              "   '__str__',\n",
              "   '__subclasshook__'],\n",
              "  56: ['__annotations__',\n",
              "   '__builtins__',\n",
              "   '__call__',\n",
              "   '__class__',\n",
              "   '__closure__',\n",
              "   '__code__',\n",
              "   '__defaults__',\n",
              "   '__delattr__',\n",
              "   '__dict__',\n",
              "   '__dir__',\n",
              "   '__doc__',\n",
              "   '__eq__',\n",
              "   '__format__',\n",
              "   '__ge__',\n",
              "   '__get__',\n",
              "   '__getattribute__',\n",
              "   '__globals__',\n",
              "   '__gt__',\n",
              "   '__hash__',\n",
              "   '__init__',\n",
              "   '__init_subclass__',\n",
              "   '__kwdefaults__',\n",
              "   '__le__',\n",
              "   '__lt__',\n",
              "   '__module__',\n",
              "   '__name__',\n",
              "   '__ne__',\n",
              "   '__new__',\n",
              "   '__qualname__',\n",
              "   '__reduce__',\n",
              "   '__reduce_ex__',\n",
              "   '__repr__',\n",
              "   '__setattr__',\n",
              "   '__sizeof__',\n",
              "   '__str__',\n",
              "   '__subclasshook__',\n",
              "   'value'],\n",
              "  68: {...},\n",
              "  70: 'Automatically created module for IPython interactive environment',\n",
              "  71: ['',\n",
              "   'lambda x : print(x)',\n",
              "   \"lambda x,y,z : print(x,y,z,sep='\\\\n \\\\n \\\\n')\",\n",
              "   \"print(lambda x,y,z : print(x,y,z,sep='\\\\n \\\\n \\\\n'))\",\n",
              "   \"print(type(lambda x,y,z : print(x,y,z,sep='\\\\n \\\\n \\\\n')))\",\n",
              "   'lambda x : str(x)',\n",
              "   'f_lambda = lambda x : str(x)',\n",
              "   'f_lambda([1,3,4])',\n",
              "   'keys = map(lambda x : x**3, range(10))',\n",
              "   'keys',\n",
              "   '*keys',\n",
              "   '(keys)',\n",
              "   '[keys]',\n",
              "   'print(list(keys))',\n",
              "   'print(list(keys))\\nprint(dict(key : str(key) for key in keys))',\n",
              "   'print(list(keys))\\nprint(dict({key : str(key)} for key in keys))',\n",
              "   'keys = map(lambda x : x**3, range(10))',\n",
              "   'print(list(keys))\\nprint(dict({key : str(key)} for key in keys))',\n",
              "   'print(list(keys))\\nprint(dict({key : str(key)} for key in keys))',\n",
              "   'keys = map(lambda x : x**3, range(10))',\n",
              "   'print(list(keys))\\n#keys is eaten already, we need to reproduce it again\\nprint(dict({key : str(key)} for key in keys))',\n",
              "   'keys',\n",
              "   'keys\\nlist(keys)',\n",
              "   'print(list(map(lambda x,y : x*y, range(10),range(10,-10,-1))))',\n",
              "   'print(list(map(lambda x,y : x*y, list(range(10)),list(range(10,-10,-1)))))',\n",
              "   'func = lambda x_list : sorted(x_list, key = lambda x : x**2)',\n",
              "   'func = lambda x_list : sorted(x_list, key = lambda x : x**2)\\n\\nlist2 = [-2,-1,-4,-5,4,5,2,8]\\nprint(func(list2)) #should sort by square : res like -1, -2, 2, -4, 4, -5, 5, 8',\n",
              "   \"list1 = ['23','adasdfsfasdf', str(2**10)]\\nprint(sorted(list1, key = lambda x : -len(x))) #sort by descending length. Expected : 23, 2**10, adasdf...\",\n",
              "   \"get_ipython().run_line_magic('pinfo', 'print')\",\n",
              "   \"class First:\\n  def method1(self):\\n    print('meth1')\\n  def method2():\\n    print('meth2, no obj')\",\n",
              "   'First().method1()\\nFirst.method2()',\n",
              "   'First.mro',\n",
              "   'First.mro()',\n",
              "   'First().config/',\n",
              "   'First().config/float',\n",
              "   'First.method3 = lambda x,y : x(y)',\n",
              "   'help(First)',\n",
              "   'First.method3(print,str(print))',\n",
              "   'First.method3(print,help(this))',\n",
              "   'First.method3(print,help())',\n",
              "   'First.method3(print,help)',\n",
              "   'def foo():',\n",
              "   'def foo():\\n  \"\"\"docstring: \\n  this function does nothing\"\"\"\\n  pass',\n",
              "   'help(foo)',\n",
              "   'def foo1():',\n",
              "   'def foo1():\\n  pass',\n",
              "   'help(foo1)',\n",
              "   'dir(foo1)',\n",
              "   '#static_values\\n\\ndef get_next_id():',\n",
              "   \"#static_values\\n\\ndef get_next_id():\\n  if not hasattr(get_next_id, 'value'):\\n    get_next_id.value = 0\\n  get_next_id.value +=  1\\n  return get_next_id.value\",\n",
              "   's = get_next_id()',\n",
              "   's = get_next_id()\\nprint(s)',\n",
              "   's = get_next_id()\\nprint(s)',\n",
              "   's = get_next_id()\\nprint(s)',\n",
              "   's = get_next_id()\\nprint(s)',\n",
              "   's = get_next_id()\\nprint(s)',\n",
              "   'dir(get_next_id)',\n",
              "   \"print(*[name for name in dir(list) if name.startswith('__')])\",\n",
              "   'print(*[name for name in dir(list) if name.startswith(\\'__\\')],sep=\"\\\\n\")',\n",
              "   \"def foo2(a='aaaa', b= 'adfasdfasdfaf', c,d)\",\n",
              "   \"def foo2(a='aaaa', b= 'adfasdfasdfaf', c,d):\\n  print(a,b,c,d,sep='\\\\n')\",\n",
              "   \"def foo2(a='aaaa', b='adfasdfasdfaf',c,d):\\n  print(a,b,c,d,sep='\\\\n')\",\n",
              "   \"def foo2(c,d,a='aaaa', b='adfasdfasdfaf'):\\n  print(a,b,c,d,sep='\\\\n')\",\n",
              "   'print(foo2.__defaults__)',\n",
              "   \"foo2.__defaults__ = ('Allahu', 'Akbar!')\",\n",
              "   'print(foo2.__defaults__)',\n",
              "   'def foo3(a, b=[]):\\n  b.append(a)\\n  print(*b)',\n",
              "   \"s = 'Lol you think you cannot change default arguments???? wahhha'\\nlist3 = s.split()\\nfor i in list3:\\n  foo3(i)\",\n",
              "   'globals()',\n",
              "   '__docs__',\n",
              "   '__doc__',\n",
              "   '_ih',\n",
              "   'type(globals())',\n",
              "   'globals()[]',\n",
              "   \"value = 42\\nglobals()['value'] = 2504\\nprint(value)\\n\\nglobals()['Great_value'] = 23432422332423\\nprint(Great_value)\",\n",
              "   'type(locals())',\n",
              "   'len(locals)',\n",
              "   'len(locals())',\n",
              "   'len(globals())',\n",
              "   'locals()'],\n",
              "  72: dict,\n",
              "  75: dict,\n",
              "  77: 132,\n",
              "  78: 134},\n",
              " 'get_ipython': <bound method InteractiveShell.get_ipython of <google.colab._shell.Shell object at 0x7fac085725c0>>,\n",
              " 'exit': <IPython.core.autocall.ZMQExitAutocall at 0x7fac08572fb0>,\n",
              " 'quit': <IPython.core.autocall.ZMQExitAutocall at 0x7fac08572fb0>,\n",
              " '_': 134,\n",
              " '__': 132,\n",
              " '___': dict,\n",
              " '_i': 'len(globals())',\n",
              " '_ii': 'len(locals())',\n",
              " '_iii': 'len(locals)',\n",
              " '_i1': 'lambda x : print(x)',\n",
              " '_1': <function __main__.<lambda>(x)>,\n",
              " '_i2': \"lambda x,y,z : print(x,y,z,sep='\\\\n \\\\n \\\\n')\",\n",
              " '_2': <function __main__.<lambda>(x, y, z)>,\n",
              " '_i3': \"print(lambda x,y,z : print(x,y,z,sep='\\\\n \\\\n \\\\n'))\",\n",
              " '_i4': \"print(type(lambda x,y,z : print(x,y,z,sep='\\\\n \\\\n \\\\n')))\",\n",
              " '_i5': 'lambda x : str(x)',\n",
              " '_5': <function __main__.<lambda>(x)>,\n",
              " '_i6': 'f_lambda = lambda x : str(x)',\n",
              " 'f_lambda': <function __main__.<lambda>(x)>,\n",
              " '_i7': 'f_lambda([1,3,4])',\n",
              " '_7': '[1, 3, 4]',\n",
              " '_i8': 'keys = map(lambda x : x**3, range(10))',\n",
              " 'keys': <map at 0x7fabf70551b0>,\n",
              " '_i9': 'keys',\n",
              " '_9': <map at 0x7fabf7055510>,\n",
              " '_i10': '*keys',\n",
              " '_i11': '(keys)',\n",
              " '_11': <map at 0x7fabf7055510>,\n",
              " '_i12': '[keys]',\n",
              " '_12': [<map at 0x7fabf7055510>],\n",
              " '_i13': 'print(list(keys))',\n",
              " '_i14': 'print(list(keys))\\nprint(dict(key : str(key) for key in keys))',\n",
              " '_i15': 'print(list(keys))\\nprint(dict({key : str(key)} for key in keys))',\n",
              " '_i16': 'keys = map(lambda x : x**3, range(10))',\n",
              " '_i17': 'print(list(keys))\\nprint(dict({key : str(key)} for key in keys))',\n",
              " '_i18': 'print(list(keys))\\nprint(dict({key : str(key)} for key in keys))',\n",
              " '_i19': 'keys = map(lambda x : x**3, range(10))',\n",
              " '_i20': 'print(list(keys))\\n#keys is eaten already, we need to reproduce it again\\nprint(dict({key : str(key)} for key in keys))',\n",
              " '_i21': 'keys',\n",
              " '_21': <map at 0x7fabf70551b0>,\n",
              " '_i22': 'keys\\nlist(keys)',\n",
              " '_22': [],\n",
              " '_i23': 'print(list(map(lambda x,y : x*y, range(10),range(10,-10,-1))))',\n",
              " '_i24': 'print(list(map(lambda x,y : x*y, list(range(10)),list(range(10,-10,-1)))))',\n",
              " '_i25': 'func = lambda x_list : sorted(x_list, key = lambda x : x**2)',\n",
              " 'func': <function __main__.<lambda>(x_list)>,\n",
              " '_i26': 'func = lambda x_list : sorted(x_list, key = lambda x : x**2)\\n\\nlist2 = [-2,-1,-4,-5,4,5,2,8]\\nprint(func(list2)) #should sort by square : res like -1, -2, 2, -4, 4, -5, 5, 8',\n",
              " 'list2': [-2, -1, -4, -5, 4, 5, 2, 8],\n",
              " '_i27': \"list1 = ['23','adasdfsfasdf', str(2**10)]\\nprint(sorted(list1, key = lambda x : -len(x))) #sort by descending length. Expected : 23, 2**10, adasdf...\",\n",
              " 'list1': ['23', 'adasdfsfasdf', '1024'],\n",
              " '_i28': 'print?',\n",
              " '_i29': \"class First:\\n  def method1(self):\\n    print('meth1')\\n  def method2():\\n    print('meth2, no obj')\",\n",
              " 'First': __main__.First,\n",
              " '_i30': 'First().method1()\\nFirst.method2()',\n",
              " '_i31': 'First.mro',\n",
              " '_31': <function First.mro()>,\n",
              " '_i32': 'First.mro()',\n",
              " '_32': [__main__.First, object],\n",
              " '_i33': 'First().config/',\n",
              " '_i34': 'First().config/float',\n",
              " '_i35': 'First.method3 = lambda x,y : x(y)',\n",
              " '_i36': 'help(First)',\n",
              " '_i37': 'First.method3(print,str(print))',\n",
              " '_i38': 'First.method3(print,help(this))',\n",
              " '_i39': 'First.method3(print,help())',\n",
              " '_i40': 'First.method3(print,help)',\n",
              " '_i41': 'def foo():',\n",
              " '_i42': 'def foo():\\n  \"\"\"docstring: \\n  this function does nothing\"\"\"\\n  pass',\n",
              " 'foo': <function __main__.foo()>,\n",
              " '_i43': 'help(foo)',\n",
              " '_i44': 'def foo1():',\n",
              " '_i45': 'def foo1():\\n  pass',\n",
              " 'foo1': <function __main__.foo1()>,\n",
              " '_i46': 'help(foo1)',\n",
              " '_i47': 'dir(foo1)',\n",
              " '_47': ['__annotations__',\n",
              "  '__builtins__',\n",
              "  '__call__',\n",
              "  '__class__',\n",
              "  '__closure__',\n",
              "  '__code__',\n",
              "  '__defaults__',\n",
              "  '__delattr__',\n",
              "  '__dict__',\n",
              "  '__dir__',\n",
              "  '__doc__',\n",
              "  '__eq__',\n",
              "  '__format__',\n",
              "  '__ge__',\n",
              "  '__get__',\n",
              "  '__getattribute__',\n",
              "  '__globals__',\n",
              "  '__gt__',\n",
              "  '__hash__',\n",
              "  '__init__',\n",
              "  '__init_subclass__',\n",
              "  '__kwdefaults__',\n",
              "  '__le__',\n",
              "  '__lt__',\n",
              "  '__module__',\n",
              "  '__name__',\n",
              "  '__ne__',\n",
              "  '__new__',\n",
              "  '__qualname__',\n",
              "  '__reduce__',\n",
              "  '__reduce_ex__',\n",
              "  '__repr__',\n",
              "  '__setattr__',\n",
              "  '__sizeof__',\n",
              "  '__str__',\n",
              "  '__subclasshook__'],\n",
              " '_i48': '#static_values\\n\\ndef get_next_id():',\n",
              " '_i49': \"#static_values\\n\\ndef get_next_id():\\n  if not hasattr(get_next_id, 'value'):\\n    get_next_id.value = 0\\n  get_next_id.value +=  1\\n  return get_next_id.value\",\n",
              " 'get_next_id': <function __main__.get_next_id()>,\n",
              " '_i50': 's = get_next_id()',\n",
              " 's': 'Lol you think you cannot change default arguments???? wahhha',\n",
              " '_i51': 's = get_next_id()\\nprint(s)',\n",
              " '_i52': 's = get_next_id()\\nprint(s)',\n",
              " '_i53': 's = get_next_id()\\nprint(s)',\n",
              " '_i54': 's = get_next_id()\\nprint(s)',\n",
              " '_i55': 's = get_next_id()\\nprint(s)',\n",
              " '_i56': 'dir(get_next_id)',\n",
              " '_56': ['__annotations__',\n",
              "  '__builtins__',\n",
              "  '__call__',\n",
              "  '__class__',\n",
              "  '__closure__',\n",
              "  '__code__',\n",
              "  '__defaults__',\n",
              "  '__delattr__',\n",
              "  '__dict__',\n",
              "  '__dir__',\n",
              "  '__doc__',\n",
              "  '__eq__',\n",
              "  '__format__',\n",
              "  '__ge__',\n",
              "  '__get__',\n",
              "  '__getattribute__',\n",
              "  '__globals__',\n",
              "  '__gt__',\n",
              "  '__hash__',\n",
              "  '__init__',\n",
              "  '__init_subclass__',\n",
              "  '__kwdefaults__',\n",
              "  '__le__',\n",
              "  '__lt__',\n",
              "  '__module__',\n",
              "  '__name__',\n",
              "  '__ne__',\n",
              "  '__new__',\n",
              "  '__qualname__',\n",
              "  '__reduce__',\n",
              "  '__reduce_ex__',\n",
              "  '__repr__',\n",
              "  '__setattr__',\n",
              "  '__sizeof__',\n",
              "  '__str__',\n",
              "  '__subclasshook__',\n",
              "  'value'],\n",
              " '_i57': \"print(*[name for name in dir(list) if name.startswith('__')])\",\n",
              " '_i58': 'print(*[name for name in dir(list) if name.startswith(\\'__\\')],sep=\"\\\\n\")',\n",
              " '_i59': \"def foo2(a='aaaa', b= 'adfasdfasdfaf', c,d)\",\n",
              " '_i60': \"def foo2(a='aaaa', b= 'adfasdfasdfaf', c,d):\\n  print(a,b,c,d,sep='\\\\n')\",\n",
              " '_i61': \"def foo2(a='aaaa', b='adfasdfasdfaf',c,d):\\n  print(a,b,c,d,sep='\\\\n')\",\n",
              " '_i62': \"def foo2(c,d,a='aaaa', b='adfasdfasdfaf'):\\n  print(a,b,c,d,sep='\\\\n')\",\n",
              " 'foo2': <function __main__.foo2(c, d, a='Allahu', b='Akbar!')>,\n",
              " '_i63': 'print(foo2.__defaults__)',\n",
              " '_i64': \"foo2.__defaults__ = ('Allahu', 'Akbar!')\",\n",
              " '_i65': 'print(foo2.__defaults__)',\n",
              " '_i66': 'def foo3(a, b=[]):\\n  b.append(a)\\n  print(*b)',\n",
              " 'foo3': <function __main__.foo3(a, b=['Lol', 'you', 'think', 'you', 'cannot', 'change', 'default', 'arguments????', 'wahhha'])>,\n",
              " '_i67': \"s = 'Lol you think you cannot change default arguments???? wahhha'\\nlist3 = s.split()\\nfor i in list3:\\n  foo3(i)\",\n",
              " 'list3': ['Lol',\n",
              "  'you',\n",
              "  'think',\n",
              "  'you',\n",
              "  'cannot',\n",
              "  'change',\n",
              "  'default',\n",
              "  'arguments????',\n",
              "  'wahhha'],\n",
              " 'i': 'wahhha',\n",
              " '_i68': 'globals()',\n",
              " '_68': {...},\n",
              " '_i69': '__docs__',\n",
              " '_i70': '__doc__',\n",
              " '_70': 'Automatically created module for IPython interactive environment',\n",
              " '_i71': '_ih',\n",
              " '_71': ['',\n",
              "  'lambda x : print(x)',\n",
              "  \"lambda x,y,z : print(x,y,z,sep='\\\\n \\\\n \\\\n')\",\n",
              "  \"print(lambda x,y,z : print(x,y,z,sep='\\\\n \\\\n \\\\n'))\",\n",
              "  \"print(type(lambda x,y,z : print(x,y,z,sep='\\\\n \\\\n \\\\n')))\",\n",
              "  'lambda x : str(x)',\n",
              "  'f_lambda = lambda x : str(x)',\n",
              "  'f_lambda([1,3,4])',\n",
              "  'keys = map(lambda x : x**3, range(10))',\n",
              "  'keys',\n",
              "  '*keys',\n",
              "  '(keys)',\n",
              "  '[keys]',\n",
              "  'print(list(keys))',\n",
              "  'print(list(keys))\\nprint(dict(key : str(key) for key in keys))',\n",
              "  'print(list(keys))\\nprint(dict({key : str(key)} for key in keys))',\n",
              "  'keys = map(lambda x : x**3, range(10))',\n",
              "  'print(list(keys))\\nprint(dict({key : str(key)} for key in keys))',\n",
              "  'print(list(keys))\\nprint(dict({key : str(key)} for key in keys))',\n",
              "  'keys = map(lambda x : x**3, range(10))',\n",
              "  'print(list(keys))\\n#keys is eaten already, we need to reproduce it again\\nprint(dict({key : str(key)} for key in keys))',\n",
              "  'keys',\n",
              "  'keys\\nlist(keys)',\n",
              "  'print(list(map(lambda x,y : x*y, range(10),range(10,-10,-1))))',\n",
              "  'print(list(map(lambda x,y : x*y, list(range(10)),list(range(10,-10,-1)))))',\n",
              "  'func = lambda x_list : sorted(x_list, key = lambda x : x**2)',\n",
              "  'func = lambda x_list : sorted(x_list, key = lambda x : x**2)\\n\\nlist2 = [-2,-1,-4,-5,4,5,2,8]\\nprint(func(list2)) #should sort by square : res like -1, -2, 2, -4, 4, -5, 5, 8',\n",
              "  \"list1 = ['23','adasdfsfasdf', str(2**10)]\\nprint(sorted(list1, key = lambda x : -len(x))) #sort by descending length. Expected : 23, 2**10, adasdf...\",\n",
              "  \"get_ipython().run_line_magic('pinfo', 'print')\",\n",
              "  \"class First:\\n  def method1(self):\\n    print('meth1')\\n  def method2():\\n    print('meth2, no obj')\",\n",
              "  'First().method1()\\nFirst.method2()',\n",
              "  'First.mro',\n",
              "  'First.mro()',\n",
              "  'First().config/',\n",
              "  'First().config/float',\n",
              "  'First.method3 = lambda x,y : x(y)',\n",
              "  'help(First)',\n",
              "  'First.method3(print,str(print))',\n",
              "  'First.method3(print,help(this))',\n",
              "  'First.method3(print,help())',\n",
              "  'First.method3(print,help)',\n",
              "  'def foo():',\n",
              "  'def foo():\\n  \"\"\"docstring: \\n  this function does nothing\"\"\"\\n  pass',\n",
              "  'help(foo)',\n",
              "  'def foo1():',\n",
              "  'def foo1():\\n  pass',\n",
              "  'help(foo1)',\n",
              "  'dir(foo1)',\n",
              "  '#static_values\\n\\ndef get_next_id():',\n",
              "  \"#static_values\\n\\ndef get_next_id():\\n  if not hasattr(get_next_id, 'value'):\\n    get_next_id.value = 0\\n  get_next_id.value +=  1\\n  return get_next_id.value\",\n",
              "  's = get_next_id()',\n",
              "  's = get_next_id()\\nprint(s)',\n",
              "  's = get_next_id()\\nprint(s)',\n",
              "  's = get_next_id()\\nprint(s)',\n",
              "  's = get_next_id()\\nprint(s)',\n",
              "  's = get_next_id()\\nprint(s)',\n",
              "  'dir(get_next_id)',\n",
              "  \"print(*[name for name in dir(list) if name.startswith('__')])\",\n",
              "  'print(*[name for name in dir(list) if name.startswith(\\'__\\')],sep=\"\\\\n\")',\n",
              "  \"def foo2(a='aaaa', b= 'adfasdfasdfaf', c,d)\",\n",
              "  \"def foo2(a='aaaa', b= 'adfasdfasdfaf', c,d):\\n  print(a,b,c,d,sep='\\\\n')\",\n",
              "  \"def foo2(a='aaaa', b='adfasdfasdfaf',c,d):\\n  print(a,b,c,d,sep='\\\\n')\",\n",
              "  \"def foo2(c,d,a='aaaa', b='adfasdfasdfaf'):\\n  print(a,b,c,d,sep='\\\\n')\",\n",
              "  'print(foo2.__defaults__)',\n",
              "  \"foo2.__defaults__ = ('Allahu', 'Akbar!')\",\n",
              "  'print(foo2.__defaults__)',\n",
              "  'def foo3(a, b=[]):\\n  b.append(a)\\n  print(*b)',\n",
              "  \"s = 'Lol you think you cannot change default arguments???? wahhha'\\nlist3 = s.split()\\nfor i in list3:\\n  foo3(i)\",\n",
              "  'globals()',\n",
              "  '__docs__',\n",
              "  '__doc__',\n",
              "  '_ih',\n",
              "  'type(globals())',\n",
              "  'globals()[]',\n",
              "  \"value = 42\\nglobals()['value'] = 2504\\nprint(value)\\n\\nglobals()['Great_value'] = 23432422332423\\nprint(Great_value)\",\n",
              "  'type(locals())',\n",
              "  'len(locals)',\n",
              "  'len(locals())',\n",
              "  'len(globals())',\n",
              "  'locals()'],\n",
              " '_i72': 'type(globals())',\n",
              " '_72': dict,\n",
              " '_i73': 'globals()[]',\n",
              " '_i74': \"value = 42\\nglobals()['value'] = 2504\\nprint(value)\\n\\nglobals()['Great_value'] = 23432422332423\\nprint(Great_value)\",\n",
              " 'value': 2504,\n",
              " 'Great_value': 23432422332423,\n",
              " '_i75': 'type(locals())',\n",
              " '_75': dict,\n",
              " '_i76': 'len(locals)',\n",
              " '_i77': 'len(locals())',\n",
              " '_77': 132,\n",
              " '_i78': 'len(globals())',\n",
              " '_78': 134,\n",
              " '_i79': 'locals()'}"
            ]
          },
          "metadata": {},
          "execution_count": 79
        }
      ]
    },
    {
      "cell_type": "code",
      "source": [
        "locals() is globals()"
      ],
      "metadata": {
        "colab": {
          "base_uri": "https://localhost:8080/"
        },
        "id": "y2JyY5iyBm2n",
        "outputId": "37d518c9-43a3-4739-ecfd-6c478979ad84"
      },
      "execution_count": 80,
      "outputs": [
        {
          "output_type": "execute_result",
          "data": {
            "text/plain": [
              "True"
            ]
          },
          "metadata": {},
          "execution_count": 80
        }
      ]
    },
    {
      "cell_type": "code",
      "source": [
        "print = 52\n",
        "print('Hello')"
      ],
      "metadata": {
        "colab": {
          "base_uri": "https://localhost:8080/",
          "height": 192
        },
        "id": "UJu_dJP3Bm5a",
        "outputId": "95acecf3-04d6-4d31-e933-f2004ddbb542"
      },
      "execution_count": 81,
      "outputs": [
        {
          "output_type": "error",
          "ename": "TypeError",
          "evalue": "ignored",
          "traceback": [
            "\u001b[0;31m---------------------------------------------------------------------------\u001b[0m",
            "\u001b[0;31mTypeError\u001b[0m                                 Traceback (most recent call last)",
            "\u001b[0;32m<ipython-input-81-73a9fae8e4c7>\u001b[0m in \u001b[0;36m<cell line: 2>\u001b[0;34m()\u001b[0m\n\u001b[1;32m      1\u001b[0m \u001b[0mprint\u001b[0m \u001b[0;34m=\u001b[0m \u001b[0;36m52\u001b[0m\u001b[0;34m\u001b[0m\u001b[0;34m\u001b[0m\u001b[0m\n\u001b[0;32m----> 2\u001b[0;31m \u001b[0mprint\u001b[0m\u001b[0;34m(\u001b[0m\u001b[0;34m'Hello'\u001b[0m\u001b[0;34m)\u001b[0m\u001b[0;34m\u001b[0m\u001b[0;34m\u001b[0m\u001b[0m\n\u001b[0m",
            "\u001b[0;31mTypeError\u001b[0m: 'int' object is not callable"
          ]
        }
      ]
    },
    {
      "cell_type": "code",
      "source": [
        "del print"
      ],
      "metadata": {
        "id": "qMExiOJ_Bm7w"
      },
      "execution_count": 82,
      "outputs": []
    },
    {
      "cell_type": "code",
      "source": [
        "print('hello')"
      ],
      "metadata": {
        "colab": {
          "base_uri": "https://localhost:8080/"
        },
        "id": "FdY44aPMBm9-",
        "outputId": "5ce6dc13-3ce8-4ebe-b656-94fee7e49f00"
      },
      "execution_count": 83,
      "outputs": [
        {
          "output_type": "stream",
          "name": "stdout",
          "text": [
            "hello\n"
          ]
        }
      ]
    },
    {
      "cell_type": "code",
      "source": [
        "def foo4():\n",
        "  value = 500\n",
        "  print(f'globals : {globals()[\"value\"]}')\n",
        "\n",
        "  print(f'locals : {locals()[\"value\"]}')\n",
        "\n",
        "  del value\n",
        "\n",
        "  print(f'globals : {globals()[\"value\"]}')\n",
        "\n",
        "  print(f'locals : {locals()[\"value\"]}')"
      ],
      "metadata": {
        "id": "MB0hEVQGCpWs"
      },
      "execution_count": 90,
      "outputs": []
    },
    {
      "cell_type": "code",
      "source": [
        "foo4()"
      ],
      "metadata": {
        "colab": {
          "base_uri": "https://localhost:8080/",
          "height": 314
        },
        "id": "0EXNOxJkDR6M",
        "outputId": "2babfbb1-7f3e-4ae7-ec18-23fe112f3d25"
      },
      "execution_count": 91,
      "outputs": [
        {
          "output_type": "stream",
          "name": "stdout",
          "text": [
            "globals : 2504\n",
            "locals : 500\n",
            "globals : 2504\n"
          ]
        },
        {
          "output_type": "error",
          "ename": "KeyError",
          "evalue": "ignored",
          "traceback": [
            "\u001b[0;31m---------------------------------------------------------------------------\u001b[0m",
            "\u001b[0;31mKeyError\u001b[0m                                  Traceback (most recent call last)",
            "\u001b[0;32m<ipython-input-91-672a80630a19>\u001b[0m in \u001b[0;36m<cell line: 1>\u001b[0;34m()\u001b[0m\n\u001b[0;32m----> 1\u001b[0;31m \u001b[0mfoo4\u001b[0m\u001b[0;34m(\u001b[0m\u001b[0;34m)\u001b[0m\u001b[0;34m\u001b[0m\u001b[0;34m\u001b[0m\u001b[0m\n\u001b[0m",
            "\u001b[0;32m<ipython-input-90-46eb0eb16cfb>\u001b[0m in \u001b[0;36mfoo4\u001b[0;34m()\u001b[0m\n\u001b[1;32m      9\u001b[0m   \u001b[0mprint\u001b[0m\u001b[0;34m(\u001b[0m\u001b[0;34mf'globals : {globals()[\"value\"]}'\u001b[0m\u001b[0;34m)\u001b[0m\u001b[0;34m\u001b[0m\u001b[0;34m\u001b[0m\u001b[0m\n\u001b[1;32m     10\u001b[0m \u001b[0;34m\u001b[0m\u001b[0m\n\u001b[0;32m---> 11\u001b[0;31m   \u001b[0mprint\u001b[0m\u001b[0;34m(\u001b[0m\u001b[0;34mf'locals : {locals()[\"value\"]}'\u001b[0m\u001b[0;34m)\u001b[0m\u001b[0;34m\u001b[0m\u001b[0;34m\u001b[0m\u001b[0m\n\u001b[0m",
            "\u001b[0;31mKeyError\u001b[0m: 'value'"
          ]
        }
      ]
    },
    {
      "cell_type": "code",
      "source": [
        "#so, value 500 in foo4 is local, and value 2504 is global\n",
        "#after deleting value, value came global"
      ],
      "metadata": {
        "id": "WfFZ0eVLDSoc"
      },
      "execution_count": null,
      "outputs": []
    },
    {
      "cell_type": "code",
      "source": [
        "def foo5():\n",
        "  value = 2\n",
        "\n",
        "  def bar():\n",
        "    value = 3\n",
        "    print('locals : ', locals())\n",
        "\n",
        "  bar()\n",
        "  print('enclosing scope: ', locals())\n",
        "foo5()\n",
        "print(value)\n"
      ],
      "metadata": {
        "colab": {
          "base_uri": "https://localhost:8080/"
        },
        "id": "P5PS0VRwETtk",
        "outputId": "ea1cb670-9e4d-4f47-e2c7-88b0cbda37d2"
      },
      "execution_count": 94,
      "outputs": [
        {
          "output_type": "stream",
          "name": "stdout",
          "text": [
            "locals :  {'value': 3}\n",
            "enclosing scope:  {'value': 2, 'bar': <function foo5.<locals>.bar at 0x7fabc4a1cee0>}\n",
            "2504\n"
          ]
        }
      ]
    },
    {
      "cell_type": "code",
      "source": [
        "print"
      ],
      "metadata": {
        "colab": {
          "base_uri": "https://localhost:8080/"
        },
        "id": "SvnI8NFtEXsN",
        "outputId": "e263f859-325f-4f0b-d800-ade34fc3705b"
      },
      "execution_count": 95,
      "outputs": [
        {
          "output_type": "execute_result",
          "data": {
            "text/plain": [
              "<function print>"
            ]
          },
          "metadata": {},
          "execution_count": 95
        }
      ]
    },
    {
      "cell_type": "code",
      "source": [
        "del print()"
      ],
      "metadata": {
        "colab": {
          "base_uri": "https://localhost:8080/",
          "height": 140
        },
        "id": "Xu8nmAolFBGh",
        "outputId": "5e7da914-e162-4093-dda1-fa3d13900874"
      },
      "execution_count": 97,
      "outputs": [
        {
          "output_type": "error",
          "ename": "SyntaxError",
          "evalue": "ignored",
          "traceback": [
            "\u001b[0;36m  File \u001b[0;32m\"<ipython-input-97-143a5330c927>\"\u001b[0;36m, line \u001b[0;32m1\u001b[0m\n\u001b[0;31m    del print()\u001b[0m\n\u001b[0m        ^\u001b[0m\n\u001b[0;31mSyntaxError\u001b[0m\u001b[0;31m:\u001b[0m cannot delete function call\n"
          ]
        }
      ]
    },
    {
      "cell_type": "code",
      "source": [
        "del print"
      ],
      "metadata": {
        "colab": {
          "base_uri": "https://localhost:8080/",
          "height": 175
        },
        "id": "x8MkF-TcFB4S",
        "outputId": "7c06bbf6-c4f3-4f30-941a-a5b5c33ccb0c"
      },
      "execution_count": 98,
      "outputs": [
        {
          "output_type": "error",
          "ename": "NameError",
          "evalue": "ignored",
          "traceback": [
            "\u001b[0;31m---------------------------------------------------------------------------\u001b[0m",
            "\u001b[0;31mNameError\u001b[0m                                 Traceback (most recent call last)",
            "\u001b[0;32m<ipython-input-98-1683c75ea801>\u001b[0m in \u001b[0;36m<cell line: 1>\u001b[0;34m()\u001b[0m\n\u001b[0;32m----> 1\u001b[0;31m \u001b[0;32mdel\u001b[0m \u001b[0mprint\u001b[0m\u001b[0;34m\u001b[0m\u001b[0;34m\u001b[0m\u001b[0m\n\u001b[0m",
            "\u001b[0;31mNameError\u001b[0m: name 'print' is not defined"
          ]
        }
      ]
    },
    {
      "cell_type": "code",
      "source": [
        "del __print__"
      ],
      "metadata": {
        "colab": {
          "base_uri": "https://localhost:8080/",
          "height": 175
        },
        "id": "xW02F4L-FGrz",
        "outputId": "3756647a-2f96-4633-ec37-5e950ca10b61"
      },
      "execution_count": 99,
      "outputs": [
        {
          "output_type": "error",
          "ename": "NameError",
          "evalue": "ignored",
          "traceback": [
            "\u001b[0;31m---------------------------------------------------------------------------\u001b[0m",
            "\u001b[0;31mNameError\u001b[0m                                 Traceback (most recent call last)",
            "\u001b[0;32m<ipython-input-99-8407917329e2>\u001b[0m in \u001b[0;36m<cell line: 1>\u001b[0;34m()\u001b[0m\n\u001b[0;32m----> 1\u001b[0;31m \u001b[0;32mdel\u001b[0m \u001b[0m__print__\u001b[0m\u001b[0;34m\u001b[0m\u001b[0;34m\u001b[0m\u001b[0m\n\u001b[0m",
            "\u001b[0;31mNameError\u001b[0m: name '__print__' is not defined"
          ]
        }
      ]
    },
    {
      "cell_type": "code",
      "source": [
        "del globals['print']"
      ],
      "metadata": {
        "colab": {
          "base_uri": "https://localhost:8080/",
          "height": 175
        },
        "id": "WRkZy5nKFItz",
        "outputId": "d0bec37e-538f-4ef7-e1e5-e732dbce3046"
      },
      "execution_count": 100,
      "outputs": [
        {
          "output_type": "error",
          "ename": "TypeError",
          "evalue": "ignored",
          "traceback": [
            "\u001b[0;31m---------------------------------------------------------------------------\u001b[0m",
            "\u001b[0;31mTypeError\u001b[0m                                 Traceback (most recent call last)",
            "\u001b[0;32m<ipython-input-100-11a036b0cb72>\u001b[0m in \u001b[0;36m<cell line: 1>\u001b[0;34m()\u001b[0m\n\u001b[0;32m----> 1\u001b[0;31m \u001b[0;32mdel\u001b[0m \u001b[0mglobals\u001b[0m\u001b[0;34m[\u001b[0m\u001b[0;34m'print'\u001b[0m\u001b[0;34m]\u001b[0m\u001b[0;34m\u001b[0m\u001b[0;34m\u001b[0m\u001b[0m\n\u001b[0m",
            "\u001b[0;31mTypeError\u001b[0m: 'builtin_function_or_method' object does not support item deletion"
          ]
        }
      ]
    },
    {
      "cell_type": "code",
      "source": [
        "#tried to delete print function)))))"
      ],
      "metadata": {
        "id": "emOkMcYcFPCn"
      },
      "execution_count": null,
      "outputs": []
    },
    {
      "cell_type": "code",
      "source": [
        "range = 'ХУЙ'\n",
        "range(10)"
      ],
      "metadata": {
        "colab": {
          "base_uri": "https://localhost:8080/",
          "height": 192
        },
        "id": "F45LCzmAFT0s",
        "outputId": "5c8c8419-ae36-4db6-c4a0-9e352659c286"
      },
      "execution_count": 110,
      "outputs": [
        {
          "output_type": "error",
          "ename": "TypeError",
          "evalue": "ignored",
          "traceback": [
            "\u001b[0;31m---------------------------------------------------------------------------\u001b[0m",
            "\u001b[0;31mTypeError\u001b[0m                                 Traceback (most recent call last)",
            "\u001b[0;32m<ipython-input-110-c56bf934a449>\u001b[0m in \u001b[0;36m<cell line: 2>\u001b[0;34m()\u001b[0m\n\u001b[1;32m      1\u001b[0m \u001b[0mrange\u001b[0m \u001b[0;34m=\u001b[0m \u001b[0;34m'ХУЙ'\u001b[0m\u001b[0;34m\u001b[0m\u001b[0;34m\u001b[0m\u001b[0m\n\u001b[0;32m----> 2\u001b[0;31m \u001b[0mrange\u001b[0m\u001b[0;34m(\u001b[0m\u001b[0;36m10\u001b[0m\u001b[0;34m)\u001b[0m\u001b[0;34m\u001b[0m\u001b[0;34m\u001b[0m\u001b[0m\n\u001b[0m",
            "\u001b[0;31mTypeError\u001b[0m: 'str' object is not callable"
          ]
        }
      ]
    },
    {
      "cell_type": "code",
      "source": [
        "try:\n",
        "  range(10)\n",
        "except Exception as e:\n",
        "  print(e)\n",
        "  del range"
      ],
      "metadata": {
        "colab": {
          "base_uri": "https://localhost:8080/"
        },
        "id": "kqg_aPbWF8ao",
        "outputId": "2b7f5093-808f-4163-bc03-5395c7723fa2"
      },
      "execution_count": 112,
      "outputs": [
        {
          "output_type": "stream",
          "name": "stdout",
          "text": [
            "'str' object is not callable\n"
          ]
        }
      ]
    },
    {
      "cell_type": "code",
      "source": [
        "value = 24\n",
        "def foo6():\n",
        "  global value\n",
        "  value = 3\n",
        "print(value)\n",
        "foo6()\n",
        "print(value)"
      ],
      "metadata": {
        "colab": {
          "base_uri": "https://localhost:8080/"
        },
        "id": "e3qY1JPZGc46",
        "outputId": "44ac4cd3-7cfe-44e5-b97c-d9b30b831141"
      },
      "execution_count": 116,
      "outputs": [
        {
          "output_type": "stream",
          "name": "stdout",
          "text": [
            "24\n",
            "3\n"
          ]
        }
      ]
    },
    {
      "cell_type": "code",
      "source": [],
      "metadata": {
        "colab": {
          "base_uri": "https://localhost:8080/"
        },
        "id": "z_QefTxyF8g3",
        "outputId": "ae2d7510-db55-4f0c-b420-d24fb3554786"
      },
      "execution_count": 114,
      "outputs": [
        {
          "output_type": "execute_result",
          "data": {
            "text/plain": [
              "range"
            ]
          },
          "metadata": {},
          "execution_count": 114
        }
      ]
    }
  ]
}