{
  "nbformat": 4,
  "nbformat_minor": 0,
  "metadata": {
    "colab": {
      "provenance": []
    },
    "kernelspec": {
      "name": "python3",
      "display_name": "Python 3"
    },
    "language_info": {
      "name": "python"
    }
  },
  "cells": [
    {
      "cell_type": "code",
      "execution_count": 1,
      "metadata": {
        "id": "RRAd_A1nUjrm"
      },
      "outputs": [],
      "source": [
        "#Lecture3 Ilia Sklonin\n",
        "# ? : for asking the questions\n",
        "# ! for theory\n",
        "# ... well let's see what happens"
      ]
    },
    {
      "cell_type": "code",
      "source": [
        "list1 = list(range(100))\n",
        "b = list1\n",
        "c = list1[::-1] # inverse the list\n",
        "\n",
        "print(c) # c has the same link as list1\n",
        "b.append(3)\n",
        "print(list1)\n",
        "#list1 and b have the same link, just 2 names of the same obj"
      ],
      "metadata": {
        "colab": {
          "base_uri": "https://localhost:8080/"
        },
        "id": "ISF2kOuUU375",
        "outputId": "d8caddfa-8769-4b3b-c02e-11be2e93dc90"
      },
      "execution_count": 2,
      "outputs": [
        {
          "output_type": "stream",
          "name": "stdout",
          "text": [
            "[99, 98, 97, 96, 95, 94, 93, 92, 91, 90, 89, 88, 87, 86, 85, 84, 83, 82, 81, 80, 79, 78, 77, 76, 75, 74, 73, 72, 71, 70, 69, 68, 67, 66, 65, 64, 63, 62, 61, 60, 59, 58, 57, 56, 55, 54, 53, 52, 51, 50, 49, 48, 47, 46, 45, 44, 43, 42, 41, 40, 39, 38, 37, 36, 35, 34, 33, 32, 31, 30, 29, 28, 27, 26, 25, 24, 23, 22, 21, 20, 19, 18, 17, 16, 15, 14, 13, 12, 11, 10, 9, 8, 7, 6, 5, 4, 3, 2, 1, 0]\n",
            "[0, 1, 2, 3, 4, 5, 6, 7, 8, 9, 10, 11, 12, 13, 14, 15, 16, 17, 18, 19, 20, 21, 22, 23, 24, 25, 26, 27, 28, 29, 30, 31, 32, 33, 34, 35, 36, 37, 38, 39, 40, 41, 42, 43, 44, 45, 46, 47, 48, 49, 50, 51, 52, 53, 54, 55, 56, 57, 58, 59, 60, 61, 62, 63, 64, 65, 66, 67, 68, 69, 70, 71, 72, 73, 74, 75, 76, 77, 78, 79, 80, 81, 82, 83, 84, 85, 86, 87, 88, 89, 90, 91, 92, 93, 94, 95, 96, 97, 98, 99, 3]\n"
          ]
        }
      ]
    },
    {
      "cell_type": "code",
      "source": [
        "string = 'Avada Kedavra'\n",
        "inv = string[::-1]\n",
        "print(inv)\n",
        "\n",
        "for i in string: #deduce : string is iterable\n",
        "  print(i)"
      ],
      "metadata": {
        "colab": {
          "base_uri": "https://localhost:8080/"
        },
        "id": "1l6ypAVUVzA2",
        "outputId": "31fd110c-7c8a-4b4c-eb73-87173e42a562"
      },
      "execution_count": 3,
      "outputs": [
        {
          "output_type": "stream",
          "name": "stdout",
          "text": [
            "arvadeK adavA\n",
            "A\n",
            "v\n",
            "a\n",
            "d\n",
            "a\n",
            " \n",
            "K\n",
            "e\n",
            "d\n",
            "a\n",
            "v\n",
            "r\n",
            "a\n"
          ]
        }
      ]
    },
    {
      "cell_type": "code",
      "source": [
        " list1.reverse() #in-place method\n",
        " print(list1)"
      ],
      "metadata": {
        "colab": {
          "base_uri": "https://localhost:8080/"
        },
        "id": "5K9-aYKtWPxu",
        "outputId": "8a0a8e8b-3946-4158-ef3f-66beef207d62"
      },
      "execution_count": 4,
      "outputs": [
        {
          "output_type": "stream",
          "name": "stdout",
          "text": [
            "[3, 99, 98, 97, 96, 95, 94, 93, 92, 91, 90, 89, 88, 87, 86, 85, 84, 83, 82, 81, 80, 79, 78, 77, 76, 75, 74, 73, 72, 71, 70, 69, 68, 67, 66, 65, 64, 63, 62, 61, 60, 59, 58, 57, 56, 55, 54, 53, 52, 51, 50, 49, 48, 47, 46, 45, 44, 43, 42, 41, 40, 39, 38, 37, 36, 35, 34, 33, 32, 31, 30, 29, 28, 27, 26, 25, 24, 23, 22, 21, 20, 19, 18, 17, 16, 15, 14, 13, 12, 11, 10, 9, 8, 7, 6, 5, 4, 3, 2, 1, 0]\n"
          ]
        }
      ]
    },
    {
      "cell_type": "code",
      "source": [
        "list1 = list1[:10:]\n",
        "list2 = list1[::-1]\n",
        "list1 + list2, list2 + list1"
      ],
      "metadata": {
        "colab": {
          "base_uri": "https://localhost:8080/"
        },
        "id": "Q80HMaxiW3HO",
        "outputId": "8bd17257-1c11-4533-d2fc-a4476e849a58"
      },
      "execution_count": 5,
      "outputs": [
        {
          "output_type": "execute_result",
          "data": {
            "text/plain": [
              "([3,\n",
              "  99,\n",
              "  98,\n",
              "  97,\n",
              "  96,\n",
              "  95,\n",
              "  94,\n",
              "  93,\n",
              "  92,\n",
              "  91,\n",
              "  91,\n",
              "  92,\n",
              "  93,\n",
              "  94,\n",
              "  95,\n",
              "  96,\n",
              "  97,\n",
              "  98,\n",
              "  99,\n",
              "  3],\n",
              " [91,\n",
              "  92,\n",
              "  93,\n",
              "  94,\n",
              "  95,\n",
              "  96,\n",
              "  97,\n",
              "  98,\n",
              "  99,\n",
              "  3,\n",
              "  3,\n",
              "  99,\n",
              "  98,\n",
              "  97,\n",
              "  96,\n",
              "  95,\n",
              "  94,\n",
              "  93,\n",
              "  92,\n",
              "  91])"
            ]
          },
          "metadata": {},
          "execution_count": 5
        }
      ]
    },
    {
      "cell_type": "code",
      "source": [
        "list1[2:5] = ['subsequence 2:5']\n",
        "print(list1)\n",
        "\n",
        "#?1 what if we do list1[2:5].reverse()?\n",
        "#?2 will id(list1) change if we change list1[0]?"
      ],
      "metadata": {
        "colab": {
          "base_uri": "https://localhost:8080/"
        },
        "id": "eN-kb8SAXIZG",
        "outputId": "6461a895-3985-4315-8061-5de03045f335"
      },
      "execution_count": 6,
      "outputs": [
        {
          "output_type": "stream",
          "name": "stdout",
          "text": [
            "[3, 99, 'subsequence 2:5', 95, 94, 93, 92, 91]\n"
          ]
        }
      ]
    },
    {
      "cell_type": "code",
      "source": [
        "#?2\n",
        "a = id(list1)\n",
        "print(a)\n",
        "list1[0] = '0'\n",
        "b = id(list1)\n",
        "print(b)\n",
        "if a == b:\n",
        "  print('id didn\\'t change')\n",
        "\n",
        "  #seems that beginning of list1 is not list1[0]"
      ],
      "metadata": {
        "colab": {
          "base_uri": "https://localhost:8080/"
        },
        "id": "-DfCY9LsX8Wg",
        "outputId": "aa794ae3-3d1d-44e2-9d5d-613f3813af5b"
      },
      "execution_count": 7,
      "outputs": [
        {
          "output_type": "stream",
          "name": "stdout",
          "text": [
            "139754318865984\n",
            "139754318865984\n",
            "id didn't change\n"
          ]
        }
      ]
    },
    {
      "cell_type": "code",
      "source": [
        "#?1\n",
        "print(list1)\n",
        "print(list1[0:4])\n",
        "list1[0:4].reverse() # nothing happened. Probably copy\n",
        "                     #of the sublist was created, not the list\n",
        "                     # itself\n",
        "print(list1)\n",
        "print(list1[0:4])\n",
        "#?3 what is list[0:4]() doing ."
      ],
      "metadata": {
        "colab": {
          "base_uri": "https://localhost:8080/"
        },
        "id": "BdafTGYZY5fk",
        "outputId": "d7149d50-2502-4df8-e386-94feaa94cf92"
      },
      "execution_count": 8,
      "outputs": [
        {
          "output_type": "stream",
          "name": "stdout",
          "text": [
            "['0', 99, 'subsequence 2:5', 95, 94, 93, 92, 91]\n",
            "['0', 99, 'subsequence 2:5', 95]\n",
            "['0', 99, 'subsequence 2:5', 95, 94, 93, 92, 91]\n",
            "['0', 99, 'subsequence 2:5', 95]\n"
          ]
        }
      ]
    },
    {
      "cell_type": "code",
      "source": [
        "list2 = list1[::]\n",
        "list2.clear()\n",
        "print(list2)"
      ],
      "metadata": {
        "colab": {
          "base_uri": "https://localhost:8080/"
        },
        "id": "WR5YcT-earIp",
        "outputId": "edb6706d-382e-4d5f-9902-726165511202"
      },
      "execution_count": 9,
      "outputs": [
        {
          "output_type": "stream",
          "name": "stdout",
          "text": [
            "[]\n"
          ]
        }
      ]
    },
    {
      "cell_type": "code",
      "source": [
        "len(list1)\n",
        "list1.__len__()"
      ],
      "metadata": {
        "colab": {
          "base_uri": "https://localhost:8080/"
        },
        "id": "Hct83mTNa5fd",
        "outputId": "ade6aa74-733b-455c-8a17-d230b35a2f07"
      },
      "execution_count": 10,
      "outputs": [
        {
          "output_type": "execute_result",
          "data": {
            "text/plain": [
              "8"
            ]
          },
          "metadata": {},
          "execution_count": 10
        }
      ]
    },
    {
      "cell_type": "code",
      "source": [
        "#sort\n",
        "list2 += list(range(10))\n",
        "list2.reverse()\n",
        "print(list2)\n",
        "#! better not to launch code with in-place methods many times, rather reload all\n",
        "#! observe idempotents H^2 = H"
      ],
      "metadata": {
        "colab": {
          "base_uri": "https://localhost:8080/"
        },
        "id": "-sdvKSmxbTpg",
        "outputId": "02e85bd7-4cfd-4b0c-ff00-dab80840b7ef"
      },
      "execution_count": 11,
      "outputs": [
        {
          "output_type": "stream",
          "name": "stdout",
          "text": [
            "[9, 8, 7, 6, 5, 4, 3, 2, 1, 0]\n"
          ]
        }
      ]
    },
    {
      "cell_type": "code",
      "source": [
        "#sort\n",
        "list2.sort()\n",
        "print(list2)"
      ],
      "metadata": {
        "colab": {
          "base_uri": "https://localhost:8080/"
        },
        "id": "9TDYgDFmbrFy",
        "outputId": "c5673714-7b93-479a-cbf8-3034fa781553"
      },
      "execution_count": 12,
      "outputs": [
        {
          "output_type": "stream",
          "name": "stdout",
          "text": [
            "[0, 1, 2, 3, 4, 5, 6, 7, 8, 9]\n"
          ]
        }
      ]
    },
    {
      "cell_type": "code",
      "source": [
        "help(list2.sort)"
      ],
      "metadata": {
        "colab": {
          "base_uri": "https://localhost:8080/"
        },
        "id": "w4vu5hiKcGPE",
        "outputId": "8d46c554-c821-4253-9425-09e1396b3107"
      },
      "execution_count": 13,
      "outputs": [
        {
          "output_type": "stream",
          "name": "stdout",
          "text": [
            "Help on built-in function sort:\n",
            "\n",
            "sort(*, key=None, reverse=False) method of builtins.list instance\n",
            "    Sort the list in ascending order and return None.\n",
            "    \n",
            "    The sort is in-place (i.e. the list itself is modified) and stable (i.e. the\n",
            "    order of two equal elements is maintained).\n",
            "    \n",
            "    If a key function is given, apply it once to each list item and sort them,\n",
            "    ascending or descending, according to their function values.\n",
            "    \n",
            "    The reverse flag can be set to sort in descending order.\n",
            "\n"
          ]
        }
      ]
    },
    {
      "cell_type": "code",
      "source": [
        "list3 = list2[:]\n",
        "print(list3)\n",
        "list3.sort(reverse=1) #sort descending\n",
        "print(list3)"
      ],
      "metadata": {
        "colab": {
          "base_uri": "https://localhost:8080/"
        },
        "id": "PKq4zg1kcePF",
        "outputId": "de16ff55-7ac7-40c7-8120-3df010a4aa1c"
      },
      "execution_count": 14,
      "outputs": [
        {
          "output_type": "stream",
          "name": "stdout",
          "text": [
            "[0, 1, 2, 3, 4, 5, 6, 7, 8, 9]\n",
            "[9, 8, 7, 6, 5, 4, 3, 2, 1, 0]\n"
          ]
        }
      ]
    },
    {
      "cell_type": "code",
      "source": [
        "list4 = [3, 'a', range(10)]\n",
        "print(list4)\n",
        "list4.sort(key=str) #rise error cause range(10)\n",
        "#! better create local objects in one field"
      ],
      "metadata": {
        "colab": {
          "base_uri": "https://localhost:8080/"
        },
        "id": "VSkdXM1fc5i5",
        "outputId": "0bc87297-b6bf-41a7-eeeb-042fad69fbcf"
      },
      "execution_count": 15,
      "outputs": [
        {
          "output_type": "stream",
          "name": "stdout",
          "text": [
            "[3, 'a', range(0, 10)]\n"
          ]
        }
      ]
    },
    {
      "cell_type": "code",
      "source": [
        "#sorted()\n",
        "list5 = sorted(list4, key=str) #key = function\n",
        "print(list5)"
      ],
      "metadata": {
        "colab": {
          "base_uri": "https://localhost:8080/"
        },
        "id": "d_DuyNHhdu4G",
        "outputId": "e72f550e-930c-44af-da0b-a70a8144dc21"
      },
      "execution_count": 16,
      "outputs": [
        {
          "output_type": "stream",
          "name": "stdout",
          "text": [
            "[3, 'a', range(0, 10)]\n"
          ]
        }
      ]
    },
    {
      "cell_type": "code",
      "source": [
        "#tuples\n",
        "tuple1 = 3, '4', help, int, (2,3)\n",
        "print(tuple1)"
      ],
      "metadata": {
        "colab": {
          "base_uri": "https://localhost:8080/"
        },
        "id": "PSEThoyqeWIq",
        "outputId": "a4053f4a-9821-4229-b9be-6696c021f917"
      },
      "execution_count": 17,
      "outputs": [
        {
          "output_type": "stream",
          "name": "stdout",
          "text": [
            "(3, '4', Type help() for interactive help, or help(object) for help about object., <class 'int'>, (2, 3))\n"
          ]
        }
      ]
    },
    {
      "cell_type": "code",
      "source": [
        "x = 'ab'\n",
        "y = 'a' + 'b'\n",
        "print(y is x)\n",
        "#seems that constants have the same place in the memory"
      ],
      "metadata": {
        "colab": {
          "base_uri": "https://localhost:8080/"
        },
        "id": "OKQcdqOOfWMX",
        "outputId": "151a47e2-38be-4434-f15e-337b4e69e54b"
      },
      "execution_count": 18,
      "outputs": [
        {
          "output_type": "stream",
          "name": "stdout",
          "text": [
            "True\n"
          ]
        }
      ]
    },
    {
      "cell_type": "code",
      "source": [
        "s = 1\n",
        "while True:\n",
        "    s += 1\n",
        "    if s%2 ==0:\n",
        "      continue #restart the cycle\n",
        "    print(s)\n",
        "    if s > 100:\n",
        "      break #breaks the cycle, moves to next strings"
      ],
      "metadata": {
        "colab": {
          "base_uri": "https://localhost:8080/"
        },
        "id": "xLbQdOUy6BMN",
        "outputId": "66330ab7-e945-4da5-945a-e73a043ed7fa"
      },
      "execution_count": 19,
      "outputs": [
        {
          "output_type": "stream",
          "name": "stdout",
          "text": [
            "3\n",
            "5\n",
            "7\n",
            "9\n",
            "11\n",
            "13\n",
            "15\n",
            "17\n",
            "19\n",
            "21\n",
            "23\n",
            "25\n",
            "27\n",
            "29\n",
            "31\n",
            "33\n",
            "35\n",
            "37\n",
            "39\n",
            "41\n",
            "43\n",
            "45\n",
            "47\n",
            "49\n",
            "51\n",
            "53\n",
            "55\n",
            "57\n",
            "59\n",
            "61\n",
            "63\n",
            "65\n",
            "67\n",
            "69\n",
            "71\n",
            "73\n",
            "75\n",
            "77\n",
            "79\n",
            "81\n",
            "83\n",
            "85\n",
            "87\n",
            "89\n",
            "91\n",
            "93\n",
            "95\n",
            "97\n",
            "99\n",
            "101\n"
          ]
        }
      ]
    },
    {
      "cell_type": "code",
      "source": [
        "#?4 : if we make continue in for cycle, does i increment?\n",
        "#?4\n",
        "for i in range(10):\n",
        "  if i%2 == 0:\n",
        "    i -= 2\n",
        "    #continue"
      ],
      "metadata": {
        "id": "7-4nZulN7kzV"
      },
      "execution_count": 20,
      "outputs": []
    },
    {
      "cell_type": "code",
      "source": [
        "for i in range(10):\n",
        "  if i < 0:\n",
        "    break\n",
        "    i += 1\n",
        "else:\n",
        "  print('no break worked')"
      ],
      "metadata": {
        "colab": {
          "base_uri": "https://localhost:8080/"
        },
        "id": "QT2FwK6G7k2A",
        "outputId": "bdb852e9-af04-40e2-e24a-f6dbac9ccf92"
      },
      "execution_count": 21,
      "outputs": [
        {
          "output_type": "stream",
          "name": "stdout",
          "text": [
            "no break worked\n"
          ]
        }
      ]
    },
    {
      "cell_type": "code",
      "source": [
        "help(range)"
      ],
      "metadata": {
        "colab": {
          "base_uri": "https://localhost:8080/"
        },
        "id": "2F8UM4GB7k4-",
        "outputId": "7e7f2550-4608-45a8-dac0-83836050f830"
      },
      "execution_count": 22,
      "outputs": [
        {
          "output_type": "stream",
          "name": "stdout",
          "text": [
            "Help on class range in module builtins:\n",
            "\n",
            "class range(object)\n",
            " |  range(stop) -> range object\n",
            " |  range(start, stop[, step]) -> range object\n",
            " |  \n",
            " |  Return an object that produces a sequence of integers from start (inclusive)\n",
            " |  to stop (exclusive) by step.  range(i, j) produces i, i+1, i+2, ..., j-1.\n",
            " |  start defaults to 0, and stop is omitted!  range(4) produces 0, 1, 2, 3.\n",
            " |  These are exactly the valid indices for a list of 4 elements.\n",
            " |  When step is given, it specifies the increment (or decrement).\n",
            " |  \n",
            " |  Methods defined here:\n",
            " |  \n",
            " |  __bool__(self, /)\n",
            " |      True if self else False\n",
            " |  \n",
            " |  __contains__(self, key, /)\n",
            " |      Return key in self.\n",
            " |  \n",
            " |  __eq__(self, value, /)\n",
            " |      Return self==value.\n",
            " |  \n",
            " |  __ge__(self, value, /)\n",
            " |      Return self>=value.\n",
            " |  \n",
            " |  __getattribute__(self, name, /)\n",
            " |      Return getattr(self, name).\n",
            " |  \n",
            " |  __getitem__(self, key, /)\n",
            " |      Return self[key].\n",
            " |  \n",
            " |  __gt__(self, value, /)\n",
            " |      Return self>value.\n",
            " |  \n",
            " |  __hash__(self, /)\n",
            " |      Return hash(self).\n",
            " |  \n",
            " |  __iter__(self, /)\n",
            " |      Implement iter(self).\n",
            " |  \n",
            " |  __le__(self, value, /)\n",
            " |      Return self<=value.\n",
            " |  \n",
            " |  __len__(self, /)\n",
            " |      Return len(self).\n",
            " |  \n",
            " |  __lt__(self, value, /)\n",
            " |      Return self<value.\n",
            " |  \n",
            " |  __ne__(self, value, /)\n",
            " |      Return self!=value.\n",
            " |  \n",
            " |  __reduce__(...)\n",
            " |      Helper for pickle.\n",
            " |  \n",
            " |  __repr__(self, /)\n",
            " |      Return repr(self).\n",
            " |  \n",
            " |  __reversed__(...)\n",
            " |      Return a reverse iterator.\n",
            " |  \n",
            " |  count(...)\n",
            " |      rangeobject.count(value) -> integer -- return number of occurrences of value\n",
            " |  \n",
            " |  index(...)\n",
            " |      rangeobject.index(value) -> integer -- return index of value.\n",
            " |      Raise ValueError if the value is not present.\n",
            " |  \n",
            " |  ----------------------------------------------------------------------\n",
            " |  Static methods defined here:\n",
            " |  \n",
            " |  __new__(*args, **kwargs) from builtins.type\n",
            " |      Create and return a new object.  See help(type) for accurate signature.\n",
            " |  \n",
            " |  ----------------------------------------------------------------------\n",
            " |  Data descriptors defined here:\n",
            " |  \n",
            " |  start\n",
            " |  \n",
            " |  step\n",
            " |  \n",
            " |  stop\n",
            "\n"
          ]
        }
      ]
    },
    {
      "cell_type": "code",
      "source": [
        "list6 = ['rain', 'clouds', 'mushrooms','loss','death','revenge','love']\n",
        "for i,name in enumerate(list6):\n",
        "  print(f'{i}th element is ', name)"
      ],
      "metadata": {
        "colab": {
          "base_uri": "https://localhost:8080/"
        },
        "id": "FPVfrCQZ7k7P",
        "outputId": "7ae55e91-269f-4e7d-8864-f07f227c6388"
      },
      "execution_count": 23,
      "outputs": [
        {
          "output_type": "stream",
          "name": "stdout",
          "text": [
            "0th element is  rain\n",
            "1th element is  clouds\n",
            "2th element is  mushrooms\n",
            "3th element is  loss\n",
            "4th element is  death\n",
            "5th element is  revenge\n",
            "6th element is  love\n"
          ]
        }
      ]
    },
    {
      "cell_type": "code",
      "source": [
        " x  = [i**2 for i in range(10) if i%2 == 0 ]\n",
        " print(*x)\n",
        "# yebanutiy kod\n",
        " print(sorted([(y,x) for x in range(1,100) for y in range (x+1,100) if y % x == 0               ]))"
      ],
      "metadata": {
        "colab": {
          "base_uri": "https://localhost:8080/"
        },
        "id": "ytvSReAWrFUa",
        "outputId": "8a8ea249-7e6a-4f12-e2e9-126789717aed"
      },
      "execution_count": 24,
      "outputs": [
        {
          "output_type": "stream",
          "name": "stdout",
          "text": [
            "0 4 16 36 64\n",
            "[(2, 1), (3, 1), (4, 1), (4, 2), (5, 1), (6, 1), (6, 2), (6, 3), (7, 1), (8, 1), (8, 2), (8, 4), (9, 1), (9, 3), (10, 1), (10, 2), (10, 5), (11, 1), (12, 1), (12, 2), (12, 3), (12, 4), (12, 6), (13, 1), (14, 1), (14, 2), (14, 7), (15, 1), (15, 3), (15, 5), (16, 1), (16, 2), (16, 4), (16, 8), (17, 1), (18, 1), (18, 2), (18, 3), (18, 6), (18, 9), (19, 1), (20, 1), (20, 2), (20, 4), (20, 5), (20, 10), (21, 1), (21, 3), (21, 7), (22, 1), (22, 2), (22, 11), (23, 1), (24, 1), (24, 2), (24, 3), (24, 4), (24, 6), (24, 8), (24, 12), (25, 1), (25, 5), (26, 1), (26, 2), (26, 13), (27, 1), (27, 3), (27, 9), (28, 1), (28, 2), (28, 4), (28, 7), (28, 14), (29, 1), (30, 1), (30, 2), (30, 3), (30, 5), (30, 6), (30, 10), (30, 15), (31, 1), (32, 1), (32, 2), (32, 4), (32, 8), (32, 16), (33, 1), (33, 3), (33, 11), (34, 1), (34, 2), (34, 17), (35, 1), (35, 5), (35, 7), (36, 1), (36, 2), (36, 3), (36, 4), (36, 6), (36, 9), (36, 12), (36, 18), (37, 1), (38, 1), (38, 2), (38, 19), (39, 1), (39, 3), (39, 13), (40, 1), (40, 2), (40, 4), (40, 5), (40, 8), (40, 10), (40, 20), (41, 1), (42, 1), (42, 2), (42, 3), (42, 6), (42, 7), (42, 14), (42, 21), (43, 1), (44, 1), (44, 2), (44, 4), (44, 11), (44, 22), (45, 1), (45, 3), (45, 5), (45, 9), (45, 15), (46, 1), (46, 2), (46, 23), (47, 1), (48, 1), (48, 2), (48, 3), (48, 4), (48, 6), (48, 8), (48, 12), (48, 16), (48, 24), (49, 1), (49, 7), (50, 1), (50, 2), (50, 5), (50, 10), (50, 25), (51, 1), (51, 3), (51, 17), (52, 1), (52, 2), (52, 4), (52, 13), (52, 26), (53, 1), (54, 1), (54, 2), (54, 3), (54, 6), (54, 9), (54, 18), (54, 27), (55, 1), (55, 5), (55, 11), (56, 1), (56, 2), (56, 4), (56, 7), (56, 8), (56, 14), (56, 28), (57, 1), (57, 3), (57, 19), (58, 1), (58, 2), (58, 29), (59, 1), (60, 1), (60, 2), (60, 3), (60, 4), (60, 5), (60, 6), (60, 10), (60, 12), (60, 15), (60, 20), (60, 30), (61, 1), (62, 1), (62, 2), (62, 31), (63, 1), (63, 3), (63, 7), (63, 9), (63, 21), (64, 1), (64, 2), (64, 4), (64, 8), (64, 16), (64, 32), (65, 1), (65, 5), (65, 13), (66, 1), (66, 2), (66, 3), (66, 6), (66, 11), (66, 22), (66, 33), (67, 1), (68, 1), (68, 2), (68, 4), (68, 17), (68, 34), (69, 1), (69, 3), (69, 23), (70, 1), (70, 2), (70, 5), (70, 7), (70, 10), (70, 14), (70, 35), (71, 1), (72, 1), (72, 2), (72, 3), (72, 4), (72, 6), (72, 8), (72, 9), (72, 12), (72, 18), (72, 24), (72, 36), (73, 1), (74, 1), (74, 2), (74, 37), (75, 1), (75, 3), (75, 5), (75, 15), (75, 25), (76, 1), (76, 2), (76, 4), (76, 19), (76, 38), (77, 1), (77, 7), (77, 11), (78, 1), (78, 2), (78, 3), (78, 6), (78, 13), (78, 26), (78, 39), (79, 1), (80, 1), (80, 2), (80, 4), (80, 5), (80, 8), (80, 10), (80, 16), (80, 20), (80, 40), (81, 1), (81, 3), (81, 9), (81, 27), (82, 1), (82, 2), (82, 41), (83, 1), (84, 1), (84, 2), (84, 3), (84, 4), (84, 6), (84, 7), (84, 12), (84, 14), (84, 21), (84, 28), (84, 42), (85, 1), (85, 5), (85, 17), (86, 1), (86, 2), (86, 43), (87, 1), (87, 3), (87, 29), (88, 1), (88, 2), (88, 4), (88, 8), (88, 11), (88, 22), (88, 44), (89, 1), (90, 1), (90, 2), (90, 3), (90, 5), (90, 6), (90, 9), (90, 10), (90, 15), (90, 18), (90, 30), (90, 45), (91, 1), (91, 7), (91, 13), (92, 1), (92, 2), (92, 4), (92, 23), (92, 46), (93, 1), (93, 3), (93, 31), (94, 1), (94, 2), (94, 47), (95, 1), (95, 5), (95, 19), (96, 1), (96, 2), (96, 3), (96, 4), (96, 6), (96, 8), (96, 12), (96, 16), (96, 24), (96, 32), (96, 48), (97, 1), (98, 1), (98, 2), (98, 7), (98, 14), (98, 49), (99, 1), (99, 3), (99, 9), (99, 11), (99, 33)]\n"
          ]
        }
      ]
    },
    {
      "cell_type": "code",
      "source": [
        "#not clear what happened\n",
        "#wow! list([0]*3) is changeable object, namely, the list. Changing one of the links in one of the lists, we change all of them!\n",
        "A = [[0]*3]*3\n",
        "print(A)\n",
        "A[0][1] = 10\n",
        "print(A)"
      ],
      "metadata": {
        "colab": {
          "base_uri": "https://localhost:8080/"
        },
        "id": "iOfev052rGoZ",
        "outputId": "caddd43c-f12f-4514-f4c6-05b4385f1bfd"
      },
      "execution_count": 25,
      "outputs": [
        {
          "output_type": "stream",
          "name": "stdout",
          "text": [
            "[[0, 0, 0], [0, 0, 0], [0, 0, 0]]\n",
            "[[0, 10, 0], [0, 10, 0], [0, 10, 0]]\n"
          ]
        }
      ]
    },
    {
      "cell_type": "code",
      "source": [
        "s = ['ad']\n",
        "B = [s * 5] *5\n",
        "B[0][3] = ['da']\n",
        "print(B)"
      ],
      "metadata": {
        "colab": {
          "base_uri": "https://localhost:8080/"
        },
        "id": "jZQ9ITt9rGtE",
        "outputId": "f5caf2d7-6635-471d-f8ef-50c85a124442"
      },
      "execution_count": 26,
      "outputs": [
        {
          "output_type": "stream",
          "name": "stdout",
          "text": [
            "[['ad', 'ad', 'ad', ['da'], 'ad'], ['ad', 'ad', 'ad', ['da'], 'ad'], ['ad', 'ad', 'ad', ['da'], 'ad'], ['ad', 'ad', 'ad', ['da'], 'ad'], ['ad', 'ad', 'ad', ['da'], 'ad']]\n"
          ]
        }
      ]
    },
    {
      "cell_type": "code",
      "source": [
        "s = list((1,2,4,5,2))\n",
        "d = [s] * 5\n",
        "d[0].append(232) #the same lists are just copies of links to the same object, be careful!!!\n",
        "print(*d)"
      ],
      "metadata": {
        "colab": {
          "base_uri": "https://localhost:8080/"
        },
        "id": "uo6eZdP2rGvu",
        "outputId": "0b574428-8019-44d4-ff95-6427292c5df8"
      },
      "execution_count": 27,
      "outputs": [
        {
          "output_type": "stream",
          "name": "stdout",
          "text": [
            "[1, 2, 4, 5, 2, 232] [1, 2, 4, 5, 2, 232] [1, 2, 4, 5, 2, 232] [1, 2, 4, 5, 2, 232] [1, 2, 4, 5, 2, 232]\n"
          ]
        }
      ]
    },
    {
      "cell_type": "code",
      "source": [
        "generator = (i**2 for i in range(10))\n",
        "type(generator)\n",
        "print(generator)\n",
        "list7 = list(generator)\n",
        "print(list7)"
      ],
      "metadata": {
        "colab": {
          "base_uri": "https://localhost:8080/"
        },
        "id": "2RZ3MtrurGyN",
        "outputId": "329d7114-fd07-4fed-8115-6524035583d3"
      },
      "execution_count": 28,
      "outputs": [
        {
          "output_type": "stream",
          "name": "stdout",
          "text": [
            "<generator object <genexpr> at 0x7f1b16837290>\n",
            "[0, 1, 4, 9, 16, 25, 36, 49, 64, 81]\n"
          ]
        }
      ]
    },
    {
      "cell_type": "code",
      "source": [
        "list7 = [1,3,5,6,7,54,3]\n",
        "sum(list7)\n",
        "max(list7)\n",
        "min(list7)\n"
      ],
      "metadata": {
        "colab": {
          "base_uri": "https://localhost:8080/"
        },
        "id": "25cmTzwn7k9W",
        "outputId": "c6cdb52c-ad21-4fbb-b804-b083eaf1157b"
      },
      "execution_count": 29,
      "outputs": [
        {
          "output_type": "execute_result",
          "data": {
            "text/plain": [
              "1"
            ]
          },
          "metadata": {},
          "execution_count": 29
        }
      ]
    },
    {
      "cell_type": "code",
      "source": [
        "def replace(string,substring,new_substring):\n",
        "  lis = string.split(substring)\n",
        "  st = new_substring.join(lis)\n",
        "  print(st)\n",
        "  return st\n",
        "\n",
        "print(replace('My name is delusion of december and decolonization of demetrius','de','anti'))"
      ],
      "metadata": {
        "colab": {
          "base_uri": "https://localhost:8080/"
        },
        "id": "ZdgcnNIh7lCi",
        "outputId": "ea6b9c73-c6ef-4706-ad51-bf72d0d7b036"
      },
      "execution_count": 30,
      "outputs": [
        {
          "output_type": "stream",
          "name": "stdout",
          "text": [
            "My name is antilusion of anticember and anticolonization of antimetrius\n",
            "My name is antilusion of anticember and anticolonization of antimetrius\n"
          ]
        }
      ]
    },
    {
      "cell_type": "code",
      "source": [
        "def Чярли_Гордан(s):\n",
        "  pass\n",
        "  #in the next lecture"
      ],
      "metadata": {
        "id": "qyma66xi7k_P"
      },
      "execution_count": 31,
      "outputs": []
    }
  ]
}
